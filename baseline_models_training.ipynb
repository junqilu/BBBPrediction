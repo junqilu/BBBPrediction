{
 "cells": [
  {
   "cell_type": "markdown",
   "source": [
    "# Import packages"
   ],
   "metadata": {
    "collapsed": false
   }
  },
  {
   "cell_type": "code",
   "execution_count": 1,
   "outputs": [],
   "source": [
    "import pandas as pd\n",
    "\n",
    "from datetime import datetime\n",
    "from sklearn.pipeline import Pipeline\n",
    "from sklearn.preprocessing import StandardScaler\n",
    "\n",
    "from sklearn.decomposition import PCA\n",
    "from sklearn.svm import SVR, SVC\n",
    "\n",
    "from sklearn.model_selection import train_test_split, GridSearchCV, \\\n",
    "    RepeatedStratifiedKFold\n",
    "\n",
    "from sklearn.metrics import mean_squared_error, mean_absolute_error, \\\n",
    "    r2_score, make_scorer, recall_score, accuracy_score, f1_score, \\\n",
    "    precision_score, balanced_accuracy_score, roc_curve, auc"
   ],
   "metadata": {
    "collapsed": false
   }
  },
  {
   "cell_type": "markdown",
   "source": [
    "# Custom functions"
   ],
   "metadata": {
    "collapsed": false
   }
  },
  {
   "cell_type": "code",
   "execution_count": 2,
   "outputs": [],
   "source": [
    "from pickle_managment import save_pickle"
   ],
   "metadata": {
    "collapsed": false
   }
  },
  {
   "cell_type": "markdown",
   "source": [
    "# Regression"
   ],
   "metadata": {
    "collapsed": false
   }
  },
  {
   "cell_type": "code",
   "execution_count": 3,
   "outputs": [
    {
     "data": {
      "text/plain": "                                                SMILES  MaxAbsEStateIndex  \\\n0            CC(C)(C)OC(=O)CCCC1=CC=C(C=C1)N(CCCl)CCCl          11.682268   \n1                       Clc1ccc(N2)c(C(C)=NC(O)C2=O)c1          11.306112   \n2               CC1=C2OC3=C(C=CC=C3)C3(O)CNCC3C2=CC=C1          11.238358   \n3    C[C@H]1[C@H]([C@H](C[C@@H](O1)O[C@H]2C[C@@](CC...          13.643057   \n4                    CCC1(C(=O)NC(=O)NC1=O)C2=CC=CC=C2          11.975791   \n..                                                 ...                ...   \n940                                          C(=O)(N)N           9.000000   \n941                            C[C@@H](CC1=CC=CC=C1)NC           3.213399   \n942  CNC(=O)C1=C(N=C(N=C1OCC2CCN(CC2)C)C#N)NCC3CCC4...          12.730831   \n943         CCC1=C2C(=CC=C1)C3=C(N2)C(OCC3)(CC)CC(=O)O          11.285827   \n944   CN1C(=NC(=N1)C2=CC=C(C=C2)OC)C3=CC=CC(=C3)CN(C)C           5.198105   \n\n     MaxEStateIndex  MinAbsEStateIndex  MinEStateIndex       qed        SPS  \\\n0         11.682268           0.134704       -0.409691  0.474821  11.347826   \n1         11.306112           0.532016       -1.350763  0.700249  20.066667   \n2         11.238358           0.028750       -0.893218  0.770818  27.000000   \n3         13.643057           0.017252       -2.240737  0.235263  29.846154   \n4         11.975791           0.293611       -1.310347  0.736884  18.529412   \n..              ...                ...             ...       ...        ...   \n940        9.000000           0.833333       -0.833333  0.370507   6.000000   \n941        3.213399           0.567037        0.567037  0.691109  12.909091   \n942       12.730831           0.023700       -0.298674  0.670950  21.531250   \n943       11.285827           0.004742       -0.820305  0.905784  21.428571   \n944        5.198105           0.715894        0.715894  0.723257  11.041667   \n\n       MolWt  HeavyAtomMolWt  ExactMolWt  ...  158_y  159_y  160_y  161_y  \\\n0    360.325         333.109  359.141884  ...    1.0    1.0    1.0    1.0   \n1    224.647         215.575  224.035255  ...    1.0    1.0    1.0    1.0   \n2    267.328         250.192  267.125929  ...    1.0    1.0    1.0    1.0   \n3    543.525         514.293  543.174061  ...    1.0    1.0    1.0    1.0   \n4    232.239         220.143  232.084792  ...    1.0    1.0    1.0    1.0   \n..       ...             ...         ...  ...    ...    ...    ...    ...   \n940   60.056          56.024   60.032363  ...    1.0    0.0    0.0    1.0   \n941  149.237         134.117  149.120449  ...    1.0    0.0    1.0    1.0   \n942  440.592         404.304  440.289974  ...    1.0    1.0    1.0    1.0   \n943  287.359         266.191  287.152144  ...    0.0    1.0    1.0    1.0   \n944  322.412         300.236  322.179361  ...    1.0    0.0    1.0    1.0   \n\n     162_y  163_y  164_y  165_y  166_y  logBB  \n0      1.0    1.0    1.0    1.0    0.0   1.00  \n1      1.0    1.0    1.0    1.0    0.0   0.61  \n2      1.0    1.0    1.0    1.0    0.0   0.39  \n3      1.0    1.0    1.0    1.0    0.0  -0.83  \n4      1.0    1.0    1.0    1.0    0.0  -0.12  \n..     ...    ...    ...    ...    ...    ...  \n940    0.0    0.0    1.0    0.0    0.0  -0.14  \n941    1.0    1.0    0.0    1.0    0.0   0.96  \n942    1.0    1.0    1.0    1.0    0.0   0.37  \n943    1.0    1.0    1.0    1.0    0.0  -1.42  \n944    1.0    1.0    1.0    1.0    0.0   1.26  \n\n[945 rows x 4103 columns]",
      "text/html": "<div>\n<style scoped>\n    .dataframe tbody tr th:only-of-type {\n        vertical-align: middle;\n    }\n\n    .dataframe tbody tr th {\n        vertical-align: top;\n    }\n\n    .dataframe thead th {\n        text-align: right;\n    }\n</style>\n<table border=\"1\" class=\"dataframe\">\n  <thead>\n    <tr style=\"text-align: right;\">\n      <th></th>\n      <th>SMILES</th>\n      <th>MaxAbsEStateIndex</th>\n      <th>MaxEStateIndex</th>\n      <th>MinAbsEStateIndex</th>\n      <th>MinEStateIndex</th>\n      <th>qed</th>\n      <th>SPS</th>\n      <th>MolWt</th>\n      <th>HeavyAtomMolWt</th>\n      <th>ExactMolWt</th>\n      <th>...</th>\n      <th>158_y</th>\n      <th>159_y</th>\n      <th>160_y</th>\n      <th>161_y</th>\n      <th>162_y</th>\n      <th>163_y</th>\n      <th>164_y</th>\n      <th>165_y</th>\n      <th>166_y</th>\n      <th>logBB</th>\n    </tr>\n  </thead>\n  <tbody>\n    <tr>\n      <th>0</th>\n      <td>CC(C)(C)OC(=O)CCCC1=CC=C(C=C1)N(CCCl)CCCl</td>\n      <td>11.682268</td>\n      <td>11.682268</td>\n      <td>0.134704</td>\n      <td>-0.409691</td>\n      <td>0.474821</td>\n      <td>11.347826</td>\n      <td>360.325</td>\n      <td>333.109</td>\n      <td>359.141884</td>\n      <td>...</td>\n      <td>1.0</td>\n      <td>1.0</td>\n      <td>1.0</td>\n      <td>1.0</td>\n      <td>1.0</td>\n      <td>1.0</td>\n      <td>1.0</td>\n      <td>1.0</td>\n      <td>0.0</td>\n      <td>1.00</td>\n    </tr>\n    <tr>\n      <th>1</th>\n      <td>Clc1ccc(N2)c(C(C)=NC(O)C2=O)c1</td>\n      <td>11.306112</td>\n      <td>11.306112</td>\n      <td>0.532016</td>\n      <td>-1.350763</td>\n      <td>0.700249</td>\n      <td>20.066667</td>\n      <td>224.647</td>\n      <td>215.575</td>\n      <td>224.035255</td>\n      <td>...</td>\n      <td>1.0</td>\n      <td>1.0</td>\n      <td>1.0</td>\n      <td>1.0</td>\n      <td>1.0</td>\n      <td>1.0</td>\n      <td>1.0</td>\n      <td>1.0</td>\n      <td>0.0</td>\n      <td>0.61</td>\n    </tr>\n    <tr>\n      <th>2</th>\n      <td>CC1=C2OC3=C(C=CC=C3)C3(O)CNCC3C2=CC=C1</td>\n      <td>11.238358</td>\n      <td>11.238358</td>\n      <td>0.028750</td>\n      <td>-0.893218</td>\n      <td>0.770818</td>\n      <td>27.000000</td>\n      <td>267.328</td>\n      <td>250.192</td>\n      <td>267.125929</td>\n      <td>...</td>\n      <td>1.0</td>\n      <td>1.0</td>\n      <td>1.0</td>\n      <td>1.0</td>\n      <td>1.0</td>\n      <td>1.0</td>\n      <td>1.0</td>\n      <td>1.0</td>\n      <td>0.0</td>\n      <td>0.39</td>\n    </tr>\n    <tr>\n      <th>3</th>\n      <td>C[C@H]1[C@H]([C@H](C[C@@H](O1)O[C@H]2C[C@@](CC...</td>\n      <td>13.643057</td>\n      <td>13.643057</td>\n      <td>0.017252</td>\n      <td>-2.240737</td>\n      <td>0.235263</td>\n      <td>29.846154</td>\n      <td>543.525</td>\n      <td>514.293</td>\n      <td>543.174061</td>\n      <td>...</td>\n      <td>1.0</td>\n      <td>1.0</td>\n      <td>1.0</td>\n      <td>1.0</td>\n      <td>1.0</td>\n      <td>1.0</td>\n      <td>1.0</td>\n      <td>1.0</td>\n      <td>0.0</td>\n      <td>-0.83</td>\n    </tr>\n    <tr>\n      <th>4</th>\n      <td>CCC1(C(=O)NC(=O)NC1=O)C2=CC=CC=C2</td>\n      <td>11.975791</td>\n      <td>11.975791</td>\n      <td>0.293611</td>\n      <td>-1.310347</td>\n      <td>0.736884</td>\n      <td>18.529412</td>\n      <td>232.239</td>\n      <td>220.143</td>\n      <td>232.084792</td>\n      <td>...</td>\n      <td>1.0</td>\n      <td>1.0</td>\n      <td>1.0</td>\n      <td>1.0</td>\n      <td>1.0</td>\n      <td>1.0</td>\n      <td>1.0</td>\n      <td>1.0</td>\n      <td>0.0</td>\n      <td>-0.12</td>\n    </tr>\n    <tr>\n      <th>...</th>\n      <td>...</td>\n      <td>...</td>\n      <td>...</td>\n      <td>...</td>\n      <td>...</td>\n      <td>...</td>\n      <td>...</td>\n      <td>...</td>\n      <td>...</td>\n      <td>...</td>\n      <td>...</td>\n      <td>...</td>\n      <td>...</td>\n      <td>...</td>\n      <td>...</td>\n      <td>...</td>\n      <td>...</td>\n      <td>...</td>\n      <td>...</td>\n      <td>...</td>\n      <td>...</td>\n    </tr>\n    <tr>\n      <th>940</th>\n      <td>C(=O)(N)N</td>\n      <td>9.000000</td>\n      <td>9.000000</td>\n      <td>0.833333</td>\n      <td>-0.833333</td>\n      <td>0.370507</td>\n      <td>6.000000</td>\n      <td>60.056</td>\n      <td>56.024</td>\n      <td>60.032363</td>\n      <td>...</td>\n      <td>1.0</td>\n      <td>0.0</td>\n      <td>0.0</td>\n      <td>1.0</td>\n      <td>0.0</td>\n      <td>0.0</td>\n      <td>1.0</td>\n      <td>0.0</td>\n      <td>0.0</td>\n      <td>-0.14</td>\n    </tr>\n    <tr>\n      <th>941</th>\n      <td>C[C@@H](CC1=CC=CC=C1)NC</td>\n      <td>3.213399</td>\n      <td>3.213399</td>\n      <td>0.567037</td>\n      <td>0.567037</td>\n      <td>0.691109</td>\n      <td>12.909091</td>\n      <td>149.237</td>\n      <td>134.117</td>\n      <td>149.120449</td>\n      <td>...</td>\n      <td>1.0</td>\n      <td>0.0</td>\n      <td>1.0</td>\n      <td>1.0</td>\n      <td>1.0</td>\n      <td>1.0</td>\n      <td>0.0</td>\n      <td>1.0</td>\n      <td>0.0</td>\n      <td>0.96</td>\n    </tr>\n    <tr>\n      <th>942</th>\n      <td>CNC(=O)C1=C(N=C(N=C1OCC2CCN(CC2)C)C#N)NCC3CCC4...</td>\n      <td>12.730831</td>\n      <td>12.730831</td>\n      <td>0.023700</td>\n      <td>-0.298674</td>\n      <td>0.670950</td>\n      <td>21.531250</td>\n      <td>440.592</td>\n      <td>404.304</td>\n      <td>440.289974</td>\n      <td>...</td>\n      <td>1.0</td>\n      <td>1.0</td>\n      <td>1.0</td>\n      <td>1.0</td>\n      <td>1.0</td>\n      <td>1.0</td>\n      <td>1.0</td>\n      <td>1.0</td>\n      <td>0.0</td>\n      <td>0.37</td>\n    </tr>\n    <tr>\n      <th>943</th>\n      <td>CCC1=C2C(=CC=C1)C3=C(N2)C(OCC3)(CC)CC(=O)O</td>\n      <td>11.285827</td>\n      <td>11.285827</td>\n      <td>0.004742</td>\n      <td>-0.820305</td>\n      <td>0.905784</td>\n      <td>21.428571</td>\n      <td>287.359</td>\n      <td>266.191</td>\n      <td>287.152144</td>\n      <td>...</td>\n      <td>0.0</td>\n      <td>1.0</td>\n      <td>1.0</td>\n      <td>1.0</td>\n      <td>1.0</td>\n      <td>1.0</td>\n      <td>1.0</td>\n      <td>1.0</td>\n      <td>0.0</td>\n      <td>-1.42</td>\n    </tr>\n    <tr>\n      <th>944</th>\n      <td>CN1C(=NC(=N1)C2=CC=C(C=C2)OC)C3=CC=CC(=C3)CN(C)C</td>\n      <td>5.198105</td>\n      <td>5.198105</td>\n      <td>0.715894</td>\n      <td>0.715894</td>\n      <td>0.723257</td>\n      <td>11.041667</td>\n      <td>322.412</td>\n      <td>300.236</td>\n      <td>322.179361</td>\n      <td>...</td>\n      <td>1.0</td>\n      <td>0.0</td>\n      <td>1.0</td>\n      <td>1.0</td>\n      <td>1.0</td>\n      <td>1.0</td>\n      <td>1.0</td>\n      <td>1.0</td>\n      <td>0.0</td>\n      <td>1.26</td>\n    </tr>\n  </tbody>\n</table>\n<p>945 rows × 4103 columns</p>\n</div>"
     },
     "execution_count": 3,
     "metadata": {},
     "output_type": "execute_result"
    }
   ],
   "source": [
    "regression_df_expanded_cleaned = pd.read_csv(\n",
    "    r'datasets\\train_datasets\\regression_df_expanded_cleaned_train.csv.zip'\n",
    ")\n",
    "regression_df_expanded_cleaned"
   ],
   "metadata": {
    "collapsed": false
   }
  },
  {
   "cell_type": "code",
   "execution_count": 4,
   "outputs": [],
   "source": [
    "regression_X = regression_df_expanded_cleaned.loc[\n",
    "               :,\n",
    "               ~regression_df_expanded_cleaned.columns.isin(\n",
    "                   ['SMILES', 'logBB'])\n",
    "               ]\n",
    "\n",
    "regression_y = regression_df_expanded_cleaned['logBB']\n",
    "\n",
    "regression_X_train, regression_X_test, regression_y_train, regression_y_test = train_test_split(\n",
    "    regression_X,\n",
    "    regression_y,\n",
    "    test_size=0.2,\n",
    "    random_state=1,\n",
    "    shuffle=True\n",
    ")"
   ],
   "metadata": {
    "collapsed": false
   }
  },
  {
   "cell_type": "markdown",
   "source": [
    "## SVM"
   ],
   "metadata": {
    "collapsed": false
   }
  },
  {
   "cell_type": "markdown",
   "source": [
    "### Model training"
   ],
   "metadata": {
    "collapsed": false
   }
  },
  {
   "cell_type": "code",
   "execution_count": 5,
   "outputs": [
    {
     "name": "stdout",
     "output_type": "stream",
     "text": [
      "Fitting 2 folds for each of 2 candidates, totalling 4 fits\n",
      "[CV 1/2; 1/2] START gamma=0.1, kernel=rbf.......................................\n",
      "[CV 1/2; 1/2] END gamma=0.1, kernel=rbf; MAE: (test=-0.586) MSE: (test=-0.575) R2: (test=0.065) total time=   0.7s\n",
      "[CV 2/2; 1/2] START gamma=0.1, kernel=rbf.......................................\n",
      "[CV 2/2; 1/2] END gamma=0.1, kernel=rbf; MAE: (test=-0.537) MSE: (test=-0.495) R2: (test=0.072) total time=   0.8s\n",
      "[CV 1/2; 2/2] START gamma=0.5, kernel=rbf.......................................\n",
      "[CV 1/2; 2/2] END gamma=0.5, kernel=rbf; MAE: (test=-0.586) MSE: (test=-0.575) R2: (test=0.065) total time=   0.9s\n",
      "[CV 2/2; 2/2] START gamma=0.5, kernel=rbf.......................................\n",
      "[CV 2/2; 2/2] END gamma=0.5, kernel=rbf; MAE: (test=-0.537) MSE: (test=-0.495) R2: (test=0.072) total time=   0.8s\n",
      "GridSearchCV took 0:00:04.811224\n"
     ]
    }
   ],
   "source": [
    "start_time = datetime.now()\n",
    "\n",
    "svr_model = SVR()\n",
    "\n",
    "svr_regressor_grid_search = GridSearchCV(\n",
    "    estimator=svr_model,\n",
    "    param_grid={\n",
    "        'kernel': ['rbf'],  #Kernel to solve with model, should try rbf, poly, and sigmoid\n",
    "        'gamma': [0.1, 0.5],  #Solver value important for rbf kernel\n",
    "        #'degree': [2,3,4] #Used for polynomial kernel\n",
    "        #'C': [0.001, 0.01, 0.1, 1, 10, 100] #Regularization parameter\n",
    "    },\n",
    "    cv=2,  #Number of fold for cross validation. It should be 8 or 10\n",
    "    scoring={\n",
    "        # All these are only viable in the negative option\n",
    "        'MAE': 'neg_mean_absolute_error',\n",
    "        'MSE': 'neg_mean_squared_error',\n",
    "        'R2': 'r2'\n",
    "    },\n",
    "    refit='R2',\n",
    "\n",
    "    n_jobs=1,\n",
    "    # -1 means using all processors, but it won't give you any messages.\n",
    "    # Only using 1 for my computer print out the training messages\n",
    "\n",
    "    verbose=10  #Provide detailed messages\n",
    ")\n",
    "\n",
    "svr_regressor_grid_search.fit(regression_X_train, regression_y_train)\n",
    "\n",
    "end_time = datetime.now()\n",
    "print('GridSearchCV took {}'.format(end_time - start_time))"
   ],
   "metadata": {
    "collapsed": false
   }
  },
  {
   "cell_type": "code",
   "execution_count": 6,
   "outputs": [
    {
     "data": {
      "text/plain": "  param_gamma param_kernel                           params  mean_test_MAE  \\\n0         0.1          rbf  {'gamma': 0.1, 'kernel': 'rbf'}      -0.561631   \n1         0.5          rbf  {'gamma': 0.5, 'kernel': 'rbf'}      -0.561638   \n\n   rank_test_MAE  mean_test_MSE  rank_test_MSE  mean_test_R2  rank_test_R2  \n0              1      -0.534939              1      0.068754             1  \n1              2      -0.534952              2      0.068730             2  ",
      "text/html": "<div>\n<style scoped>\n    .dataframe tbody tr th:only-of-type {\n        vertical-align: middle;\n    }\n\n    .dataframe tbody tr th {\n        vertical-align: top;\n    }\n\n    .dataframe thead th {\n        text-align: right;\n    }\n</style>\n<table border=\"1\" class=\"dataframe\">\n  <thead>\n    <tr style=\"text-align: right;\">\n      <th></th>\n      <th>param_gamma</th>\n      <th>param_kernel</th>\n      <th>params</th>\n      <th>mean_test_MAE</th>\n      <th>rank_test_MAE</th>\n      <th>mean_test_MSE</th>\n      <th>rank_test_MSE</th>\n      <th>mean_test_R2</th>\n      <th>rank_test_R2</th>\n    </tr>\n  </thead>\n  <tbody>\n    <tr>\n      <th>0</th>\n      <td>0.1</td>\n      <td>rbf</td>\n      <td>{'gamma': 0.1, 'kernel': 'rbf'}</td>\n      <td>-0.561631</td>\n      <td>1</td>\n      <td>-0.534939</td>\n      <td>1</td>\n      <td>0.068754</td>\n      <td>1</td>\n    </tr>\n    <tr>\n      <th>1</th>\n      <td>0.5</td>\n      <td>rbf</td>\n      <td>{'gamma': 0.5, 'kernel': 'rbf'}</td>\n      <td>-0.561638</td>\n      <td>2</td>\n      <td>-0.534952</td>\n      <td>2</td>\n      <td>0.068730</td>\n      <td>2</td>\n    </tr>\n  </tbody>\n</table>\n</div>"
     },
     "execution_count": 6,
     "metadata": {},
     "output_type": "execute_result"
    }
   ],
   "source": [
    "svr_regressor_results_df = pd.DataFrame(svr_regressor_grid_search.cv_results_)\n",
    "#Make the GridSearch results into a df\n",
    "svr_regressor_results_df.drop(\n",
    "    list(svr_regressor_results_df.filter(regex='time|split|std')),\n",
    "    axis=1,\n",
    "    inplace=True\n",
    ")  # Remove columns that aren't very interesting\n",
    "\n",
    "svr_regressor_results_df = svr_regressor_results_df.sort_values(\n",
    "    by='rank_test_R2')\n",
    "svr_regressor_results_df"
   ],
   "metadata": {
    "collapsed": false
   }
  },
  {
   "cell_type": "code",
   "execution_count": 7,
   "outputs": [],
   "source": [
    "svr_regressor_results_df.to_csv(\n",
    "    r'model_grid_search\\svm_regressor_results.csv',\n",
    "    index=False\n",
    ")"
   ],
   "metadata": {
    "collapsed": false
   }
  },
  {
   "cell_type": "code",
   "execution_count": 8,
   "outputs": [
    {
     "data": {
      "text/plain": "0"
     },
     "execution_count": 8,
     "metadata": {},
     "output_type": "execute_result"
    }
   ],
   "source": [
    "best_svr_regressor = svr_regressor_grid_search.best_estimator_\n",
    "save_pickle(\n",
    "    best_svr_regressor,\n",
    "    r'model_pickles\\best_svm_regressor.pkl'\n",
    ")\n",
    "# To load this best model again, use load_pickle(r'model_pickles\\svr_regressor\\best_rf_regressor.pkl')"
   ],
   "metadata": {
    "collapsed": false
   }
  },
  {
   "cell_type": "markdown",
   "source": [
    "### Model interpretation"
   ],
   "metadata": {
    "collapsed": false
   }
  },
  {
   "cell_type": "markdown",
   "source": [
    "# Classification"
   ],
   "metadata": {
    "collapsed": false
   }
  },
  {
   "cell_type": "markdown",
   "source": [
    "## SVM"
   ],
   "metadata": {
    "collapsed": false
   }
  },
  {
   "cell_type": "markdown",
   "source": [
    "### Model training"
   ],
   "metadata": {
    "collapsed": false
   }
  },
  {
   "cell_type": "markdown",
   "source": [
    "#### Balanced by centroid method"
   ],
   "metadata": {
    "collapsed": false
   }
  },
  {
   "cell_type": "code",
   "execution_count": 9,
   "outputs": [
    {
     "data": {
      "text/plain": "                                                 SMILES BBB+/BBB-  \\\n0     CN[C@@H]1[C@H](O[C@H]2[C@H](O[C@@H]3[C@H](NC(=...      BBB+   \n1                   CCCCC[C@H](N)C(O)(c1ccccc1)c1ccccc1      BBB+   \n2     Cc1nnc(SCC2=C(C(=O)O)N3C(=O)[C@@H](NC(=O)[C@H]...      BBB+   \n3     C[C@@H]1C[C@H]2[C@@H]3C[C@H](F)C4=CC(=O)C(Cl)=...      BBB+   \n4        CC(C)=CCN1Cc2cc(Cl)cc3[nH]c(=S)n(c23)C[C@@H]1C      BBB+   \n...                                                 ...       ...   \n5127  CC1CC2C(C(O)CC3(C)C2CCC3(O)C(=O)CO)C2(C)C=CC(=...      BBB-   \n5128  CC[C@H]1CC(=O)[C@@H]2Oc3c(OC)ccc4c3[C@@]23CCN(...      BBB-   \n5129                  CN(C)C=Nc1c(I)cc(I)c(CCC(=O)O)c1I      BBB-   \n5130     CC(=O)Oc1ccc(C(=C2CCCCC2)c2ccc(OC(C)=O)cc2)cc1      BBB-   \n5131  COc1ccc(-c2cc(=O)c3c(O)cc(O[C@H]4O[C@@H](CO[C@...      BBB-   \n\n      MaxAbsEStateIndex  MaxEStateIndex  MinAbsEStateIndex  MinEStateIndex  \\\n0              9.095732        9.095732           0.282774       -0.017526   \n1             15.143070       15.143070           0.021937       -1.615734   \n2             15.022344       15.022344           0.036460       -1.947471   \n3             14.543654       14.543654           0.006968       -2.468650   \n4             14.995286       14.995286           0.035518       -1.944947   \n...                 ...             ...                ...             ...   \n5127          12.428253       12.428253           0.083608       -1.721468   \n5128          12.559895       12.559895           0.048057       -3.487690   \n5129          12.935121       12.935121           0.008292       -0.854188   \n5130          13.042813       13.042813           0.190845       -3.798036   \n5131          14.607685       14.607685           0.137208       -1.275102   \n\n           qed        SPS     MolWt  HeavyAtomMolWt  ...     157_y  158_y  \\\n0     0.586761  11.860043   358.488         332.280  ...  0.333333    1.0   \n1     0.147925  26.905882  1202.635        1090.747  ...  1.000000    1.0   \n2     0.109538  42.500000  1085.156        1008.548  ...  1.000000    0.0   \n3     0.116173  36.726027  1030.303         942.607  ...  1.000000    1.0   \n4     0.109538  42.500000  1085.156        1008.548  ...  1.000000    0.0   \n...        ...        ...       ...             ...  ...       ...    ...   \n5127  0.122643  47.948718   569.609         526.265  ...  1.000000    1.0   \n5128  0.443295  22.448276   440.503         420.343  ...  1.000000    1.0   \n5129  0.192994  15.076923   551.769         498.345  ...  1.000000    1.0   \n5130  0.233814  31.275000   594.668         564.428  ...  1.000000    1.0   \n5131  0.893230  18.125000   331.347         313.203  ...  1.000000    1.0   \n\n         159_y  160_y  161_y  162_y  163_y  164_y  165_y  166_y  \n0     0.666667    1.0    1.0    1.0    1.0    1.0    1.0    0.0  \n1     1.000000    1.0    1.0    0.0    0.0    1.0    1.0    0.0  \n2     1.000000    1.0    0.0    1.0    1.0    1.0    1.0    0.0  \n3     1.000000    1.0    1.0    0.0    1.0    1.0    1.0    0.0  \n4     1.000000    1.0    0.0    1.0    1.0    1.0    1.0    0.0  \n...        ...    ...    ...    ...    ...    ...    ...    ...  \n5127  1.000000    1.0    1.0    0.0    1.0    1.0    1.0    0.0  \n5128  1.000000    1.0    1.0    1.0    1.0    1.0    1.0    0.0  \n5129  1.000000    1.0    1.0    1.0    1.0    1.0    1.0    0.0  \n5130  1.000000    1.0    1.0    1.0    1.0    1.0    1.0    0.0  \n5131  1.000000    0.0    1.0    1.0    1.0    1.0    1.0    0.0  \n\n[5132 rows x 4456 columns]",
      "text/html": "<div>\n<style scoped>\n    .dataframe tbody tr th:only-of-type {\n        vertical-align: middle;\n    }\n\n    .dataframe tbody tr th {\n        vertical-align: top;\n    }\n\n    .dataframe thead th {\n        text-align: right;\n    }\n</style>\n<table border=\"1\" class=\"dataframe\">\n  <thead>\n    <tr style=\"text-align: right;\">\n      <th></th>\n      <th>SMILES</th>\n      <th>BBB+/BBB-</th>\n      <th>MaxAbsEStateIndex</th>\n      <th>MaxEStateIndex</th>\n      <th>MinAbsEStateIndex</th>\n      <th>MinEStateIndex</th>\n      <th>qed</th>\n      <th>SPS</th>\n      <th>MolWt</th>\n      <th>HeavyAtomMolWt</th>\n      <th>...</th>\n      <th>157_y</th>\n      <th>158_y</th>\n      <th>159_y</th>\n      <th>160_y</th>\n      <th>161_y</th>\n      <th>162_y</th>\n      <th>163_y</th>\n      <th>164_y</th>\n      <th>165_y</th>\n      <th>166_y</th>\n    </tr>\n  </thead>\n  <tbody>\n    <tr>\n      <th>0</th>\n      <td>CN[C@@H]1[C@H](O[C@H]2[C@H](O[C@@H]3[C@H](NC(=...</td>\n      <td>BBB+</td>\n      <td>9.095732</td>\n      <td>9.095732</td>\n      <td>0.282774</td>\n      <td>-0.017526</td>\n      <td>0.586761</td>\n      <td>11.860043</td>\n      <td>358.488</td>\n      <td>332.280</td>\n      <td>...</td>\n      <td>0.333333</td>\n      <td>1.0</td>\n      <td>0.666667</td>\n      <td>1.0</td>\n      <td>1.0</td>\n      <td>1.0</td>\n      <td>1.0</td>\n      <td>1.0</td>\n      <td>1.0</td>\n      <td>0.0</td>\n    </tr>\n    <tr>\n      <th>1</th>\n      <td>CCCCC[C@H](N)C(O)(c1ccccc1)c1ccccc1</td>\n      <td>BBB+</td>\n      <td>15.143070</td>\n      <td>15.143070</td>\n      <td>0.021937</td>\n      <td>-1.615734</td>\n      <td>0.147925</td>\n      <td>26.905882</td>\n      <td>1202.635</td>\n      <td>1090.747</td>\n      <td>...</td>\n      <td>1.000000</td>\n      <td>1.0</td>\n      <td>1.000000</td>\n      <td>1.0</td>\n      <td>1.0</td>\n      <td>0.0</td>\n      <td>0.0</td>\n      <td>1.0</td>\n      <td>1.0</td>\n      <td>0.0</td>\n    </tr>\n    <tr>\n      <th>2</th>\n      <td>Cc1nnc(SCC2=C(C(=O)O)N3C(=O)[C@@H](NC(=O)[C@H]...</td>\n      <td>BBB+</td>\n      <td>15.022344</td>\n      <td>15.022344</td>\n      <td>0.036460</td>\n      <td>-1.947471</td>\n      <td>0.109538</td>\n      <td>42.500000</td>\n      <td>1085.156</td>\n      <td>1008.548</td>\n      <td>...</td>\n      <td>1.000000</td>\n      <td>0.0</td>\n      <td>1.000000</td>\n      <td>1.0</td>\n      <td>0.0</td>\n      <td>1.0</td>\n      <td>1.0</td>\n      <td>1.0</td>\n      <td>1.0</td>\n      <td>0.0</td>\n    </tr>\n    <tr>\n      <th>3</th>\n      <td>C[C@@H]1C[C@H]2[C@@H]3C[C@H](F)C4=CC(=O)C(Cl)=...</td>\n      <td>BBB+</td>\n      <td>14.543654</td>\n      <td>14.543654</td>\n      <td>0.006968</td>\n      <td>-2.468650</td>\n      <td>0.116173</td>\n      <td>36.726027</td>\n      <td>1030.303</td>\n      <td>942.607</td>\n      <td>...</td>\n      <td>1.000000</td>\n      <td>1.0</td>\n      <td>1.000000</td>\n      <td>1.0</td>\n      <td>1.0</td>\n      <td>0.0</td>\n      <td>1.0</td>\n      <td>1.0</td>\n      <td>1.0</td>\n      <td>0.0</td>\n    </tr>\n    <tr>\n      <th>4</th>\n      <td>CC(C)=CCN1Cc2cc(Cl)cc3[nH]c(=S)n(c23)C[C@@H]1C</td>\n      <td>BBB+</td>\n      <td>14.995286</td>\n      <td>14.995286</td>\n      <td>0.035518</td>\n      <td>-1.944947</td>\n      <td>0.109538</td>\n      <td>42.500000</td>\n      <td>1085.156</td>\n      <td>1008.548</td>\n      <td>...</td>\n      <td>1.000000</td>\n      <td>0.0</td>\n      <td>1.000000</td>\n      <td>1.0</td>\n      <td>0.0</td>\n      <td>1.0</td>\n      <td>1.0</td>\n      <td>1.0</td>\n      <td>1.0</td>\n      <td>0.0</td>\n    </tr>\n    <tr>\n      <th>...</th>\n      <td>...</td>\n      <td>...</td>\n      <td>...</td>\n      <td>...</td>\n      <td>...</td>\n      <td>...</td>\n      <td>...</td>\n      <td>...</td>\n      <td>...</td>\n      <td>...</td>\n      <td>...</td>\n      <td>...</td>\n      <td>...</td>\n      <td>...</td>\n      <td>...</td>\n      <td>...</td>\n      <td>...</td>\n      <td>...</td>\n      <td>...</td>\n      <td>...</td>\n      <td>...</td>\n    </tr>\n    <tr>\n      <th>5127</th>\n      <td>CC1CC2C(C(O)CC3(C)C2CCC3(O)C(=O)CO)C2(C)C=CC(=...</td>\n      <td>BBB-</td>\n      <td>12.428253</td>\n      <td>12.428253</td>\n      <td>0.083608</td>\n      <td>-1.721468</td>\n      <td>0.122643</td>\n      <td>47.948718</td>\n      <td>569.609</td>\n      <td>526.265</td>\n      <td>...</td>\n      <td>1.000000</td>\n      <td>1.0</td>\n      <td>1.000000</td>\n      <td>1.0</td>\n      <td>1.0</td>\n      <td>0.0</td>\n      <td>1.0</td>\n      <td>1.0</td>\n      <td>1.0</td>\n      <td>0.0</td>\n    </tr>\n    <tr>\n      <th>5128</th>\n      <td>CC[C@H]1CC(=O)[C@@H]2Oc3c(OC)ccc4c3[C@@]23CCN(...</td>\n      <td>BBB-</td>\n      <td>12.559895</td>\n      <td>12.559895</td>\n      <td>0.048057</td>\n      <td>-3.487690</td>\n      <td>0.443295</td>\n      <td>22.448276</td>\n      <td>440.503</td>\n      <td>420.343</td>\n      <td>...</td>\n      <td>1.000000</td>\n      <td>1.0</td>\n      <td>1.000000</td>\n      <td>1.0</td>\n      <td>1.0</td>\n      <td>1.0</td>\n      <td>1.0</td>\n      <td>1.0</td>\n      <td>1.0</td>\n      <td>0.0</td>\n    </tr>\n    <tr>\n      <th>5129</th>\n      <td>CN(C)C=Nc1c(I)cc(I)c(CCC(=O)O)c1I</td>\n      <td>BBB-</td>\n      <td>12.935121</td>\n      <td>12.935121</td>\n      <td>0.008292</td>\n      <td>-0.854188</td>\n      <td>0.192994</td>\n      <td>15.076923</td>\n      <td>551.769</td>\n      <td>498.345</td>\n      <td>...</td>\n      <td>1.000000</td>\n      <td>1.0</td>\n      <td>1.000000</td>\n      <td>1.0</td>\n      <td>1.0</td>\n      <td>1.0</td>\n      <td>1.0</td>\n      <td>1.0</td>\n      <td>1.0</td>\n      <td>0.0</td>\n    </tr>\n    <tr>\n      <th>5130</th>\n      <td>CC(=O)Oc1ccc(C(=C2CCCCC2)c2ccc(OC(C)=O)cc2)cc1</td>\n      <td>BBB-</td>\n      <td>13.042813</td>\n      <td>13.042813</td>\n      <td>0.190845</td>\n      <td>-3.798036</td>\n      <td>0.233814</td>\n      <td>31.275000</td>\n      <td>594.668</td>\n      <td>564.428</td>\n      <td>...</td>\n      <td>1.000000</td>\n      <td>1.0</td>\n      <td>1.000000</td>\n      <td>1.0</td>\n      <td>1.0</td>\n      <td>1.0</td>\n      <td>1.0</td>\n      <td>1.0</td>\n      <td>1.0</td>\n      <td>0.0</td>\n    </tr>\n    <tr>\n      <th>5131</th>\n      <td>COc1ccc(-c2cc(=O)c3c(O)cc(O[C@H]4O[C@@H](CO[C@...</td>\n      <td>BBB-</td>\n      <td>14.607685</td>\n      <td>14.607685</td>\n      <td>0.137208</td>\n      <td>-1.275102</td>\n      <td>0.893230</td>\n      <td>18.125000</td>\n      <td>331.347</td>\n      <td>313.203</td>\n      <td>...</td>\n      <td>1.000000</td>\n      <td>1.0</td>\n      <td>1.000000</td>\n      <td>0.0</td>\n      <td>1.0</td>\n      <td>1.0</td>\n      <td>1.0</td>\n      <td>1.0</td>\n      <td>1.0</td>\n      <td>0.0</td>\n    </tr>\n  </tbody>\n</table>\n<p>5132 rows × 4456 columns</p>\n</div>"
     },
     "execution_count": 9,
     "metadata": {},
     "output_type": "execute_result"
    }
   ],
   "source": [
    "classification_centroid_df = pd.read_csv(\n",
    "    r\"datasets/balanced_datasets/BBB_classification_balanced_centroid.csv.zip\"\n",
    ")\n",
    "\n",
    "classification_centroid_df"
   ],
   "metadata": {
    "collapsed": false
   }
  },
  {
   "cell_type": "code",
   "execution_count": 10,
   "outputs": [
    {
     "data": {
      "text/plain": "array([[-5.21368953,  3.62439041,  3.83142447, ..., -0.28812032,\n         1.01953803,  1.14219888],\n       [26.17726014,  2.11795901,  7.38495038, ..., -0.06678346,\n        -0.10646903,  0.11734033],\n       [30.11439095, -6.29187033, 11.81692613, ...,  0.16951343,\n         0.13249661, -0.20160932],\n       ...,\n       [ 4.95976758, -2.1562782 ,  4.54480143, ...,  0.19877777,\n         0.478151  ,  0.5183374 ],\n       [ 9.25061068,  9.77543853, -4.86349062, ...,  0.56208832,\n        -0.43130308, -0.22326148],\n       [-4.13634063,  2.39963095,  3.04815532, ..., -0.65332458,\n         0.38452521,  0.0315058 ]])"
     },
     "execution_count": 10,
     "metadata": {},
     "output_type": "execute_result"
    }
   ],
   "source": [
    "# Data pre-processing\n",
    "\n",
    "classification_X = classification_centroid_df.loc[\n",
    "                   :,\n",
    "                   ~classification_centroid_df.columns.isin(\n",
    "                       ['SMILES', 'BBB+/BBB-'])\n",
    "                   ]\n",
    "\n",
    "classification_y = classification_centroid_df['BBB+/BBB-']\n",
    "\n",
    "\n",
    "data_processing_pipeline = Pipeline([\n",
    "    ('scaler', StandardScaler()),\n",
    "    ('pca', PCA(\n",
    "        n_components=0.95, #When using the svd_solver='full', n_components\n",
    "        # can be between 0 and 1 to represent the percentage of variance\n",
    "        # that you want to explain\n",
    "        svd_solver='full'\n",
    "    ))\n",
    "])\n",
    "\n",
    "classification_X_processed=data_processing_pipeline.fit_transform(classification_X)\n",
    "classification_X_processed"
   ],
   "metadata": {
    "collapsed": false
   }
  },
  {
   "cell_type": "code",
   "execution_count": 11,
   "outputs": [],
   "source": [
    "classification_X_train, classification_X_test, classification_y_train, classification_y_test = train_test_split(\n",
    "    classification_X_processed,\n",
    "    classification_y,\n",
    "    test_size=0.2,\n",
    "    random_state=1,\n",
    "    shuffle=True,\n",
    "    stratify=classification_y #Ensure train set and test set have the same\n",
    "    # ratio for the 2 categories\n",
    ")"
   ],
   "metadata": {
    "collapsed": false
   }
  },
  {
   "cell_type": "code",
   "execution_count": 12,
   "outputs": [
    {
     "name": "stdout",
     "output_type": "stream",
     "text": [
      "Fitting 6 folds for each of 2 candidates, totalling 12 fits\n",
      "[CV 1/6; 1/2] START gamma=0.1, kernel=rbf.......................................\n",
      "[CV 1/6; 1/2] END gamma=0.1, kernel=rbf; AUROC: (test=0.816) Accuracy: (test=0.741) Balanced accuracy: (test=0.741) F1: (test=0.791) Precision: (test=0.664) Recall: (test=0.980) total time=  18.3s\n",
      "[CV 2/6; 1/2] START gamma=0.1, kernel=rbf.......................................\n",
      "[CV 2/6; 1/2] END gamma=0.1, kernel=rbf; AUROC: (test=0.826) Accuracy: (test=0.754) Balanced accuracy: (test=0.754) F1: (test=0.801) Precision: (test=0.673) Recall: (test=0.991) total time=  30.2s\n",
      "[CV 3/6; 1/2] START gamma=0.1, kernel=rbf.......................................\n",
      "[CV 3/6; 1/2] END gamma=0.1, kernel=rbf; AUROC: (test=0.812) Accuracy: (test=0.732) Balanced accuracy: (test=0.732) F1: (test=0.786) Precision: (test=0.654) Recall: (test=0.982) total time=  24.6s\n",
      "[CV 4/6; 1/2] START gamma=0.1, kernel=rbf.......................................\n",
      "[CV 4/6; 1/2] END gamma=0.1, kernel=rbf; AUROC: (test=0.821) Accuracy: (test=0.742) Balanced accuracy: (test=0.742) F1: (test=0.793) Precision: (test=0.662) Recall: (test=0.988) total time=  25.2s\n",
      "[CV 5/6; 1/2] START gamma=0.1, kernel=rbf.......................................\n",
      "[CV 5/6; 1/2] END gamma=0.1, kernel=rbf; AUROC: (test=0.815) Accuracy: (test=0.757) Balanced accuracy: (test=0.757) F1: (test=0.801) Precision: (test=0.677) Recall: (test=0.982) total time=  24.3s\n",
      "[CV 6/6; 1/2] START gamma=0.1, kernel=rbf.......................................\n",
      "[CV 6/6; 1/2] END gamma=0.1, kernel=rbf; AUROC: (test=0.812) Accuracy: (test=0.741) Balanced accuracy: (test=0.741) F1: (test=0.792) Precision: (test=0.662) Recall: (test=0.984) total time=  18.3s\n",
      "[CV 1/6; 2/2] START gamma=0.5, kernel=rbf.......................................\n",
      "[CV 1/6; 2/2] END gamma=0.5, kernel=rbf; AUROC: (test=0.799) Accuracy: (test=0.741) Balanced accuracy: (test=0.741) F1: (test=0.791) Precision: (test=0.664) Recall: (test=0.980) total time=  14.4s\n",
      "[CV 2/6; 2/2] START gamma=0.5, kernel=rbf.......................................\n",
      "[CV 2/6; 2/2] END gamma=0.5, kernel=rbf; AUROC: (test=0.811) Accuracy: (test=0.752) Balanced accuracy: (test=0.752) F1: (test=0.800) Precision: (test=0.671) Recall: (test=0.991) total time=  14.4s\n",
      "[CV 3/6; 2/2] START gamma=0.5, kernel=rbf.......................................\n",
      "[CV 3/6; 2/2] END gamma=0.5, kernel=rbf; AUROC: (test=0.797) Accuracy: (test=0.730) Balanced accuracy: (test=0.730) F1: (test=0.784) Precision: (test=0.652) Recall: (test=0.982) total time=  16.3s\n",
      "[CV 4/6; 2/2] START gamma=0.5, kernel=rbf.......................................\n",
      "[CV 4/6; 2/2] END gamma=0.5, kernel=rbf; AUROC: (test=0.803) Accuracy: (test=0.741) Balanced accuracy: (test=0.741) F1: (test=0.793) Precision: (test=0.662) Recall: (test=0.988) total time=  16.5s\n",
      "[CV 5/6; 2/2] START gamma=0.5, kernel=rbf.......................................\n",
      "[CV 5/6; 2/2] END gamma=0.5, kernel=rbf; AUROC: (test=0.800) Accuracy: (test=0.755) Balanced accuracy: (test=0.755) F1: (test=0.800) Precision: (test=0.675) Recall: (test=0.982) total time=  15.0s\n",
      "[CV 6/6; 2/2] START gamma=0.5, kernel=rbf.......................................\n",
      "[CV 6/6; 2/2] END gamma=0.5, kernel=rbf; AUROC: (test=0.795) Accuracy: (test=0.740) Balanced accuracy: (test=0.740) F1: (test=0.791) Precision: (test=0.662) Recall: (test=0.984) total time=  15.9s\n",
      "GridSearchCV took 0:04:07.557651\n"
     ]
    }
   ],
   "source": [
    "start_time = datetime.now()\n",
    "\n",
    "svc_centroid = SVC(\n",
    "    random_state=1\n",
    ")\n",
    "\n",
    "svc_centroid_grid_search = GridSearchCV(\n",
    "    estimator=svc_centroid,\n",
    "    param_grid={\n",
    "        # 'C': [0.001, 0.01, 0.1, 1, 10, 100], #Regularization parameter\n",
    "        'kernel': ['rbf'], #Algorithm kernel. Should add poly and sigmoid\n",
    "        #'degree': [2,3,4], #Polynomial degree\n",
    "        'gamma': [0.1, 0.5] #Coefficient for algorithms\n",
    "    },\n",
    "    cv=RepeatedStratifiedKFold(\n",
    "        n_splits=3,\n",
    "        n_repeats=2, #Each time the split will be different\n",
    "        random_state=1\n",
    "    ),\n",
    "    scoring={\n",
    "        'Recall': make_scorer(\n",
    "            recall_score, #Need pos_label\n",
    "            pos_label='BBB+', #Without this, pos_label is default to be 1\n",
    "            # and will through an error since 1 isn't \"BBB+\" or \"BBB-\"\n",
    "            average='binary'\n",
    "        ),\n",
    "        'Precision': make_scorer(\n",
    "            precision_score, #Need pos_label\n",
    "            pos_label='BBB+',\n",
    "            average='binary'\n",
    "        ),\n",
    "        'F1': make_scorer(\n",
    "            f1_score, #Need pos_label\n",
    "            pos_label='BBB+',\n",
    "            average='binary'\n",
    "        ),\n",
    "        'Accuracy': 'accuracy', #accuracy_score doesn't need pos_label\n",
    "        'Balanced accuracy': 'balanced_accuracy',\n",
    "        'AUROC': 'roc_auc'\n",
    "    },\n",
    "    refit='AUROC',\n",
    "\n",
    "    n_jobs=1,\n",
    "    verbose=10\n",
    ")\n",
    "\n",
    "svc_centroid_grid_search.fit(classification_X_train, classification_y_train)\n",
    "\n",
    "end_time = datetime.now()\n",
    "print('GridSearchCV took {}'.format(end_time - start_time))"
   ],
   "metadata": {
    "collapsed": false
   }
  },
  {
   "cell_type": "code",
   "execution_count": 13,
   "outputs": [
    {
     "data": {
      "text/plain": "  param_gamma param_kernel                           params  mean_test_Recall  \\\n0         0.1          rbf  {'gamma': 0.1, 'kernel': 'rbf'}          0.984657   \n1         0.5          rbf  {'gamma': 0.5, 'kernel': 'rbf'}          0.984657   \n\n   rank_test_Recall  mean_test_Precision  rank_test_Precision  mean_test_F1  \\\n0                 1             0.665369                    1       0.79410   \n1                 1             0.664276                    2       0.79332   \n\n   rank_test_F1  mean_test_Accuracy  rank_test_Accuracy  \\\n0             1            0.744580                   1   \n1             2            0.743362                   2   \n\n   mean_test_Balanced accuracy  rank_test_Balanced accuracy  mean_test_AUROC  \\\n0                     0.744521                            1         0.816975   \n1                     0.743303                            2         0.800742   \n\n   rank_test_AUROC  \n0                1  \n1                2  ",
      "text/html": "<div>\n<style scoped>\n    .dataframe tbody tr th:only-of-type {\n        vertical-align: middle;\n    }\n\n    .dataframe tbody tr th {\n        vertical-align: top;\n    }\n\n    .dataframe thead th {\n        text-align: right;\n    }\n</style>\n<table border=\"1\" class=\"dataframe\">\n  <thead>\n    <tr style=\"text-align: right;\">\n      <th></th>\n      <th>param_gamma</th>\n      <th>param_kernel</th>\n      <th>params</th>\n      <th>mean_test_Recall</th>\n      <th>rank_test_Recall</th>\n      <th>mean_test_Precision</th>\n      <th>rank_test_Precision</th>\n      <th>mean_test_F1</th>\n      <th>rank_test_F1</th>\n      <th>mean_test_Accuracy</th>\n      <th>rank_test_Accuracy</th>\n      <th>mean_test_Balanced accuracy</th>\n      <th>rank_test_Balanced accuracy</th>\n      <th>mean_test_AUROC</th>\n      <th>rank_test_AUROC</th>\n    </tr>\n  </thead>\n  <tbody>\n    <tr>\n      <th>0</th>\n      <td>0.1</td>\n      <td>rbf</td>\n      <td>{'gamma': 0.1, 'kernel': 'rbf'}</td>\n      <td>0.984657</td>\n      <td>1</td>\n      <td>0.665369</td>\n      <td>1</td>\n      <td>0.79410</td>\n      <td>1</td>\n      <td>0.744580</td>\n      <td>1</td>\n      <td>0.744521</td>\n      <td>1</td>\n      <td>0.816975</td>\n      <td>1</td>\n    </tr>\n    <tr>\n      <th>1</th>\n      <td>0.5</td>\n      <td>rbf</td>\n      <td>{'gamma': 0.5, 'kernel': 'rbf'}</td>\n      <td>0.984657</td>\n      <td>1</td>\n      <td>0.664276</td>\n      <td>2</td>\n      <td>0.79332</td>\n      <td>2</td>\n      <td>0.743362</td>\n      <td>2</td>\n      <td>0.743303</td>\n      <td>2</td>\n      <td>0.800742</td>\n      <td>2</td>\n    </tr>\n  </tbody>\n</table>\n</div>"
     },
     "execution_count": 13,
     "metadata": {},
     "output_type": "execute_result"
    }
   ],
   "source": [
    "svc_centroid_results_df = pd.DataFrame(svc_centroid_grid_search.cv_results_)\n",
    "#Make the GridSearch results into a df\n",
    "\n",
    "svc_centroid_results_df.drop(\n",
    "    list(svc_centroid_results_df.filter(regex='time|split|std')),\n",
    "    axis=1,\n",
    "    inplace=True\n",
    ")  # Remove columns that aren't very interesting\n",
    "svc_centroid_results_df = svc_centroid_results_df.sort_values(\n",
    "    by='rank_test_AUROC')\n",
    "\n",
    "svc_centroid_results_df"
   ],
   "metadata": {
    "collapsed": false
   }
  },
  {
   "cell_type": "code",
   "execution_count": 14,
   "outputs": [],
   "source": [
    "svc_centroid_results_df.to_csv(\n",
    "    r'model_grid_search\\svm_classifier_centroid_results.csv',\n",
    "    index=False\n",
    ")"
   ],
   "metadata": {
    "collapsed": false
   }
  },
  {
   "cell_type": "code",
   "execution_count": 15,
   "outputs": [
    {
     "data": {
      "text/plain": "0"
     },
     "execution_count": 15,
     "metadata": {},
     "output_type": "execute_result"
    }
   ],
   "source": [
    "best_svc_centroid_classifier = svc_centroid_grid_search.best_estimator_\n",
    "save_pickle(\n",
    "    best_svc_centroid_classifier,\n",
    "    r'model_pickles\\best_svm_classifier_centroid.pkl'\n",
    ")\n",
    "# To load this best model again, use load_pickle(r'model_pickles\\svc_centroid_classifier\\best_svc_centroid_classifier.pkl')"
   ],
   "metadata": {
    "collapsed": false
   }
  },
  {
   "cell_type": "markdown",
   "source": [
    "#### Balanced by SMOTEENN method"
   ],
   "metadata": {
    "collapsed": false
   }
  },
  {
   "cell_type": "code",
   "execution_count": 16,
   "outputs": [
    {
     "data": {
      "text/plain": "                                                 SMILES BBB+/BBB-  \\\n0     CN[C@@H]1[C@H](O[C@H]2[C@H](O[C@@H]3[C@H](NC(=...      BBB+   \n1                   CCCCC[C@H](N)C(O)(c1ccccc1)c1ccccc1      BBB+   \n2     Cc1nnc(SCC2=C(C(=O)O)N3C(=O)[C@@H](NC(=O)[C@H]...      BBB+   \n3     C[C@@H]1C[C@H]2[C@@H]3C[C@H](F)C4=CC(=O)C(Cl)=...      BBB+   \n4        CC(C)=CCN1Cc2cc(Cl)cc3[nH]c(=S)n(c23)C[C@@H]1C      BBB+   \n...                                                 ...       ...   \n6132            O=c1[nH]cnc2c1ncn2[C@@H]1CC[C@@H](CO)O1      BBB-   \n6133            CCCCCCCCCCCCCCCCOP(=O)(O)OCC[N+](C)(C)C      BBB-   \n6134        O=C1CN2CCO[C@]2(c2ccccc2F)c2cc(Cl)ccc2N1CCO      BBB-   \n6135                       CC(C)(CO)C(O)C(=O)NCCCC(=O)O      BBB-   \n6136                CC(=O)O[C@@H](c1ccccc1)[C@H]1CCCCN1      BBB-   \n\n      MaxAbsEStateIndex  MaxEStateIndex  MinAbsEStateIndex  MinEStateIndex  \\\n0             16.987088       16.987088           0.036070       -2.333658   \n1             11.850791       11.850791           0.333611       -1.232222   \n2             13.647107       13.647107           0.012185       -1.422510   \n3             11.649464       11.649464           0.198757       -0.198757   \n4             11.786832       11.786832           0.063339       -0.683465   \n...                 ...             ...                ...             ...   \n6132          13.634735       13.634735           0.027420       -2.184699   \n6133          11.010582       11.010582           0.070069       -1.291404   \n6134           7.454496        7.454496           0.509827        0.401000   \n6135          12.530398       12.530398           0.147649       -0.918220   \n6136          13.123093       13.123093           0.031536       -1.012921   \n\n           qed        SPS       MolWt  HeavyAtomMolWt  ...     157_y  \\\n0     0.607687  52.700000  444.902000      417.686000  ...  1.000000   \n1     0.556573  20.437500  224.260000      208.132000  ...  0.000000   \n2     0.564246  42.285714  488.621000      448.301000  ...  1.000000   \n3     0.793104  26.576923  350.422000      328.246000  ...  0.000000   \n4     0.912447  33.200000  295.766000      277.622000  ...  1.000000   \n...        ...        ...         ...             ...  ...       ...   \n6132  0.298412  28.342105  527.526000      498.294000  ...  1.000000   \n6133  0.195738  49.951014  448.391665      410.237000  ...  1.000000   \n6134  0.748302  12.771272  205.245974      191.543994  ...  0.318647   \n6135  0.208973  18.593750  471.492000      446.292000  ...  1.000000   \n6136  0.533768  24.578947  525.602000      490.322000  ...  1.000000   \n\n         158_y     159_y     160_y  161_y  162_y  163_y     164_y  165_y  \\\n0     0.000000  1.000000  1.000000    0.0    0.0    1.0  1.000000    1.0   \n1     1.000000  1.000000  1.000000    1.0    0.0    1.0  1.000000    1.0   \n2     0.000000  1.000000  1.000000    0.0    0.0    1.0  1.000000    1.0   \n3     1.000000  1.000000  1.000000    1.0    1.0    1.0  1.000000    1.0   \n4     1.000000  1.000000  1.000000    1.0    1.0    1.0  1.000000    1.0   \n...        ...       ...       ...    ...    ...    ...       ...    ...   \n6132  1.000000  1.000000  1.000000    1.0    1.0    1.0  1.000000    1.0   \n6133  1.000000  1.000000  1.000000    1.0    0.0    1.0  1.000000    1.0   \n6134  0.681353  0.318647  0.318647    1.0    1.0    1.0  0.318647    1.0   \n6135  1.000000  1.000000  1.000000    1.0    1.0    0.0  1.000000    1.0   \n6136  1.000000  1.000000  1.000000    1.0    1.0    0.0  1.000000    1.0   \n\n      166_y  \n0       0.0  \n1       0.0  \n2       0.0  \n3       0.0  \n4       0.0  \n...     ...  \n6132    0.0  \n6133    0.0  \n6134    0.0  \n6135    0.0  \n6136    0.0  \n\n[6137 rows x 4456 columns]",
      "text/html": "<div>\n<style scoped>\n    .dataframe tbody tr th:only-of-type {\n        vertical-align: middle;\n    }\n\n    .dataframe tbody tr th {\n        vertical-align: top;\n    }\n\n    .dataframe thead th {\n        text-align: right;\n    }\n</style>\n<table border=\"1\" class=\"dataframe\">\n  <thead>\n    <tr style=\"text-align: right;\">\n      <th></th>\n      <th>SMILES</th>\n      <th>BBB+/BBB-</th>\n      <th>MaxAbsEStateIndex</th>\n      <th>MaxEStateIndex</th>\n      <th>MinAbsEStateIndex</th>\n      <th>MinEStateIndex</th>\n      <th>qed</th>\n      <th>SPS</th>\n      <th>MolWt</th>\n      <th>HeavyAtomMolWt</th>\n      <th>...</th>\n      <th>157_y</th>\n      <th>158_y</th>\n      <th>159_y</th>\n      <th>160_y</th>\n      <th>161_y</th>\n      <th>162_y</th>\n      <th>163_y</th>\n      <th>164_y</th>\n      <th>165_y</th>\n      <th>166_y</th>\n    </tr>\n  </thead>\n  <tbody>\n    <tr>\n      <th>0</th>\n      <td>CN[C@@H]1[C@H](O[C@H]2[C@H](O[C@@H]3[C@H](NC(=...</td>\n      <td>BBB+</td>\n      <td>16.987088</td>\n      <td>16.987088</td>\n      <td>0.036070</td>\n      <td>-2.333658</td>\n      <td>0.607687</td>\n      <td>52.700000</td>\n      <td>444.902000</td>\n      <td>417.686000</td>\n      <td>...</td>\n      <td>1.000000</td>\n      <td>0.000000</td>\n      <td>1.000000</td>\n      <td>1.000000</td>\n      <td>0.0</td>\n      <td>0.0</td>\n      <td>1.0</td>\n      <td>1.000000</td>\n      <td>1.0</td>\n      <td>0.0</td>\n    </tr>\n    <tr>\n      <th>1</th>\n      <td>CCCCC[C@H](N)C(O)(c1ccccc1)c1ccccc1</td>\n      <td>BBB+</td>\n      <td>11.850791</td>\n      <td>11.850791</td>\n      <td>0.333611</td>\n      <td>-1.232222</td>\n      <td>0.556573</td>\n      <td>20.437500</td>\n      <td>224.260000</td>\n      <td>208.132000</td>\n      <td>...</td>\n      <td>0.000000</td>\n      <td>1.000000</td>\n      <td>1.000000</td>\n      <td>1.000000</td>\n      <td>1.0</td>\n      <td>0.0</td>\n      <td>1.0</td>\n      <td>1.000000</td>\n      <td>1.0</td>\n      <td>0.0</td>\n    </tr>\n    <tr>\n      <th>2</th>\n      <td>Cc1nnc(SCC2=C(C(=O)O)N3C(=O)[C@@H](NC(=O)[C@H]...</td>\n      <td>BBB+</td>\n      <td>13.647107</td>\n      <td>13.647107</td>\n      <td>0.012185</td>\n      <td>-1.422510</td>\n      <td>0.564246</td>\n      <td>42.285714</td>\n      <td>488.621000</td>\n      <td>448.301000</td>\n      <td>...</td>\n      <td>1.000000</td>\n      <td>0.000000</td>\n      <td>1.000000</td>\n      <td>1.000000</td>\n      <td>0.0</td>\n      <td>0.0</td>\n      <td>1.0</td>\n      <td>1.000000</td>\n      <td>1.0</td>\n      <td>0.0</td>\n    </tr>\n    <tr>\n      <th>3</th>\n      <td>C[C@@H]1C[C@H]2[C@@H]3C[C@H](F)C4=CC(=O)C(Cl)=...</td>\n      <td>BBB+</td>\n      <td>11.649464</td>\n      <td>11.649464</td>\n      <td>0.198757</td>\n      <td>-0.198757</td>\n      <td>0.793104</td>\n      <td>26.576923</td>\n      <td>350.422000</td>\n      <td>328.246000</td>\n      <td>...</td>\n      <td>0.000000</td>\n      <td>1.000000</td>\n      <td>1.000000</td>\n      <td>1.000000</td>\n      <td>1.0</td>\n      <td>1.0</td>\n      <td>1.0</td>\n      <td>1.000000</td>\n      <td>1.0</td>\n      <td>0.0</td>\n    </tr>\n    <tr>\n      <th>4</th>\n      <td>CC(C)=CCN1Cc2cc(Cl)cc3[nH]c(=S)n(c23)C[C@@H]1C</td>\n      <td>BBB+</td>\n      <td>11.786832</td>\n      <td>11.786832</td>\n      <td>0.063339</td>\n      <td>-0.683465</td>\n      <td>0.912447</td>\n      <td>33.200000</td>\n      <td>295.766000</td>\n      <td>277.622000</td>\n      <td>...</td>\n      <td>1.000000</td>\n      <td>1.000000</td>\n      <td>1.000000</td>\n      <td>1.000000</td>\n      <td>1.0</td>\n      <td>1.0</td>\n      <td>1.0</td>\n      <td>1.000000</td>\n      <td>1.0</td>\n      <td>0.0</td>\n    </tr>\n    <tr>\n      <th>...</th>\n      <td>...</td>\n      <td>...</td>\n      <td>...</td>\n      <td>...</td>\n      <td>...</td>\n      <td>...</td>\n      <td>...</td>\n      <td>...</td>\n      <td>...</td>\n      <td>...</td>\n      <td>...</td>\n      <td>...</td>\n      <td>...</td>\n      <td>...</td>\n      <td>...</td>\n      <td>...</td>\n      <td>...</td>\n      <td>...</td>\n      <td>...</td>\n      <td>...</td>\n      <td>...</td>\n    </tr>\n    <tr>\n      <th>6132</th>\n      <td>O=c1[nH]cnc2c1ncn2[C@@H]1CC[C@@H](CO)O1</td>\n      <td>BBB-</td>\n      <td>13.634735</td>\n      <td>13.634735</td>\n      <td>0.027420</td>\n      <td>-2.184699</td>\n      <td>0.298412</td>\n      <td>28.342105</td>\n      <td>527.526000</td>\n      <td>498.294000</td>\n      <td>...</td>\n      <td>1.000000</td>\n      <td>1.000000</td>\n      <td>1.000000</td>\n      <td>1.000000</td>\n      <td>1.0</td>\n      <td>1.0</td>\n      <td>1.0</td>\n      <td>1.000000</td>\n      <td>1.0</td>\n      <td>0.0</td>\n    </tr>\n    <tr>\n      <th>6133</th>\n      <td>CCCCCCCCCCCCCCCCOP(=O)(O)OCC[N+](C)(C)C</td>\n      <td>BBB-</td>\n      <td>11.010582</td>\n      <td>11.010582</td>\n      <td>0.070069</td>\n      <td>-1.291404</td>\n      <td>0.195738</td>\n      <td>49.951014</td>\n      <td>448.391665</td>\n      <td>410.237000</td>\n      <td>...</td>\n      <td>1.000000</td>\n      <td>1.000000</td>\n      <td>1.000000</td>\n      <td>1.000000</td>\n      <td>1.0</td>\n      <td>0.0</td>\n      <td>1.0</td>\n      <td>1.000000</td>\n      <td>1.0</td>\n      <td>0.0</td>\n    </tr>\n    <tr>\n      <th>6134</th>\n      <td>O=C1CN2CCO[C@]2(c2ccccc2F)c2cc(Cl)ccc2N1CCO</td>\n      <td>BBB-</td>\n      <td>7.454496</td>\n      <td>7.454496</td>\n      <td>0.509827</td>\n      <td>0.401000</td>\n      <td>0.748302</td>\n      <td>12.771272</td>\n      <td>205.245974</td>\n      <td>191.543994</td>\n      <td>...</td>\n      <td>0.318647</td>\n      <td>0.681353</td>\n      <td>0.318647</td>\n      <td>0.318647</td>\n      <td>1.0</td>\n      <td>1.0</td>\n      <td>1.0</td>\n      <td>0.318647</td>\n      <td>1.0</td>\n      <td>0.0</td>\n    </tr>\n    <tr>\n      <th>6135</th>\n      <td>CC(C)(CO)C(O)C(=O)NCCCC(=O)O</td>\n      <td>BBB-</td>\n      <td>12.530398</td>\n      <td>12.530398</td>\n      <td>0.147649</td>\n      <td>-0.918220</td>\n      <td>0.208973</td>\n      <td>18.593750</td>\n      <td>471.492000</td>\n      <td>446.292000</td>\n      <td>...</td>\n      <td>1.000000</td>\n      <td>1.000000</td>\n      <td>1.000000</td>\n      <td>1.000000</td>\n      <td>1.0</td>\n      <td>1.0</td>\n      <td>0.0</td>\n      <td>1.000000</td>\n      <td>1.0</td>\n      <td>0.0</td>\n    </tr>\n    <tr>\n      <th>6136</th>\n      <td>CC(=O)O[C@@H](c1ccccc1)[C@H]1CCCCN1</td>\n      <td>BBB-</td>\n      <td>13.123093</td>\n      <td>13.123093</td>\n      <td>0.031536</td>\n      <td>-1.012921</td>\n      <td>0.533768</td>\n      <td>24.578947</td>\n      <td>525.602000</td>\n      <td>490.322000</td>\n      <td>...</td>\n      <td>1.000000</td>\n      <td>1.000000</td>\n      <td>1.000000</td>\n      <td>1.000000</td>\n      <td>1.0</td>\n      <td>1.0</td>\n      <td>0.0</td>\n      <td>1.000000</td>\n      <td>1.0</td>\n      <td>0.0</td>\n    </tr>\n  </tbody>\n</table>\n<p>6137 rows × 4456 columns</p>\n</div>"
     },
     "execution_count": 16,
     "metadata": {},
     "output_type": "execute_result"
    }
   ],
   "source": [
    "classification_smoteenn_df = pd.read_csv(\n",
    "    r\"datasets/balanced_datasets/BBB_classification_balanced_smoteenn.csv.zip\"\n",
    ")\n",
    "\n",
    "classification_smoteenn_df"
   ],
   "metadata": {
    "collapsed": false
   }
  },
  {
   "cell_type": "code",
   "execution_count": 17,
   "outputs": [
    {
     "data": {
      "text/plain": "array([[  2.98706038, -15.52534234, -11.35322912, ...,   0.32526048,\n          0.3844538 ,   0.11867296],\n       [ -5.6583304 ,  -0.56109026,  -1.29849247, ...,  -0.35508283,\n         -0.10207494,   0.05669757],\n       [  4.93606644, -14.55570922, -10.44574843, ...,   0.76240043,\n          0.24285187,  -0.03796337],\n       ...,\n       [-10.66358129,   2.3762372 ,   2.68652006, ...,   3.25198126,\n         -0.06720095,  -0.65328242],\n       [  2.68403602,  13.68948642, -10.43922295, ...,  -0.21991513,\n         -0.06626778,   0.17626702],\n       [  5.21647711,   1.66299201,  -2.0178315 , ...,  -0.09730234,\n         -0.09406303,  -0.0205432 ]])"
     },
     "execution_count": 17,
     "metadata": {},
     "output_type": "execute_result"
    }
   ],
   "source": [
    "# Data pre-processing\n",
    "\n",
    "classification_X = classification_smoteenn_df.loc[\n",
    "                   :,\n",
    "                   ~classification_smoteenn_df.columns.isin(\n",
    "                       ['SMILES', 'BBB+/BBB-'])\n",
    "                   ]\n",
    "\n",
    "classification_y = classification_smoteenn_df['BBB+/BBB-']\n",
    "\n",
    "\n",
    "data_processing_pipeline = Pipeline([\n",
    "    ('scaler', StandardScaler()),\n",
    "    ('pca', PCA(\n",
    "        n_components=0.95, #When using the svd_solver='full', n_components\n",
    "        # can be between 0 and 1 to represent the percentage of variance\n",
    "        # that you want to explain\n",
    "        svd_solver='full'\n",
    "    ))\n",
    "])\n",
    "\n",
    "classification_X_processed=data_processing_pipeline.fit_transform(classification_X)\n",
    "classification_X_processed"
   ],
   "metadata": {
    "collapsed": false
   }
  },
  {
   "cell_type": "code",
   "execution_count": 18,
   "outputs": [],
   "source": [
    "classification_X_train, classification_X_test, classification_y_train, classification_y_test = train_test_split(\n",
    "    classification_X_processed,\n",
    "    classification_y,\n",
    "    test_size=0.2,\n",
    "    random_state=1,\n",
    "    shuffle=True,\n",
    "    stratify=classification_y #Ensure train set and test set have the same\n",
    "    # ratio for the 2 categories\n",
    ")"
   ],
   "metadata": {
    "collapsed": false
   }
  },
  {
   "cell_type": "code",
   "execution_count": 19,
   "outputs": [
    {
     "name": "stdout",
     "output_type": "stream",
     "text": [
      "Fitting 6 folds for each of 2 candidates, totalling 12 fits\n",
      "[CV 1/6; 1/2] START gamma=0.1, kernel=rbf.......................................\n",
      "[CV 1/6; 1/2] END gamma=0.1, kernel=rbf; AUROC: (test=0.957) Accuracy: (test=0.827) Balanced accuracy: (test=0.825) F1: (test=0.853) Precision: (test=0.744) Recall: (test=1.000) total time=  13.8s\n",
      "[CV 2/6; 1/2] START gamma=0.1, kernel=rbf.......................................\n",
      "[CV 2/6; 1/2] END gamma=0.1, kernel=rbf; AUROC: (test=0.965) Accuracy: (test=0.830) Balanced accuracy: (test=0.829) F1: (test=0.856) Precision: (test=0.748) Recall: (test=1.000) total time=  13.5s\n",
      "[CV 3/6; 1/2] START gamma=0.1, kernel=rbf.......................................\n",
      "[CV 3/6; 1/2] END gamma=0.1, kernel=rbf; AUROC: (test=0.966) Accuracy: (test=0.838) Balanced accuracy: (test=0.837) F1: (test=0.862) Precision: (test=0.757) Recall: (test=1.000) total time=  12.3s\n",
      "[CV 4/6; 1/2] START gamma=0.1, kernel=rbf.......................................\n",
      "[CV 4/6; 1/2] END gamma=0.1, kernel=rbf; AUROC: (test=0.958) Accuracy: (test=0.821) Balanced accuracy: (test=0.820) F1: (test=0.849) Precision: (test=0.738) Recall: (test=1.000) total time=  12.0s\n",
      "[CV 5/6; 1/2] START gamma=0.1, kernel=rbf.......................................\n",
      "[CV 5/6; 1/2] END gamma=0.1, kernel=rbf; AUROC: (test=0.960) Accuracy: (test=0.817) Balanced accuracy: (test=0.816) F1: (test=0.847) Precision: (test=0.734) Recall: (test=1.000) total time=  11.6s\n",
      "[CV 6/6; 1/2] START gamma=0.1, kernel=rbf.......................................\n",
      "[CV 6/6; 1/2] END gamma=0.1, kernel=rbf; AUROC: (test=0.968) Accuracy: (test=0.842) Balanced accuracy: (test=0.840) F1: (test=0.864) Precision: (test=0.761) Recall: (test=1.000) total time=  13.6s\n",
      "[CV 1/6; 2/2] START gamma=0.5, kernel=rbf.......................................\n",
      "[CV 1/6; 2/2] END gamma=0.5, kernel=rbf; AUROC: (test=0.945) Accuracy: (test=0.808) Balanced accuracy: (test=0.807) F1: (test=0.840) Precision: (test=0.724) Recall: (test=1.000) total time=  14.8s\n",
      "[CV 2/6; 2/2] START gamma=0.5, kernel=rbf.......................................\n",
      "[CV 2/6; 2/2] END gamma=0.5, kernel=rbf; AUROC: (test=0.953) Accuracy: (test=0.817) Balanced accuracy: (test=0.815) F1: (test=0.846) Precision: (test=0.733) Recall: (test=1.000) total time=  14.0s\n",
      "[CV 3/6; 2/2] START gamma=0.5, kernel=rbf.......................................\n",
      "[CV 3/6; 2/2] END gamma=0.5, kernel=rbf; AUROC: (test=0.950) Accuracy: (test=0.826) Balanced accuracy: (test=0.825) F1: (test=0.853) Precision: (test=0.744) Recall: (test=1.000) total time=  13.9s\n",
      "[CV 4/6; 2/2] START gamma=0.5, kernel=rbf.......................................\n",
      "[CV 4/6; 2/2] END gamma=0.5, kernel=rbf; AUROC: (test=0.944) Accuracy: (test=0.806) Balanced accuracy: (test=0.804) F1: (test=0.838) Precision: (test=0.722) Recall: (test=1.000) total time=  13.2s\n",
      "[CV 5/6; 2/2] START gamma=0.5, kernel=rbf.......................................\n",
      "[CV 5/6; 2/2] END gamma=0.5, kernel=rbf; AUROC: (test=0.945) Accuracy: (test=0.805) Balanced accuracy: (test=0.803) F1: (test=0.838) Precision: (test=0.721) Recall: (test=1.000) total time=  12.9s\n",
      "[CV 6/6; 2/2] START gamma=0.5, kernel=rbf.......................................\n",
      "[CV 6/6; 2/2] END gamma=0.5, kernel=rbf; AUROC: (test=0.955) Accuracy: (test=0.828) Balanced accuracy: (test=0.827) F1: (test=0.854) Precision: (test=0.746) Recall: (test=1.000) total time=  15.3s\n",
      "GridSearchCV took 0:02:52.002718\n"
     ]
    }
   ],
   "source": [
    "start_time = datetime.now()\n",
    "\n",
    "svc_smoteenn = SVC(\n",
    "    random_state=1\n",
    ")\n",
    "\n",
    "svc_smoteenn_grid_search = GridSearchCV(\n",
    "    estimator=svc_smoteenn,\n",
    "    param_grid={\n",
    "        # 'C': [0.001, 0.01, 0.1, 1, 10, 100], #Regularization parameter\n",
    "        'kernel': ['rbf'], #Algorithm kernel. Should add poly and sigmoid\n",
    "        #'degree': [2,3,4], #Polynomial degree\n",
    "        'gamma': [0.1, 0.5] #Coefficient for algorithms\n",
    "    },\n",
    "    cv=RepeatedStratifiedKFold(\n",
    "        n_splits=3,\n",
    "        n_repeats=2, #Each time the split will be different\n",
    "        random_state=1\n",
    "    ),\n",
    "    scoring={\n",
    "        'Recall': make_scorer(\n",
    "            recall_score, #Need pos_label\n",
    "            pos_label='BBB+', #Without this, pos_label is default to be 1\n",
    "            # and will through an error since 1 isn't \"BBB+\" or \"BBB-\"\n",
    "            average='binary'\n",
    "        ),\n",
    "        'Precision': make_scorer(\n",
    "            precision_score, #Need pos_label\n",
    "            pos_label='BBB+',\n",
    "            average='binary'\n",
    "        ),\n",
    "        'F1': make_scorer(\n",
    "            f1_score, #Need pos_label\n",
    "            pos_label='BBB+',\n",
    "            average='binary'\n",
    "        ),\n",
    "        'Accuracy': 'accuracy', #accuracy_score doesn't need pos_label\n",
    "        'Balanced accuracy': 'balanced_accuracy',\n",
    "        'AUROC': 'roc_auc'\n",
    "    },\n",
    "    refit='AUROC',\n",
    "\n",
    "    n_jobs=1,\n",
    "    verbose=10\n",
    ")\n",
    "\n",
    "svc_smoteenn_grid_search.fit(classification_X_train, classification_y_train)\n",
    "\n",
    "end_time = datetime.now()\n",
    "print('GridSearchCV took {}'.format(end_time - start_time))"
   ],
   "metadata": {
    "collapsed": false
   }
  },
  {
   "cell_type": "code",
   "execution_count": 20,
   "outputs": [
    {
     "data": {
      "text/plain": "  param_gamma param_kernel                           params  mean_test_Recall  \\\n0         0.1          rbf  {'gamma': 0.1, 'kernel': 'rbf'}               1.0   \n1         0.5          rbf  {'gamma': 0.5, 'kernel': 'rbf'}               1.0   \n\n   rank_test_Recall  mean_test_Precision  rank_test_Precision  mean_test_F1  \\\n0                 1             0.746956                    1      0.855117   \n1                 1             0.731739                    2      0.845052   \n\n   rank_test_F1  mean_test_Accuracy  rank_test_Accuracy  \\\n0             1            0.829091                   1   \n1             2            0.815035                   2   \n\n   mean_test_Balanced accuracy  rank_test_Balanced accuracy  mean_test_AUROC  \\\n0                     0.827652                            1         0.962218   \n1                     0.813479                            2         0.948825   \n\n   rank_test_AUROC  \n0                1  \n1                2  ",
      "text/html": "<div>\n<style scoped>\n    .dataframe tbody tr th:only-of-type {\n        vertical-align: middle;\n    }\n\n    .dataframe tbody tr th {\n        vertical-align: top;\n    }\n\n    .dataframe thead th {\n        text-align: right;\n    }\n</style>\n<table border=\"1\" class=\"dataframe\">\n  <thead>\n    <tr style=\"text-align: right;\">\n      <th></th>\n      <th>param_gamma</th>\n      <th>param_kernel</th>\n      <th>params</th>\n      <th>mean_test_Recall</th>\n      <th>rank_test_Recall</th>\n      <th>mean_test_Precision</th>\n      <th>rank_test_Precision</th>\n      <th>mean_test_F1</th>\n      <th>rank_test_F1</th>\n      <th>mean_test_Accuracy</th>\n      <th>rank_test_Accuracy</th>\n      <th>mean_test_Balanced accuracy</th>\n      <th>rank_test_Balanced accuracy</th>\n      <th>mean_test_AUROC</th>\n      <th>rank_test_AUROC</th>\n    </tr>\n  </thead>\n  <tbody>\n    <tr>\n      <th>0</th>\n      <td>0.1</td>\n      <td>rbf</td>\n      <td>{'gamma': 0.1, 'kernel': 'rbf'}</td>\n      <td>1.0</td>\n      <td>1</td>\n      <td>0.746956</td>\n      <td>1</td>\n      <td>0.855117</td>\n      <td>1</td>\n      <td>0.829091</td>\n      <td>1</td>\n      <td>0.827652</td>\n      <td>1</td>\n      <td>0.962218</td>\n      <td>1</td>\n    </tr>\n    <tr>\n      <th>1</th>\n      <td>0.5</td>\n      <td>rbf</td>\n      <td>{'gamma': 0.5, 'kernel': 'rbf'}</td>\n      <td>1.0</td>\n      <td>1</td>\n      <td>0.731739</td>\n      <td>2</td>\n      <td>0.845052</td>\n      <td>2</td>\n      <td>0.815035</td>\n      <td>2</td>\n      <td>0.813479</td>\n      <td>2</td>\n      <td>0.948825</td>\n      <td>2</td>\n    </tr>\n  </tbody>\n</table>\n</div>"
     },
     "execution_count": 20,
     "metadata": {},
     "output_type": "execute_result"
    }
   ],
   "source": [
    "svc_smoteenn_results_df = pd.DataFrame(svc_smoteenn_grid_search.cv_results_)\n",
    "#Make the GridSearch results into a df\n",
    "\n",
    "svc_smoteenn_results_df.drop(\n",
    "    list(svc_smoteenn_results_df.filter(regex='time|split|std')),\n",
    "    axis=1,\n",
    "    inplace=True\n",
    ")  # Remove columns that aren't very interesting\n",
    "svc_smoteenn_results_df = svc_smoteenn_results_df.sort_values(\n",
    "    by='rank_test_AUROC')\n",
    "\n",
    "svc_smoteenn_results_df"
   ],
   "metadata": {
    "collapsed": false
   }
  },
  {
   "cell_type": "code",
   "execution_count": 21,
   "outputs": [],
   "source": [
    "svc_smoteenn_results_df.to_csv(\n",
    "    r'model_grid_search\\svm_classifier_smoteenn_results.csv',\n",
    "    index=False\n",
    ")"
   ],
   "metadata": {
    "collapsed": false
   }
  },
  {
   "cell_type": "code",
   "execution_count": 22,
   "outputs": [
    {
     "data": {
      "text/plain": "0"
     },
     "execution_count": 22,
     "metadata": {},
     "output_type": "execute_result"
    }
   ],
   "source": [
    "best_svc_smoteenn_classifier = svc_smoteenn_grid_search.best_estimator_\n",
    "save_pickle(\n",
    "    best_svc_smoteenn_classifier,\n",
    "    r'model_pickles\\best_svm_classifier_smoteenn.pkl'\n",
    ")\n",
    "# To load this best model again, use load_pickle(r'model_pickles\\svc_smoteenn_classifier\\best_svc_smoteenn_classifier.pkl')"
   ],
   "metadata": {
    "collapsed": false
   }
  }
 ],
 "metadata": {
  "kernelspec": {
   "display_name": "Python 3",
   "language": "python",
   "name": "python3"
  },
  "language_info": {
   "codemirror_mode": {
    "name": "ipython",
    "version": 2
   },
   "file_extension": ".py",
   "mimetype": "text/x-python",
   "name": "python",
   "nbconvert_exporter": "python",
   "pygments_lexer": "ipython2",
   "version": "2.7.6"
  }
 },
 "nbformat": 4,
 "nbformat_minor": 0
}
