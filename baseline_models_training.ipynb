{
 "cells": [
  {
   "cell_type": "markdown",
   "source": [
    "# Import packages"
   ],
   "metadata": {
    "collapsed": false
   }
  },
  {
   "cell_type": "code",
   "execution_count": 1,
   "outputs": [],
   "source": [
    "import pandas as pd\n",
    "\n",
    "from datetime import datetime\n",
    "from sklearn.pipeline import Pipeline\n",
    "from sklearn.preprocessing import StandardScaler\n",
    "\n",
    "from sklearn.decomposition import PCA\n",
    "from sklearn.svm import SVR, SVC\n",
    "\n",
    "from sklearn.model_selection import train_test_split, GridSearchCV, \\\n",
    "    RepeatedStratifiedKFold\n",
    "\n",
    "from sklearn.metrics import mean_squared_error, mean_absolute_error, \\\n",
    "    r2_score, make_scorer, recall_score, accuracy_score, f1_score, \\\n",
    "    precision_score, balanced_accuracy_score, roc_curve, auc\n",
    "\n",
    "from collinearity import SelectNonCollinear"
   ],
   "metadata": {
    "collapsed": false,
    "ExecuteTime": {
     "end_time": "2024-04-10T13:44:42.059406Z",
     "start_time": "2024-04-10T13:44:39.906168Z"
    }
   }
  },
  {
   "cell_type": "markdown",
   "source": [
    "# Custom functions"
   ],
   "metadata": {
    "collapsed": false
   }
  },
  {
   "cell_type": "code",
   "execution_count": 2,
   "outputs": [],
   "source": [
    "from pickle_managment import save_pickle"
   ],
   "metadata": {
    "collapsed": false,
    "ExecuteTime": {
     "end_time": "2024-04-10T13:44:42.065789Z",
     "start_time": "2024-04-10T13:44:42.060548Z"
    }
   }
  },
  {
   "cell_type": "markdown",
   "source": [
    "# Regression"
   ],
   "metadata": {
    "collapsed": false
   }
  },
  {
   "cell_type": "code",
   "execution_count": 3,
   "outputs": [
    {
     "data": {
      "text/plain": "                                                SMILES  MaxAbsEStateIndex  \\\n0            CC(C)(C)OC(=O)CCCC1=CC=C(C=C1)N(CCCl)CCCl          11.682268   \n1                       Clc1ccc(N2)c(C(C)=NC(O)C2=O)c1          11.306112   \n2               CC1=C2OC3=C(C=CC=C3)C3(O)CNCC3C2=CC=C1          11.238358   \n3    C[C@H]1[C@H]([C@H](C[C@@H](O1)O[C@H]2C[C@@](CC...          13.643057   \n4                    CCC1(C(=O)NC(=O)NC1=O)C2=CC=CC=C2          11.975791   \n..                                                 ...                ...   \n940                                          C(=O)(N)N           9.000000   \n941                            C[C@@H](CC1=CC=CC=C1)NC           3.213399   \n942  CNC(=O)C1=C(N=C(N=C1OCC2CCN(CC2)C)C#N)NCC3CCC4...          12.730831   \n943         CCC1=C2C(=CC=C1)C3=C(N2)C(OCC3)(CC)CC(=O)O          11.285827   \n944   CN1C(=NC(=N1)C2=CC=C(C=C2)OC)C3=CC=CC(=C3)CN(C)C           5.198105   \n\n     MaxEStateIndex  MinAbsEStateIndex  MinEStateIndex       qed        SPS  \\\n0         11.682268           0.134704       -0.409691  0.474821  11.347826   \n1         11.306112           0.532016       -1.350763  0.700249  20.066667   \n2         11.238358           0.028750       -0.893218  0.770818  27.000000   \n3         13.643057           0.017252       -2.240737  0.235263  29.846154   \n4         11.975791           0.293611       -1.310347  0.736884  18.529412   \n..              ...                ...             ...       ...        ...   \n940        9.000000           0.833333       -0.833333  0.370507   6.000000   \n941        3.213399           0.567037        0.567037  0.691109  12.909091   \n942       12.730831           0.023700       -0.298674  0.670950  21.531250   \n943       11.285827           0.004742       -0.820305  0.905784  21.428571   \n944        5.198105           0.715894        0.715894  0.723257  11.041667   \n\n       MolWt  HeavyAtomMolWt  ExactMolWt  ...  158_y  159_y  160_y  161_y  \\\n0    360.325         333.109  359.141884  ...    1.0    1.0    1.0    1.0   \n1    224.647         215.575  224.035255  ...    1.0    1.0    1.0    1.0   \n2    267.328         250.192  267.125929  ...    1.0    1.0    1.0    1.0   \n3    543.525         514.293  543.174061  ...    1.0    1.0    1.0    1.0   \n4    232.239         220.143  232.084792  ...    1.0    1.0    1.0    1.0   \n..       ...             ...         ...  ...    ...    ...    ...    ...   \n940   60.056          56.024   60.032363  ...    1.0    0.0    0.0    1.0   \n941  149.237         134.117  149.120449  ...    1.0    0.0    1.0    1.0   \n942  440.592         404.304  440.289974  ...    1.0    1.0    1.0    1.0   \n943  287.359         266.191  287.152144  ...    0.0    1.0    1.0    1.0   \n944  322.412         300.236  322.179361  ...    1.0    0.0    1.0    1.0   \n\n     162_y  163_y  164_y  165_y  166_y  logBB  \n0      1.0    1.0    1.0    1.0    0.0   1.00  \n1      1.0    1.0    1.0    1.0    0.0   0.61  \n2      1.0    1.0    1.0    1.0    0.0   0.39  \n3      1.0    1.0    1.0    1.0    0.0  -0.83  \n4      1.0    1.0    1.0    1.0    0.0  -0.12  \n..     ...    ...    ...    ...    ...    ...  \n940    0.0    0.0    1.0    0.0    0.0  -0.14  \n941    1.0    1.0    0.0    1.0    0.0   0.96  \n942    1.0    1.0    1.0    1.0    0.0   0.37  \n943    1.0    1.0    1.0    1.0    0.0  -1.42  \n944    1.0    1.0    1.0    1.0    0.0   1.26  \n\n[945 rows x 4103 columns]",
      "text/html": "<div>\n<style scoped>\n    .dataframe tbody tr th:only-of-type {\n        vertical-align: middle;\n    }\n\n    .dataframe tbody tr th {\n        vertical-align: top;\n    }\n\n    .dataframe thead th {\n        text-align: right;\n    }\n</style>\n<table border=\"1\" class=\"dataframe\">\n  <thead>\n    <tr style=\"text-align: right;\">\n      <th></th>\n      <th>SMILES</th>\n      <th>MaxAbsEStateIndex</th>\n      <th>MaxEStateIndex</th>\n      <th>MinAbsEStateIndex</th>\n      <th>MinEStateIndex</th>\n      <th>qed</th>\n      <th>SPS</th>\n      <th>MolWt</th>\n      <th>HeavyAtomMolWt</th>\n      <th>ExactMolWt</th>\n      <th>...</th>\n      <th>158_y</th>\n      <th>159_y</th>\n      <th>160_y</th>\n      <th>161_y</th>\n      <th>162_y</th>\n      <th>163_y</th>\n      <th>164_y</th>\n      <th>165_y</th>\n      <th>166_y</th>\n      <th>logBB</th>\n    </tr>\n  </thead>\n  <tbody>\n    <tr>\n      <th>0</th>\n      <td>CC(C)(C)OC(=O)CCCC1=CC=C(C=C1)N(CCCl)CCCl</td>\n      <td>11.682268</td>\n      <td>11.682268</td>\n      <td>0.134704</td>\n      <td>-0.409691</td>\n      <td>0.474821</td>\n      <td>11.347826</td>\n      <td>360.325</td>\n      <td>333.109</td>\n      <td>359.141884</td>\n      <td>...</td>\n      <td>1.0</td>\n      <td>1.0</td>\n      <td>1.0</td>\n      <td>1.0</td>\n      <td>1.0</td>\n      <td>1.0</td>\n      <td>1.0</td>\n      <td>1.0</td>\n      <td>0.0</td>\n      <td>1.00</td>\n    </tr>\n    <tr>\n      <th>1</th>\n      <td>Clc1ccc(N2)c(C(C)=NC(O)C2=O)c1</td>\n      <td>11.306112</td>\n      <td>11.306112</td>\n      <td>0.532016</td>\n      <td>-1.350763</td>\n      <td>0.700249</td>\n      <td>20.066667</td>\n      <td>224.647</td>\n      <td>215.575</td>\n      <td>224.035255</td>\n      <td>...</td>\n      <td>1.0</td>\n      <td>1.0</td>\n      <td>1.0</td>\n      <td>1.0</td>\n      <td>1.0</td>\n      <td>1.0</td>\n      <td>1.0</td>\n      <td>1.0</td>\n      <td>0.0</td>\n      <td>0.61</td>\n    </tr>\n    <tr>\n      <th>2</th>\n      <td>CC1=C2OC3=C(C=CC=C3)C3(O)CNCC3C2=CC=C1</td>\n      <td>11.238358</td>\n      <td>11.238358</td>\n      <td>0.028750</td>\n      <td>-0.893218</td>\n      <td>0.770818</td>\n      <td>27.000000</td>\n      <td>267.328</td>\n      <td>250.192</td>\n      <td>267.125929</td>\n      <td>...</td>\n      <td>1.0</td>\n      <td>1.0</td>\n      <td>1.0</td>\n      <td>1.0</td>\n      <td>1.0</td>\n      <td>1.0</td>\n      <td>1.0</td>\n      <td>1.0</td>\n      <td>0.0</td>\n      <td>0.39</td>\n    </tr>\n    <tr>\n      <th>3</th>\n      <td>C[C@H]1[C@H]([C@H](C[C@@H](O1)O[C@H]2C[C@@](CC...</td>\n      <td>13.643057</td>\n      <td>13.643057</td>\n      <td>0.017252</td>\n      <td>-2.240737</td>\n      <td>0.235263</td>\n      <td>29.846154</td>\n      <td>543.525</td>\n      <td>514.293</td>\n      <td>543.174061</td>\n      <td>...</td>\n      <td>1.0</td>\n      <td>1.0</td>\n      <td>1.0</td>\n      <td>1.0</td>\n      <td>1.0</td>\n      <td>1.0</td>\n      <td>1.0</td>\n      <td>1.0</td>\n      <td>0.0</td>\n      <td>-0.83</td>\n    </tr>\n    <tr>\n      <th>4</th>\n      <td>CCC1(C(=O)NC(=O)NC1=O)C2=CC=CC=C2</td>\n      <td>11.975791</td>\n      <td>11.975791</td>\n      <td>0.293611</td>\n      <td>-1.310347</td>\n      <td>0.736884</td>\n      <td>18.529412</td>\n      <td>232.239</td>\n      <td>220.143</td>\n      <td>232.084792</td>\n      <td>...</td>\n      <td>1.0</td>\n      <td>1.0</td>\n      <td>1.0</td>\n      <td>1.0</td>\n      <td>1.0</td>\n      <td>1.0</td>\n      <td>1.0</td>\n      <td>1.0</td>\n      <td>0.0</td>\n      <td>-0.12</td>\n    </tr>\n    <tr>\n      <th>...</th>\n      <td>...</td>\n      <td>...</td>\n      <td>...</td>\n      <td>...</td>\n      <td>...</td>\n      <td>...</td>\n      <td>...</td>\n      <td>...</td>\n      <td>...</td>\n      <td>...</td>\n      <td>...</td>\n      <td>...</td>\n      <td>...</td>\n      <td>...</td>\n      <td>...</td>\n      <td>...</td>\n      <td>...</td>\n      <td>...</td>\n      <td>...</td>\n      <td>...</td>\n      <td>...</td>\n    </tr>\n    <tr>\n      <th>940</th>\n      <td>C(=O)(N)N</td>\n      <td>9.000000</td>\n      <td>9.000000</td>\n      <td>0.833333</td>\n      <td>-0.833333</td>\n      <td>0.370507</td>\n      <td>6.000000</td>\n      <td>60.056</td>\n      <td>56.024</td>\n      <td>60.032363</td>\n      <td>...</td>\n      <td>1.0</td>\n      <td>0.0</td>\n      <td>0.0</td>\n      <td>1.0</td>\n      <td>0.0</td>\n      <td>0.0</td>\n      <td>1.0</td>\n      <td>0.0</td>\n      <td>0.0</td>\n      <td>-0.14</td>\n    </tr>\n    <tr>\n      <th>941</th>\n      <td>C[C@@H](CC1=CC=CC=C1)NC</td>\n      <td>3.213399</td>\n      <td>3.213399</td>\n      <td>0.567037</td>\n      <td>0.567037</td>\n      <td>0.691109</td>\n      <td>12.909091</td>\n      <td>149.237</td>\n      <td>134.117</td>\n      <td>149.120449</td>\n      <td>...</td>\n      <td>1.0</td>\n      <td>0.0</td>\n      <td>1.0</td>\n      <td>1.0</td>\n      <td>1.0</td>\n      <td>1.0</td>\n      <td>0.0</td>\n      <td>1.0</td>\n      <td>0.0</td>\n      <td>0.96</td>\n    </tr>\n    <tr>\n      <th>942</th>\n      <td>CNC(=O)C1=C(N=C(N=C1OCC2CCN(CC2)C)C#N)NCC3CCC4...</td>\n      <td>12.730831</td>\n      <td>12.730831</td>\n      <td>0.023700</td>\n      <td>-0.298674</td>\n      <td>0.670950</td>\n      <td>21.531250</td>\n      <td>440.592</td>\n      <td>404.304</td>\n      <td>440.289974</td>\n      <td>...</td>\n      <td>1.0</td>\n      <td>1.0</td>\n      <td>1.0</td>\n      <td>1.0</td>\n      <td>1.0</td>\n      <td>1.0</td>\n      <td>1.0</td>\n      <td>1.0</td>\n      <td>0.0</td>\n      <td>0.37</td>\n    </tr>\n    <tr>\n      <th>943</th>\n      <td>CCC1=C2C(=CC=C1)C3=C(N2)C(OCC3)(CC)CC(=O)O</td>\n      <td>11.285827</td>\n      <td>11.285827</td>\n      <td>0.004742</td>\n      <td>-0.820305</td>\n      <td>0.905784</td>\n      <td>21.428571</td>\n      <td>287.359</td>\n      <td>266.191</td>\n      <td>287.152144</td>\n      <td>...</td>\n      <td>0.0</td>\n      <td>1.0</td>\n      <td>1.0</td>\n      <td>1.0</td>\n      <td>1.0</td>\n      <td>1.0</td>\n      <td>1.0</td>\n      <td>1.0</td>\n      <td>0.0</td>\n      <td>-1.42</td>\n    </tr>\n    <tr>\n      <th>944</th>\n      <td>CN1C(=NC(=N1)C2=CC=C(C=C2)OC)C3=CC=CC(=C3)CN(C)C</td>\n      <td>5.198105</td>\n      <td>5.198105</td>\n      <td>0.715894</td>\n      <td>0.715894</td>\n      <td>0.723257</td>\n      <td>11.041667</td>\n      <td>322.412</td>\n      <td>300.236</td>\n      <td>322.179361</td>\n      <td>...</td>\n      <td>1.0</td>\n      <td>0.0</td>\n      <td>1.0</td>\n      <td>1.0</td>\n      <td>1.0</td>\n      <td>1.0</td>\n      <td>1.0</td>\n      <td>1.0</td>\n      <td>0.0</td>\n      <td>1.26</td>\n    </tr>\n  </tbody>\n</table>\n<p>945 rows × 4103 columns</p>\n</div>"
     },
     "execution_count": 3,
     "metadata": {},
     "output_type": "execute_result"
    }
   ],
   "source": [
    "regression_df_expanded_cleaned = pd.read_csv(\n",
    "    r'datasets\\train_datasets\\regression_df_expanded_cleaned_train.csv.zip'\n",
    ")\n",
    "regression_df_expanded_cleaned"
   ],
   "metadata": {
    "collapsed": false,
    "ExecuteTime": {
     "end_time": "2024-04-10T13:44:43.369171Z",
     "start_time": "2024-04-10T13:44:42.909235Z"
    }
   }
  },
  {
   "cell_type": "code",
   "outputs": [
    {
     "data": {
      "text/plain": "     MaxAbsEStateIndex  MaxEStateIndex  MinAbsEStateIndex  MinEStateIndex  \\\n0             0.417052        0.417240          -0.342126        0.166963   \n1             0.309766        0.309953           0.397096       -0.486012   \n2             0.290441        0.290628          -0.539258       -0.168538   \n3             0.976308        0.976493          -0.560650       -1.103531   \n4             0.500771        0.500958          -0.046470       -0.457969   \n..                 ...             ...                ...             ...   \n940          -0.347982       -0.347793           0.957713       -0.126987   \n941          -1.998434       -1.998239           0.462254        0.844677   \n942           0.716123        0.716310          -0.548655        0.243993   \n943           0.303980        0.304168          -0.583926       -0.117947   \n944          -1.432357       -1.432163           0.739211        0.947963   \n\n          qed       SPS     MolWt  HeavyAtomMolWt  ExactMolWt  \\\n0   -0.675608 -0.788599  0.242281        0.219503    0.237570   \n1    0.499964  0.214680 -0.590699       -0.554520   -0.592608   \n2    0.867969  1.012500 -0.328663       -0.326549   -0.327833   \n3   -1.924866  1.340008  1.367017        1.412695    1.368376   \n4    0.691009  0.037788 -0.544088       -0.524437   -0.543147   \n..        ...       ...       ...             ...         ...   \n940 -1.219586 -1.403974 -1.601186       -1.605247   -1.600342   \n941  0.452298 -0.608944 -1.053670       -1.090964   -1.052931   \n942  0.347174  0.383210  0.735071        0.688359    0.736193   \n943  1.571798  0.371395 -0.205685       -0.221187   -0.204779   \n944  0.619948 -0.823829  0.009518        0.003017    0.010449   \n\n     NumValenceElectrons  ...     157_y     158_y     159_y     160_y  \\\n0               0.161789  ...  0.877304  0.470032  0.838274  0.614452   \n1              -0.665765  ...  0.877304  0.470032  0.838274  0.614452   \n2              -0.283817  ...  0.877304  0.470032  0.838274  0.614452   \n3               1.403120  ...  0.877304  0.470032  0.838274  0.614452   \n4              -0.506620  ... -1.139855  0.470032  0.838274  0.614452   \n..                   ...  ...       ...       ...       ...       ...   \n940            -1.525148  ... -1.139855  0.470032 -1.192928 -1.627467   \n941            -0.952226  ... -1.139855  0.470032 -1.192928  0.614452   \n942             0.862027  ...  0.877304  0.470032  0.838274  0.614452   \n943            -0.124672  ...  0.877304 -2.127514  0.838274  0.614452   \n944             0.066302  ...  0.877304  0.470032 -1.192928  0.614452   \n\n        161_y     162_y     163_y     164_y     165_y     166_y  \n0    0.436092  0.485071  0.418776  0.511549  0.347845 -0.072932  \n1    0.436092  0.485071  0.418776  0.511549  0.347845 -0.072932  \n2    0.436092  0.485071  0.418776  0.511549  0.347845 -0.072932  \n3    0.436092  0.485071  0.418776  0.511549  0.347845 -0.072932  \n4    0.436092  0.485071  0.418776  0.511549  0.347845 -0.072932  \n..        ...       ...       ...       ...       ...       ...  \n940  0.436092 -2.061553 -2.387913  0.511549 -2.874840 -0.072932  \n941  0.436092  0.485071  0.418776 -1.954847  0.347845 -0.072932  \n942  0.436092  0.485071  0.418776  0.511549  0.347845 -0.072932  \n943  0.436092  0.485071  0.418776  0.511549  0.347845 -0.072932  \n944  0.436092  0.485071  0.418776  0.511549  0.347845 -0.072932  \n\n[945 rows x 4101 columns]",
      "text/html": "<div>\n<style scoped>\n    .dataframe tbody tr th:only-of-type {\n        vertical-align: middle;\n    }\n\n    .dataframe tbody tr th {\n        vertical-align: top;\n    }\n\n    .dataframe thead th {\n        text-align: right;\n    }\n</style>\n<table border=\"1\" class=\"dataframe\">\n  <thead>\n    <tr style=\"text-align: right;\">\n      <th></th>\n      <th>MaxAbsEStateIndex</th>\n      <th>MaxEStateIndex</th>\n      <th>MinAbsEStateIndex</th>\n      <th>MinEStateIndex</th>\n      <th>qed</th>\n      <th>SPS</th>\n      <th>MolWt</th>\n      <th>HeavyAtomMolWt</th>\n      <th>ExactMolWt</th>\n      <th>NumValenceElectrons</th>\n      <th>...</th>\n      <th>157_y</th>\n      <th>158_y</th>\n      <th>159_y</th>\n      <th>160_y</th>\n      <th>161_y</th>\n      <th>162_y</th>\n      <th>163_y</th>\n      <th>164_y</th>\n      <th>165_y</th>\n      <th>166_y</th>\n    </tr>\n  </thead>\n  <tbody>\n    <tr>\n      <th>0</th>\n      <td>0.417052</td>\n      <td>0.417240</td>\n      <td>-0.342126</td>\n      <td>0.166963</td>\n      <td>-0.675608</td>\n      <td>-0.788599</td>\n      <td>0.242281</td>\n      <td>0.219503</td>\n      <td>0.237570</td>\n      <td>0.161789</td>\n      <td>...</td>\n      <td>0.877304</td>\n      <td>0.470032</td>\n      <td>0.838274</td>\n      <td>0.614452</td>\n      <td>0.436092</td>\n      <td>0.485071</td>\n      <td>0.418776</td>\n      <td>0.511549</td>\n      <td>0.347845</td>\n      <td>-0.072932</td>\n    </tr>\n    <tr>\n      <th>1</th>\n      <td>0.309766</td>\n      <td>0.309953</td>\n      <td>0.397096</td>\n      <td>-0.486012</td>\n      <td>0.499964</td>\n      <td>0.214680</td>\n      <td>-0.590699</td>\n      <td>-0.554520</td>\n      <td>-0.592608</td>\n      <td>-0.665765</td>\n      <td>...</td>\n      <td>0.877304</td>\n      <td>0.470032</td>\n      <td>0.838274</td>\n      <td>0.614452</td>\n      <td>0.436092</td>\n      <td>0.485071</td>\n      <td>0.418776</td>\n      <td>0.511549</td>\n      <td>0.347845</td>\n      <td>-0.072932</td>\n    </tr>\n    <tr>\n      <th>2</th>\n      <td>0.290441</td>\n      <td>0.290628</td>\n      <td>-0.539258</td>\n      <td>-0.168538</td>\n      <td>0.867969</td>\n      <td>1.012500</td>\n      <td>-0.328663</td>\n      <td>-0.326549</td>\n      <td>-0.327833</td>\n      <td>-0.283817</td>\n      <td>...</td>\n      <td>0.877304</td>\n      <td>0.470032</td>\n      <td>0.838274</td>\n      <td>0.614452</td>\n      <td>0.436092</td>\n      <td>0.485071</td>\n      <td>0.418776</td>\n      <td>0.511549</td>\n      <td>0.347845</td>\n      <td>-0.072932</td>\n    </tr>\n    <tr>\n      <th>3</th>\n      <td>0.976308</td>\n      <td>0.976493</td>\n      <td>-0.560650</td>\n      <td>-1.103531</td>\n      <td>-1.924866</td>\n      <td>1.340008</td>\n      <td>1.367017</td>\n      <td>1.412695</td>\n      <td>1.368376</td>\n      <td>1.403120</td>\n      <td>...</td>\n      <td>0.877304</td>\n      <td>0.470032</td>\n      <td>0.838274</td>\n      <td>0.614452</td>\n      <td>0.436092</td>\n      <td>0.485071</td>\n      <td>0.418776</td>\n      <td>0.511549</td>\n      <td>0.347845</td>\n      <td>-0.072932</td>\n    </tr>\n    <tr>\n      <th>4</th>\n      <td>0.500771</td>\n      <td>0.500958</td>\n      <td>-0.046470</td>\n      <td>-0.457969</td>\n      <td>0.691009</td>\n      <td>0.037788</td>\n      <td>-0.544088</td>\n      <td>-0.524437</td>\n      <td>-0.543147</td>\n      <td>-0.506620</td>\n      <td>...</td>\n      <td>-1.139855</td>\n      <td>0.470032</td>\n      <td>0.838274</td>\n      <td>0.614452</td>\n      <td>0.436092</td>\n      <td>0.485071</td>\n      <td>0.418776</td>\n      <td>0.511549</td>\n      <td>0.347845</td>\n      <td>-0.072932</td>\n    </tr>\n    <tr>\n      <th>...</th>\n      <td>...</td>\n      <td>...</td>\n      <td>...</td>\n      <td>...</td>\n      <td>...</td>\n      <td>...</td>\n      <td>...</td>\n      <td>...</td>\n      <td>...</td>\n      <td>...</td>\n      <td>...</td>\n      <td>...</td>\n      <td>...</td>\n      <td>...</td>\n      <td>...</td>\n      <td>...</td>\n      <td>...</td>\n      <td>...</td>\n      <td>...</td>\n      <td>...</td>\n      <td>...</td>\n    </tr>\n    <tr>\n      <th>940</th>\n      <td>-0.347982</td>\n      <td>-0.347793</td>\n      <td>0.957713</td>\n      <td>-0.126987</td>\n      <td>-1.219586</td>\n      <td>-1.403974</td>\n      <td>-1.601186</td>\n      <td>-1.605247</td>\n      <td>-1.600342</td>\n      <td>-1.525148</td>\n      <td>...</td>\n      <td>-1.139855</td>\n      <td>0.470032</td>\n      <td>-1.192928</td>\n      <td>-1.627467</td>\n      <td>0.436092</td>\n      <td>-2.061553</td>\n      <td>-2.387913</td>\n      <td>0.511549</td>\n      <td>-2.874840</td>\n      <td>-0.072932</td>\n    </tr>\n    <tr>\n      <th>941</th>\n      <td>-1.998434</td>\n      <td>-1.998239</td>\n      <td>0.462254</td>\n      <td>0.844677</td>\n      <td>0.452298</td>\n      <td>-0.608944</td>\n      <td>-1.053670</td>\n      <td>-1.090964</td>\n      <td>-1.052931</td>\n      <td>-0.952226</td>\n      <td>...</td>\n      <td>-1.139855</td>\n      <td>0.470032</td>\n      <td>-1.192928</td>\n      <td>0.614452</td>\n      <td>0.436092</td>\n      <td>0.485071</td>\n      <td>0.418776</td>\n      <td>-1.954847</td>\n      <td>0.347845</td>\n      <td>-0.072932</td>\n    </tr>\n    <tr>\n      <th>942</th>\n      <td>0.716123</td>\n      <td>0.716310</td>\n      <td>-0.548655</td>\n      <td>0.243993</td>\n      <td>0.347174</td>\n      <td>0.383210</td>\n      <td>0.735071</td>\n      <td>0.688359</td>\n      <td>0.736193</td>\n      <td>0.862027</td>\n      <td>...</td>\n      <td>0.877304</td>\n      <td>0.470032</td>\n      <td>0.838274</td>\n      <td>0.614452</td>\n      <td>0.436092</td>\n      <td>0.485071</td>\n      <td>0.418776</td>\n      <td>0.511549</td>\n      <td>0.347845</td>\n      <td>-0.072932</td>\n    </tr>\n    <tr>\n      <th>943</th>\n      <td>0.303980</td>\n      <td>0.304168</td>\n      <td>-0.583926</td>\n      <td>-0.117947</td>\n      <td>1.571798</td>\n      <td>0.371395</td>\n      <td>-0.205685</td>\n      <td>-0.221187</td>\n      <td>-0.204779</td>\n      <td>-0.124672</td>\n      <td>...</td>\n      <td>0.877304</td>\n      <td>-2.127514</td>\n      <td>0.838274</td>\n      <td>0.614452</td>\n      <td>0.436092</td>\n      <td>0.485071</td>\n      <td>0.418776</td>\n      <td>0.511549</td>\n      <td>0.347845</td>\n      <td>-0.072932</td>\n    </tr>\n    <tr>\n      <th>944</th>\n      <td>-1.432357</td>\n      <td>-1.432163</td>\n      <td>0.739211</td>\n      <td>0.947963</td>\n      <td>0.619948</td>\n      <td>-0.823829</td>\n      <td>0.009518</td>\n      <td>0.003017</td>\n      <td>0.010449</td>\n      <td>0.066302</td>\n      <td>...</td>\n      <td>0.877304</td>\n      <td>0.470032</td>\n      <td>-1.192928</td>\n      <td>0.614452</td>\n      <td>0.436092</td>\n      <td>0.485071</td>\n      <td>0.418776</td>\n      <td>0.511549</td>\n      <td>0.347845</td>\n      <td>-0.072932</td>\n    </tr>\n  </tbody>\n</table>\n<p>945 rows × 4101 columns</p>\n</div>"
     },
     "execution_count": 4,
     "metadata": {},
     "output_type": "execute_result"
    }
   ],
   "source": [
    "# Data pre-processing\n",
    "\n",
    "regression_X = regression_df_expanded_cleaned.loc[\n",
    "                   :,\n",
    "                   ~regression_df_expanded_cleaned.columns.isin(\n",
    "                       ['SMILES', 'logBB'])\n",
    "                   ]\n",
    "\n",
    "regression_y = regression_df_expanded_cleaned['logBB']\n",
    "\n",
    "\n",
    "data_processing_pipeline = Pipeline([\n",
    "    ('scaler', StandardScaler().set_output(transform='pandas'))\n",
    "])\n",
    "\n",
    "regression_X_processed=data_processing_pipeline.fit_transform(regression_X)\n",
    "regression_X_processed"
   ],
   "metadata": {
    "collapsed": false,
    "ExecuteTime": {
     "end_time": "2024-04-10T13:44:44.670622Z",
     "start_time": "2024-04-10T13:44:44.524607Z"
    }
   },
   "execution_count": 4
  },
  {
   "cell_type": "code",
   "execution_count": 5,
   "outputs": [],
   "source": [
    "\n",
    "\n",
    "regression_X_train, regression_X_test, regression_y_train, regression_y_test = train_test_split(\n",
    "    regression_X_processed,\n",
    "    regression_y,\n",
    "    test_size=0.2,\n",
    "    random_state=1,\n",
    "    shuffle=True\n",
    ")"
   ],
   "metadata": {
    "collapsed": false,
    "ExecuteTime": {
     "end_time": "2024-04-10T13:44:44.708354Z",
     "start_time": "2024-04-10T13:44:44.672124Z"
    }
   }
  },
  {
   "cell_type": "code",
   "outputs": [
    {
     "data": {
      "text/plain": "0"
     },
     "execution_count": 6,
     "metadata": {},
     "output_type": "execute_result"
    }
   ],
   "source": [
    "save_pickle(regression_X_test, r'model_outputs\\svm_classifier\\regression_x_test.pkl')\n",
    "\n",
    "save_pickle(regression_y_test, r'model_outputs\\svm_classifier\\regression_y_test.pkl')"
   ],
   "metadata": {
    "collapsed": false
   },
   "execution_count": 6
  },
  {
   "cell_type": "markdown",
   "source": [
    "## SVM"
   ],
   "metadata": {
    "collapsed": false
   }
  },
  {
   "cell_type": "markdown",
   "source": [
    "### Model training"
   ],
   "metadata": {
    "collapsed": false
   }
  },
  {
   "cell_type": "code",
   "execution_count": null,
   "outputs": [],
   "source": [
    "start_time = datetime.now()\n",
    "\n",
    "svr_model = SVR()\n",
    "\n",
    "svr_regressor_grid_search = GridSearchCV(\n",
    "    estimator=svr_model,\n",
    "    param_grid={\n",
    "        'kernel': ['rbf'],  #Kernel to solve with model, should try rbf, poly, and sigmoid\n",
    "        'gamma': ['auto', 3],  #Solver value important for rbf kernel\n",
    "        'C': [1, 5] #Regularization parameter\n",
    "    },\n",
    "    cv=8,  #Number of fold for cross validation. It should be 8 or 10\n",
    "    scoring={\n",
    "        # All these are only viable in the negative option\n",
    "        'MAE': 'neg_mean_absolute_error',\n",
    "        'MSE': 'neg_mean_squared_error',\n",
    "        'R2': 'r2'\n",
    "    },\n",
    "    refit='R2',\n",
    "\n",
    "    n_jobs=1,\n",
    "    # -1 means using all processors, but it won't give you any messages.\n",
    "    # Only using 1 for my computer print out the training messages\n",
    "\n",
    "    verbose=10  #Provide detailed messages\n",
    ")\n",
    "\n",
    "svr_regressor_grid_search.fit(regression_X_train, regression_y_train)\n",
    "\n",
    "end_time = datetime.now()\n",
    "print('GridSearchCV took {}'.format(end_time - start_time))"
   ],
   "metadata": {
    "collapsed": false
   }
  },
  {
   "cell_type": "code",
   "execution_count": null,
   "outputs": [],
   "source": [
    "svr_regressor_results_df = pd.DataFrame(svr_regressor_grid_search.cv_results_)\n",
    "#Make the GridSearch results into a df\n",
    "svr_regressor_results_df.drop(\n",
    "    list(svr_regressor_results_df.filter(regex='time|split|std')),\n",
    "    axis=1,\n",
    "    inplace=True\n",
    ")  # Remove columns that aren't very interesting\n",
    "\n",
    "svr_regressor_results_df = svr_regressor_results_df.sort_values(\n",
    "    by='rank_test_R2')\n",
    "svr_regressor_results_df"
   ],
   "metadata": {
    "collapsed": false
   }
  },
  {
   "cell_type": "code",
   "execution_count": null,
   "outputs": [],
   "source": [
    "svr_regressor_results_df.to_csv(\n",
    "    r'model_grid_search\\svm_regressor_results.csv',\n",
    "    index=False\n",
    ")"
   ],
   "metadata": {
    "collapsed": false
   }
  },
  {
   "cell_type": "code",
   "execution_count": null,
   "outputs": [],
   "source": [
    "best_svr_regressor = svr_regressor_grid_search.best_estimator_\n",
    "save_pickle(\n",
    "    best_svr_regressor,\n",
    "    r'model_pickles\\best_svm_regressor.pkl'\n",
    ")\n",
    "# To load this best model again, use load_pickle(r'model_pickles\\best_svm_regressor.pkl')"
   ],
   "metadata": {
    "collapsed": false
   }
  },
  {
   "cell_type": "markdown",
   "source": [
    "### Model interpretation"
   ],
   "metadata": {
    "collapsed": false
   }
  },
  {
   "cell_type": "markdown",
   "source": [
    "# Classification"
   ],
   "metadata": {
    "collapsed": false
   }
  },
  {
   "cell_type": "markdown",
   "source": [
    "## SVM"
   ],
   "metadata": {
    "collapsed": false
   }
  },
  {
   "cell_type": "markdown",
   "source": [
    "### Model training"
   ],
   "metadata": {
    "collapsed": false
   }
  },
  {
   "cell_type": "markdown",
   "source": [
    "#### Balanced by centroid method"
   ],
   "metadata": {
    "collapsed": false
   }
  },
  {
   "cell_type": "code",
   "execution_count": null,
   "outputs": [],
   "source": [
    "classification_centroid_df = pd.read_csv(\n",
    "    r\"datasets/balanced_datasets/BBB_classification_balanced_centroid.csv.zip\"\n",
    ")\n",
    "\n",
    "classification_centroid_df"
   ],
   "metadata": {
    "collapsed": false
   }
  },
  {
   "cell_type": "code",
   "execution_count": null,
   "outputs": [],
   "source": [
    "# Data pre-processing\n",
    "\n",
    "classification_X = classification_centroid_df.loc[\n",
    "                   :,\n",
    "                   ~classification_centroid_df.columns.isin(\n",
    "                       ['SMILES', 'BBB+/BBB-'])\n",
    "                   ]\n",
    "\n",
    "classification_y = classification_centroid_df['BBB+/BBB-']\n",
    "\n",
    "\n",
    "data_processing_pipeline = Pipeline([\n",
    "    ('scaler', StandardScaler()),\n",
    "    ('pca', PCA(\n",
    "        n_components=0.95, #When using the svd_solver='full', n_components\n",
    "        # can be between 0 and 1 to represent the percentage of variance\n",
    "        # that you want to explain\n",
    "        svd_solver='full'\n",
    "    ))\n",
    "])\n",
    "pickle_pipe = data_processing_pipeline.fit(classification_X)\n",
    "classification_X_processed=data_processing_pipeline.transform(classification_X)\n",
    "print(classification_X_processed.shape)"
   ],
   "metadata": {
    "collapsed": false
   }
  },
  {
   "cell_type": "code",
   "outputs": [],
   "source": [
    "save_pickle(\n",
    "    pickle_pipe,\n",
    "    r'model_outputs\\svm_classifier\\centroid_pipeline.pkl'\n",
    ")\n",
    "\n",
    "top_two_components = data_processing_pipeline['pca'].components_[0:2]\n",
    "\n",
    "\n",
    "save_pickle(\n",
    "    top_two_components,\n",
    "    r'model_outputs\\svm_classifier\\top_two_centroid.pkl'\n",
    ")"
   ],
   "metadata": {
    "collapsed": false
   },
   "execution_count": null
  },
  {
   "cell_type": "code",
   "execution_count": null,
   "outputs": [],
   "source": [
    "classification_X_train, classification_X_test, classification_y_train, classification_y_test = train_test_split(\n",
    "    classification_X_processed,\n",
    "    classification_y,\n",
    "    test_size=0.2,\n",
    "    random_state=1,\n",
    "    shuffle=True,\n",
    "    stratify=classification_y #Ensure train set and test set have the same\n",
    "    # ratio for the 2 categories\n",
    ")"
   ],
   "metadata": {
    "collapsed": false
   }
  },
  {
   "cell_type": "code",
   "outputs": [],
   "source": [
    "save_pickle(classification_X_test, r'model_outputs\\svm_classifier\\centroid_x_test.pkl')\n",
    "\n",
    "save_pickle(classification_y_test, r'model_outputs\\svm_classifier\\centroid_y_test.pkl')"
   ],
   "metadata": {
    "collapsed": false
   },
   "execution_count": null
  },
  {
   "cell_type": "code",
   "execution_count": null,
   "outputs": [],
   "source": [
    "start_time = datetime.now()\n",
    "\n",
    "svc_centroid = SVC(\n",
    "    random_state=1,\n",
    "    probability=True\n",
    ")\n",
    "\n",
    "svc_centroid_grid_search = GridSearchCV(\n",
    "    estimator=svc_centroid,\n",
    "    param_grid={\n",
    "        'C': [1,5], #Regularization parameter\n",
    "        'kernel': ['rbf'], #Algorithm kernel\n",
    "        'gamma': ['auto', 3] #Coefficient for algorithms\n",
    "    },\n",
    "    cv=RepeatedStratifiedKFold(\n",
    "        n_splits=8,\n",
    "        n_repeats=2, #Each time the split will be different\n",
    "        random_state=1\n",
    "    ),\n",
    "    scoring={\n",
    "        'Recall': make_scorer(\n",
    "            recall_score, #Need pos_label\n",
    "            pos_label='BBB+', #Without this, pos_label is default to be 1\n",
    "            # and will through an error since 1 isn't \"BBB+\" or \"BBB-\"\n",
    "            average='binary'\n",
    "        ),\n",
    "        'Precision': make_scorer(\n",
    "            precision_score, #Need pos_label\n",
    "            pos_label='BBB+',\n",
    "            average='binary'\n",
    "        ),\n",
    "        'F1': make_scorer(\n",
    "            f1_score, #Need pos_label\n",
    "            pos_label='BBB+',\n",
    "            average='binary'\n",
    "        ),\n",
    "        'Accuracy': 'accuracy', #accuracy_score doesn't need pos_label\n",
    "        'Balanced accuracy': 'balanced_accuracy',\n",
    "        'AUROC': 'roc_auc'\n",
    "    },\n",
    "    refit='AUROC',\n",
    "\n",
    "    n_jobs=1,\n",
    "    verbose=10\n",
    ")\n",
    "\n",
    "svc_centroid_grid_search.fit(classification_X_train, classification_y_train)\n",
    "\n",
    "end_time = datetime.now()\n",
    "print('GridSearchCV took {}'.format(end_time - start_time))"
   ],
   "metadata": {
    "collapsed": false
   }
  },
  {
   "cell_type": "code",
   "execution_count": null,
   "outputs": [],
   "source": [
    "svc_centroid_results_df = pd.DataFrame(svc_centroid_grid_search.cv_results_)\n",
    "#Make the GridSearch results into a df\n",
    "\n",
    "svc_centroid_results_df.drop(\n",
    "    list(svc_centroid_results_df.filter(regex='time|split|std')),\n",
    "    axis=1,\n",
    "    inplace=True\n",
    ")  # Remove columns that aren't very interesting\n",
    "svc_centroid_results_df = svc_centroid_results_df.sort_values(\n",
    "    by='rank_test_AUROC')\n",
    "\n",
    "svc_centroid_results_df"
   ],
   "metadata": {
    "collapsed": false
   }
  },
  {
   "cell_type": "code",
   "execution_count": null,
   "outputs": [],
   "source": [
    "svc_centroid_results_df.to_csv(\n",
    "    r'model_grid_search\\svm_classifier_centroid_results.csv',\n",
    "    index=False\n",
    ")"
   ],
   "metadata": {
    "collapsed": false
   }
  },
  {
   "cell_type": "code",
   "execution_count": null,
   "outputs": [],
   "source": [
    "best_svc_centroid_classifier = svc_centroid_grid_search.best_estimator_\n",
    "save_pickle(\n",
    "    best_svc_centroid_classifier,\n",
    "    r'model_pickles\\best_svm_classifier_centroid.pkl'\n",
    ")\n",
    "# To load this best model again, use load_pickle(r'model_pickles\\svc_centroid_classifier\\best_svc_centroid_classifier.pkl')"
   ],
   "metadata": {
    "collapsed": false
   }
  },
  {
   "cell_type": "markdown",
   "source": [
    "#### Balanced by SMOTEENN method"
   ],
   "metadata": {
    "collapsed": false
   }
  },
  {
   "cell_type": "code",
   "execution_count": null,
   "outputs": [],
   "source": [
    "classification_smoteenn_df = pd.read_csv(\n",
    "    r\"datasets/balanced_datasets/BBB_classification_balanced_smoteenn.csv.zip\"\n",
    ")\n",
    "\n",
    "classification_smoteenn_df"
   ],
   "metadata": {
    "collapsed": false
   }
  },
  {
   "cell_type": "code",
   "execution_count": null,
   "outputs": [],
   "source": [
    "# Data pre-processing\n",
    "\n",
    "classification_X = classification_smoteenn_df.loc[\n",
    "                   :,\n",
    "                   ~classification_smoteenn_df.columns.isin(\n",
    "                       ['SMILES', 'BBB+/BBB-'])\n",
    "                   ]\n",
    "\n",
    "classification_y = classification_smoteenn_df['BBB+/BBB-']\n",
    "\n",
    "\n",
    "data_processing_pipeline = Pipeline([\n",
    "    ('scaler', StandardScaler()),\n",
    "    ('pca', PCA(\n",
    "        n_components=0.95, #When using the svd_solver='full', n_components\n",
    "        # can be between 0 and 1 to represent the percentage of variance\n",
    "        # that you want to explain\n",
    "        svd_solver='full'\n",
    "    ))\n",
    "])\n",
    "\n",
    "pickle_pipe = data_processing_pipeline.fit(classification_X)\n",
    "classification_X_processed=data_processing_pipeline.transform(classification_X)\n",
    "print(classification_X_processed.shape)"
   ],
   "metadata": {
    "collapsed": false
   }
  },
  {
   "cell_type": "code",
   "outputs": [],
   "source": [
    "save_pickle(\n",
    "    pickle_pipe,\n",
    "    r'model_outputs\\svm_classifier\\smoteenn_pipeline.pkl'\n",
    ")\n",
    "\n",
    "top_two_components = data_processing_pipeline['pca'].components_[0:2]\n",
    "\n",
    "\n",
    "save_pickle(\n",
    "    top_two_components,\n",
    "    r'model_outputs\\svm_classifier\\top_two_smoteenn.pkl'\n",
    ")"
   ],
   "metadata": {
    "collapsed": false
   },
   "execution_count": null
  },
  {
   "cell_type": "code",
   "execution_count": null,
   "outputs": [],
   "source": [
    "classification_X_train, classification_X_test, classification_y_train, classification_y_test = train_test_split(\n",
    "    classification_X_processed,\n",
    "    classification_y,\n",
    "    test_size=0.2,\n",
    "    random_state=1,\n",
    "    shuffle=True,\n",
    "    stratify=classification_y #Ensure train set and test set have the same\n",
    "    # ratio for the 2 categories\n",
    ")"
   ],
   "metadata": {
    "collapsed": false
   }
  },
  {
   "cell_type": "code",
   "outputs": [],
   "source": [
    "save_pickle(classification_X_test, r'model_outputs\\svm_classifier\\smoteenn_x_test.pkl')\n",
    "\n",
    "save_pickle(classification_y_test, r'model_outputs\\svm_classifier\\smoteenn_y_test.pkl')"
   ],
   "metadata": {
    "collapsed": false
   },
   "execution_count": null
  },
  {
   "cell_type": "code",
   "execution_count": null,
   "outputs": [],
   "source": [
    "start_time = datetime.now()\n",
    "\n",
    "svc_smoteenn = SVC(\n",
    "    random_state=1,\n",
    "    probability=True\n",
    ")\n",
    "\n",
    "svc_smoteenn_grid_search = GridSearchCV(\n",
    "    estimator=svc_smoteenn,\n",
    "    param_grid={\n",
    "        'C': [1,5], #Regularization parameter\n",
    "        'kernel': ['rbf'], #Algorithm kernel. Should add poly and sigmoid\n",
    "        'gamma': ['auto', 3] #Coefficient for algorithms\n",
    "    },\n",
    "    cv=RepeatedStratifiedKFold(\n",
    "        n_splits=8,\n",
    "        n_repeats=2, #Each time the split will be different\n",
    "        random_state=1\n",
    "    ),\n",
    "    scoring={\n",
    "        'Recall': make_scorer(\n",
    "            recall_score, #Need pos_label\n",
    "            pos_label='BBB+', #Without this, pos_label is default to be 1\n",
    "            # and will through an error since 1 isn't \"BBB+\" or \"BBB-\"\n",
    "            average='binary'\n",
    "        ),\n",
    "        'Precision': make_scorer(\n",
    "            precision_score, #Need pos_label\n",
    "            pos_label='BBB+',\n",
    "            average='binary'\n",
    "        ),\n",
    "        'F1': make_scorer(\n",
    "            f1_score, #Need pos_label\n",
    "            pos_label='BBB+',\n",
    "            average='binary'\n",
    "        ),\n",
    "        'Accuracy': 'accuracy', #accuracy_score doesn't need pos_label\n",
    "        'Balanced accuracy': 'balanced_accuracy',\n",
    "        'AUROC': 'roc_auc'\n",
    "    },\n",
    "    refit='AUROC',\n",
    "\n",
    "    n_jobs=1,\n",
    "    verbose=10\n",
    ")\n",
    "\n",
    "svc_smoteenn_grid_search.fit(classification_X_train, classification_y_train)\n",
    "\n",
    "end_time = datetime.now()\n",
    "print('GridSearchCV took {}'.format(end_time - start_time))"
   ],
   "metadata": {
    "collapsed": false
   }
  },
  {
   "cell_type": "code",
   "execution_count": null,
   "outputs": [],
   "source": [
    "svc_smoteenn_results_df = pd.DataFrame(svc_smoteenn_grid_search.cv_results_)\n",
    "#Make the GridSearch results into a df\n",
    "\n",
    "svc_smoteenn_results_df.drop(\n",
    "    list(svc_smoteenn_results_df.filter(regex='time|split|std')),\n",
    "    axis=1,\n",
    "    inplace=True\n",
    ")  # Remove columns that aren't very interesting\n",
    "svc_smoteenn_results_df = svc_smoteenn_results_df.sort_values(\n",
    "    by='rank_test_AUROC')\n",
    "\n",
    "svc_smoteenn_results_df"
   ],
   "metadata": {
    "collapsed": false
   }
  },
  {
   "cell_type": "code",
   "execution_count": null,
   "outputs": [],
   "source": [
    "svc_smoteenn_results_df.to_csv(\n",
    "    r'model_grid_search\\svm_classifier_smoteenn_results.csv',\n",
    "    index=False\n",
    ")"
   ],
   "metadata": {
    "collapsed": false
   }
  },
  {
   "cell_type": "code",
   "execution_count": null,
   "outputs": [],
   "source": [
    "best_svc_smoteenn_classifier = svc_smoteenn_grid_search.best_estimator_\n",
    "save_pickle(\n",
    "    best_svc_smoteenn_classifier,\n",
    "    r'model_pickles\\best_svm_classifier_smoteenn.pkl'\n",
    ")\n",
    "# To load this best model again, use load_pickle(r'model_pickles\\svc_smoteenn_classifier\\best_svc_smoteenn_classifier.pkl')"
   ],
   "metadata": {
    "collapsed": false
   }
  },
  {
   "cell_type": "code",
   "outputs": [],
   "source": [],
   "metadata": {
    "collapsed": false
   },
   "execution_count": null
  },
  {
   "cell_type": "code",
   "outputs": [],
   "source": [],
   "metadata": {
    "collapsed": false
   }
  }
 ],
 "metadata": {
  "kernelspec": {
   "display_name": "Python 3",
   "language": "python",
   "name": "python3"
  },
  "language_info": {
   "codemirror_mode": {
    "name": "ipython",
    "version": 2
   },
   "file_extension": ".py",
   "mimetype": "text/x-python",
   "name": "python",
   "nbconvert_exporter": "python",
   "pygments_lexer": "ipython2",
   "version": "2.7.6"
  }
 },
 "nbformat": 4,
 "nbformat_minor": 0
}
