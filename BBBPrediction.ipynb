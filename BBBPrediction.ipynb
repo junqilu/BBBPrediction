{
 "cells": [
  {
   "cell_type": "markdown",
   "source": [
    "# Import packages"
   ],
   "metadata": {
    "collapsed": false
   }
  },
  {
   "cell_type": "code",
   "execution_count": 1,
   "outputs": [],
   "source": [
    "import pandas as pd"
   ],
   "metadata": {
    "collapsed": false
   }
  },
  {
   "cell_type": "markdown",
   "source": [
    "# Regression\n",
    "BBB_regression.csv will be used to train a random forest regressor"
   ],
   "metadata": {
    "collapsed": false
   }
  },
  {
   "cell_type": "markdown",
   "source": [
    "## Read in data"
   ],
   "metadata": {
    "collapsed": false
   }
  },
  {
   "cell_type": "code",
   "execution_count": 2,
   "outputs": [
    {
     "data": {
      "text/plain": "                                          compound_name  \\\n0                                            moxalactam   \n1                                         schembl614298   \n2                                morphine-6-glucuronide   \n3     2-[4-(5-bromo-3-methylpyridin-2-yl)butylamino]...   \n4                                                   NaN   \n...                                                 ...   \n1053                                               2qju   \n1054                                          promazine   \n1055                                    diphenhydramine   \n1056                                          1225-64-5   \n1057                                         sertraline   \n\n                                             IUPAC_name  \\\n0     7-[[2-carboxy-2-(4-hydroxyphenyl)acetyl]amino]...   \n1     (2s,3s,4s,5r)-6-[[(4r,4ar,7s,7ar,12bs)-7-hydro...   \n2     (2s,3s,4s,5r)-6-[[(4r,4ar,7s,7ar,12bs)-9-hydro...   \n3     2-[4-(5-bromo-3-methylpyridin-2-yl)butylamino]...   \n4                                                   NaN   \n...                                                 ...   \n1053  3-(5,6-dihydrobenzo[b][1]benzazepin-11-yl)prop...   \n1054    n,n-dimethyl-3-phenothiazin-10-ylpropan-1-amine   \n1055             2-benzhydryloxy-n,n-dimethylethanamine   \n1056  3-(2-chlorophenothiazin-10-yl)-n-methylpropan-...   \n1057  (1s,4s)-4-(3,4-dichlorophenyl)-n-methyl-1,2,3,...   \n\n                                                 SMILES  \\\n0     CN1C(=NN=N1)SCC2=C(N3C(C(C3=O)(NC(=O)C(C4=CC=C...   \n1     CN1CC[C@]23[C@@H]4[C@H]1CC5=C2C(=C(C=C5)OC6[C@...   \n2     CN1CC[C@]23[C@@H]4[C@H]1CC5=C2C(=C(C=C5)O)O[C@...   \n3      CC1=NC=C(C=C1)CC2CNC(NC2=O)NCCCCC3=NC=C(C=C3C)Br   \n4     c1(c2c3n(c4c(C(N(C)C3)=O)c(Cl)ccc4)cn2)noc(C(O...   \n...                                                 ...   \n1053              C[NH2+]CCCN1C2=CC=CC=C2CCC3=CC=CC=C31   \n1054                 CN(C)CCCN1C2=CC=CC=C2SC3=CC=CC=C31   \n1055                  CN(C)CCOC(C1=CC=CC=C1)C2=CC=CC=C2   \n1056                CNCCCN1C2=CC=CC=C2SC3=C1C=C(C=C3)Cl   \n1057   CN[C@H]1CC[C@H](C2=CC=CC=C12)C3=CC(=C(C=C3)Cl)Cl   \n\n                                                    CID  logBB  \\\n0                                               3889.0|  -2.52   \n1                                           18595497.0|  -2.15   \n2                                            9847115.0|  -2.09   \n3                                           74041479.0|  -1.88   \n4                                                  nan|  -1.82   \n...                                                 ...    ...   \n1053  2995.0|2995.0|2995.0|2995.0|2995.0|2995.0|2995...   1.20   \n1054  4926.0|4926.0|4926.0|4926.0|4926.0|4926.0|4926...   1.23   \n1055  3100.0|3100.0|3100.0|3100.0|3100.0|3100.0|3100...   1.30   \n1056  62875.0|62875.0|62875.0|62875.0|62875.0|62875....   1.40   \n1057  68617.0|68617.0|68617.0|68617.0|68617.0|68617....   1.60   \n\n                                                  Inchi  \\\n0     InChI=1S/C20H20N6O9S/c1-25-19(22-23-24-25)36-8...   \n1     InChI=1S/C23H27NO9/c1-24-7-6-23-10-3-4-12(25)2...   \n2     InChI=1S/C23H27NO9/c1-24-7-6-23-10-3-5-13(31-2...   \n3     InChI=1S/C21H28BrN5O/c1-14-9-18(22)13-25-19(14...   \n4     InChI=1S/C16H14ClN5O4/c1-16(24,25)15-19-13(20-...   \n...                                                 ...   \n1053  InChI=1S/C18H22N2/c1-19-13-6-14-20-17-9-4-2-7-...   \n1054  InChI=1S/C17H20N2S/c1-18(2)12-7-13-19-14-8-3-5...   \n1055  InChI=1S/C17H21NO/c1-18(2)13-14-19-17(15-9-5-3...   \n1056  InChI=1S/C16H17ClN2S/c1-18-9-4-10-19-13-5-2-3-...   \n1057  InChI=1S/C17H17Cl2N/c1-20-17-9-7-12(13-4-2-3-5...   \n\n                                              reference group comments  \n0                                                  R25|     A      NaN  \n1                                                  R25|     A      NaN  \n2                                                  R25|     A      NaN  \n3                                                  R35|     A      NaN  \n4                                                  R35|     A      NaN  \n...                                                 ...   ...      ...  \n1053  R4|R3|R38|R41|R43|R47|R49|R40|R8|R21|R27|R2|R2...     D      NaN  \n1054  R3|R4|R50|R40|R38|R41|R8|R21|R27|R2|R2|R27|R3|...     D      NaN  \n1055  R42|R2|R2|R3|R8|R18|R21|R25|R26|R27|R27|R27|R3...     D      NaN  \n1056  R18|R26|R27|R4|R11|R12|R20|R25|R35|R36|R39|R43...     D      NaN  \n1057          R18|R26|R27|R2|R2|R8|R21|R25|R27|R42|R46|     D      NaN  \n\n[1058 rows x 9 columns]",
      "text/html": "<div>\n<style scoped>\n    .dataframe tbody tr th:only-of-type {\n        vertical-align: middle;\n    }\n\n    .dataframe tbody tr th {\n        vertical-align: top;\n    }\n\n    .dataframe thead th {\n        text-align: right;\n    }\n</style>\n<table border=\"1\" class=\"dataframe\">\n  <thead>\n    <tr style=\"text-align: right;\">\n      <th></th>\n      <th>compound_name</th>\n      <th>IUPAC_name</th>\n      <th>SMILES</th>\n      <th>CID</th>\n      <th>logBB</th>\n      <th>Inchi</th>\n      <th>reference</th>\n      <th>group</th>\n      <th>comments</th>\n    </tr>\n  </thead>\n  <tbody>\n    <tr>\n      <th>0</th>\n      <td>moxalactam</td>\n      <td>7-[[2-carboxy-2-(4-hydroxyphenyl)acetyl]amino]...</td>\n      <td>CN1C(=NN=N1)SCC2=C(N3C(C(C3=O)(NC(=O)C(C4=CC=C...</td>\n      <td>3889.0|</td>\n      <td>-2.52</td>\n      <td>InChI=1S/C20H20N6O9S/c1-25-19(22-23-24-25)36-8...</td>\n      <td>R25|</td>\n      <td>A</td>\n      <td>NaN</td>\n    </tr>\n    <tr>\n      <th>1</th>\n      <td>schembl614298</td>\n      <td>(2s,3s,4s,5r)-6-[[(4r,4ar,7s,7ar,12bs)-7-hydro...</td>\n      <td>CN1CC[C@]23[C@@H]4[C@H]1CC5=C2C(=C(C=C5)OC6[C@...</td>\n      <td>18595497.0|</td>\n      <td>-2.15</td>\n      <td>InChI=1S/C23H27NO9/c1-24-7-6-23-10-3-4-12(25)2...</td>\n      <td>R25|</td>\n      <td>A</td>\n      <td>NaN</td>\n    </tr>\n    <tr>\n      <th>2</th>\n      <td>morphine-6-glucuronide</td>\n      <td>(2s,3s,4s,5r)-6-[[(4r,4ar,7s,7ar,12bs)-9-hydro...</td>\n      <td>CN1CC[C@]23[C@@H]4[C@H]1CC5=C2C(=C(C=C5)O)O[C@...</td>\n      <td>9847115.0|</td>\n      <td>-2.09</td>\n      <td>InChI=1S/C23H27NO9/c1-24-7-6-23-10-3-5-13(31-2...</td>\n      <td>R25|</td>\n      <td>A</td>\n      <td>NaN</td>\n    </tr>\n    <tr>\n      <th>3</th>\n      <td>2-[4-(5-bromo-3-methylpyridin-2-yl)butylamino]...</td>\n      <td>2-[4-(5-bromo-3-methylpyridin-2-yl)butylamino]...</td>\n      <td>CC1=NC=C(C=C1)CC2CNC(NC2=O)NCCCCC3=NC=C(C=C3C)Br</td>\n      <td>74041479.0|</td>\n      <td>-1.88</td>\n      <td>InChI=1S/C21H28BrN5O/c1-14-9-18(22)13-25-19(14...</td>\n      <td>R35|</td>\n      <td>A</td>\n      <td>NaN</td>\n    </tr>\n    <tr>\n      <th>4</th>\n      <td>NaN</td>\n      <td>NaN</td>\n      <td>c1(c2c3n(c4c(C(N(C)C3)=O)c(Cl)ccc4)cn2)noc(C(O...</td>\n      <td>nan|</td>\n      <td>-1.82</td>\n      <td>InChI=1S/C16H14ClN5O4/c1-16(24,25)15-19-13(20-...</td>\n      <td>R35|</td>\n      <td>A</td>\n      <td>NaN</td>\n    </tr>\n    <tr>\n      <th>...</th>\n      <td>...</td>\n      <td>...</td>\n      <td>...</td>\n      <td>...</td>\n      <td>...</td>\n      <td>...</td>\n      <td>...</td>\n      <td>...</td>\n      <td>...</td>\n    </tr>\n    <tr>\n      <th>1053</th>\n      <td>2qju</td>\n      <td>3-(5,6-dihydrobenzo[b][1]benzazepin-11-yl)prop...</td>\n      <td>C[NH2+]CCCN1C2=CC=CC=C2CCC3=CC=CC=C31</td>\n      <td>2995.0|2995.0|2995.0|2995.0|2995.0|2995.0|2995...</td>\n      <td>1.20</td>\n      <td>InChI=1S/C18H22N2/c1-19-13-6-14-20-17-9-4-2-7-...</td>\n      <td>R4|R3|R38|R41|R43|R47|R49|R40|R8|R21|R27|R2|R2...</td>\n      <td>D</td>\n      <td>NaN</td>\n    </tr>\n    <tr>\n      <th>1054</th>\n      <td>promazine</td>\n      <td>n,n-dimethyl-3-phenothiazin-10-ylpropan-1-amine</td>\n      <td>CN(C)CCCN1C2=CC=CC=C2SC3=CC=CC=C31</td>\n      <td>4926.0|4926.0|4926.0|4926.0|4926.0|4926.0|4926...</td>\n      <td>1.23</td>\n      <td>InChI=1S/C17H20N2S/c1-18(2)12-7-13-19-14-8-3-5...</td>\n      <td>R3|R4|R50|R40|R38|R41|R8|R21|R27|R2|R2|R27|R3|...</td>\n      <td>D</td>\n      <td>NaN</td>\n    </tr>\n    <tr>\n      <th>1055</th>\n      <td>diphenhydramine</td>\n      <td>2-benzhydryloxy-n,n-dimethylethanamine</td>\n      <td>CN(C)CCOC(C1=CC=CC=C1)C2=CC=CC=C2</td>\n      <td>3100.0|3100.0|3100.0|3100.0|3100.0|3100.0|3100...</td>\n      <td>1.30</td>\n      <td>InChI=1S/C17H21NO/c1-18(2)13-14-19-17(15-9-5-3...</td>\n      <td>R42|R2|R2|R3|R8|R18|R21|R25|R26|R27|R27|R27|R3...</td>\n      <td>D</td>\n      <td>NaN</td>\n    </tr>\n    <tr>\n      <th>1056</th>\n      <td>1225-64-5</td>\n      <td>3-(2-chlorophenothiazin-10-yl)-n-methylpropan-...</td>\n      <td>CNCCCN1C2=CC=CC=C2SC3=C1C=C(C=C3)Cl</td>\n      <td>62875.0|62875.0|62875.0|62875.0|62875.0|62875....</td>\n      <td>1.40</td>\n      <td>InChI=1S/C16H17ClN2S/c1-18-9-4-10-19-13-5-2-3-...</td>\n      <td>R18|R26|R27|R4|R11|R12|R20|R25|R35|R36|R39|R43...</td>\n      <td>D</td>\n      <td>NaN</td>\n    </tr>\n    <tr>\n      <th>1057</th>\n      <td>sertraline</td>\n      <td>(1s,4s)-4-(3,4-dichlorophenyl)-n-methyl-1,2,3,...</td>\n      <td>CN[C@H]1CC[C@H](C2=CC=CC=C12)C3=CC(=C(C=C3)Cl)Cl</td>\n      <td>68617.0|68617.0|68617.0|68617.0|68617.0|68617....</td>\n      <td>1.60</td>\n      <td>InChI=1S/C17H17Cl2N/c1-20-17-9-7-12(13-4-2-3-5...</td>\n      <td>R18|R26|R27|R2|R2|R8|R21|R25|R27|R42|R46|</td>\n      <td>D</td>\n      <td>NaN</td>\n    </tr>\n  </tbody>\n</table>\n<p>1058 rows × 9 columns</p>\n</div>"
     },
     "execution_count": 2,
     "metadata": {},
     "output_type": "execute_result"
    }
   ],
   "source": [
    "regression_df = pd.read_csv('datasets/BBB_regression.csv')\n",
    "regression_df"
   ],
   "metadata": {
    "collapsed": false
   }
  },
  {
   "cell_type": "code",
   "execution_count": 3,
   "outputs": [
    {
     "data": {
      "text/plain": "128"
     },
     "execution_count": 3,
     "metadata": {},
     "output_type": "execute_result"
    }
   ],
   "source": [
    "(regression_df['logBB'] <= -1.01).sum() #These are BBB+"
   ],
   "metadata": {
    "collapsed": false
   }
  },
  {
   "cell_type": "code",
   "execution_count": 4,
   "outputs": [
    {
     "data": {
      "text/plain": "930"
     },
     "execution_count": 4,
     "metadata": {},
     "output_type": "execute_result"
    }
   ],
   "source": [
    "(regression_df['logBB'] >= -1).sum() #These are BBB-"
   ],
   "metadata": {
    "collapsed": false
   }
  },
  {
   "cell_type": "markdown",
   "source": [
    "# Classification\n",
    "BBB_classification.csv will be used to train an artificial neural network\n",
    "classifier"
   ],
   "metadata": {
    "collapsed": false
   }
  },
  {
   "cell_type": "markdown",
   "source": [
    "## Read in data"
   ],
   "metadata": {
    "collapsed": false
   }
  },
  {
   "cell_type": "code",
   "execution_count": 5,
   "outputs": [
    {
     "data": {
      "text/plain": "                            compound_name  \\\n0                          sulphasalazine   \n1                              moxalactam   \n2                              clioquinol   \n3     bbcpd11 (cimetidine analog) (y-g13)   \n4                           schembl614298   \n...                                   ...   \n7802                           antazoline   \n7803                           emedastine   \n7804                            ketotifen   \n7805                            milrinone   \n7806                             amrinone   \n\n                                             IUPAC_name  \\\n0     2-hydroxy-5-[[4-(pyridin-2-ylsulfamoyl)phenyl]...   \n1     7-[[2-carboxy-2-(4-hydroxyphenyl)acetyl]amino]...   \n2                          5-chloro-7-iodoquinolin-8-ol   \n3     2-[2-[(3-bromopyridin-2-yl)methylsulfanyl]ethy...   \n4     (2s,3s,4s,5r)-6-[[(4r,4ar,7s,7ar,12bs)-7-hydro...   \n...                                                 ...   \n7802  n-benzyl-n-(4,5-dihydro-1h-imidazol-2-ylmethyl...   \n7803  1-(2-ethoxyethyl)-2-(4-methyl-1,4-diazepan-1-y...   \n7804  2-(1-methylpiperidin-4-ylidene)-6-thiatricyclo...   \n7805  6-methyl-2-oxo-5-pyridin-4-yl-1h-pyridine-3-ca...   \n7806            3-amino-5-pyridin-4-yl-1h-pyridin-2-one   \n\n                                                 SMILES         CID BBB+/BBB-  \\\n0      O=C(O)c1cc(N=Nc2ccc(S(=O)(=O)Nc3ccccn3)cc2)ccc1O      5339.0      BBB-   \n1     COC1(NC(=O)C(C(=O)O)c2ccc(O)cc2)C(=O)N2C(C(=O)...      3889.0      BBB-   \n2                                Oc1c(I)cc(Cl)c2cccnc12      2788.0      BBB-   \n3                            CCNC(=NCCSCc1ncccc1Br)NC#N  14022517.0      BBB-   \n4     CN1CC[C@]23c4c5ccc(OC6O[C@H](C(=O)O)[C@@H](O)[...  18595497.0      BBB-   \n...                                                 ...         ...       ...   \n7802                    c1ccc(CN(CC2=NCCN2)c2ccccc2)cc1      2200.0      BBB-   \n7803                   CCOCCn1c(N2CCCN(C)CC2)nc2ccccc21      3219.0      BBB+   \n7804               CN1CCC(=C2c3ccccc3CC(=O)c3sccc32)CC1      3827.0      BBB+   \n7805                     Cc1[nH]c(=O)c(C#N)cc1-c1ccncc1      4197.0      BBB-   \n7806                          Nc1cc(-c2ccncc2)c[nH]c1=O      3698.0      BBB-   \n\n                                                  Inchi  threshold  \\\n0     InChI=1S/C18H14N4O5S/c23-16-9-6-13(11-15(16)18...        NaN   \n1     InChI=1S/C20H20N6O9S/c1-25-19(22-23-24-25)36-8...        NaN   \n2     InChI=1S/C9H5ClINO/c10-6-4-7(11)9(13)8-5(6)2-1...        NaN   \n3     InChI=1S/C12H16BrN5S/c1-2-15-12(18-9-14)17-6-7...        NaN   \n4     InChI=1S/C23H27NO9/c1-24-7-6-23-10-3-4-12(25)2...        NaN   \n...                                                 ...        ...   \n7802  InChI=1S/C17H19N3/c1-3-7-15(8-4-1)13-20(14-17-...        NaN   \n7803  InChI=1S/C17H26N4O/c1-3-22-14-13-21-16-8-5-4-7...        NaN   \n7804  InChI=1S/C19H19NOS/c1-20-9-6-13(7-10-20)18-15-...        NaN   \n7805  InChI=1S/C12H9N3O/c1-8-11(9-2-4-14-5-3-9)6-10(...        NaN   \n7806  InChI=1S/C10H9N3O/c11-9-5-8(6-13-10(9)14)7-1-3...        NaN   \n\n                                              reference group comments  \n0                                        R2|R2|R25|R46|     A      NaN  \n1                                                  R25|     A      NaN  \n2                                          R18|R26|R27|     A      NaN  \n3     R2|R2|R8|R40|R2|R2|R2|R2|R18|R21|R25|R25|R26|R...     A      NaN  \n4                                                  R25|     A      NaN  \n...                                                 ...   ...      ...  \n7802                                       R14|R23|R50|     D      NaN  \n7803                                       R15|R23|R50|     D      NaN  \n7804                                       R15|R27|R50|     D      NaN  \n7805                                       R15|R23|R27|     D      NaN  \n7806                                       R15|R23|R27|     D      NaN  \n\n[7807 rows x 10 columns]",
      "text/html": "<div>\n<style scoped>\n    .dataframe tbody tr th:only-of-type {\n        vertical-align: middle;\n    }\n\n    .dataframe tbody tr th {\n        vertical-align: top;\n    }\n\n    .dataframe thead th {\n        text-align: right;\n    }\n</style>\n<table border=\"1\" class=\"dataframe\">\n  <thead>\n    <tr style=\"text-align: right;\">\n      <th></th>\n      <th>compound_name</th>\n      <th>IUPAC_name</th>\n      <th>SMILES</th>\n      <th>CID</th>\n      <th>BBB+/BBB-</th>\n      <th>Inchi</th>\n      <th>threshold</th>\n      <th>reference</th>\n      <th>group</th>\n      <th>comments</th>\n    </tr>\n  </thead>\n  <tbody>\n    <tr>\n      <th>0</th>\n      <td>sulphasalazine</td>\n      <td>2-hydroxy-5-[[4-(pyridin-2-ylsulfamoyl)phenyl]...</td>\n      <td>O=C(O)c1cc(N=Nc2ccc(S(=O)(=O)Nc3ccccn3)cc2)ccc1O</td>\n      <td>5339.0</td>\n      <td>BBB-</td>\n      <td>InChI=1S/C18H14N4O5S/c23-16-9-6-13(11-15(16)18...</td>\n      <td>NaN</td>\n      <td>R2|R2|R25|R46|</td>\n      <td>A</td>\n      <td>NaN</td>\n    </tr>\n    <tr>\n      <th>1</th>\n      <td>moxalactam</td>\n      <td>7-[[2-carboxy-2-(4-hydroxyphenyl)acetyl]amino]...</td>\n      <td>COC1(NC(=O)C(C(=O)O)c2ccc(O)cc2)C(=O)N2C(C(=O)...</td>\n      <td>3889.0</td>\n      <td>BBB-</td>\n      <td>InChI=1S/C20H20N6O9S/c1-25-19(22-23-24-25)36-8...</td>\n      <td>NaN</td>\n      <td>R25|</td>\n      <td>A</td>\n      <td>NaN</td>\n    </tr>\n    <tr>\n      <th>2</th>\n      <td>clioquinol</td>\n      <td>5-chloro-7-iodoquinolin-8-ol</td>\n      <td>Oc1c(I)cc(Cl)c2cccnc12</td>\n      <td>2788.0</td>\n      <td>BBB-</td>\n      <td>InChI=1S/C9H5ClINO/c10-6-4-7(11)9(13)8-5(6)2-1...</td>\n      <td>NaN</td>\n      <td>R18|R26|R27|</td>\n      <td>A</td>\n      <td>NaN</td>\n    </tr>\n    <tr>\n      <th>3</th>\n      <td>bbcpd11 (cimetidine analog) (y-g13)</td>\n      <td>2-[2-[(3-bromopyridin-2-yl)methylsulfanyl]ethy...</td>\n      <td>CCNC(=NCCSCc1ncccc1Br)NC#N</td>\n      <td>14022517.0</td>\n      <td>BBB-</td>\n      <td>InChI=1S/C12H16BrN5S/c1-2-15-12(18-9-14)17-6-7...</td>\n      <td>NaN</td>\n      <td>R2|R2|R8|R40|R2|R2|R2|R2|R18|R21|R25|R25|R26|R...</td>\n      <td>A</td>\n      <td>NaN</td>\n    </tr>\n    <tr>\n      <th>4</th>\n      <td>schembl614298</td>\n      <td>(2s,3s,4s,5r)-6-[[(4r,4ar,7s,7ar,12bs)-7-hydro...</td>\n      <td>CN1CC[C@]23c4c5ccc(OC6O[C@H](C(=O)O)[C@@H](O)[...</td>\n      <td>18595497.0</td>\n      <td>BBB-</td>\n      <td>InChI=1S/C23H27NO9/c1-24-7-6-23-10-3-4-12(25)2...</td>\n      <td>NaN</td>\n      <td>R25|</td>\n      <td>A</td>\n      <td>NaN</td>\n    </tr>\n    <tr>\n      <th>...</th>\n      <td>...</td>\n      <td>...</td>\n      <td>...</td>\n      <td>...</td>\n      <td>...</td>\n      <td>...</td>\n      <td>...</td>\n      <td>...</td>\n      <td>...</td>\n      <td>...</td>\n    </tr>\n    <tr>\n      <th>7802</th>\n      <td>antazoline</td>\n      <td>n-benzyl-n-(4,5-dihydro-1h-imidazol-2-ylmethyl...</td>\n      <td>c1ccc(CN(CC2=NCCN2)c2ccccc2)cc1</td>\n      <td>2200.0</td>\n      <td>BBB-</td>\n      <td>InChI=1S/C17H19N3/c1-3-7-15(8-4-1)13-20(14-17-...</td>\n      <td>NaN</td>\n      <td>R14|R23|R50|</td>\n      <td>D</td>\n      <td>NaN</td>\n    </tr>\n    <tr>\n      <th>7803</th>\n      <td>emedastine</td>\n      <td>1-(2-ethoxyethyl)-2-(4-methyl-1,4-diazepan-1-y...</td>\n      <td>CCOCCn1c(N2CCCN(C)CC2)nc2ccccc21</td>\n      <td>3219.0</td>\n      <td>BBB+</td>\n      <td>InChI=1S/C17H26N4O/c1-3-22-14-13-21-16-8-5-4-7...</td>\n      <td>NaN</td>\n      <td>R15|R23|R50|</td>\n      <td>D</td>\n      <td>NaN</td>\n    </tr>\n    <tr>\n      <th>7804</th>\n      <td>ketotifen</td>\n      <td>2-(1-methylpiperidin-4-ylidene)-6-thiatricyclo...</td>\n      <td>CN1CCC(=C2c3ccccc3CC(=O)c3sccc32)CC1</td>\n      <td>3827.0</td>\n      <td>BBB+</td>\n      <td>InChI=1S/C19H19NOS/c1-20-9-6-13(7-10-20)18-15-...</td>\n      <td>NaN</td>\n      <td>R15|R27|R50|</td>\n      <td>D</td>\n      <td>NaN</td>\n    </tr>\n    <tr>\n      <th>7805</th>\n      <td>milrinone</td>\n      <td>6-methyl-2-oxo-5-pyridin-4-yl-1h-pyridine-3-ca...</td>\n      <td>Cc1[nH]c(=O)c(C#N)cc1-c1ccncc1</td>\n      <td>4197.0</td>\n      <td>BBB-</td>\n      <td>InChI=1S/C12H9N3O/c1-8-11(9-2-4-14-5-3-9)6-10(...</td>\n      <td>NaN</td>\n      <td>R15|R23|R27|</td>\n      <td>D</td>\n      <td>NaN</td>\n    </tr>\n    <tr>\n      <th>7806</th>\n      <td>amrinone</td>\n      <td>3-amino-5-pyridin-4-yl-1h-pyridin-2-one</td>\n      <td>Nc1cc(-c2ccncc2)c[nH]c1=O</td>\n      <td>3698.0</td>\n      <td>BBB-</td>\n      <td>InChI=1S/C10H9N3O/c11-9-5-8(6-13-10(9)14)7-1-3...</td>\n      <td>NaN</td>\n      <td>R15|R23|R27|</td>\n      <td>D</td>\n      <td>NaN</td>\n    </tr>\n  </tbody>\n</table>\n<p>7807 rows × 10 columns</p>\n</div>"
     },
     "execution_count": 5,
     "metadata": {},
     "output_type": "execute_result"
    }
   ],
   "source": [
    "classification_df = pd.read_csv('datasets/BBB_classification.csv')\n",
    "classification_df"
   ],
   "metadata": {
    "collapsed": false
   }
  },
  {
   "cell_type": "code",
   "execution_count": 6,
   "outputs": [
    {
     "data": {
      "text/plain": "BBB+/BBB-\nBBB+    4956\nBBB-    2851\nName: count, dtype: int64"
     },
     "execution_count": 6,
     "metadata": {},
     "output_type": "execute_result"
    }
   ],
   "source": [
    "classification_df['BBB+/BBB-'].value_counts()"
   ],
   "metadata": {
    "collapsed": false
   }
  }
 ],
 "metadata": {
  "kernelspec": {
   "display_name": "Python 3",
   "language": "python",
   "name": "python3"
  },
  "language_info": {
   "codemirror_mode": {
    "name": "ipython",
    "version": 2
   },
   "file_extension": ".py",
   "mimetype": "text/x-python",
   "name": "python",
   "nbconvert_exporter": "python",
   "pygments_lexer": "ipython2",
   "version": "2.7.6"
  }
 },
 "nbformat": 4,
 "nbformat_minor": 0
}
