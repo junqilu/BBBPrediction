{
 "cells": [
  {
   "cell_type": "markdown",
   "source": [
    "# Import packages"
   ],
   "metadata": {
    "collapsed": false
   }
  },
  {
   "cell_type": "code",
   "execution_count": 1,
   "outputs": [],
   "source": [
    "import pickle  # Local Python (3.8) is fine with this. If you're suing Google\n",
    "# colab, which uses a Python version of 3.6, you need to do import pickel5\n",
    "# as pickle\n",
    "import cloudpickle as cp\n",
    "from urllib.request import urlopen\n",
    "\n",
    "import numpy as np\n",
    "import pandas as pd\n",
    "\n",
    "from sklearn.pipeline import Pipeline\n",
    "from sklearn.preprocessing import StandardScaler\n",
    "from sklearn.feature_selection import VarianceThreshold\n",
    "from collinearity import SelectNonCollinear"
   ],
   "metadata": {
    "collapsed": false
   }
  },
  {
   "cell_type": "markdown",
   "source": [
    "# Custom functions"
   ],
   "metadata": {
    "collapsed": false
   }
  },
  {
   "cell_type": "code",
   "execution_count": 2,
   "outputs": [
    {
     "name": "stderr",
     "output_type": "stream",
     "text": [
      "Failed to find the pandas get_adjustment() function to patch\n",
      "Failed to patch pandas - PandasTools will have limited functionality\n"
     ]
    }
   ],
   "source": [
    "from dataset_expansion import dataset_feature_expansion\n",
    "from dataset_cleanup import filter_low_variance\n",
    "\n",
    "\n",
    "def dump_pickle(content_to_dump,\n",
    "                pickle_name_str):  #Dump the content_to_dump into a pickle. Remember to include \".pkl\" in pickle_name_str\n",
    "    cp.dump(content_to_dump, open(pickle_name_str,\n",
    "                                  'wb'))  #Save the GridSearchCV object to be used later\n",
    "    return\n",
    "\n",
    "\n",
    "def load_cloud_pickle(\n",
    "        github_url):  #Load pickles (contain trained models) from a GitHub link\n",
    "    url_raw_file = github_url + '?raw=true'\n",
    "    loaded_pickle_object = pickle.load(urlopen(url_raw_file))\n",
    "    return loaded_pickle_object"
   ],
   "metadata": {
    "collapsed": false
   }
  },
  {
   "cell_type": "markdown",
   "source": [
    "# Read in data"
   ],
   "metadata": {
    "collapsed": false
   }
  },
  {
   "cell_type": "markdown",
   "source": [
    "## Regression"
   ],
   "metadata": {
    "collapsed": false
   }
  },
  {
   "cell_type": "code",
   "execution_count": 3,
   "outputs": [
    {
     "data": {
      "text/plain": "                                                 SMILES  logBB\n0     CN1C(=NN=N1)SCC2=C(N3C(C(C3=O)(NC(=O)C(C4=CC=C...  -2.52\n1     CN1CC[C@]23[C@@H]4[C@H]1CC5=C2C(=C(C=C5)OC6[C@...  -2.15\n2     CN1CC[C@]23[C@@H]4[C@H]1CC5=C2C(=C(C=C5)O)O[C@...  -2.09\n3      CC1=NC=C(C=C1)CC2CNC(NC2=O)NCCCCC3=NC=C(C=C3C)Br  -1.88\n4     c1(c2c3n(c4c(C(N(C)C3)=O)c(Cl)ccc4)cn2)noc(C(O...  -1.82\n...                                                 ...    ...\n1053              C[NH2+]CCCN1C2=CC=CC=C2CCC3=CC=CC=C31   1.20\n1054                 CN(C)CCCN1C2=CC=CC=C2SC3=CC=CC=C31   1.23\n1055                  CN(C)CCOC(C1=CC=CC=C1)C2=CC=CC=C2   1.30\n1056                CNCCCN1C2=CC=CC=C2SC3=C1C=C(C=C3)Cl   1.40\n1057   CN[C@H]1CC[C@H](C2=CC=CC=C12)C3=CC(=C(C=C3)Cl)Cl   1.60\n\n[1058 rows x 2 columns]",
      "text/html": "<div>\n<style scoped>\n    .dataframe tbody tr th:only-of-type {\n        vertical-align: middle;\n    }\n\n    .dataframe tbody tr th {\n        vertical-align: top;\n    }\n\n    .dataframe thead th {\n        text-align: right;\n    }\n</style>\n<table border=\"1\" class=\"dataframe\">\n  <thead>\n    <tr style=\"text-align: right;\">\n      <th></th>\n      <th>SMILES</th>\n      <th>logBB</th>\n    </tr>\n  </thead>\n  <tbody>\n    <tr>\n      <th>0</th>\n      <td>CN1C(=NN=N1)SCC2=C(N3C(C(C3=O)(NC(=O)C(C4=CC=C...</td>\n      <td>-2.52</td>\n    </tr>\n    <tr>\n      <th>1</th>\n      <td>CN1CC[C@]23[C@@H]4[C@H]1CC5=C2C(=C(C=C5)OC6[C@...</td>\n      <td>-2.15</td>\n    </tr>\n    <tr>\n      <th>2</th>\n      <td>CN1CC[C@]23[C@@H]4[C@H]1CC5=C2C(=C(C=C5)O)O[C@...</td>\n      <td>-2.09</td>\n    </tr>\n    <tr>\n      <th>3</th>\n      <td>CC1=NC=C(C=C1)CC2CNC(NC2=O)NCCCCC3=NC=C(C=C3C)Br</td>\n      <td>-1.88</td>\n    </tr>\n    <tr>\n      <th>4</th>\n      <td>c1(c2c3n(c4c(C(N(C)C3)=O)c(Cl)ccc4)cn2)noc(C(O...</td>\n      <td>-1.82</td>\n    </tr>\n    <tr>\n      <th>...</th>\n      <td>...</td>\n      <td>...</td>\n    </tr>\n    <tr>\n      <th>1053</th>\n      <td>C[NH2+]CCCN1C2=CC=CC=C2CCC3=CC=CC=C31</td>\n      <td>1.20</td>\n    </tr>\n    <tr>\n      <th>1054</th>\n      <td>CN(C)CCCN1C2=CC=CC=C2SC3=CC=CC=C31</td>\n      <td>1.23</td>\n    </tr>\n    <tr>\n      <th>1055</th>\n      <td>CN(C)CCOC(C1=CC=CC=C1)C2=CC=CC=C2</td>\n      <td>1.30</td>\n    </tr>\n    <tr>\n      <th>1056</th>\n      <td>CNCCCN1C2=CC=CC=C2SC3=C1C=C(C=C3)Cl</td>\n      <td>1.40</td>\n    </tr>\n    <tr>\n      <th>1057</th>\n      <td>CN[C@H]1CC[C@H](C2=CC=CC=C12)C3=CC(=C(C=C3)Cl)Cl</td>\n      <td>1.60</td>\n    </tr>\n  </tbody>\n</table>\n<p>1058 rows × 2 columns</p>\n</div>"
     },
     "execution_count": 3,
     "metadata": {},
     "output_type": "execute_result"
    }
   ],
   "source": [
    "regression_df = pd.read_csv('datasets\\cleaned_datasets\\BBB_regression.csv')\n",
    "regression_df"
   ],
   "metadata": {
    "collapsed": false
   }
  },
  {
   "cell_type": "code",
   "execution_count": 4,
   "outputs": [
    {
     "data": {
      "text/plain": "128"
     },
     "execution_count": 4,
     "metadata": {},
     "output_type": "execute_result"
    }
   ],
   "source": [
    "(regression_df['logBB'] <= -1.01).sum()  #These are BBB+"
   ],
   "metadata": {
    "collapsed": false
   }
  },
  {
   "cell_type": "code",
   "execution_count": 5,
   "outputs": [
    {
     "data": {
      "text/plain": "930"
     },
     "execution_count": 5,
     "metadata": {},
     "output_type": "execute_result"
    }
   ],
   "source": [
    "(regression_df['logBB'] >= -1).sum()  #These are BBB-"
   ],
   "metadata": {
    "collapsed": false
   }
  },
  {
   "cell_type": "markdown",
   "source": [
    "## Classification"
   ],
   "metadata": {
    "collapsed": false
   }
  },
  {
   "cell_type": "code",
   "execution_count": 6,
   "outputs": [
    {
     "data": {
      "text/plain": "                                                 SMILES BBB+/BBB-\n0      O=C(O)c1cc(N=Nc2ccc(S(=O)(=O)Nc3ccccn3)cc2)ccc1O      BBB-\n1     COC1(NC(=O)C(C(=O)O)c2ccc(O)cc2)C(=O)N2C(C(=O)...      BBB-\n2                                Oc1c(I)cc(Cl)c2cccnc12      BBB-\n3                            CCNC(=NCCSCc1ncccc1Br)NC#N      BBB-\n4     CN1CC[C@]23c4c5ccc(OC6O[C@H](C(=O)O)[C@@H](O)[...      BBB-\n...                                                 ...       ...\n7802                    c1ccc(CN(CC2=NCCN2)c2ccccc2)cc1      BBB-\n7803                   CCOCCn1c(N2CCCN(C)CC2)nc2ccccc21      BBB+\n7804               CN1CCC(=C2c3ccccc3CC(=O)c3sccc32)CC1      BBB+\n7805                     Cc1[nH]c(=O)c(C#N)cc1-c1ccncc1      BBB-\n7806                          Nc1cc(-c2ccncc2)c[nH]c1=O      BBB-\n\n[7807 rows x 2 columns]",
      "text/html": "<div>\n<style scoped>\n    .dataframe tbody tr th:only-of-type {\n        vertical-align: middle;\n    }\n\n    .dataframe tbody tr th {\n        vertical-align: top;\n    }\n\n    .dataframe thead th {\n        text-align: right;\n    }\n</style>\n<table border=\"1\" class=\"dataframe\">\n  <thead>\n    <tr style=\"text-align: right;\">\n      <th></th>\n      <th>SMILES</th>\n      <th>BBB+/BBB-</th>\n    </tr>\n  </thead>\n  <tbody>\n    <tr>\n      <th>0</th>\n      <td>O=C(O)c1cc(N=Nc2ccc(S(=O)(=O)Nc3ccccn3)cc2)ccc1O</td>\n      <td>BBB-</td>\n    </tr>\n    <tr>\n      <th>1</th>\n      <td>COC1(NC(=O)C(C(=O)O)c2ccc(O)cc2)C(=O)N2C(C(=O)...</td>\n      <td>BBB-</td>\n    </tr>\n    <tr>\n      <th>2</th>\n      <td>Oc1c(I)cc(Cl)c2cccnc12</td>\n      <td>BBB-</td>\n    </tr>\n    <tr>\n      <th>3</th>\n      <td>CCNC(=NCCSCc1ncccc1Br)NC#N</td>\n      <td>BBB-</td>\n    </tr>\n    <tr>\n      <th>4</th>\n      <td>CN1CC[C@]23c4c5ccc(OC6O[C@H](C(=O)O)[C@@H](O)[...</td>\n      <td>BBB-</td>\n    </tr>\n    <tr>\n      <th>...</th>\n      <td>...</td>\n      <td>...</td>\n    </tr>\n    <tr>\n      <th>7802</th>\n      <td>c1ccc(CN(CC2=NCCN2)c2ccccc2)cc1</td>\n      <td>BBB-</td>\n    </tr>\n    <tr>\n      <th>7803</th>\n      <td>CCOCCn1c(N2CCCN(C)CC2)nc2ccccc21</td>\n      <td>BBB+</td>\n    </tr>\n    <tr>\n      <th>7804</th>\n      <td>CN1CCC(=C2c3ccccc3CC(=O)c3sccc32)CC1</td>\n      <td>BBB+</td>\n    </tr>\n    <tr>\n      <th>7805</th>\n      <td>Cc1[nH]c(=O)c(C#N)cc1-c1ccncc1</td>\n      <td>BBB-</td>\n    </tr>\n    <tr>\n      <th>7806</th>\n      <td>Nc1cc(-c2ccncc2)c[nH]c1=O</td>\n      <td>BBB-</td>\n    </tr>\n  </tbody>\n</table>\n<p>7807 rows × 2 columns</p>\n</div>"
     },
     "execution_count": 6,
     "metadata": {},
     "output_type": "execute_result"
    }
   ],
   "source": [
    "classification_df = pd.read_csv(\n",
    "    'datasets\\cleaned_datasets\\BBB_classification.csv'\n",
    ")\n",
    "classification_df"
   ],
   "metadata": {
    "collapsed": false
   }
  },
  {
   "cell_type": "code",
   "execution_count": 7,
   "outputs": [
    {
     "data": {
      "text/plain": "BBB+/BBB-\nBBB+    4956\nBBB-    2851\nName: count, dtype: int64"
     },
     "execution_count": 7,
     "metadata": {},
     "output_type": "execute_result"
    }
   ],
   "source": [
    "classification_df['BBB+/BBB-'].value_counts()"
   ],
   "metadata": {
    "collapsed": false
   }
  },
  {
   "cell_type": "markdown",
   "source": [
    "# Dataset expansion & cleaning\n",
    "Major expansion steps:\n",
    "1. Add in RDKit descriptors\n",
    "2. Add in Morgan fingerprints\n",
    "3. Add in MACCS keys\n",
    "\n",
    "Major cleaning steps:\n",
    "1. Remove columns whose variance is 0--all values are hte same\n",
    "    * Done by a function so later the threshold for filtering\n",
    "    based on variance level is adjustable"
   ],
   "metadata": {
    "collapsed": false
   }
  },
  {
   "cell_type": "markdown",
   "source": [
    "## Regression"
   ],
   "metadata": {
    "collapsed": false
   }
  },
  {
   "cell_type": "code",
   "execution_count": 8,
   "outputs": [
    {
     "name": "stderr",
     "output_type": "stream",
     "text": [
      "Failed to patch pandas - unable to change molecule rendering\n"
     ]
    },
    {
     "data": {
      "text/plain": "Generating 210 RDKit descriptors:   0%|          | 0/1058 [00:00<?, ?it/s]",
      "application/vnd.jupyter.widget-view+json": {
       "version_major": 2,
       "version_minor": 0,
       "model_id": "c57c32e91cce405cb39f944c1eba885d"
      }
     },
     "metadata": {},
     "output_type": "display_data"
    },
    {
     "data": {
      "text/plain": "Generating 4096 Morgan fingerprints:   0%|          | 0/1058 [00:00<?, ?it/s]",
      "application/vnd.jupyter.widget-view+json": {
       "version_major": 2,
       "version_minor": 0,
       "model_id": "bda88347fd9f444880fe140c939e7abf"
      }
     },
     "metadata": {},
     "output_type": "display_data"
    },
    {
     "data": {
      "text/plain": "Generating 167 MACCS keys:   0%|          | 0/1058 [00:00<?, ?it/s]",
      "application/vnd.jupyter.widget-view+json": {
       "version_major": 2,
       "version_minor": 0,
       "model_id": "c47d4a936d694bfaa88c71b0cd907227"
      }
     },
     "metadata": {},
     "output_type": "display_data"
    },
    {
     "data": {
      "text/plain": "                                                 SMILES  logBB  \\\n0     CN1C(=NN=N1)SCC2=C(N3C(C(C3=O)(NC(=O)C(C4=CC=C...  -2.52   \n1     CN1CC[C@]23[C@@H]4[C@H]1CC5=C2C(=C(C=C5)OC6[C@...  -2.15   \n2     CN1CC[C@]23[C@@H]4[C@H]1CC5=C2C(=C(C=C5)O)O[C@...  -2.09   \n3      CC1=NC=C(C=C1)CC2CNC(NC2=O)NCCCCC3=NC=C(C=C3C)Br  -1.88   \n4     c1(c2c3n(c4c(C(N(C)C3)=O)c(Cl)ccc4)cn2)noc(C(O...  -1.82   \n...                                                 ...    ...   \n1046              C[NH2+]CCCN1C2=CC=CC=C2CCC3=CC=CC=C31   1.20   \n1047                 CN(C)CCCN1C2=CC=CC=C2SC3=CC=CC=C31   1.23   \n1048                  CN(C)CCOC(C1=CC=CC=C1)C2=CC=CC=C2   1.30   \n1049                CNCCCN1C2=CC=CC=C2SC3=C1C=C(C=C3)Cl   1.40   \n1050   CN[C@H]1CC[C@H](C2=CC=CC=C12)C3=CC(=C(C=C3)Cl)Cl   1.60   \n\n      MaxAbsEStateIndex  MaxEStateIndex  MinAbsEStateIndex  MinEStateIndex  \\\n0             13.190522       13.190522           0.042537       -2.144257   \n1             11.445328       11.445328           0.165306       -1.798901   \n2             11.479044       11.479044           0.060963       -1.790095   \n3             12.391214       12.391214           0.061101       -0.159783   \n4             12.699094       12.699094           0.092039       -2.255140   \n...                 ...             ...                ...             ...   \n1046           2.515046        2.515046           1.095602        1.095602   \n1047           2.462963        2.462963           1.062269        1.062269   \n1048           6.083380        6.083380           0.016065        0.016065   \n1049           6.182100        6.182100           0.793840        0.793840   \n1050           6.171803        6.171803           0.407932        0.407932   \n\n           qed        SPS    MolWt  HeavyAtomMolWt  ...  157_y  158_y  159_y  \\\n0     0.133795  22.000000  520.480         500.320  ...      1      1      1   \n1     0.346256  45.303030  461.467         434.251  ...      1      1      1   \n2     0.359144  45.393939  461.467         434.251  ...      1      1      1   \n3     0.543803  19.464286  446.393         418.169  ...      0      1      0   \n4     0.648321  14.192308  375.772         361.660  ...      1      1      1   \n...        ...        ...      ...             ...  ...    ...    ...    ...   \n1046  0.843816  13.550000  267.396         244.212  ...      0      1      0   \n1047  0.828858  13.250000  284.428         264.268  ...      0      1      0   \n1048  0.784550  11.157895  255.361         234.193  ...      1      1      0   \n1049  0.834133  13.000000  304.846         287.710  ...      0      1      0   \n1050  0.805861  21.550000  306.236         289.100  ...      0      1      0   \n\n      160_y  161_y  162_y  163_y  164_y  165_y  166_y  \n0         1      1      1      1      1      1      0  \n1         1      1      1      1      1      1      0  \n2         1      1      1      1      1      1      0  \n3         1      1      1      1      1      1      0  \n4         1      1      1      1      1      1      0  \n...     ...    ...    ...    ...    ...    ...    ...  \n1046      1      1      1      1      0      1      0  \n1047      1      1      1      1      0      1      0  \n1048      1      1      1      1      1      1      0  \n1049      1      1      1      1      0      1      0  \n1050      1      1      1      1      0      1      0  \n\n[1051 rows x 4475 columns]",
      "text/html": "<div>\n<style scoped>\n    .dataframe tbody tr th:only-of-type {\n        vertical-align: middle;\n    }\n\n    .dataframe tbody tr th {\n        vertical-align: top;\n    }\n\n    .dataframe thead th {\n        text-align: right;\n    }\n</style>\n<table border=\"1\" class=\"dataframe\">\n  <thead>\n    <tr style=\"text-align: right;\">\n      <th></th>\n      <th>SMILES</th>\n      <th>logBB</th>\n      <th>MaxAbsEStateIndex</th>\n      <th>MaxEStateIndex</th>\n      <th>MinAbsEStateIndex</th>\n      <th>MinEStateIndex</th>\n      <th>qed</th>\n      <th>SPS</th>\n      <th>MolWt</th>\n      <th>HeavyAtomMolWt</th>\n      <th>...</th>\n      <th>157_y</th>\n      <th>158_y</th>\n      <th>159_y</th>\n      <th>160_y</th>\n      <th>161_y</th>\n      <th>162_y</th>\n      <th>163_y</th>\n      <th>164_y</th>\n      <th>165_y</th>\n      <th>166_y</th>\n    </tr>\n  </thead>\n  <tbody>\n    <tr>\n      <th>0</th>\n      <td>CN1C(=NN=N1)SCC2=C(N3C(C(C3=O)(NC(=O)C(C4=CC=C...</td>\n      <td>-2.52</td>\n      <td>13.190522</td>\n      <td>13.190522</td>\n      <td>0.042537</td>\n      <td>-2.144257</td>\n      <td>0.133795</td>\n      <td>22.000000</td>\n      <td>520.480</td>\n      <td>500.320</td>\n      <td>...</td>\n      <td>1</td>\n      <td>1</td>\n      <td>1</td>\n      <td>1</td>\n      <td>1</td>\n      <td>1</td>\n      <td>1</td>\n      <td>1</td>\n      <td>1</td>\n      <td>0</td>\n    </tr>\n    <tr>\n      <th>1</th>\n      <td>CN1CC[C@]23[C@@H]4[C@H]1CC5=C2C(=C(C=C5)OC6[C@...</td>\n      <td>-2.15</td>\n      <td>11.445328</td>\n      <td>11.445328</td>\n      <td>0.165306</td>\n      <td>-1.798901</td>\n      <td>0.346256</td>\n      <td>45.303030</td>\n      <td>461.467</td>\n      <td>434.251</td>\n      <td>...</td>\n      <td>1</td>\n      <td>1</td>\n      <td>1</td>\n      <td>1</td>\n      <td>1</td>\n      <td>1</td>\n      <td>1</td>\n      <td>1</td>\n      <td>1</td>\n      <td>0</td>\n    </tr>\n    <tr>\n      <th>2</th>\n      <td>CN1CC[C@]23[C@@H]4[C@H]1CC5=C2C(=C(C=C5)O)O[C@...</td>\n      <td>-2.09</td>\n      <td>11.479044</td>\n      <td>11.479044</td>\n      <td>0.060963</td>\n      <td>-1.790095</td>\n      <td>0.359144</td>\n      <td>45.393939</td>\n      <td>461.467</td>\n      <td>434.251</td>\n      <td>...</td>\n      <td>1</td>\n      <td>1</td>\n      <td>1</td>\n      <td>1</td>\n      <td>1</td>\n      <td>1</td>\n      <td>1</td>\n      <td>1</td>\n      <td>1</td>\n      <td>0</td>\n    </tr>\n    <tr>\n      <th>3</th>\n      <td>CC1=NC=C(C=C1)CC2CNC(NC2=O)NCCCCC3=NC=C(C=C3C)Br</td>\n      <td>-1.88</td>\n      <td>12.391214</td>\n      <td>12.391214</td>\n      <td>0.061101</td>\n      <td>-0.159783</td>\n      <td>0.543803</td>\n      <td>19.464286</td>\n      <td>446.393</td>\n      <td>418.169</td>\n      <td>...</td>\n      <td>0</td>\n      <td>1</td>\n      <td>0</td>\n      <td>1</td>\n      <td>1</td>\n      <td>1</td>\n      <td>1</td>\n      <td>1</td>\n      <td>1</td>\n      <td>0</td>\n    </tr>\n    <tr>\n      <th>4</th>\n      <td>c1(c2c3n(c4c(C(N(C)C3)=O)c(Cl)ccc4)cn2)noc(C(O...</td>\n      <td>-1.82</td>\n      <td>12.699094</td>\n      <td>12.699094</td>\n      <td>0.092039</td>\n      <td>-2.255140</td>\n      <td>0.648321</td>\n      <td>14.192308</td>\n      <td>375.772</td>\n      <td>361.660</td>\n      <td>...</td>\n      <td>1</td>\n      <td>1</td>\n      <td>1</td>\n      <td>1</td>\n      <td>1</td>\n      <td>1</td>\n      <td>1</td>\n      <td>1</td>\n      <td>1</td>\n      <td>0</td>\n    </tr>\n    <tr>\n      <th>...</th>\n      <td>...</td>\n      <td>...</td>\n      <td>...</td>\n      <td>...</td>\n      <td>...</td>\n      <td>...</td>\n      <td>...</td>\n      <td>...</td>\n      <td>...</td>\n      <td>...</td>\n      <td>...</td>\n      <td>...</td>\n      <td>...</td>\n      <td>...</td>\n      <td>...</td>\n      <td>...</td>\n      <td>...</td>\n      <td>...</td>\n      <td>...</td>\n      <td>...</td>\n      <td>...</td>\n    </tr>\n    <tr>\n      <th>1046</th>\n      <td>C[NH2+]CCCN1C2=CC=CC=C2CCC3=CC=CC=C31</td>\n      <td>1.20</td>\n      <td>2.515046</td>\n      <td>2.515046</td>\n      <td>1.095602</td>\n      <td>1.095602</td>\n      <td>0.843816</td>\n      <td>13.550000</td>\n      <td>267.396</td>\n      <td>244.212</td>\n      <td>...</td>\n      <td>0</td>\n      <td>1</td>\n      <td>0</td>\n      <td>1</td>\n      <td>1</td>\n      <td>1</td>\n      <td>1</td>\n      <td>0</td>\n      <td>1</td>\n      <td>0</td>\n    </tr>\n    <tr>\n      <th>1047</th>\n      <td>CN(C)CCCN1C2=CC=CC=C2SC3=CC=CC=C31</td>\n      <td>1.23</td>\n      <td>2.462963</td>\n      <td>2.462963</td>\n      <td>1.062269</td>\n      <td>1.062269</td>\n      <td>0.828858</td>\n      <td>13.250000</td>\n      <td>284.428</td>\n      <td>264.268</td>\n      <td>...</td>\n      <td>0</td>\n      <td>1</td>\n      <td>0</td>\n      <td>1</td>\n      <td>1</td>\n      <td>1</td>\n      <td>1</td>\n      <td>0</td>\n      <td>1</td>\n      <td>0</td>\n    </tr>\n    <tr>\n      <th>1048</th>\n      <td>CN(C)CCOC(C1=CC=CC=C1)C2=CC=CC=C2</td>\n      <td>1.30</td>\n      <td>6.083380</td>\n      <td>6.083380</td>\n      <td>0.016065</td>\n      <td>0.016065</td>\n      <td>0.784550</td>\n      <td>11.157895</td>\n      <td>255.361</td>\n      <td>234.193</td>\n      <td>...</td>\n      <td>1</td>\n      <td>1</td>\n      <td>0</td>\n      <td>1</td>\n      <td>1</td>\n      <td>1</td>\n      <td>1</td>\n      <td>1</td>\n      <td>1</td>\n      <td>0</td>\n    </tr>\n    <tr>\n      <th>1049</th>\n      <td>CNCCCN1C2=CC=CC=C2SC3=C1C=C(C=C3)Cl</td>\n      <td>1.40</td>\n      <td>6.182100</td>\n      <td>6.182100</td>\n      <td>0.793840</td>\n      <td>0.793840</td>\n      <td>0.834133</td>\n      <td>13.000000</td>\n      <td>304.846</td>\n      <td>287.710</td>\n      <td>...</td>\n      <td>0</td>\n      <td>1</td>\n      <td>0</td>\n      <td>1</td>\n      <td>1</td>\n      <td>1</td>\n      <td>1</td>\n      <td>0</td>\n      <td>1</td>\n      <td>0</td>\n    </tr>\n    <tr>\n      <th>1050</th>\n      <td>CN[C@H]1CC[C@H](C2=CC=CC=C12)C3=CC(=C(C=C3)Cl)Cl</td>\n      <td>1.60</td>\n      <td>6.171803</td>\n      <td>6.171803</td>\n      <td>0.407932</td>\n      <td>0.407932</td>\n      <td>0.805861</td>\n      <td>21.550000</td>\n      <td>306.236</td>\n      <td>289.100</td>\n      <td>...</td>\n      <td>0</td>\n      <td>1</td>\n      <td>0</td>\n      <td>1</td>\n      <td>1</td>\n      <td>1</td>\n      <td>1</td>\n      <td>0</td>\n      <td>1</td>\n      <td>0</td>\n    </tr>\n  </tbody>\n</table>\n<p>1051 rows × 4475 columns</p>\n</div>"
     },
     "execution_count": 8,
     "metadata": {},
     "output_type": "execute_result"
    }
   ],
   "source": [
    "regression_df_expanded, regression_expansion_errors = dataset_feature_expansion(\n",
    "    regression_df)\n",
    "regression_df_expanded  #Missing SMILES are the chemicals that have errors\n",
    "# when going through the calculations"
   ],
   "metadata": {
    "collapsed": false
   }
  },
  {
   "cell_type": "code",
   "execution_count": 9,
   "outputs": [
    {
     "name": "stdout",
     "output_type": "stream",
     "text": [
      "Before removing the low-variance descriptors, the dataset has 4473 descriptors\n",
      "After removing the zero-variance descriptors, the dataset has 4103 descriptors\n"
     ]
    },
    {
     "data": {
      "text/plain": "                                                 SMILES  logBB  \\\n0     CN1C(=NN=N1)SCC2=C(N3C(C(C3=O)(NC(=O)C(C4=CC=C...  -2.52   \n1     CN1CC[C@]23[C@@H]4[C@H]1CC5=C2C(=C(C=C5)OC6[C@...  -2.15   \n2     CN1CC[C@]23[C@@H]4[C@H]1CC5=C2C(=C(C=C5)O)O[C@...  -2.09   \n3      CC1=NC=C(C=C1)CC2CNC(NC2=O)NCCCCC3=NC=C(C=C3C)Br  -1.88   \n4     c1(c2c3n(c4c(C(N(C)C3)=O)c(Cl)ccc4)cn2)noc(C(O...  -1.82   \n...                                                 ...    ...   \n1046              C[NH2+]CCCN1C2=CC=CC=C2CCC3=CC=CC=C31   1.20   \n1047                 CN(C)CCCN1C2=CC=CC=C2SC3=CC=CC=C31   1.23   \n1048                  CN(C)CCOC(C1=CC=CC=C1)C2=CC=CC=C2   1.30   \n1049                CNCCCN1C2=CC=CC=C2SC3=C1C=C(C=C3)Cl   1.40   \n1050   CN[C@H]1CC[C@H](C2=CC=CC=C12)C3=CC(=C(C=C3)Cl)Cl   1.60   \n\n      MaxAbsEStateIndex  MaxEStateIndex  MinAbsEStateIndex  MinEStateIndex  \\\n0             13.190522       13.190522           0.042537       -2.144257   \n1             11.445328       11.445328           0.165306       -1.798901   \n2             11.479044       11.479044           0.060963       -1.790095   \n3             12.391214       12.391214           0.061101       -0.159783   \n4             12.699094       12.699094           0.092039       -2.255140   \n...                 ...             ...                ...             ...   \n1046           2.515046        2.515046           1.095602        1.095602   \n1047           2.462963        2.462963           1.062269        1.062269   \n1048           6.083380        6.083380           0.016065        0.016065   \n1049           6.182100        6.182100           0.793840        0.793840   \n1050           6.171803        6.171803           0.407932        0.407932   \n\n           qed        SPS    MolWt  HeavyAtomMolWt  ...  157_y  158_y  159_y  \\\n0     0.133795  22.000000  520.480         500.320  ...    1.0    1.0    1.0   \n1     0.346256  45.303030  461.467         434.251  ...    1.0    1.0    1.0   \n2     0.359144  45.393939  461.467         434.251  ...    1.0    1.0    1.0   \n3     0.543803  19.464286  446.393         418.169  ...    0.0    1.0    0.0   \n4     0.648321  14.192308  375.772         361.660  ...    1.0    1.0    1.0   \n...        ...        ...      ...             ...  ...    ...    ...    ...   \n1046  0.843816  13.550000  267.396         244.212  ...    0.0    1.0    0.0   \n1047  0.828858  13.250000  284.428         264.268  ...    0.0    1.0    0.0   \n1048  0.784550  11.157895  255.361         234.193  ...    1.0    1.0    0.0   \n1049  0.834133  13.000000  304.846         287.710  ...    0.0    1.0    0.0   \n1050  0.805861  21.550000  306.236         289.100  ...    0.0    1.0    0.0   \n\n      160_y  161_y  162_y  163_y  164_y  165_y  166_y  \n0       1.0    1.0    1.0    1.0    1.0    1.0    0.0  \n1       1.0    1.0    1.0    1.0    1.0    1.0    0.0  \n2       1.0    1.0    1.0    1.0    1.0    1.0    0.0  \n3       1.0    1.0    1.0    1.0    1.0    1.0    0.0  \n4       1.0    1.0    1.0    1.0    1.0    1.0    0.0  \n...     ...    ...    ...    ...    ...    ...    ...  \n1046    1.0    1.0    1.0    1.0    0.0    1.0    0.0  \n1047    1.0    1.0    1.0    1.0    0.0    1.0    0.0  \n1048    1.0    1.0    1.0    1.0    1.0    1.0    0.0  \n1049    1.0    1.0    1.0    1.0    0.0    1.0    0.0  \n1050    1.0    1.0    1.0    1.0    0.0    1.0    0.0  \n\n[1051 rows x 4103 columns]",
      "text/html": "<div>\n<style scoped>\n    .dataframe tbody tr th:only-of-type {\n        vertical-align: middle;\n    }\n\n    .dataframe tbody tr th {\n        vertical-align: top;\n    }\n\n    .dataframe thead th {\n        text-align: right;\n    }\n</style>\n<table border=\"1\" class=\"dataframe\">\n  <thead>\n    <tr style=\"text-align: right;\">\n      <th></th>\n      <th>SMILES</th>\n      <th>logBB</th>\n      <th>MaxAbsEStateIndex</th>\n      <th>MaxEStateIndex</th>\n      <th>MinAbsEStateIndex</th>\n      <th>MinEStateIndex</th>\n      <th>qed</th>\n      <th>SPS</th>\n      <th>MolWt</th>\n      <th>HeavyAtomMolWt</th>\n      <th>...</th>\n      <th>157_y</th>\n      <th>158_y</th>\n      <th>159_y</th>\n      <th>160_y</th>\n      <th>161_y</th>\n      <th>162_y</th>\n      <th>163_y</th>\n      <th>164_y</th>\n      <th>165_y</th>\n      <th>166_y</th>\n    </tr>\n  </thead>\n  <tbody>\n    <tr>\n      <th>0</th>\n      <td>CN1C(=NN=N1)SCC2=C(N3C(C(C3=O)(NC(=O)C(C4=CC=C...</td>\n      <td>-2.52</td>\n      <td>13.190522</td>\n      <td>13.190522</td>\n      <td>0.042537</td>\n      <td>-2.144257</td>\n      <td>0.133795</td>\n      <td>22.000000</td>\n      <td>520.480</td>\n      <td>500.320</td>\n      <td>...</td>\n      <td>1.0</td>\n      <td>1.0</td>\n      <td>1.0</td>\n      <td>1.0</td>\n      <td>1.0</td>\n      <td>1.0</td>\n      <td>1.0</td>\n      <td>1.0</td>\n      <td>1.0</td>\n      <td>0.0</td>\n    </tr>\n    <tr>\n      <th>1</th>\n      <td>CN1CC[C@]23[C@@H]4[C@H]1CC5=C2C(=C(C=C5)OC6[C@...</td>\n      <td>-2.15</td>\n      <td>11.445328</td>\n      <td>11.445328</td>\n      <td>0.165306</td>\n      <td>-1.798901</td>\n      <td>0.346256</td>\n      <td>45.303030</td>\n      <td>461.467</td>\n      <td>434.251</td>\n      <td>...</td>\n      <td>1.0</td>\n      <td>1.0</td>\n      <td>1.0</td>\n      <td>1.0</td>\n      <td>1.0</td>\n      <td>1.0</td>\n      <td>1.0</td>\n      <td>1.0</td>\n      <td>1.0</td>\n      <td>0.0</td>\n    </tr>\n    <tr>\n      <th>2</th>\n      <td>CN1CC[C@]23[C@@H]4[C@H]1CC5=C2C(=C(C=C5)O)O[C@...</td>\n      <td>-2.09</td>\n      <td>11.479044</td>\n      <td>11.479044</td>\n      <td>0.060963</td>\n      <td>-1.790095</td>\n      <td>0.359144</td>\n      <td>45.393939</td>\n      <td>461.467</td>\n      <td>434.251</td>\n      <td>...</td>\n      <td>1.0</td>\n      <td>1.0</td>\n      <td>1.0</td>\n      <td>1.0</td>\n      <td>1.0</td>\n      <td>1.0</td>\n      <td>1.0</td>\n      <td>1.0</td>\n      <td>1.0</td>\n      <td>0.0</td>\n    </tr>\n    <tr>\n      <th>3</th>\n      <td>CC1=NC=C(C=C1)CC2CNC(NC2=O)NCCCCC3=NC=C(C=C3C)Br</td>\n      <td>-1.88</td>\n      <td>12.391214</td>\n      <td>12.391214</td>\n      <td>0.061101</td>\n      <td>-0.159783</td>\n      <td>0.543803</td>\n      <td>19.464286</td>\n      <td>446.393</td>\n      <td>418.169</td>\n      <td>...</td>\n      <td>0.0</td>\n      <td>1.0</td>\n      <td>0.0</td>\n      <td>1.0</td>\n      <td>1.0</td>\n      <td>1.0</td>\n      <td>1.0</td>\n      <td>1.0</td>\n      <td>1.0</td>\n      <td>0.0</td>\n    </tr>\n    <tr>\n      <th>4</th>\n      <td>c1(c2c3n(c4c(C(N(C)C3)=O)c(Cl)ccc4)cn2)noc(C(O...</td>\n      <td>-1.82</td>\n      <td>12.699094</td>\n      <td>12.699094</td>\n      <td>0.092039</td>\n      <td>-2.255140</td>\n      <td>0.648321</td>\n      <td>14.192308</td>\n      <td>375.772</td>\n      <td>361.660</td>\n      <td>...</td>\n      <td>1.0</td>\n      <td>1.0</td>\n      <td>1.0</td>\n      <td>1.0</td>\n      <td>1.0</td>\n      <td>1.0</td>\n      <td>1.0</td>\n      <td>1.0</td>\n      <td>1.0</td>\n      <td>0.0</td>\n    </tr>\n    <tr>\n      <th>...</th>\n      <td>...</td>\n      <td>...</td>\n      <td>...</td>\n      <td>...</td>\n      <td>...</td>\n      <td>...</td>\n      <td>...</td>\n      <td>...</td>\n      <td>...</td>\n      <td>...</td>\n      <td>...</td>\n      <td>...</td>\n      <td>...</td>\n      <td>...</td>\n      <td>...</td>\n      <td>...</td>\n      <td>...</td>\n      <td>...</td>\n      <td>...</td>\n      <td>...</td>\n      <td>...</td>\n    </tr>\n    <tr>\n      <th>1046</th>\n      <td>C[NH2+]CCCN1C2=CC=CC=C2CCC3=CC=CC=C31</td>\n      <td>1.20</td>\n      <td>2.515046</td>\n      <td>2.515046</td>\n      <td>1.095602</td>\n      <td>1.095602</td>\n      <td>0.843816</td>\n      <td>13.550000</td>\n      <td>267.396</td>\n      <td>244.212</td>\n      <td>...</td>\n      <td>0.0</td>\n      <td>1.0</td>\n      <td>0.0</td>\n      <td>1.0</td>\n      <td>1.0</td>\n      <td>1.0</td>\n      <td>1.0</td>\n      <td>0.0</td>\n      <td>1.0</td>\n      <td>0.0</td>\n    </tr>\n    <tr>\n      <th>1047</th>\n      <td>CN(C)CCCN1C2=CC=CC=C2SC3=CC=CC=C31</td>\n      <td>1.23</td>\n      <td>2.462963</td>\n      <td>2.462963</td>\n      <td>1.062269</td>\n      <td>1.062269</td>\n      <td>0.828858</td>\n      <td>13.250000</td>\n      <td>284.428</td>\n      <td>264.268</td>\n      <td>...</td>\n      <td>0.0</td>\n      <td>1.0</td>\n      <td>0.0</td>\n      <td>1.0</td>\n      <td>1.0</td>\n      <td>1.0</td>\n      <td>1.0</td>\n      <td>0.0</td>\n      <td>1.0</td>\n      <td>0.0</td>\n    </tr>\n    <tr>\n      <th>1048</th>\n      <td>CN(C)CCOC(C1=CC=CC=C1)C2=CC=CC=C2</td>\n      <td>1.30</td>\n      <td>6.083380</td>\n      <td>6.083380</td>\n      <td>0.016065</td>\n      <td>0.016065</td>\n      <td>0.784550</td>\n      <td>11.157895</td>\n      <td>255.361</td>\n      <td>234.193</td>\n      <td>...</td>\n      <td>1.0</td>\n      <td>1.0</td>\n      <td>0.0</td>\n      <td>1.0</td>\n      <td>1.0</td>\n      <td>1.0</td>\n      <td>1.0</td>\n      <td>1.0</td>\n      <td>1.0</td>\n      <td>0.0</td>\n    </tr>\n    <tr>\n      <th>1049</th>\n      <td>CNCCCN1C2=CC=CC=C2SC3=C1C=C(C=C3)Cl</td>\n      <td>1.40</td>\n      <td>6.182100</td>\n      <td>6.182100</td>\n      <td>0.793840</td>\n      <td>0.793840</td>\n      <td>0.834133</td>\n      <td>13.000000</td>\n      <td>304.846</td>\n      <td>287.710</td>\n      <td>...</td>\n      <td>0.0</td>\n      <td>1.0</td>\n      <td>0.0</td>\n      <td>1.0</td>\n      <td>1.0</td>\n      <td>1.0</td>\n      <td>1.0</td>\n      <td>0.0</td>\n      <td>1.0</td>\n      <td>0.0</td>\n    </tr>\n    <tr>\n      <th>1050</th>\n      <td>CN[C@H]1CC[C@H](C2=CC=CC=C12)C3=CC(=C(C=C3)Cl)Cl</td>\n      <td>1.60</td>\n      <td>6.171803</td>\n      <td>6.171803</td>\n      <td>0.407932</td>\n      <td>0.407932</td>\n      <td>0.805861</td>\n      <td>21.550000</td>\n      <td>306.236</td>\n      <td>289.100</td>\n      <td>...</td>\n      <td>0.0</td>\n      <td>1.0</td>\n      <td>0.0</td>\n      <td>1.0</td>\n      <td>1.0</td>\n      <td>1.0</td>\n      <td>1.0</td>\n      <td>0.0</td>\n      <td>1.0</td>\n      <td>0.0</td>\n    </tr>\n  </tbody>\n</table>\n<p>1051 rows × 4103 columns</p>\n</div>"
     },
     "execution_count": 9,
     "metadata": {},
     "output_type": "execute_result"
    }
   ],
   "source": [
    "regression_df_expanded_cleaned = filter_low_variance(\n",
    "    regression_df_expanded,\n",
    "    exclude_col_list=['SMILES', 'logBB'],\n",
    "    threshold_level=0\n",
    ")\n",
    "regression_df_expanded_cleaned"
   ],
   "metadata": {
    "collapsed": false
   }
  },
  {
   "cell_type": "code",
   "execution_count": 10,
   "outputs": [
    {
     "name": "stdout",
     "output_type": "stream",
     "text": [
      "Done!\n"
     ]
    }
   ],
   "source": [
    "regression_df_expanded_cleaned.to_csv(\n",
    "    'datasets\\expanded_datasets\\BBB_regression_expanded.csv.zip',\n",
    "    index=False,\n",
    "    compression='zip' # Have to use zip here since the classification\n",
    "    # dataset will become very large. Zipped .csv files can be directly read\n",
    "    # by pd.read_csv()\n",
    ")\n",
    "print('Done!')"
   ],
   "metadata": {
    "collapsed": false
   }
  },
  {
   "cell_type": "markdown",
   "source": [
    "## Classification"
   ],
   "metadata": {
    "collapsed": false
   }
  },
  {
   "cell_type": "code",
   "execution_count": 11,
   "outputs": [
    {
     "name": "stderr",
     "output_type": "stream",
     "text": [
      "Failed to patch pandas - unable to change molecule rendering\n"
     ]
    },
    {
     "data": {
      "text/plain": "Generating 210 RDKit descriptors:   0%|          | 0/7807 [00:00<?, ?it/s]",
      "application/vnd.jupyter.widget-view+json": {
       "version_major": 2,
       "version_minor": 0,
       "model_id": "4a3910297eba4a19a490b9e21d8515ed"
      }
     },
     "metadata": {},
     "output_type": "display_data"
    },
    {
     "data": {
      "text/plain": "Generating 4096 Morgan fingerprints:   0%|          | 0/7807 [00:00<?, ?it/s]",
      "application/vnd.jupyter.widget-view+json": {
       "version_major": 2,
       "version_minor": 0,
       "model_id": "5231d511ae75453694de7757c9756df9"
      }
     },
     "metadata": {},
     "output_type": "display_data"
    },
    {
     "data": {
      "text/plain": "Generating 167 MACCS keys:   0%|          | 0/7807 [00:00<?, ?it/s]",
      "application/vnd.jupyter.widget-view+json": {
       "version_major": 2,
       "version_minor": 0,
       "model_id": "553fe80a8082488481dac87a1819fc90"
      }
     },
     "metadata": {},
     "output_type": "display_data"
    },
    {
     "data": {
      "text/plain": "                                                 SMILES BBB+/BBB-  \\\n0      O=C(O)c1cc(N=Nc2ccc(S(=O)(=O)Nc3ccccn3)cc2)ccc1O      BBB-   \n1     COC1(NC(=O)C(C(=O)O)c2ccc(O)cc2)C(=O)N2C(C(=O)...      BBB-   \n2                                Oc1c(I)cc(Cl)c2cccnc12      BBB-   \n3                            CCNC(=NCCSCc1ncccc1Br)NC#N      BBB-   \n4     CN1CC[C@]23c4c5ccc(OC6O[C@H](C(=O)O)[C@@H](O)[...      BBB-   \n...                                                 ...       ...   \n7797                    c1ccc(CN(CC2=NCCN2)c2ccccc2)cc1      BBB-   \n7798                   CCOCCn1c(N2CCCN(C)CC2)nc2ccccc21      BBB+   \n7799               CN1CCC(=C2c3ccccc3CC(=O)c3sccc32)CC1      BBB+   \n7800                     Cc1[nH]c(=O)c(C#N)cc1-c1ccncc1      BBB-   \n7801                          Nc1cc(-c2ccncc2)c[nH]c1=O      BBB-   \n\n      MaxAbsEStateIndex  MaxEStateIndex  MinAbsEStateIndex  MinEStateIndex  \\\n0             12.341010       12.341010           0.023055       -3.794932   \n1             13.190522       13.190522           0.042537       -2.144257   \n2              9.654043        9.654043           0.195000        0.195000   \n3              8.544584        8.544584           0.532052        0.532052   \n4             11.445328       11.445328           0.165306       -1.798901   \n...                 ...             ...                ...             ...   \n7797           4.506501        4.506501           0.832250        0.832250   \n7798           5.564458        5.564458           0.733727        0.733727   \n7799          12.589347       12.589347           0.264794        0.264794   \n7800          11.364205       11.364205           0.122604       -0.349254   \n7801          11.009622       11.009622           0.221585       -0.261291   \n\n           qed        SPS    MolWt  HeavyAtomMolWt  ...  157_y  158_y  159_y  \\\n0     0.540588  11.428571  398.400         384.288  ...      1      1      1   \n1     0.133795  22.000000  520.480         500.320  ...      1      1      1   \n2     0.758308  10.615385  305.502         300.462  ...      1      0      0   \n3     0.272365  10.894737  342.266         326.138  ...      0      1      0   \n4     0.346256  45.303030  461.467         434.251  ...      1      1      1   \n...        ...        ...      ...             ...  ...    ...    ...    ...   \n7797  0.899820  13.700000  265.360         246.208  ...      0      1      0   \n7798  0.793110  17.090909  302.422         276.214  ...      1      1      0   \n7799  0.732528  18.863636  309.434         290.282  ...      0      1      0   \n7800  0.778670   9.750000  211.224         202.152  ...      0      0      0   \n7801  0.699644  10.000000  187.202         178.130  ...      0      1      0   \n\n      160_y  161_y  162_y  163_y  164_y  165_y  166_y  \n0         0      1      1      1      1      1      0  \n1         1      1      1      1      1      1      0  \n2         0      1      1      1      1      1      0  \n3         1      1      1      1      0      1      0  \n4         1      1      1      1      1      1      0  \n...     ...    ...    ...    ...    ...    ...    ...  \n7797      0      1      1      1      0      1      0  \n7798      1      1      1      1      1      1      0  \n7799      1      1      1      1      1      1      0  \n7800      1      1      1      1      1      1      0  \n7801      0      1      1      1      1      1      0  \n\n[7802 rows x 4475 columns]",
      "text/html": "<div>\n<style scoped>\n    .dataframe tbody tr th:only-of-type {\n        vertical-align: middle;\n    }\n\n    .dataframe tbody tr th {\n        vertical-align: top;\n    }\n\n    .dataframe thead th {\n        text-align: right;\n    }\n</style>\n<table border=\"1\" class=\"dataframe\">\n  <thead>\n    <tr style=\"text-align: right;\">\n      <th></th>\n      <th>SMILES</th>\n      <th>BBB+/BBB-</th>\n      <th>MaxAbsEStateIndex</th>\n      <th>MaxEStateIndex</th>\n      <th>MinAbsEStateIndex</th>\n      <th>MinEStateIndex</th>\n      <th>qed</th>\n      <th>SPS</th>\n      <th>MolWt</th>\n      <th>HeavyAtomMolWt</th>\n      <th>...</th>\n      <th>157_y</th>\n      <th>158_y</th>\n      <th>159_y</th>\n      <th>160_y</th>\n      <th>161_y</th>\n      <th>162_y</th>\n      <th>163_y</th>\n      <th>164_y</th>\n      <th>165_y</th>\n      <th>166_y</th>\n    </tr>\n  </thead>\n  <tbody>\n    <tr>\n      <th>0</th>\n      <td>O=C(O)c1cc(N=Nc2ccc(S(=O)(=O)Nc3ccccn3)cc2)ccc1O</td>\n      <td>BBB-</td>\n      <td>12.341010</td>\n      <td>12.341010</td>\n      <td>0.023055</td>\n      <td>-3.794932</td>\n      <td>0.540588</td>\n      <td>11.428571</td>\n      <td>398.400</td>\n      <td>384.288</td>\n      <td>...</td>\n      <td>1</td>\n      <td>1</td>\n      <td>1</td>\n      <td>0</td>\n      <td>1</td>\n      <td>1</td>\n      <td>1</td>\n      <td>1</td>\n      <td>1</td>\n      <td>0</td>\n    </tr>\n    <tr>\n      <th>1</th>\n      <td>COC1(NC(=O)C(C(=O)O)c2ccc(O)cc2)C(=O)N2C(C(=O)...</td>\n      <td>BBB-</td>\n      <td>13.190522</td>\n      <td>13.190522</td>\n      <td>0.042537</td>\n      <td>-2.144257</td>\n      <td>0.133795</td>\n      <td>22.000000</td>\n      <td>520.480</td>\n      <td>500.320</td>\n      <td>...</td>\n      <td>1</td>\n      <td>1</td>\n      <td>1</td>\n      <td>1</td>\n      <td>1</td>\n      <td>1</td>\n      <td>1</td>\n      <td>1</td>\n      <td>1</td>\n      <td>0</td>\n    </tr>\n    <tr>\n      <th>2</th>\n      <td>Oc1c(I)cc(Cl)c2cccnc12</td>\n      <td>BBB-</td>\n      <td>9.654043</td>\n      <td>9.654043</td>\n      <td>0.195000</td>\n      <td>0.195000</td>\n      <td>0.758308</td>\n      <td>10.615385</td>\n      <td>305.502</td>\n      <td>300.462</td>\n      <td>...</td>\n      <td>1</td>\n      <td>0</td>\n      <td>0</td>\n      <td>0</td>\n      <td>1</td>\n      <td>1</td>\n      <td>1</td>\n      <td>1</td>\n      <td>1</td>\n      <td>0</td>\n    </tr>\n    <tr>\n      <th>3</th>\n      <td>CCNC(=NCCSCc1ncccc1Br)NC#N</td>\n      <td>BBB-</td>\n      <td>8.544584</td>\n      <td>8.544584</td>\n      <td>0.532052</td>\n      <td>0.532052</td>\n      <td>0.272365</td>\n      <td>10.894737</td>\n      <td>342.266</td>\n      <td>326.138</td>\n      <td>...</td>\n      <td>0</td>\n      <td>1</td>\n      <td>0</td>\n      <td>1</td>\n      <td>1</td>\n      <td>1</td>\n      <td>1</td>\n      <td>0</td>\n      <td>1</td>\n      <td>0</td>\n    </tr>\n    <tr>\n      <th>4</th>\n      <td>CN1CC[C@]23c4c5ccc(OC6O[C@H](C(=O)O)[C@@H](O)[...</td>\n      <td>BBB-</td>\n      <td>11.445328</td>\n      <td>11.445328</td>\n      <td>0.165306</td>\n      <td>-1.798901</td>\n      <td>0.346256</td>\n      <td>45.303030</td>\n      <td>461.467</td>\n      <td>434.251</td>\n      <td>...</td>\n      <td>1</td>\n      <td>1</td>\n      <td>1</td>\n      <td>1</td>\n      <td>1</td>\n      <td>1</td>\n      <td>1</td>\n      <td>1</td>\n      <td>1</td>\n      <td>0</td>\n    </tr>\n    <tr>\n      <th>...</th>\n      <td>...</td>\n      <td>...</td>\n      <td>...</td>\n      <td>...</td>\n      <td>...</td>\n      <td>...</td>\n      <td>...</td>\n      <td>...</td>\n      <td>...</td>\n      <td>...</td>\n      <td>...</td>\n      <td>...</td>\n      <td>...</td>\n      <td>...</td>\n      <td>...</td>\n      <td>...</td>\n      <td>...</td>\n      <td>...</td>\n      <td>...</td>\n      <td>...</td>\n      <td>...</td>\n    </tr>\n    <tr>\n      <th>7797</th>\n      <td>c1ccc(CN(CC2=NCCN2)c2ccccc2)cc1</td>\n      <td>BBB-</td>\n      <td>4.506501</td>\n      <td>4.506501</td>\n      <td>0.832250</td>\n      <td>0.832250</td>\n      <td>0.899820</td>\n      <td>13.700000</td>\n      <td>265.360</td>\n      <td>246.208</td>\n      <td>...</td>\n      <td>0</td>\n      <td>1</td>\n      <td>0</td>\n      <td>0</td>\n      <td>1</td>\n      <td>1</td>\n      <td>1</td>\n      <td>0</td>\n      <td>1</td>\n      <td>0</td>\n    </tr>\n    <tr>\n      <th>7798</th>\n      <td>CCOCCn1c(N2CCCN(C)CC2)nc2ccccc21</td>\n      <td>BBB+</td>\n      <td>5.564458</td>\n      <td>5.564458</td>\n      <td>0.733727</td>\n      <td>0.733727</td>\n      <td>0.793110</td>\n      <td>17.090909</td>\n      <td>302.422</td>\n      <td>276.214</td>\n      <td>...</td>\n      <td>1</td>\n      <td>1</td>\n      <td>0</td>\n      <td>1</td>\n      <td>1</td>\n      <td>1</td>\n      <td>1</td>\n      <td>1</td>\n      <td>1</td>\n      <td>0</td>\n    </tr>\n    <tr>\n      <th>7799</th>\n      <td>CN1CCC(=C2c3ccccc3CC(=O)c3sccc32)CC1</td>\n      <td>BBB+</td>\n      <td>12.589347</td>\n      <td>12.589347</td>\n      <td>0.264794</td>\n      <td>0.264794</td>\n      <td>0.732528</td>\n      <td>18.863636</td>\n      <td>309.434</td>\n      <td>290.282</td>\n      <td>...</td>\n      <td>0</td>\n      <td>1</td>\n      <td>0</td>\n      <td>1</td>\n      <td>1</td>\n      <td>1</td>\n      <td>1</td>\n      <td>1</td>\n      <td>1</td>\n      <td>0</td>\n    </tr>\n    <tr>\n      <th>7800</th>\n      <td>Cc1[nH]c(=O)c(C#N)cc1-c1ccncc1</td>\n      <td>BBB-</td>\n      <td>11.364205</td>\n      <td>11.364205</td>\n      <td>0.122604</td>\n      <td>-0.349254</td>\n      <td>0.778670</td>\n      <td>9.750000</td>\n      <td>211.224</td>\n      <td>202.152</td>\n      <td>...</td>\n      <td>0</td>\n      <td>0</td>\n      <td>0</td>\n      <td>1</td>\n      <td>1</td>\n      <td>1</td>\n      <td>1</td>\n      <td>1</td>\n      <td>1</td>\n      <td>0</td>\n    </tr>\n    <tr>\n      <th>7801</th>\n      <td>Nc1cc(-c2ccncc2)c[nH]c1=O</td>\n      <td>BBB-</td>\n      <td>11.009622</td>\n      <td>11.009622</td>\n      <td>0.221585</td>\n      <td>-0.261291</td>\n      <td>0.699644</td>\n      <td>10.000000</td>\n      <td>187.202</td>\n      <td>178.130</td>\n      <td>...</td>\n      <td>0</td>\n      <td>1</td>\n      <td>0</td>\n      <td>0</td>\n      <td>1</td>\n      <td>1</td>\n      <td>1</td>\n      <td>1</td>\n      <td>1</td>\n      <td>0</td>\n    </tr>\n  </tbody>\n</table>\n<p>7802 rows × 4475 columns</p>\n</div>"
     },
     "execution_count": 11,
     "metadata": {},
     "output_type": "execute_result"
    }
   ],
   "source": [
    "classification_df_expanded, classification_expansion_errors = dataset_feature_expansion(\n",
    "    classification_df)\n",
    "classification_df_expanded"
   ],
   "metadata": {
    "collapsed": false
   }
  },
  {
   "cell_type": "code",
   "execution_count": 12,
   "outputs": [
    {
     "name": "stdout",
     "output_type": "stream",
     "text": [
      "Before removing the low-variance descriptors, the dataset has 4473 descriptors\n",
      "After removing the zero-variance descriptors, the dataset has 4456 descriptors\n"
     ]
    },
    {
     "data": {
      "text/plain": "                                                 SMILES BBB+/BBB-  \\\n0      O=C(O)c1cc(N=Nc2ccc(S(=O)(=O)Nc3ccccn3)cc2)ccc1O      BBB-   \n1     COC1(NC(=O)C(C(=O)O)c2ccc(O)cc2)C(=O)N2C(C(=O)...      BBB-   \n2                                Oc1c(I)cc(Cl)c2cccnc12      BBB-   \n3                            CCNC(=NCCSCc1ncccc1Br)NC#N      BBB-   \n4     CN1CC[C@]23c4c5ccc(OC6O[C@H](C(=O)O)[C@@H](O)[...      BBB-   \n...                                                 ...       ...   \n7797                    c1ccc(CN(CC2=NCCN2)c2ccccc2)cc1      BBB-   \n7798                   CCOCCn1c(N2CCCN(C)CC2)nc2ccccc21      BBB+   \n7799               CN1CCC(=C2c3ccccc3CC(=O)c3sccc32)CC1      BBB+   \n7800                     Cc1[nH]c(=O)c(C#N)cc1-c1ccncc1      BBB-   \n7801                          Nc1cc(-c2ccncc2)c[nH]c1=O      BBB-   \n\n      MaxAbsEStateIndex  MaxEStateIndex  MinAbsEStateIndex  MinEStateIndex  \\\n0             12.341010       12.341010           0.023055       -3.794932   \n1             13.190522       13.190522           0.042537       -2.144257   \n2              9.654043        9.654043           0.195000        0.195000   \n3              8.544584        8.544584           0.532052        0.532052   \n4             11.445328       11.445328           0.165306       -1.798901   \n...                 ...             ...                ...             ...   \n7797           4.506501        4.506501           0.832250        0.832250   \n7798           5.564458        5.564458           0.733727        0.733727   \n7799          12.589347       12.589347           0.264794        0.264794   \n7800          11.364205       11.364205           0.122604       -0.349254   \n7801          11.009622       11.009622           0.221585       -0.261291   \n\n           qed        SPS    MolWt  HeavyAtomMolWt  ...  157_y  158_y  159_y  \\\n0     0.540588  11.428571  398.400         384.288  ...    1.0    1.0    1.0   \n1     0.133795  22.000000  520.480         500.320  ...    1.0    1.0    1.0   \n2     0.758308  10.615385  305.502         300.462  ...    1.0    0.0    0.0   \n3     0.272365  10.894737  342.266         326.138  ...    0.0    1.0    0.0   \n4     0.346256  45.303030  461.467         434.251  ...    1.0    1.0    1.0   \n...        ...        ...      ...             ...  ...    ...    ...    ...   \n7797  0.899820  13.700000  265.360         246.208  ...    0.0    1.0    0.0   \n7798  0.793110  17.090909  302.422         276.214  ...    1.0    1.0    0.0   \n7799  0.732528  18.863636  309.434         290.282  ...    0.0    1.0    0.0   \n7800  0.778670   9.750000  211.224         202.152  ...    0.0    0.0    0.0   \n7801  0.699644  10.000000  187.202         178.130  ...    0.0    1.0    0.0   \n\n      160_y  161_y  162_y  163_y  164_y  165_y  166_y  \n0       0.0    1.0    1.0    1.0    1.0    1.0    0.0  \n1       1.0    1.0    1.0    1.0    1.0    1.0    0.0  \n2       0.0    1.0    1.0    1.0    1.0    1.0    0.0  \n3       1.0    1.0    1.0    1.0    0.0    1.0    0.0  \n4       1.0    1.0    1.0    1.0    1.0    1.0    0.0  \n...     ...    ...    ...    ...    ...    ...    ...  \n7797    0.0    1.0    1.0    1.0    0.0    1.0    0.0  \n7798    1.0    1.0    1.0    1.0    1.0    1.0    0.0  \n7799    1.0    1.0    1.0    1.0    1.0    1.0    0.0  \n7800    1.0    1.0    1.0    1.0    1.0    1.0    0.0  \n7801    0.0    1.0    1.0    1.0    1.0    1.0    0.0  \n\n[7802 rows x 4456 columns]",
      "text/html": "<div>\n<style scoped>\n    .dataframe tbody tr th:only-of-type {\n        vertical-align: middle;\n    }\n\n    .dataframe tbody tr th {\n        vertical-align: top;\n    }\n\n    .dataframe thead th {\n        text-align: right;\n    }\n</style>\n<table border=\"1\" class=\"dataframe\">\n  <thead>\n    <tr style=\"text-align: right;\">\n      <th></th>\n      <th>SMILES</th>\n      <th>BBB+/BBB-</th>\n      <th>MaxAbsEStateIndex</th>\n      <th>MaxEStateIndex</th>\n      <th>MinAbsEStateIndex</th>\n      <th>MinEStateIndex</th>\n      <th>qed</th>\n      <th>SPS</th>\n      <th>MolWt</th>\n      <th>HeavyAtomMolWt</th>\n      <th>...</th>\n      <th>157_y</th>\n      <th>158_y</th>\n      <th>159_y</th>\n      <th>160_y</th>\n      <th>161_y</th>\n      <th>162_y</th>\n      <th>163_y</th>\n      <th>164_y</th>\n      <th>165_y</th>\n      <th>166_y</th>\n    </tr>\n  </thead>\n  <tbody>\n    <tr>\n      <th>0</th>\n      <td>O=C(O)c1cc(N=Nc2ccc(S(=O)(=O)Nc3ccccn3)cc2)ccc1O</td>\n      <td>BBB-</td>\n      <td>12.341010</td>\n      <td>12.341010</td>\n      <td>0.023055</td>\n      <td>-3.794932</td>\n      <td>0.540588</td>\n      <td>11.428571</td>\n      <td>398.400</td>\n      <td>384.288</td>\n      <td>...</td>\n      <td>1.0</td>\n      <td>1.0</td>\n      <td>1.0</td>\n      <td>0.0</td>\n      <td>1.0</td>\n      <td>1.0</td>\n      <td>1.0</td>\n      <td>1.0</td>\n      <td>1.0</td>\n      <td>0.0</td>\n    </tr>\n    <tr>\n      <th>1</th>\n      <td>COC1(NC(=O)C(C(=O)O)c2ccc(O)cc2)C(=O)N2C(C(=O)...</td>\n      <td>BBB-</td>\n      <td>13.190522</td>\n      <td>13.190522</td>\n      <td>0.042537</td>\n      <td>-2.144257</td>\n      <td>0.133795</td>\n      <td>22.000000</td>\n      <td>520.480</td>\n      <td>500.320</td>\n      <td>...</td>\n      <td>1.0</td>\n      <td>1.0</td>\n      <td>1.0</td>\n      <td>1.0</td>\n      <td>1.0</td>\n      <td>1.0</td>\n      <td>1.0</td>\n      <td>1.0</td>\n      <td>1.0</td>\n      <td>0.0</td>\n    </tr>\n    <tr>\n      <th>2</th>\n      <td>Oc1c(I)cc(Cl)c2cccnc12</td>\n      <td>BBB-</td>\n      <td>9.654043</td>\n      <td>9.654043</td>\n      <td>0.195000</td>\n      <td>0.195000</td>\n      <td>0.758308</td>\n      <td>10.615385</td>\n      <td>305.502</td>\n      <td>300.462</td>\n      <td>...</td>\n      <td>1.0</td>\n      <td>0.0</td>\n      <td>0.0</td>\n      <td>0.0</td>\n      <td>1.0</td>\n      <td>1.0</td>\n      <td>1.0</td>\n      <td>1.0</td>\n      <td>1.0</td>\n      <td>0.0</td>\n    </tr>\n    <tr>\n      <th>3</th>\n      <td>CCNC(=NCCSCc1ncccc1Br)NC#N</td>\n      <td>BBB-</td>\n      <td>8.544584</td>\n      <td>8.544584</td>\n      <td>0.532052</td>\n      <td>0.532052</td>\n      <td>0.272365</td>\n      <td>10.894737</td>\n      <td>342.266</td>\n      <td>326.138</td>\n      <td>...</td>\n      <td>0.0</td>\n      <td>1.0</td>\n      <td>0.0</td>\n      <td>1.0</td>\n      <td>1.0</td>\n      <td>1.0</td>\n      <td>1.0</td>\n      <td>0.0</td>\n      <td>1.0</td>\n      <td>0.0</td>\n    </tr>\n    <tr>\n      <th>4</th>\n      <td>CN1CC[C@]23c4c5ccc(OC6O[C@H](C(=O)O)[C@@H](O)[...</td>\n      <td>BBB-</td>\n      <td>11.445328</td>\n      <td>11.445328</td>\n      <td>0.165306</td>\n      <td>-1.798901</td>\n      <td>0.346256</td>\n      <td>45.303030</td>\n      <td>461.467</td>\n      <td>434.251</td>\n      <td>...</td>\n      <td>1.0</td>\n      <td>1.0</td>\n      <td>1.0</td>\n      <td>1.0</td>\n      <td>1.0</td>\n      <td>1.0</td>\n      <td>1.0</td>\n      <td>1.0</td>\n      <td>1.0</td>\n      <td>0.0</td>\n    </tr>\n    <tr>\n      <th>...</th>\n      <td>...</td>\n      <td>...</td>\n      <td>...</td>\n      <td>...</td>\n      <td>...</td>\n      <td>...</td>\n      <td>...</td>\n      <td>...</td>\n      <td>...</td>\n      <td>...</td>\n      <td>...</td>\n      <td>...</td>\n      <td>...</td>\n      <td>...</td>\n      <td>...</td>\n      <td>...</td>\n      <td>...</td>\n      <td>...</td>\n      <td>...</td>\n      <td>...</td>\n      <td>...</td>\n    </tr>\n    <tr>\n      <th>7797</th>\n      <td>c1ccc(CN(CC2=NCCN2)c2ccccc2)cc1</td>\n      <td>BBB-</td>\n      <td>4.506501</td>\n      <td>4.506501</td>\n      <td>0.832250</td>\n      <td>0.832250</td>\n      <td>0.899820</td>\n      <td>13.700000</td>\n      <td>265.360</td>\n      <td>246.208</td>\n      <td>...</td>\n      <td>0.0</td>\n      <td>1.0</td>\n      <td>0.0</td>\n      <td>0.0</td>\n      <td>1.0</td>\n      <td>1.0</td>\n      <td>1.0</td>\n      <td>0.0</td>\n      <td>1.0</td>\n      <td>0.0</td>\n    </tr>\n    <tr>\n      <th>7798</th>\n      <td>CCOCCn1c(N2CCCN(C)CC2)nc2ccccc21</td>\n      <td>BBB+</td>\n      <td>5.564458</td>\n      <td>5.564458</td>\n      <td>0.733727</td>\n      <td>0.733727</td>\n      <td>0.793110</td>\n      <td>17.090909</td>\n      <td>302.422</td>\n      <td>276.214</td>\n      <td>...</td>\n      <td>1.0</td>\n      <td>1.0</td>\n      <td>0.0</td>\n      <td>1.0</td>\n      <td>1.0</td>\n      <td>1.0</td>\n      <td>1.0</td>\n      <td>1.0</td>\n      <td>1.0</td>\n      <td>0.0</td>\n    </tr>\n    <tr>\n      <th>7799</th>\n      <td>CN1CCC(=C2c3ccccc3CC(=O)c3sccc32)CC1</td>\n      <td>BBB+</td>\n      <td>12.589347</td>\n      <td>12.589347</td>\n      <td>0.264794</td>\n      <td>0.264794</td>\n      <td>0.732528</td>\n      <td>18.863636</td>\n      <td>309.434</td>\n      <td>290.282</td>\n      <td>...</td>\n      <td>0.0</td>\n      <td>1.0</td>\n      <td>0.0</td>\n      <td>1.0</td>\n      <td>1.0</td>\n      <td>1.0</td>\n      <td>1.0</td>\n      <td>1.0</td>\n      <td>1.0</td>\n      <td>0.0</td>\n    </tr>\n    <tr>\n      <th>7800</th>\n      <td>Cc1[nH]c(=O)c(C#N)cc1-c1ccncc1</td>\n      <td>BBB-</td>\n      <td>11.364205</td>\n      <td>11.364205</td>\n      <td>0.122604</td>\n      <td>-0.349254</td>\n      <td>0.778670</td>\n      <td>9.750000</td>\n      <td>211.224</td>\n      <td>202.152</td>\n      <td>...</td>\n      <td>0.0</td>\n      <td>0.0</td>\n      <td>0.0</td>\n      <td>1.0</td>\n      <td>1.0</td>\n      <td>1.0</td>\n      <td>1.0</td>\n      <td>1.0</td>\n      <td>1.0</td>\n      <td>0.0</td>\n    </tr>\n    <tr>\n      <th>7801</th>\n      <td>Nc1cc(-c2ccncc2)c[nH]c1=O</td>\n      <td>BBB-</td>\n      <td>11.009622</td>\n      <td>11.009622</td>\n      <td>0.221585</td>\n      <td>-0.261291</td>\n      <td>0.699644</td>\n      <td>10.000000</td>\n      <td>187.202</td>\n      <td>178.130</td>\n      <td>...</td>\n      <td>0.0</td>\n      <td>1.0</td>\n      <td>0.0</td>\n      <td>0.0</td>\n      <td>1.0</td>\n      <td>1.0</td>\n      <td>1.0</td>\n      <td>1.0</td>\n      <td>1.0</td>\n      <td>0.0</td>\n    </tr>\n  </tbody>\n</table>\n<p>7802 rows × 4456 columns</p>\n</div>"
     },
     "execution_count": 12,
     "metadata": {},
     "output_type": "execute_result"
    }
   ],
   "source": [
    "classification_df_expanded_cleaned = filter_low_variance(\n",
    "    classification_df_expanded,\n",
    "    exclude_col_list=['SMILES', 'BBB+/BBB-'],\n",
    "    threshold_level=0\n",
    ")\n",
    "classification_df_expanded_cleaned"
   ],
   "metadata": {
    "collapsed": false
   }
  },
  {
   "cell_type": "code",
   "execution_count": 13,
   "outputs": [
    {
     "name": "stdout",
     "output_type": "stream",
     "text": [
      "Done!\n"
     ]
    }
   ],
   "source": [
    "classification_df_expanded_cleaned.to_csv(\n",
    "    'datasets\\expanded_datasets\\BBB_classification_expanded.csv.zip',\n",
    "    index=False,\n",
    "    compression='zip'\n",
    ")\n",
    "print('Done!')"
   ],
   "metadata": {
    "collapsed": false
   }
  },
  {
   "cell_type": "markdown",
   "source": [
    "# Rebalance datasets\n",
    "Before center and standardization"
   ],
   "metadata": {
    "collapsed": false
   }
  },
  {
   "cell_type": "markdown",
   "source": [
    "## Regression"
   ],
   "metadata": {
    "collapsed": false
   }
  },
  {
   "cell_type": "code",
   "execution_count": 15,
   "outputs": [
    {
     "data": {
      "text/plain": "                                                 SMILES  logBB  \\\n0     CN1C(=NN=N1)SCC2=C(N3C(C(C3=O)(NC(=O)C(C4=CC=C...  -2.52   \n1     CN1CC[C@]23[C@@H]4[C@H]1CC5=C2C(=C(C=C5)OC6[C@...  -2.15   \n2     CN1CC[C@]23[C@@H]4[C@H]1CC5=C2C(=C(C=C5)O)O[C@...  -2.09   \n3      CC1=NC=C(C=C1)CC2CNC(NC2=O)NCCCCC3=NC=C(C=C3C)Br  -1.88   \n4     c1(c2c3n(c4c(C(N(C)C3)=O)c(Cl)ccc4)cn2)noc(C(O...  -1.82   \n...                                                 ...    ...   \n1046              C[NH2+]CCCN1C2=CC=CC=C2CCC3=CC=CC=C31   1.20   \n1047                 CN(C)CCCN1C2=CC=CC=C2SC3=CC=CC=C31   1.23   \n1048                  CN(C)CCOC(C1=CC=CC=C1)C2=CC=CC=C2   1.30   \n1049                CNCCCN1C2=CC=CC=C2SC3=C1C=C(C=C3)Cl   1.40   \n1050   CN[C@H]1CC[C@H](C2=CC=CC=C12)C3=CC(=C(C=C3)Cl)Cl   1.60   \n\n      MaxAbsEStateIndex  MaxEStateIndex  MinAbsEStateIndex  MinEStateIndex  \\\n0             13.190522       13.190522           0.042537       -2.144257   \n1             11.445328       11.445328           0.165306       -1.798901   \n2             11.479044       11.479044           0.060963       -1.790095   \n3             12.391214       12.391214           0.061101       -0.159783   \n4             12.699094       12.699094           0.092039       -2.255140   \n...                 ...             ...                ...             ...   \n1046           2.515046        2.515046           1.095602        1.095602   \n1047           2.462963        2.462963           1.062269        1.062269   \n1048           6.083380        6.083380           0.016065        0.016065   \n1049           6.182100        6.182100           0.793840        0.793840   \n1050           6.171803        6.171803           0.407932        0.407932   \n\n           qed        SPS    MolWt  HeavyAtomMolWt  ...  157_y  158_y  159_y  \\\n0     0.133795  22.000000  520.480         500.320  ...    1.0    1.0    1.0   \n1     0.346256  45.303030  461.467         434.251  ...    1.0    1.0    1.0   \n2     0.359144  45.393939  461.467         434.251  ...    1.0    1.0    1.0   \n3     0.543803  19.464286  446.393         418.169  ...    0.0    1.0    0.0   \n4     0.648321  14.192308  375.772         361.660  ...    1.0    1.0    1.0   \n...        ...        ...      ...             ...  ...    ...    ...    ...   \n1046  0.843816  13.550000  267.396         244.212  ...    0.0    1.0    0.0   \n1047  0.828858  13.250000  284.428         264.268  ...    0.0    1.0    0.0   \n1048  0.784550  11.157895  255.361         234.193  ...    1.0    1.0    0.0   \n1049  0.834133  13.000000  304.846         287.710  ...    0.0    1.0    0.0   \n1050  0.805861  21.550000  306.236         289.100  ...    0.0    1.0    0.0   \n\n      160_y  161_y  162_y  163_y  164_y  165_y  166_y  \n0       1.0    1.0    1.0    1.0    1.0    1.0    0.0  \n1       1.0    1.0    1.0    1.0    1.0    1.0    0.0  \n2       1.0    1.0    1.0    1.0    1.0    1.0    0.0  \n3       1.0    1.0    1.0    1.0    1.0    1.0    0.0  \n4       1.0    1.0    1.0    1.0    1.0    1.0    0.0  \n...     ...    ...    ...    ...    ...    ...    ...  \n1046    1.0    1.0    1.0    1.0    0.0    1.0    0.0  \n1047    1.0    1.0    1.0    1.0    0.0    1.0    0.0  \n1048    1.0    1.0    1.0    1.0    1.0    1.0    0.0  \n1049    1.0    1.0    1.0    1.0    0.0    1.0    0.0  \n1050    1.0    1.0    1.0    1.0    0.0    1.0    0.0  \n\n[1051 rows x 4103 columns]",
      "text/html": "<div>\n<style scoped>\n    .dataframe tbody tr th:only-of-type {\n        vertical-align: middle;\n    }\n\n    .dataframe tbody tr th {\n        vertical-align: top;\n    }\n\n    .dataframe thead th {\n        text-align: right;\n    }\n</style>\n<table border=\"1\" class=\"dataframe\">\n  <thead>\n    <tr style=\"text-align: right;\">\n      <th></th>\n      <th>SMILES</th>\n      <th>logBB</th>\n      <th>MaxAbsEStateIndex</th>\n      <th>MaxEStateIndex</th>\n      <th>MinAbsEStateIndex</th>\n      <th>MinEStateIndex</th>\n      <th>qed</th>\n      <th>SPS</th>\n      <th>MolWt</th>\n      <th>HeavyAtomMolWt</th>\n      <th>...</th>\n      <th>157_y</th>\n      <th>158_y</th>\n      <th>159_y</th>\n      <th>160_y</th>\n      <th>161_y</th>\n      <th>162_y</th>\n      <th>163_y</th>\n      <th>164_y</th>\n      <th>165_y</th>\n      <th>166_y</th>\n    </tr>\n  </thead>\n  <tbody>\n    <tr>\n      <th>0</th>\n      <td>CN1C(=NN=N1)SCC2=C(N3C(C(C3=O)(NC(=O)C(C4=CC=C...</td>\n      <td>-2.52</td>\n      <td>13.190522</td>\n      <td>13.190522</td>\n      <td>0.042537</td>\n      <td>-2.144257</td>\n      <td>0.133795</td>\n      <td>22.000000</td>\n      <td>520.480</td>\n      <td>500.320</td>\n      <td>...</td>\n      <td>1.0</td>\n      <td>1.0</td>\n      <td>1.0</td>\n      <td>1.0</td>\n      <td>1.0</td>\n      <td>1.0</td>\n      <td>1.0</td>\n      <td>1.0</td>\n      <td>1.0</td>\n      <td>0.0</td>\n    </tr>\n    <tr>\n      <th>1</th>\n      <td>CN1CC[C@]23[C@@H]4[C@H]1CC5=C2C(=C(C=C5)OC6[C@...</td>\n      <td>-2.15</td>\n      <td>11.445328</td>\n      <td>11.445328</td>\n      <td>0.165306</td>\n      <td>-1.798901</td>\n      <td>0.346256</td>\n      <td>45.303030</td>\n      <td>461.467</td>\n      <td>434.251</td>\n      <td>...</td>\n      <td>1.0</td>\n      <td>1.0</td>\n      <td>1.0</td>\n      <td>1.0</td>\n      <td>1.0</td>\n      <td>1.0</td>\n      <td>1.0</td>\n      <td>1.0</td>\n      <td>1.0</td>\n      <td>0.0</td>\n    </tr>\n    <tr>\n      <th>2</th>\n      <td>CN1CC[C@]23[C@@H]4[C@H]1CC5=C2C(=C(C=C5)O)O[C@...</td>\n      <td>-2.09</td>\n      <td>11.479044</td>\n      <td>11.479044</td>\n      <td>0.060963</td>\n      <td>-1.790095</td>\n      <td>0.359144</td>\n      <td>45.393939</td>\n      <td>461.467</td>\n      <td>434.251</td>\n      <td>...</td>\n      <td>1.0</td>\n      <td>1.0</td>\n      <td>1.0</td>\n      <td>1.0</td>\n      <td>1.0</td>\n      <td>1.0</td>\n      <td>1.0</td>\n      <td>1.0</td>\n      <td>1.0</td>\n      <td>0.0</td>\n    </tr>\n    <tr>\n      <th>3</th>\n      <td>CC1=NC=C(C=C1)CC2CNC(NC2=O)NCCCCC3=NC=C(C=C3C)Br</td>\n      <td>-1.88</td>\n      <td>12.391214</td>\n      <td>12.391214</td>\n      <td>0.061101</td>\n      <td>-0.159783</td>\n      <td>0.543803</td>\n      <td>19.464286</td>\n      <td>446.393</td>\n      <td>418.169</td>\n      <td>...</td>\n      <td>0.0</td>\n      <td>1.0</td>\n      <td>0.0</td>\n      <td>1.0</td>\n      <td>1.0</td>\n      <td>1.0</td>\n      <td>1.0</td>\n      <td>1.0</td>\n      <td>1.0</td>\n      <td>0.0</td>\n    </tr>\n    <tr>\n      <th>4</th>\n      <td>c1(c2c3n(c4c(C(N(C)C3)=O)c(Cl)ccc4)cn2)noc(C(O...</td>\n      <td>-1.82</td>\n      <td>12.699094</td>\n      <td>12.699094</td>\n      <td>0.092039</td>\n      <td>-2.255140</td>\n      <td>0.648321</td>\n      <td>14.192308</td>\n      <td>375.772</td>\n      <td>361.660</td>\n      <td>...</td>\n      <td>1.0</td>\n      <td>1.0</td>\n      <td>1.0</td>\n      <td>1.0</td>\n      <td>1.0</td>\n      <td>1.0</td>\n      <td>1.0</td>\n      <td>1.0</td>\n      <td>1.0</td>\n      <td>0.0</td>\n    </tr>\n    <tr>\n      <th>...</th>\n      <td>...</td>\n      <td>...</td>\n      <td>...</td>\n      <td>...</td>\n      <td>...</td>\n      <td>...</td>\n      <td>...</td>\n      <td>...</td>\n      <td>...</td>\n      <td>...</td>\n      <td>...</td>\n      <td>...</td>\n      <td>...</td>\n      <td>...</td>\n      <td>...</td>\n      <td>...</td>\n      <td>...</td>\n      <td>...</td>\n      <td>...</td>\n      <td>...</td>\n      <td>...</td>\n    </tr>\n    <tr>\n      <th>1046</th>\n      <td>C[NH2+]CCCN1C2=CC=CC=C2CCC3=CC=CC=C31</td>\n      <td>1.20</td>\n      <td>2.515046</td>\n      <td>2.515046</td>\n      <td>1.095602</td>\n      <td>1.095602</td>\n      <td>0.843816</td>\n      <td>13.550000</td>\n      <td>267.396</td>\n      <td>244.212</td>\n      <td>...</td>\n      <td>0.0</td>\n      <td>1.0</td>\n      <td>0.0</td>\n      <td>1.0</td>\n      <td>1.0</td>\n      <td>1.0</td>\n      <td>1.0</td>\n      <td>0.0</td>\n      <td>1.0</td>\n      <td>0.0</td>\n    </tr>\n    <tr>\n      <th>1047</th>\n      <td>CN(C)CCCN1C2=CC=CC=C2SC3=CC=CC=C31</td>\n      <td>1.23</td>\n      <td>2.462963</td>\n      <td>2.462963</td>\n      <td>1.062269</td>\n      <td>1.062269</td>\n      <td>0.828858</td>\n      <td>13.250000</td>\n      <td>284.428</td>\n      <td>264.268</td>\n      <td>...</td>\n      <td>0.0</td>\n      <td>1.0</td>\n      <td>0.0</td>\n      <td>1.0</td>\n      <td>1.0</td>\n      <td>1.0</td>\n      <td>1.0</td>\n      <td>0.0</td>\n      <td>1.0</td>\n      <td>0.0</td>\n    </tr>\n    <tr>\n      <th>1048</th>\n      <td>CN(C)CCOC(C1=CC=CC=C1)C2=CC=CC=C2</td>\n      <td>1.30</td>\n      <td>6.083380</td>\n      <td>6.083380</td>\n      <td>0.016065</td>\n      <td>0.016065</td>\n      <td>0.784550</td>\n      <td>11.157895</td>\n      <td>255.361</td>\n      <td>234.193</td>\n      <td>...</td>\n      <td>1.0</td>\n      <td>1.0</td>\n      <td>0.0</td>\n      <td>1.0</td>\n      <td>1.0</td>\n      <td>1.0</td>\n      <td>1.0</td>\n      <td>1.0</td>\n      <td>1.0</td>\n      <td>0.0</td>\n    </tr>\n    <tr>\n      <th>1049</th>\n      <td>CNCCCN1C2=CC=CC=C2SC3=C1C=C(C=C3)Cl</td>\n      <td>1.40</td>\n      <td>6.182100</td>\n      <td>6.182100</td>\n      <td>0.793840</td>\n      <td>0.793840</td>\n      <td>0.834133</td>\n      <td>13.000000</td>\n      <td>304.846</td>\n      <td>287.710</td>\n      <td>...</td>\n      <td>0.0</td>\n      <td>1.0</td>\n      <td>0.0</td>\n      <td>1.0</td>\n      <td>1.0</td>\n      <td>1.0</td>\n      <td>1.0</td>\n      <td>0.0</td>\n      <td>1.0</td>\n      <td>0.0</td>\n    </tr>\n    <tr>\n      <th>1050</th>\n      <td>CN[C@H]1CC[C@H](C2=CC=CC=C12)C3=CC(=C(C=C3)Cl)Cl</td>\n      <td>1.60</td>\n      <td>6.171803</td>\n      <td>6.171803</td>\n      <td>0.407932</td>\n      <td>0.407932</td>\n      <td>0.805861</td>\n      <td>21.550000</td>\n      <td>306.236</td>\n      <td>289.100</td>\n      <td>...</td>\n      <td>0.0</td>\n      <td>1.0</td>\n      <td>0.0</td>\n      <td>1.0</td>\n      <td>1.0</td>\n      <td>1.0</td>\n      <td>1.0</td>\n      <td>0.0</td>\n      <td>1.0</td>\n      <td>0.0</td>\n    </tr>\n  </tbody>\n</table>\n<p>1051 rows × 4103 columns</p>\n</div>"
     },
     "execution_count": 15,
     "metadata": {},
     "output_type": "execute_result"
    }
   ],
   "source": [
    "regression_df_expanded_cleaned = pd.read_csv\\\n",
    "    ('datasets\\expanded_datasets\\BBB_regression_expanded.csv.zip')\n",
    "regression_df_expanded_cleaned"
   ],
   "metadata": {
    "collapsed": false
   }
  },
  {
   "cell_type": "markdown",
   "source": [
    "# Model training\n",
    "Datasets transformation will be done along the way"
   ],
   "metadata": {
    "collapsed": false
   }
  },
  {
   "cell_type": "markdown",
   "source": [
    "## Regression"
   ],
   "metadata": {
    "collapsed": false
   }
  },
  {
   "cell_type": "markdown",
   "source": [
    "## Classification"
   ],
   "metadata": {
    "collapsed": false
   }
  }
 ],
 "metadata": {
  "kernelspec": {
   "display_name": "Python 3",
   "language": "python",
   "name": "python3"
  },
  "language_info": {
   "codemirror_mode": {
    "name": "ipython",
    "version": 2
   },
   "file_extension": ".py",
   "mimetype": "text/x-python",
   "name": "python",
   "nbconvert_exporter": "python",
   "pygments_lexer": "ipython2",
   "version": "2.7.6"
  }
 },
 "nbformat": 4,
 "nbformat_minor": 0
}
