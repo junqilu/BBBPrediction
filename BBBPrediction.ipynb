{
 "cells": [
  {
   "cell_type": "markdown",
   "source": [
    "# Import packages"
   ],
   "metadata": {
    "collapsed": false
   }
  },
  {
   "cell_type": "code",
   "execution_count": 1,
   "outputs": [
    {
     "name": "stderr",
     "output_type": "stream",
     "text": [
      "Failed to find the pandas get_adjustment() function to patch\n",
      "Failed to patch pandas - PandasTools will have limited functionality\n"
     ]
    }
   ],
   "source": [
    "import pickle  # Local Python (3.8) is fine with this. If you're suing Google\n",
    "# colab, which uses a Python version of 3.6, you need to do import pickel5\n",
    "# as pickle\n",
    "import cloudpickle as cp\n",
    "from urllib.request import urlopen\n",
    "\n",
    "import numpy as np\n",
    "import pandas as pd\n",
    "\n",
    "\n",
    "from rdkit.Chem import PandasTools, AllChem, MACCSkeys\n",
    "from mordred import Calculator, descriptors\n",
    "\n",
    "from sklearn.feature_selection import VarianceThreshold  #For checking\n",
    "# descriptors with low variance\n",
    "from collinearity import SelectNonCollinear  #For throw out highly\n",
    "# correlated variables"
   ],
   "metadata": {
    "collapsed": false
   }
  },
  {
   "cell_type": "markdown",
   "source": [
    "# Custom functions"
   ],
   "metadata": {
    "collapsed": false
   }
  },
  {
   "cell_type": "code",
   "execution_count": 2,
   "outputs": [],
   "source": [
    "from dataset_expansion import dataset_feature_expansion\n",
    "\n",
    "\n",
    "def dump_pickle(content_to_dump,\n",
    "                pickle_name_str):  #Dump the content_to_dump into a pickle. Remember to include \".pkl\" in pickle_name_str\n",
    "    cp.dump(content_to_dump, open(pickle_name_str,\n",
    "                                  'wb'))  #Save the GridSearchCV object to be used later\n",
    "    return\n",
    "\n",
    "\n",
    "def load_cloud_pickle(\n",
    "        github_url):  #Load pickles (contain trained models) from a GitHub link\n",
    "    url_raw_file = github_url + '?raw=true'\n",
    "    loaded_pickle_object = pickle.load(urlopen(url_raw_file))\n",
    "    return loaded_pickle_object"
   ],
   "metadata": {
    "collapsed": false
   }
  },
  {
   "cell_type": "markdown",
   "source": [
    "# Read in data"
   ],
   "metadata": {
    "collapsed": false
   }
  },
  {
   "cell_type": "markdown",
   "source": [
    "## Regression"
   ],
   "metadata": {
    "collapsed": false
   }
  },
  {
   "cell_type": "code",
   "execution_count": 3,
   "outputs": [
    {
     "data": {
      "text/plain": "                                                 SMILES  logBB\n0     CN1C(=NN=N1)SCC2=C(N3C(C(C3=O)(NC(=O)C(C4=CC=C...  -2.52\n1     CN1CC[C@]23[C@@H]4[C@H]1CC5=C2C(=C(C=C5)OC6[C@...  -2.15\n2     CN1CC[C@]23[C@@H]4[C@H]1CC5=C2C(=C(C=C5)O)O[C@...  -2.09\n3      CC1=NC=C(C=C1)CC2CNC(NC2=O)NCCCCC3=NC=C(C=C3C)Br  -1.88\n4     c1(c2c3n(c4c(C(N(C)C3)=O)c(Cl)ccc4)cn2)noc(C(O...  -1.82\n...                                                 ...    ...\n1053              C[NH2+]CCCN1C2=CC=CC=C2CCC3=CC=CC=C31   1.20\n1054                 CN(C)CCCN1C2=CC=CC=C2SC3=CC=CC=C31   1.23\n1055                  CN(C)CCOC(C1=CC=CC=C1)C2=CC=CC=C2   1.30\n1056                CNCCCN1C2=CC=CC=C2SC3=C1C=C(C=C3)Cl   1.40\n1057   CN[C@H]1CC[C@H](C2=CC=CC=C12)C3=CC(=C(C=C3)Cl)Cl   1.60\n\n[1058 rows x 2 columns]",
      "text/html": "<div>\n<style scoped>\n    .dataframe tbody tr th:only-of-type {\n        vertical-align: middle;\n    }\n\n    .dataframe tbody tr th {\n        vertical-align: top;\n    }\n\n    .dataframe thead th {\n        text-align: right;\n    }\n</style>\n<table border=\"1\" class=\"dataframe\">\n  <thead>\n    <tr style=\"text-align: right;\">\n      <th></th>\n      <th>SMILES</th>\n      <th>logBB</th>\n    </tr>\n  </thead>\n  <tbody>\n    <tr>\n      <th>0</th>\n      <td>CN1C(=NN=N1)SCC2=C(N3C(C(C3=O)(NC(=O)C(C4=CC=C...</td>\n      <td>-2.52</td>\n    </tr>\n    <tr>\n      <th>1</th>\n      <td>CN1CC[C@]23[C@@H]4[C@H]1CC5=C2C(=C(C=C5)OC6[C@...</td>\n      <td>-2.15</td>\n    </tr>\n    <tr>\n      <th>2</th>\n      <td>CN1CC[C@]23[C@@H]4[C@H]1CC5=C2C(=C(C=C5)O)O[C@...</td>\n      <td>-2.09</td>\n    </tr>\n    <tr>\n      <th>3</th>\n      <td>CC1=NC=C(C=C1)CC2CNC(NC2=O)NCCCCC3=NC=C(C=C3C)Br</td>\n      <td>-1.88</td>\n    </tr>\n    <tr>\n      <th>4</th>\n      <td>c1(c2c3n(c4c(C(N(C)C3)=O)c(Cl)ccc4)cn2)noc(C(O...</td>\n      <td>-1.82</td>\n    </tr>\n    <tr>\n      <th>...</th>\n      <td>...</td>\n      <td>...</td>\n    </tr>\n    <tr>\n      <th>1053</th>\n      <td>C[NH2+]CCCN1C2=CC=CC=C2CCC3=CC=CC=C31</td>\n      <td>1.20</td>\n    </tr>\n    <tr>\n      <th>1054</th>\n      <td>CN(C)CCCN1C2=CC=CC=C2SC3=CC=CC=C31</td>\n      <td>1.23</td>\n    </tr>\n    <tr>\n      <th>1055</th>\n      <td>CN(C)CCOC(C1=CC=CC=C1)C2=CC=CC=C2</td>\n      <td>1.30</td>\n    </tr>\n    <tr>\n      <th>1056</th>\n      <td>CNCCCN1C2=CC=CC=C2SC3=C1C=C(C=C3)Cl</td>\n      <td>1.40</td>\n    </tr>\n    <tr>\n      <th>1057</th>\n      <td>CN[C@H]1CC[C@H](C2=CC=CC=C12)C3=CC(=C(C=C3)Cl)Cl</td>\n      <td>1.60</td>\n    </tr>\n  </tbody>\n</table>\n<p>1058 rows × 2 columns</p>\n</div>"
     },
     "execution_count": 3,
     "metadata": {},
     "output_type": "execute_result"
    }
   ],
   "source": [
    "regression_df = pd.read_csv('datasets\\cleaned_datasets\\BBB_regression.csv')\n",
    "regression_df"
   ],
   "metadata": {
    "collapsed": false
   }
  },
  {
   "cell_type": "code",
   "execution_count": 4,
   "outputs": [
    {
     "data": {
      "text/plain": "128"
     },
     "execution_count": 4,
     "metadata": {},
     "output_type": "execute_result"
    }
   ],
   "source": [
    "(regression_df['logBB'] <= -1.01).sum()  #These are BBB+"
   ],
   "metadata": {
    "collapsed": false
   }
  },
  {
   "cell_type": "code",
   "execution_count": 5,
   "outputs": [
    {
     "data": {
      "text/plain": "930"
     },
     "execution_count": 5,
     "metadata": {},
     "output_type": "execute_result"
    }
   ],
   "source": [
    "(regression_df['logBB'] >= -1).sum()  #These are BBB-"
   ],
   "metadata": {
    "collapsed": false
   }
  },
  {
   "cell_type": "markdown",
   "source": [
    "## Classification"
   ],
   "metadata": {
    "collapsed": false
   }
  },
  {
   "cell_type": "code",
   "execution_count": 6,
   "outputs": [
    {
     "data": {
      "text/plain": "                                                 SMILES BBB+/BBB-\n0      O=C(O)c1cc(N=Nc2ccc(S(=O)(=O)Nc3ccccn3)cc2)ccc1O      BBB-\n1     COC1(NC(=O)C(C(=O)O)c2ccc(O)cc2)C(=O)N2C(C(=O)...      BBB-\n2                                Oc1c(I)cc(Cl)c2cccnc12      BBB-\n3                            CCNC(=NCCSCc1ncccc1Br)NC#N      BBB-\n4     CN1CC[C@]23c4c5ccc(OC6O[C@H](C(=O)O)[C@@H](O)[...      BBB-\n...                                                 ...       ...\n7802                    c1ccc(CN(CC2=NCCN2)c2ccccc2)cc1      BBB-\n7803                   CCOCCn1c(N2CCCN(C)CC2)nc2ccccc21      BBB+\n7804               CN1CCC(=C2c3ccccc3CC(=O)c3sccc32)CC1      BBB+\n7805                     Cc1[nH]c(=O)c(C#N)cc1-c1ccncc1      BBB-\n7806                          Nc1cc(-c2ccncc2)c[nH]c1=O      BBB-\n\n[7807 rows x 2 columns]",
      "text/html": "<div>\n<style scoped>\n    .dataframe tbody tr th:only-of-type {\n        vertical-align: middle;\n    }\n\n    .dataframe tbody tr th {\n        vertical-align: top;\n    }\n\n    .dataframe thead th {\n        text-align: right;\n    }\n</style>\n<table border=\"1\" class=\"dataframe\">\n  <thead>\n    <tr style=\"text-align: right;\">\n      <th></th>\n      <th>SMILES</th>\n      <th>BBB+/BBB-</th>\n    </tr>\n  </thead>\n  <tbody>\n    <tr>\n      <th>0</th>\n      <td>O=C(O)c1cc(N=Nc2ccc(S(=O)(=O)Nc3ccccn3)cc2)ccc1O</td>\n      <td>BBB-</td>\n    </tr>\n    <tr>\n      <th>1</th>\n      <td>COC1(NC(=O)C(C(=O)O)c2ccc(O)cc2)C(=O)N2C(C(=O)...</td>\n      <td>BBB-</td>\n    </tr>\n    <tr>\n      <th>2</th>\n      <td>Oc1c(I)cc(Cl)c2cccnc12</td>\n      <td>BBB-</td>\n    </tr>\n    <tr>\n      <th>3</th>\n      <td>CCNC(=NCCSCc1ncccc1Br)NC#N</td>\n      <td>BBB-</td>\n    </tr>\n    <tr>\n      <th>4</th>\n      <td>CN1CC[C@]23c4c5ccc(OC6O[C@H](C(=O)O)[C@@H](O)[...</td>\n      <td>BBB-</td>\n    </tr>\n    <tr>\n      <th>...</th>\n      <td>...</td>\n      <td>...</td>\n    </tr>\n    <tr>\n      <th>7802</th>\n      <td>c1ccc(CN(CC2=NCCN2)c2ccccc2)cc1</td>\n      <td>BBB-</td>\n    </tr>\n    <tr>\n      <th>7803</th>\n      <td>CCOCCn1c(N2CCCN(C)CC2)nc2ccccc21</td>\n      <td>BBB+</td>\n    </tr>\n    <tr>\n      <th>7804</th>\n      <td>CN1CCC(=C2c3ccccc3CC(=O)c3sccc32)CC1</td>\n      <td>BBB+</td>\n    </tr>\n    <tr>\n      <th>7805</th>\n      <td>Cc1[nH]c(=O)c(C#N)cc1-c1ccncc1</td>\n      <td>BBB-</td>\n    </tr>\n    <tr>\n      <th>7806</th>\n      <td>Nc1cc(-c2ccncc2)c[nH]c1=O</td>\n      <td>BBB-</td>\n    </tr>\n  </tbody>\n</table>\n<p>7807 rows × 2 columns</p>\n</div>"
     },
     "execution_count": 6,
     "metadata": {},
     "output_type": "execute_result"
    }
   ],
   "source": [
    "classification_df = pd.read_csv(\n",
    "    'datasets\\cleaned_datasets\\BBB_classification.csv'\n",
    ")\n",
    "classification_df"
   ],
   "metadata": {
    "collapsed": false
   }
  },
  {
   "cell_type": "code",
   "execution_count": 7,
   "outputs": [
    {
     "data": {
      "text/plain": "BBB+/BBB-\nBBB+    4956\nBBB-    2851\nName: count, dtype: int64"
     },
     "execution_count": 7,
     "metadata": {},
     "output_type": "execute_result"
    }
   ],
   "source": [
    "classification_df['BBB+/BBB-'].value_counts()"
   ],
   "metadata": {
    "collapsed": false
   }
  },
  {
   "cell_type": "markdown",
   "source": [
    "# Dataset expansion\n",
    "Add descriptors and fingerprints"
   ],
   "metadata": {
    "collapsed": false
   }
  },
  {
   "cell_type": "code",
   "execution_count": 8,
   "outputs": [
    {
     "name": "stdout",
     "output_type": "stream",
     "text": [
      "Package mordred provided 1613 descriptors\n"
     ]
    }
   ],
   "source": [
    "num_2D_descriptors = len(Calculator(descriptors, ignore_3D=True).descriptors)\n",
    "print('Package mordred provided {} descriptors'.format(num_2D_descriptors))"
   ],
   "metadata": {
    "collapsed": false
   }
  },
  {
   "cell_type": "markdown",
   "source": [
    "## Regression"
   ],
   "metadata": {
    "collapsed": false
   }
  },
  {
   "cell_type": "code",
   "execution_count": 9,
   "outputs": [
    {
     "name": "stderr",
     "output_type": "stream",
     "text": [
      "Failed to patch pandas - unable to change molecule rendering\n"
     ]
    },
    {
     "data": {
      "text/plain": "Generating mordred descriptors:   0%|          | 0/1058 [00:00<?, ?it/s]",
      "application/vnd.jupyter.widget-view+json": {
       "version_major": 2,
       "version_minor": 0,
       "model_id": "1e13ff7c8db0470d8b539a8d4c7742b3"
      }
     },
     "metadata": {},
     "output_type": "display_data"
    },
    {
     "name": "stderr",
     "output_type": "stream",
     "text": [
      "  1%|▏         | 14/1058 [00:11<13:16,  1.31it/s] "
     ]
    },
    {
     "name": "stdout",
     "output_type": "stream",
     "text": [
      "C:\\Users\\louie\\Desktop\\BME 790L\\final project\\BBBPrediction\\venv\\lib\\site-packages\\numpy\\core\\fromnumeric.py:88: RuntimeWarning: overflow encountered in reduce\n",
      "  return ufunc.reduce(obj, axis, dtype, out, **passkwargs)\n"
     ]
    },
    {
     "name": "stderr",
     "output_type": "stream",
     "text": [
      "  4%|▍         | 43/1058 [00:13<02:42,  6.23it/s]"
     ]
    },
    {
     "name": "stdout",
     "output_type": "stream",
     "text": [
      "C:\\Users\\louie\\Desktop\\BME 790L\\final project\\BBBPrediction\\venv\\lib\\site-packages\\numpy\\core\\fromnumeric.py:88: RuntimeWarning: overflow encountered in reduce\n",
      "  return ufunc.reduce(obj, axis, dtype, out, **passkwargs)\n"
     ]
    },
    {
     "name": "stderr",
     "output_type": "stream",
     "text": [
      "  4%|▍         | 45/1058 [00:14<03:52,  4.36it/s]"
     ]
    },
    {
     "name": "stdout",
     "output_type": "stream",
     "text": [
      "C:\\Users\\louie\\Desktop\\BME 790L\\final project\\BBBPrediction\\venv\\lib\\site-packages\\numpy\\core\\fromnumeric.py:88: RuntimeWarning: overflow encountered in reduce\n",
      "  return ufunc.reduce(obj, axis, dtype, out, **passkwargs)\n",
      "C:\\Users\\louie\\Desktop\\BME 790L\\final project\\BBBPrediction\\venv\\lib\\site-packages\\numpy\\core\\fromnumeric.py:88: RuntimeWarning: overflow encountered in reduce\n",
      "  return ufunc.reduce(obj, axis, dtype, out, **passkwargs)\n"
     ]
    },
    {
     "name": "stderr",
     "output_type": "stream",
     "text": [
      "  5%|▍         | 48/1058 [00:14<03:31,  4.78it/s]"
     ]
    },
    {
     "name": "stdout",
     "output_type": "stream",
     "text": [
      "C:\\Users\\louie\\Desktop\\BME 790L\\final project\\BBBPrediction\\venv\\lib\\site-packages\\numpy\\core\\fromnumeric.py:88: RuntimeWarning: overflow encountered in reduce\n",
      "  return ufunc.reduce(obj, axis, dtype, out, **passkwargs)\n"
     ]
    },
    {
     "name": "stderr",
     "output_type": "stream",
     "text": [
      "100%|██████████| 1058/1058 [01:53<00:00,  9.29it/s]\n"
     ]
    },
    {
     "data": {
      "text/plain": "Generating Morgan fingerprints:   0%|          | 0/1058 [00:00<?, ?it/s]",
      "application/vnd.jupyter.widget-view+json": {
       "version_major": 2,
       "version_minor": 0,
       "model_id": "3b6420a3a37b4fdf9b9371775a184c8c"
      }
     },
     "metadata": {},
     "output_type": "display_data"
    },
    {
     "data": {
      "text/plain": "Generating MACCS keys:   0%|          | 0/1058 [00:00<?, ?it/s]",
      "application/vnd.jupyter.widget-view+json": {
       "version_major": 2,
       "version_minor": 0,
       "model_id": "839f79a2e87247f892daf19dc4134764"
      }
     },
     "metadata": {},
     "output_type": "display_data"
    },
    {
     "data": {
      "text/plain": "                                                 SMILES  logBB  \\\n0     CN1C(=NN=N1)SCC2=C(N3C(C(C3=O)(NC(=O)C(C4=CC=C...  -2.52   \n1     CN1CC[C@]23[C@@H]4[C@H]1CC5=C2C(=C(C=C5)OC6[C@...  -2.15   \n2     CN1CC[C@]23[C@@H]4[C@H]1CC5=C2C(=C(C=C5)O)O[C@...  -2.09   \n3      CC1=NC=C(C=C1)CC2CNC(NC2=O)NCCCCC3=NC=C(C=C3C)Br  -1.88   \n4     c1(c2c3n(c4c(C(N(C)C3)=O)c(Cl)ccc4)cn2)noc(C(O...  -1.82   \n...                                                 ...    ...   \n1053              C[NH2+]CCCN1C2=CC=CC=C2CCC3=CC=CC=C31   1.20   \n1054                 CN(C)CCCN1C2=CC=CC=C2SC3=CC=CC=C31   1.23   \n1055                  CN(C)CCOC(C1=CC=CC=C1)C2=CC=CC=C2   1.30   \n1056                CNCCCN1C2=CC=CC=C2SC3=C1C=C(C=C3)Cl   1.40   \n1057   CN[C@H]1CC[C@H](C2=CC=CC=C12)C3=CC(=C(C=C3)Cl)Cl   1.60   \n\n                                                    ABC  \\\n0     module 'numpy' has no attribute 'float'.\\n`np....   \n1     module 'numpy' has no attribute 'float'.\\n`np....   \n2     module 'numpy' has no attribute 'float'.\\n`np....   \n3     module 'numpy' has no attribute 'float'.\\n`np....   \n4     module 'numpy' has no attribute 'float'.\\n`np....   \n...                                                 ...   \n1053  module 'numpy' has no attribute 'float'.\\n`np....   \n1054  module 'numpy' has no attribute 'float'.\\n`np....   \n1055  module 'numpy' has no attribute 'float'.\\n`np....   \n1056  module 'numpy' has no attribute 'float'.\\n`np....   \n1057  module 'numpy' has no attribute 'float'.\\n`np....   \n\n                                                  ABCGG  nAcid  nBase  \\\n0     module 'numpy' has no attribute 'float'.\\n`np....      4      0   \n1     module 'numpy' has no attribute 'float'.\\n`np....      1      1   \n2     module 'numpy' has no attribute 'float'.\\n`np....      1      1   \n3     module 'numpy' has no attribute 'float'.\\n`np....      0      2   \n4     module 'numpy' has no attribute 'float'.\\n`np....      0      0   \n...                                                 ...    ...    ...   \n1053  module 'numpy' has no attribute 'float'.\\n`np....      0      1   \n1054  module 'numpy' has no attribute 'float'.\\n`np....      0      1   \n1055  module 'numpy' has no attribute 'float'.\\n`np....      0      1   \n1056  module 'numpy' has no attribute 'float'.\\n`np....      0      1   \n1057  module 'numpy' has no attribute 'float'.\\n`np....      0      1   \n\n        SpAbs_A   SpMax_A  SpDiam_A     SpAD_A  ... 157_y 158_y 159_y 160_y  \\\n0     45.430282  2.648849  5.297577  45.430282  ...     1     1     1     1   \n1     43.435426  2.709582  5.329713  43.435426  ...     1     1     1     1   \n2     43.437782  2.710688  5.333783  43.437782  ...     1     1     1     1   \n3     35.718617  2.330522  4.661044  35.718617  ...     0     1     0     1   \n4     32.776103  2.541137    4.9327  32.776103  ...     1     1     1     1   \n...         ...       ...       ...        ...  ...   ...   ...   ...   ...   \n1053  26.815455  2.447262  4.821858  26.815455  ...     0     1     0     1   \n1054  26.150381  2.474851  4.949701  26.150381  ...     0     1     0     1   \n1055  24.616633  2.336046  4.672091  24.616633  ...     1     1     0     1   \n1056  26.456725  2.484489  4.968979  26.456725  ...     0     1     0     1   \n1057  26.509909  2.460037  4.920073  26.509909  ...     0     1     0     1   \n\n     161_y 162_y 163_y 164_y  165_y  166_y  \n0        1     1     1     1      1      0  \n1        1     1     1     1      1      0  \n2        1     1     1     1      1      0  \n3        1     1     1     1      1      0  \n4        1     1     1     1      1      0  \n...    ...   ...   ...   ...    ...    ...  \n1053     1     1     1     0      1      0  \n1054     1     1     1     0      1      0  \n1055     1     1     1     1      1      0  \n1056     1     1     1     0      1      0  \n1057     1     1     1     0      1      0  \n\n[1058 rows x 5878 columns]",
      "text/html": "<div>\n<style scoped>\n    .dataframe tbody tr th:only-of-type {\n        vertical-align: middle;\n    }\n\n    .dataframe tbody tr th {\n        vertical-align: top;\n    }\n\n    .dataframe thead th {\n        text-align: right;\n    }\n</style>\n<table border=\"1\" class=\"dataframe\">\n  <thead>\n    <tr style=\"text-align: right;\">\n      <th></th>\n      <th>SMILES</th>\n      <th>logBB</th>\n      <th>ABC</th>\n      <th>ABCGG</th>\n      <th>nAcid</th>\n      <th>nBase</th>\n      <th>SpAbs_A</th>\n      <th>SpMax_A</th>\n      <th>SpDiam_A</th>\n      <th>SpAD_A</th>\n      <th>...</th>\n      <th>157_y</th>\n      <th>158_y</th>\n      <th>159_y</th>\n      <th>160_y</th>\n      <th>161_y</th>\n      <th>162_y</th>\n      <th>163_y</th>\n      <th>164_y</th>\n      <th>165_y</th>\n      <th>166_y</th>\n    </tr>\n  </thead>\n  <tbody>\n    <tr>\n      <th>0</th>\n      <td>CN1C(=NN=N1)SCC2=C(N3C(C(C3=O)(NC(=O)C(C4=CC=C...</td>\n      <td>-2.52</td>\n      <td>module 'numpy' has no attribute 'float'.\\n`np....</td>\n      <td>module 'numpy' has no attribute 'float'.\\n`np....</td>\n      <td>4</td>\n      <td>0</td>\n      <td>45.430282</td>\n      <td>2.648849</td>\n      <td>5.297577</td>\n      <td>45.430282</td>\n      <td>...</td>\n      <td>1</td>\n      <td>1</td>\n      <td>1</td>\n      <td>1</td>\n      <td>1</td>\n      <td>1</td>\n      <td>1</td>\n      <td>1</td>\n      <td>1</td>\n      <td>0</td>\n    </tr>\n    <tr>\n      <th>1</th>\n      <td>CN1CC[C@]23[C@@H]4[C@H]1CC5=C2C(=C(C=C5)OC6[C@...</td>\n      <td>-2.15</td>\n      <td>module 'numpy' has no attribute 'float'.\\n`np....</td>\n      <td>module 'numpy' has no attribute 'float'.\\n`np....</td>\n      <td>1</td>\n      <td>1</td>\n      <td>43.435426</td>\n      <td>2.709582</td>\n      <td>5.329713</td>\n      <td>43.435426</td>\n      <td>...</td>\n      <td>1</td>\n      <td>1</td>\n      <td>1</td>\n      <td>1</td>\n      <td>1</td>\n      <td>1</td>\n      <td>1</td>\n      <td>1</td>\n      <td>1</td>\n      <td>0</td>\n    </tr>\n    <tr>\n      <th>2</th>\n      <td>CN1CC[C@]23[C@@H]4[C@H]1CC5=C2C(=C(C=C5)O)O[C@...</td>\n      <td>-2.09</td>\n      <td>module 'numpy' has no attribute 'float'.\\n`np....</td>\n      <td>module 'numpy' has no attribute 'float'.\\n`np....</td>\n      <td>1</td>\n      <td>1</td>\n      <td>43.437782</td>\n      <td>2.710688</td>\n      <td>5.333783</td>\n      <td>43.437782</td>\n      <td>...</td>\n      <td>1</td>\n      <td>1</td>\n      <td>1</td>\n      <td>1</td>\n      <td>1</td>\n      <td>1</td>\n      <td>1</td>\n      <td>1</td>\n      <td>1</td>\n      <td>0</td>\n    </tr>\n    <tr>\n      <th>3</th>\n      <td>CC1=NC=C(C=C1)CC2CNC(NC2=O)NCCCCC3=NC=C(C=C3C)Br</td>\n      <td>-1.88</td>\n      <td>module 'numpy' has no attribute 'float'.\\n`np....</td>\n      <td>module 'numpy' has no attribute 'float'.\\n`np....</td>\n      <td>0</td>\n      <td>2</td>\n      <td>35.718617</td>\n      <td>2.330522</td>\n      <td>4.661044</td>\n      <td>35.718617</td>\n      <td>...</td>\n      <td>0</td>\n      <td>1</td>\n      <td>0</td>\n      <td>1</td>\n      <td>1</td>\n      <td>1</td>\n      <td>1</td>\n      <td>1</td>\n      <td>1</td>\n      <td>0</td>\n    </tr>\n    <tr>\n      <th>4</th>\n      <td>c1(c2c3n(c4c(C(N(C)C3)=O)c(Cl)ccc4)cn2)noc(C(O...</td>\n      <td>-1.82</td>\n      <td>module 'numpy' has no attribute 'float'.\\n`np....</td>\n      <td>module 'numpy' has no attribute 'float'.\\n`np....</td>\n      <td>0</td>\n      <td>0</td>\n      <td>32.776103</td>\n      <td>2.541137</td>\n      <td>4.9327</td>\n      <td>32.776103</td>\n      <td>...</td>\n      <td>1</td>\n      <td>1</td>\n      <td>1</td>\n      <td>1</td>\n      <td>1</td>\n      <td>1</td>\n      <td>1</td>\n      <td>1</td>\n      <td>1</td>\n      <td>0</td>\n    </tr>\n    <tr>\n      <th>...</th>\n      <td>...</td>\n      <td>...</td>\n      <td>...</td>\n      <td>...</td>\n      <td>...</td>\n      <td>...</td>\n      <td>...</td>\n      <td>...</td>\n      <td>...</td>\n      <td>...</td>\n      <td>...</td>\n      <td>...</td>\n      <td>...</td>\n      <td>...</td>\n      <td>...</td>\n      <td>...</td>\n      <td>...</td>\n      <td>...</td>\n      <td>...</td>\n      <td>...</td>\n      <td>...</td>\n    </tr>\n    <tr>\n      <th>1053</th>\n      <td>C[NH2+]CCCN1C2=CC=CC=C2CCC3=CC=CC=C31</td>\n      <td>1.20</td>\n      <td>module 'numpy' has no attribute 'float'.\\n`np....</td>\n      <td>module 'numpy' has no attribute 'float'.\\n`np....</td>\n      <td>0</td>\n      <td>1</td>\n      <td>26.815455</td>\n      <td>2.447262</td>\n      <td>4.821858</td>\n      <td>26.815455</td>\n      <td>...</td>\n      <td>0</td>\n      <td>1</td>\n      <td>0</td>\n      <td>1</td>\n      <td>1</td>\n      <td>1</td>\n      <td>1</td>\n      <td>0</td>\n      <td>1</td>\n      <td>0</td>\n    </tr>\n    <tr>\n      <th>1054</th>\n      <td>CN(C)CCCN1C2=CC=CC=C2SC3=CC=CC=C31</td>\n      <td>1.23</td>\n      <td>module 'numpy' has no attribute 'float'.\\n`np....</td>\n      <td>module 'numpy' has no attribute 'float'.\\n`np....</td>\n      <td>0</td>\n      <td>1</td>\n      <td>26.150381</td>\n      <td>2.474851</td>\n      <td>4.949701</td>\n      <td>26.150381</td>\n      <td>...</td>\n      <td>0</td>\n      <td>1</td>\n      <td>0</td>\n      <td>1</td>\n      <td>1</td>\n      <td>1</td>\n      <td>1</td>\n      <td>0</td>\n      <td>1</td>\n      <td>0</td>\n    </tr>\n    <tr>\n      <th>1055</th>\n      <td>CN(C)CCOC(C1=CC=CC=C1)C2=CC=CC=C2</td>\n      <td>1.30</td>\n      <td>module 'numpy' has no attribute 'float'.\\n`np....</td>\n      <td>module 'numpy' has no attribute 'float'.\\n`np....</td>\n      <td>0</td>\n      <td>1</td>\n      <td>24.616633</td>\n      <td>2.336046</td>\n      <td>4.672091</td>\n      <td>24.616633</td>\n      <td>...</td>\n      <td>1</td>\n      <td>1</td>\n      <td>0</td>\n      <td>1</td>\n      <td>1</td>\n      <td>1</td>\n      <td>1</td>\n      <td>1</td>\n      <td>1</td>\n      <td>0</td>\n    </tr>\n    <tr>\n      <th>1056</th>\n      <td>CNCCCN1C2=CC=CC=C2SC3=C1C=C(C=C3)Cl</td>\n      <td>1.40</td>\n      <td>module 'numpy' has no attribute 'float'.\\n`np....</td>\n      <td>module 'numpy' has no attribute 'float'.\\n`np....</td>\n      <td>0</td>\n      <td>1</td>\n      <td>26.456725</td>\n      <td>2.484489</td>\n      <td>4.968979</td>\n      <td>26.456725</td>\n      <td>...</td>\n      <td>0</td>\n      <td>1</td>\n      <td>0</td>\n      <td>1</td>\n      <td>1</td>\n      <td>1</td>\n      <td>1</td>\n      <td>0</td>\n      <td>1</td>\n      <td>0</td>\n    </tr>\n    <tr>\n      <th>1057</th>\n      <td>CN[C@H]1CC[C@H](C2=CC=CC=C12)C3=CC(=C(C=C3)Cl)Cl</td>\n      <td>1.60</td>\n      <td>module 'numpy' has no attribute 'float'.\\n`np....</td>\n      <td>module 'numpy' has no attribute 'float'.\\n`np....</td>\n      <td>0</td>\n      <td>1</td>\n      <td>26.509909</td>\n      <td>2.460037</td>\n      <td>4.920073</td>\n      <td>26.509909</td>\n      <td>...</td>\n      <td>0</td>\n      <td>1</td>\n      <td>0</td>\n      <td>1</td>\n      <td>1</td>\n      <td>1</td>\n      <td>1</td>\n      <td>0</td>\n      <td>1</td>\n      <td>0</td>\n    </tr>\n  </tbody>\n</table>\n<p>1058 rows × 5878 columns</p>\n</div>"
     },
     "execution_count": 9,
     "metadata": {},
     "output_type": "execute_result"
    }
   ],
   "source": [
    "regression_df_expanded = dataset_feature_expansion(regression_df)\n",
    "regression_df_expanded"
   ],
   "metadata": {
    "collapsed": false
   }
  },
  {
   "cell_type": "code",
   "execution_count": 10,
   "outputs": [
    {
     "name": "stdout",
     "output_type": "stream",
     "text": [
      "Done!\n"
     ]
    }
   ],
   "source": [
    "regression_df_expanded.to_csv(\n",
    "    'datasets\\expanded_datasets\\BBB_regression_expanded.csv')\n",
    "print('Done!')"
   ],
   "metadata": {
    "collapsed": false
   }
  },
  {
   "cell_type": "markdown",
   "source": [
    "## Classification"
   ],
   "metadata": {
    "collapsed": false
   }
  },
  {
   "cell_type": "code",
   "execution_count": 11,
   "outputs": [
    {
     "name": "stderr",
     "output_type": "stream",
     "text": [
      "Failed to patch pandas - unable to change molecule rendering\n"
     ]
    },
    {
     "data": {
      "text/plain": "Generating mordred descriptors:   0%|          | 0/7807 [00:00<?, ?it/s]",
      "application/vnd.jupyter.widget-view+json": {
       "version_major": 2,
       "version_minor": 0,
       "model_id": "e54ea7cb3d834c749f6bd7998a6ea650"
      }
     },
     "metadata": {},
     "output_type": "display_data"
    },
    {
     "name": "stderr",
     "output_type": "stream",
     "text": [
      "  1%|          | 48/7807 [00:13<1:09:30,  1.86it/s]"
     ]
    },
    {
     "name": "stdout",
     "output_type": "stream",
     "text": [
      "C:\\Users\\louie\\Desktop\\BME 790L\\final project\\BBBPrediction\\venv\\lib\\site-packages\\numpy\\core\\fromnumeric.py:88: RuntimeWarning: overflow encountered in reduce\n",
      "  return ufunc.reduce(obj, axis, dtype, out, **passkwargs)\n"
     ]
    },
    {
     "name": "stderr",
     "output_type": "stream",
     "text": [
      "  2%|▏         | 188/7807 [00:29<25:05,  5.06it/s] "
     ]
    },
    {
     "name": "stdout",
     "output_type": "stream",
     "text": [
      "C:\\Users\\louie\\Desktop\\BME 790L\\final project\\BBBPrediction\\venv\\lib\\site-packages\\numpy\\core\\fromnumeric.py:88: RuntimeWarning: overflow encountered in reduce\n",
      "  return ufunc.reduce(obj, axis, dtype, out, **passkwargs)\n"
     ]
    },
    {
     "name": "stderr",
     "output_type": "stream",
     "text": [
      "  3%|▎         | 206/7807 [00:30<08:50, 14.33it/s]"
     ]
    },
    {
     "name": "stdout",
     "output_type": "stream",
     "text": [
      "C:\\Users\\louie\\Desktop\\BME 790L\\final project\\BBBPrediction\\venv\\lib\\site-packages\\numpy\\core\\fromnumeric.py:88: RuntimeWarning: overflow encountered in reduce\n",
      "  return ufunc.reduce(obj, axis, dtype, out, **passkwargs)\n",
      "C:\\Users\\louie\\Desktop\\BME 790L\\final project\\BBBPrediction\\venv\\lib\\site-packages\\numpy\\core\\fromnumeric.py:88: RuntimeWarning: overflow encountered in reduce\n",
      "  return ufunc.reduce(obj, axis, dtype, out, **passkwargs)\n"
     ]
    },
    {
     "name": "stderr",
     "output_type": "stream",
     "text": [
      "  3%|▎         | 224/7807 [00:32<10:37, 11.89it/s]"
     ]
    },
    {
     "name": "stdout",
     "output_type": "stream",
     "text": [
      "C:\\Users\\louie\\Desktop\\BME 790L\\final project\\BBBPrediction\\venv\\lib\\site-packages\\numpy\\core\\fromnumeric.py:88: RuntimeWarning: overflow encountered in reduce\n",
      "  return ufunc.reduce(obj, axis, dtype, out, **passkwargs)\n"
     ]
    },
    {
     "name": "stderr",
     "output_type": "stream",
     "text": [
      " 11%|█         | 831/7807 [01:30<17:51,  6.51it/s]"
     ]
    },
    {
     "name": "stdout",
     "output_type": "stream",
     "text": [
      "C:\\Users\\louie\\Desktop\\BME 790L\\final project\\BBBPrediction\\venv\\lib\\site-packages\\numpy\\core\\fromnumeric.py:88: RuntimeWarning: overflow encountered in reduce\n",
      "  return ufunc.reduce(obj, axis, dtype, out, **passkwargs)\n"
     ]
    },
    {
     "name": "stderr",
     "output_type": "stream",
     "text": [
      " 16%|█▌        | 1251/7807 [02:14<18:10,  6.01it/s]"
     ]
    },
    {
     "name": "stdout",
     "output_type": "stream",
     "text": [
      "C:\\Users\\louie\\Desktop\\BME 790L\\final project\\BBBPrediction\\venv\\lib\\site-packages\\numpy\\core\\fromnumeric.py:88: RuntimeWarning: overflow encountered in reduce\n",
      "  return ufunc.reduce(obj, axis, dtype, out, **passkwargs)\n"
     ]
    },
    {
     "name": "stderr",
     "output_type": "stream",
     "text": [
      " 26%|██▌       | 2009/7807 [03:51<28:43,  3.36it/s]"
     ]
    },
    {
     "name": "stdout",
     "output_type": "stream",
     "text": [
      "C:\\Users\\louie\\Desktop\\BME 790L\\final project\\BBBPrediction\\venv\\lib\\site-packages\\numpy\\core\\fromnumeric.py:88: RuntimeWarning: overflow encountered in reduce\n",
      "  return ufunc.reduce(obj, axis, dtype, out, **passkwargs)\n"
     ]
    },
    {
     "name": "stderr",
     "output_type": "stream",
     "text": [
      "100%|██████████| 7807/7807 [16:45<00:00,  7.76it/s]\n"
     ]
    },
    {
     "data": {
      "text/plain": "Generating Morgan fingerprints:   0%|          | 0/7807 [00:00<?, ?it/s]",
      "application/vnd.jupyter.widget-view+json": {
       "version_major": 2,
       "version_minor": 0,
       "model_id": "03290f3ffac7452987e1859e18eb8cc7"
      }
     },
     "metadata": {},
     "output_type": "display_data"
    },
    {
     "data": {
      "text/plain": "Generating MACCS keys:   0%|          | 0/7807 [00:00<?, ?it/s]",
      "application/vnd.jupyter.widget-view+json": {
       "version_major": 2,
       "version_minor": 0,
       "model_id": "ff12e9fda0eb4cfab56e1f910ee3974f"
      }
     },
     "metadata": {},
     "output_type": "display_data"
    },
    {
     "data": {
      "text/plain": "                                                 SMILES BBB+/BBB-  \\\n0      O=C(O)c1cc(N=Nc2ccc(S(=O)(=O)Nc3ccccn3)cc2)ccc1O      BBB-   \n1     COC1(NC(=O)C(C(=O)O)c2ccc(O)cc2)C(=O)N2C(C(=O)...      BBB-   \n2                                Oc1c(I)cc(Cl)c2cccnc12      BBB-   \n3                            CCNC(=NCCSCc1ncccc1Br)NC#N      BBB-   \n4     CN1CC[C@]23c4c5ccc(OC6O[C@H](C(=O)O)[C@@H](O)[...      BBB-   \n...                                                 ...       ...   \n7802                    c1ccc(CN(CC2=NCCN2)c2ccccc2)cc1      BBB-   \n7803                   CCOCCn1c(N2CCCN(C)CC2)nc2ccccc21      BBB+   \n7804               CN1CCC(=C2c3ccccc3CC(=O)c3sccc32)CC1      BBB+   \n7805                     Cc1[nH]c(=O)c(C#N)cc1-c1ccncc1      BBB-   \n7806                          Nc1cc(-c2ccncc2)c[nH]c1=O      BBB-   \n\n                                                    ABC  \\\n0     module 'numpy' has no attribute 'float'.\\n`np....   \n1     module 'numpy' has no attribute 'float'.\\n`np....   \n2     module 'numpy' has no attribute 'float'.\\n`np....   \n3     module 'numpy' has no attribute 'float'.\\n`np....   \n4     module 'numpy' has no attribute 'float'.\\n`np....   \n...                                                 ...   \n7802  module 'numpy' has no attribute 'float'.\\n`np....   \n7803  module 'numpy' has no attribute 'float'.\\n`np....   \n7804  module 'numpy' has no attribute 'float'.\\n`np....   \n7805  module 'numpy' has no attribute 'float'.\\n`np....   \n7806  module 'numpy' has no attribute 'float'.\\n`np....   \n\n                                                  ABCGG  nAcid  nBase  \\\n0     module 'numpy' has no attribute 'float'.\\n`np....      1      0   \n1     module 'numpy' has no attribute 'float'.\\n`np....      4      0   \n2     module 'numpy' has no attribute 'float'.\\n`np....      0      0   \n3     module 'numpy' has no attribute 'float'.\\n`np....      0      3   \n4     module 'numpy' has no attribute 'float'.\\n`np....      1      1   \n...                                                 ...    ...    ...   \n7802  module 'numpy' has no attribute 'float'.\\n`np....      0      2   \n7803  module 'numpy' has no attribute 'float'.\\n`np....      0      1   \n7804  module 'numpy' has no attribute 'float'.\\n`np....      0      1   \n7805  module 'numpy' has no attribute 'float'.\\n`np....      0      0   \n7806  module 'numpy' has no attribute 'float'.\\n`np....      0      0   \n\n        SpAbs_A   SpMax_A  SpDiam_A     SpAD_A  ... 157_y 158_y 159_y 160_y  \\\n0     35.289886   2.38053  4.761059  35.289886  ...     1     1     1     0   \n1     45.430282  2.648849  5.297577  45.430282  ...     1     1     1     1   \n2     16.678194  2.425683  4.851365  16.678194  ...     1     0     0     0   \n3     23.641772  2.237342  4.474683  23.641772  ...     0     1     0     1   \n4     43.435426  2.709582  5.329713  43.435426  ...     1     1     1     1   \n...         ...       ...       ...        ...  ...   ...   ...   ...   ...   \n7802  26.938755  2.326623  4.635214  26.938755  ...     0     1     0     0   \n7803  28.885493    2.4832  4.768669  28.885493  ...     1     1     0     1   \n7804  29.305963  2.511472  4.918238  29.305963  ...     0     1     0     1   \n7805  20.388826  2.390361  4.780722  20.388826  ...     0     0     0     1   \n7806  18.348875  2.335372  4.670745  18.348875  ...     0     1     0     0   \n\n     161_y 162_y 163_y 164_y  165_y  166_y  \n0        1     1     1     1      1      0  \n1        1     1     1     1      1      0  \n2        1     1     1     1      1      0  \n3        1     1     1     0      1      0  \n4        1     1     1     1      1      0  \n...    ...   ...   ...   ...    ...    ...  \n7802     1     1     1     0      1      0  \n7803     1     1     1     1      1      0  \n7804     1     1     1     1      1      0  \n7805     1     1     1     1      1      0  \n7806     1     1     1     1      1      0  \n\n[7807 rows x 5878 columns]",
      "text/html": "<div>\n<style scoped>\n    .dataframe tbody tr th:only-of-type {\n        vertical-align: middle;\n    }\n\n    .dataframe tbody tr th {\n        vertical-align: top;\n    }\n\n    .dataframe thead th {\n        text-align: right;\n    }\n</style>\n<table border=\"1\" class=\"dataframe\">\n  <thead>\n    <tr style=\"text-align: right;\">\n      <th></th>\n      <th>SMILES</th>\n      <th>BBB+/BBB-</th>\n      <th>ABC</th>\n      <th>ABCGG</th>\n      <th>nAcid</th>\n      <th>nBase</th>\n      <th>SpAbs_A</th>\n      <th>SpMax_A</th>\n      <th>SpDiam_A</th>\n      <th>SpAD_A</th>\n      <th>...</th>\n      <th>157_y</th>\n      <th>158_y</th>\n      <th>159_y</th>\n      <th>160_y</th>\n      <th>161_y</th>\n      <th>162_y</th>\n      <th>163_y</th>\n      <th>164_y</th>\n      <th>165_y</th>\n      <th>166_y</th>\n    </tr>\n  </thead>\n  <tbody>\n    <tr>\n      <th>0</th>\n      <td>O=C(O)c1cc(N=Nc2ccc(S(=O)(=O)Nc3ccccn3)cc2)ccc1O</td>\n      <td>BBB-</td>\n      <td>module 'numpy' has no attribute 'float'.\\n`np....</td>\n      <td>module 'numpy' has no attribute 'float'.\\n`np....</td>\n      <td>1</td>\n      <td>0</td>\n      <td>35.289886</td>\n      <td>2.38053</td>\n      <td>4.761059</td>\n      <td>35.289886</td>\n      <td>...</td>\n      <td>1</td>\n      <td>1</td>\n      <td>1</td>\n      <td>0</td>\n      <td>1</td>\n      <td>1</td>\n      <td>1</td>\n      <td>1</td>\n      <td>1</td>\n      <td>0</td>\n    </tr>\n    <tr>\n      <th>1</th>\n      <td>COC1(NC(=O)C(C(=O)O)c2ccc(O)cc2)C(=O)N2C(C(=O)...</td>\n      <td>BBB-</td>\n      <td>module 'numpy' has no attribute 'float'.\\n`np....</td>\n      <td>module 'numpy' has no attribute 'float'.\\n`np....</td>\n      <td>4</td>\n      <td>0</td>\n      <td>45.430282</td>\n      <td>2.648849</td>\n      <td>5.297577</td>\n      <td>45.430282</td>\n      <td>...</td>\n      <td>1</td>\n      <td>1</td>\n      <td>1</td>\n      <td>1</td>\n      <td>1</td>\n      <td>1</td>\n      <td>1</td>\n      <td>1</td>\n      <td>1</td>\n      <td>0</td>\n    </tr>\n    <tr>\n      <th>2</th>\n      <td>Oc1c(I)cc(Cl)c2cccnc12</td>\n      <td>BBB-</td>\n      <td>module 'numpy' has no attribute 'float'.\\n`np....</td>\n      <td>module 'numpy' has no attribute 'float'.\\n`np....</td>\n      <td>0</td>\n      <td>0</td>\n      <td>16.678194</td>\n      <td>2.425683</td>\n      <td>4.851365</td>\n      <td>16.678194</td>\n      <td>...</td>\n      <td>1</td>\n      <td>0</td>\n      <td>0</td>\n      <td>0</td>\n      <td>1</td>\n      <td>1</td>\n      <td>1</td>\n      <td>1</td>\n      <td>1</td>\n      <td>0</td>\n    </tr>\n    <tr>\n      <th>3</th>\n      <td>CCNC(=NCCSCc1ncccc1Br)NC#N</td>\n      <td>BBB-</td>\n      <td>module 'numpy' has no attribute 'float'.\\n`np....</td>\n      <td>module 'numpy' has no attribute 'float'.\\n`np....</td>\n      <td>0</td>\n      <td>3</td>\n      <td>23.641772</td>\n      <td>2.237342</td>\n      <td>4.474683</td>\n      <td>23.641772</td>\n      <td>...</td>\n      <td>0</td>\n      <td>1</td>\n      <td>0</td>\n      <td>1</td>\n      <td>1</td>\n      <td>1</td>\n      <td>1</td>\n      <td>0</td>\n      <td>1</td>\n      <td>0</td>\n    </tr>\n    <tr>\n      <th>4</th>\n      <td>CN1CC[C@]23c4c5ccc(OC6O[C@H](C(=O)O)[C@@H](O)[...</td>\n      <td>BBB-</td>\n      <td>module 'numpy' has no attribute 'float'.\\n`np....</td>\n      <td>module 'numpy' has no attribute 'float'.\\n`np....</td>\n      <td>1</td>\n      <td>1</td>\n      <td>43.435426</td>\n      <td>2.709582</td>\n      <td>5.329713</td>\n      <td>43.435426</td>\n      <td>...</td>\n      <td>1</td>\n      <td>1</td>\n      <td>1</td>\n      <td>1</td>\n      <td>1</td>\n      <td>1</td>\n      <td>1</td>\n      <td>1</td>\n      <td>1</td>\n      <td>0</td>\n    </tr>\n    <tr>\n      <th>...</th>\n      <td>...</td>\n      <td>...</td>\n      <td>...</td>\n      <td>...</td>\n      <td>...</td>\n      <td>...</td>\n      <td>...</td>\n      <td>...</td>\n      <td>...</td>\n      <td>...</td>\n      <td>...</td>\n      <td>...</td>\n      <td>...</td>\n      <td>...</td>\n      <td>...</td>\n      <td>...</td>\n      <td>...</td>\n      <td>...</td>\n      <td>...</td>\n      <td>...</td>\n      <td>...</td>\n    </tr>\n    <tr>\n      <th>7802</th>\n      <td>c1ccc(CN(CC2=NCCN2)c2ccccc2)cc1</td>\n      <td>BBB-</td>\n      <td>module 'numpy' has no attribute 'float'.\\n`np....</td>\n      <td>module 'numpy' has no attribute 'float'.\\n`np....</td>\n      <td>0</td>\n      <td>2</td>\n      <td>26.938755</td>\n      <td>2.326623</td>\n      <td>4.635214</td>\n      <td>26.938755</td>\n      <td>...</td>\n      <td>0</td>\n      <td>1</td>\n      <td>0</td>\n      <td>0</td>\n      <td>1</td>\n      <td>1</td>\n      <td>1</td>\n      <td>0</td>\n      <td>1</td>\n      <td>0</td>\n    </tr>\n    <tr>\n      <th>7803</th>\n      <td>CCOCCn1c(N2CCCN(C)CC2)nc2ccccc21</td>\n      <td>BBB+</td>\n      <td>module 'numpy' has no attribute 'float'.\\n`np....</td>\n      <td>module 'numpy' has no attribute 'float'.\\n`np....</td>\n      <td>0</td>\n      <td>1</td>\n      <td>28.885493</td>\n      <td>2.4832</td>\n      <td>4.768669</td>\n      <td>28.885493</td>\n      <td>...</td>\n      <td>1</td>\n      <td>1</td>\n      <td>0</td>\n      <td>1</td>\n      <td>1</td>\n      <td>1</td>\n      <td>1</td>\n      <td>1</td>\n      <td>1</td>\n      <td>0</td>\n    </tr>\n    <tr>\n      <th>7804</th>\n      <td>CN1CCC(=C2c3ccccc3CC(=O)c3sccc32)CC1</td>\n      <td>BBB+</td>\n      <td>module 'numpy' has no attribute 'float'.\\n`np....</td>\n      <td>module 'numpy' has no attribute 'float'.\\n`np....</td>\n      <td>0</td>\n      <td>1</td>\n      <td>29.305963</td>\n      <td>2.511472</td>\n      <td>4.918238</td>\n      <td>29.305963</td>\n      <td>...</td>\n      <td>0</td>\n      <td>1</td>\n      <td>0</td>\n      <td>1</td>\n      <td>1</td>\n      <td>1</td>\n      <td>1</td>\n      <td>1</td>\n      <td>1</td>\n      <td>0</td>\n    </tr>\n    <tr>\n      <th>7805</th>\n      <td>Cc1[nH]c(=O)c(C#N)cc1-c1ccncc1</td>\n      <td>BBB-</td>\n      <td>module 'numpy' has no attribute 'float'.\\n`np....</td>\n      <td>module 'numpy' has no attribute 'float'.\\n`np....</td>\n      <td>0</td>\n      <td>0</td>\n      <td>20.388826</td>\n      <td>2.390361</td>\n      <td>4.780722</td>\n      <td>20.388826</td>\n      <td>...</td>\n      <td>0</td>\n      <td>0</td>\n      <td>0</td>\n      <td>1</td>\n      <td>1</td>\n      <td>1</td>\n      <td>1</td>\n      <td>1</td>\n      <td>1</td>\n      <td>0</td>\n    </tr>\n    <tr>\n      <th>7806</th>\n      <td>Nc1cc(-c2ccncc2)c[nH]c1=O</td>\n      <td>BBB-</td>\n      <td>module 'numpy' has no attribute 'float'.\\n`np....</td>\n      <td>module 'numpy' has no attribute 'float'.\\n`np....</td>\n      <td>0</td>\n      <td>0</td>\n      <td>18.348875</td>\n      <td>2.335372</td>\n      <td>4.670745</td>\n      <td>18.348875</td>\n      <td>...</td>\n      <td>0</td>\n      <td>1</td>\n      <td>0</td>\n      <td>0</td>\n      <td>1</td>\n      <td>1</td>\n      <td>1</td>\n      <td>1</td>\n      <td>1</td>\n      <td>0</td>\n    </tr>\n  </tbody>\n</table>\n<p>7807 rows × 5878 columns</p>\n</div>"
     },
     "execution_count": 11,
     "metadata": {},
     "output_type": "execute_result"
    }
   ],
   "source": [
    "classification_df_expanded = dataset_feature_expansion(classification_df)\n",
    "classification_df_expanded"
   ],
   "metadata": {
    "collapsed": false
   }
  },
  {
   "cell_type": "code",
   "execution_count": 12,
   "outputs": [
    {
     "name": "stdout",
     "output_type": "stream",
     "text": [
      "Done!\n"
     ]
    }
   ],
   "source": [
    "classification_df_expanded.to_csv(\n",
    "    'datasets\\expanded_datasets\\BBB_classification_expanded.csv')\n",
    "print('Done!')"
   ],
   "metadata": {
    "collapsed": false
   }
  },
  {
   "cell_type": "markdown",
   "source": [
    "# Dataset cleanup (feature selection)"
   ],
   "metadata": {
    "collapsed": false
   }
  },
  {
   "cell_type": "code",
   "execution_count": null,
   "outputs": [],
   "source": [
    "feature_selector = VarianceThreshold(  #feature_selector is for getting rid\n",
    "    # of low-variance features\n",
    "    threshold=0  #Variance = 0 means to get rid of features with all the same\n",
    "    # values\n",
    ")"
   ],
   "metadata": {
    "collapsed": false
   }
  },
  {
   "cell_type": "markdown",
   "source": [
    "## Regression"
   ],
   "metadata": {
    "collapsed": false
   }
  },
  {
   "cell_type": "code",
   "execution_count": null,
   "outputs": [],
   "source": [
    "# Remove low-variance features\n",
    "print(\n",
    "    'Before removing the zero-variance descriptors, the dataset has {} '\n",
    "    'descriptors'.format(\n",
    "        len(regression_df_expanded.columns)\n",
    "    )\n",
    ")\n",
    "\n",
    "regression_features_df = regression_df_expanded.loc[\n",
    "     :,\n",
    "     ~regression_df_expanded.columns.isin(['SMILES', 'ROMol']) # Keep all\n",
    "                         # the columns that aren't 'SMILES' or 'ROMol'\n",
    "]\n",
    "\n",
    "regression_features_df.columns = regression_features_df.columns.astype(str)\n",
    "# Convert all column titles into str. This is required by feature_selector\n",
    "# .fit_transform\n",
    "feature_selector.fit_transform(regression_features_df)\n",
    "\n",
    "regression_features_df_varianced = pd.DataFrame(\n",
    "    feature_selector.fit_transform(\n",
    "        regression_features_df\n",
    "    ),\n",
    "    columns=regression_features_df.columns[\n",
    "        feature_selector.get_support(\n",
    "            indices=True  # This returns the indices of the kept descriptors\n",
    "        )\n",
    "    ]\n",
    ")\n",
    "\n",
    "regression_df_expanded_varianced = pd.concat(\n",
    "    [regression_df_expanded[\n",
    "        [\n",
    "            'SMILES',\n",
    "            # 'ROMol' #Not adding the 'ROMol' column back since it's not\n",
    "            # very useful for later modeling\n",
    "        ]\n",
    "    ],\n",
    "    regression_features_df_varianced],\n",
    "    axis=1\n",
    ")\n",
    "\n",
    "print(\n",
    "    'After removing the zero-variance descriptors, the dataset has {} '\n",
    "    'descriptors'.format(\n",
    "        len(regression_df_expanded_varianced.columns)\n",
    "    ),\n",
    ")\n",
    "\n",
    "regression_df_expanded_varianced"
   ],
   "metadata": {
    "collapsed": false
   }
  },
  {
   "cell_type": "markdown",
   "source": [
    "## Classification"
   ],
   "metadata": {
    "collapsed": false
   }
  }
 ],
 "metadata": {
  "kernelspec": {
   "display_name": "Python 3",
   "language": "python",
   "name": "python3"
  },
  "language_info": {
   "codemirror_mode": {
    "name": "ipython",
    "version": 2
   },
   "file_extension": ".py",
   "mimetype": "text/x-python",
   "name": "python",
   "nbconvert_exporter": "python",
   "pygments_lexer": "ipython2",
   "version": "2.7.6"
  }
 },
 "nbformat": 4,
 "nbformat_minor": 0
}
