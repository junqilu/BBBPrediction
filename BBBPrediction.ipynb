{
 "cells": [
  {
   "cell_type": "markdown",
   "source": [
    "# Import packages"
   ],
   "metadata": {
    "collapsed": false
   }
  },
  {
   "cell_type": "code",
   "execution_count": 1,
   "outputs": [],
   "source": [
    "import pandas as pd"
   ],
   "metadata": {
    "collapsed": false
   }
  },
  {
   "cell_type": "markdown",
   "source": [
    "# Read in data"
   ],
   "metadata": {
    "collapsed": false
   }
  },
  {
   "cell_type": "markdown",
   "source": [
    "## Regression"
   ],
   "metadata": {
    "collapsed": false
   }
  },
  {
   "cell_type": "code",
   "execution_count": 2,
   "outputs": [
    {
     "data": {
      "text/plain": "                                                 SMILES  logBB\n0     CN1C(=NN=N1)SCC2=C(N3C(C(C3=O)(NC(=O)C(C4=CC=C...  -2.52\n1     CN1CC[C@]23[C@@H]4[C@H]1CC5=C2C(=C(C=C5)OC6[C@...  -2.15\n2     CN1CC[C@]23[C@@H]4[C@H]1CC5=C2C(=C(C=C5)O)O[C@...  -2.09\n3      CC1=NC=C(C=C1)CC2CNC(NC2=O)NCCCCC3=NC=C(C=C3C)Br  -1.88\n4     c1(c2c3n(c4c(C(N(C)C3)=O)c(Cl)ccc4)cn2)noc(C(O...  -1.82\n...                                                 ...    ...\n1053              C[NH2+]CCCN1C2=CC=CC=C2CCC3=CC=CC=C31   1.20\n1054                 CN(C)CCCN1C2=CC=CC=C2SC3=CC=CC=C31   1.23\n1055                  CN(C)CCOC(C1=CC=CC=C1)C2=CC=CC=C2   1.30\n1056                CNCCCN1C2=CC=CC=C2SC3=C1C=C(C=C3)Cl   1.40\n1057   CN[C@H]1CC[C@H](C2=CC=CC=C12)C3=CC(=C(C=C3)Cl)Cl   1.60\n\n[1058 rows x 2 columns]",
      "text/html": "<div>\n<style scoped>\n    .dataframe tbody tr th:only-of-type {\n        vertical-align: middle;\n    }\n\n    .dataframe tbody tr th {\n        vertical-align: top;\n    }\n\n    .dataframe thead th {\n        text-align: right;\n    }\n</style>\n<table border=\"1\" class=\"dataframe\">\n  <thead>\n    <tr style=\"text-align: right;\">\n      <th></th>\n      <th>SMILES</th>\n      <th>logBB</th>\n    </tr>\n  </thead>\n  <tbody>\n    <tr>\n      <th>0</th>\n      <td>CN1C(=NN=N1)SCC2=C(N3C(C(C3=O)(NC(=O)C(C4=CC=C...</td>\n      <td>-2.52</td>\n    </tr>\n    <tr>\n      <th>1</th>\n      <td>CN1CC[C@]23[C@@H]4[C@H]1CC5=C2C(=C(C=C5)OC6[C@...</td>\n      <td>-2.15</td>\n    </tr>\n    <tr>\n      <th>2</th>\n      <td>CN1CC[C@]23[C@@H]4[C@H]1CC5=C2C(=C(C=C5)O)O[C@...</td>\n      <td>-2.09</td>\n    </tr>\n    <tr>\n      <th>3</th>\n      <td>CC1=NC=C(C=C1)CC2CNC(NC2=O)NCCCCC3=NC=C(C=C3C)Br</td>\n      <td>-1.88</td>\n    </tr>\n    <tr>\n      <th>4</th>\n      <td>c1(c2c3n(c4c(C(N(C)C3)=O)c(Cl)ccc4)cn2)noc(C(O...</td>\n      <td>-1.82</td>\n    </tr>\n    <tr>\n      <th>...</th>\n      <td>...</td>\n      <td>...</td>\n    </tr>\n    <tr>\n      <th>1053</th>\n      <td>C[NH2+]CCCN1C2=CC=CC=C2CCC3=CC=CC=C31</td>\n      <td>1.20</td>\n    </tr>\n    <tr>\n      <th>1054</th>\n      <td>CN(C)CCCN1C2=CC=CC=C2SC3=CC=CC=C31</td>\n      <td>1.23</td>\n    </tr>\n    <tr>\n      <th>1055</th>\n      <td>CN(C)CCOC(C1=CC=CC=C1)C2=CC=CC=C2</td>\n      <td>1.30</td>\n    </tr>\n    <tr>\n      <th>1056</th>\n      <td>CNCCCN1C2=CC=CC=C2SC3=C1C=C(C=C3)Cl</td>\n      <td>1.40</td>\n    </tr>\n    <tr>\n      <th>1057</th>\n      <td>CN[C@H]1CC[C@H](C2=CC=CC=C12)C3=CC(=C(C=C3)Cl)Cl</td>\n      <td>1.60</td>\n    </tr>\n  </tbody>\n</table>\n<p>1058 rows × 2 columns</p>\n</div>"
     },
     "execution_count": 2,
     "metadata": {},
     "output_type": "execute_result"
    }
   ],
   "source": [
    "regression_df = pd.read_csv('datasets\\cleaned_datasets\\BBB_regression.csv')\n",
    "regression_df"
   ],
   "metadata": {
    "collapsed": false
   }
  },
  {
   "cell_type": "code",
   "execution_count": 3,
   "outputs": [
    {
     "data": {
      "text/plain": "128"
     },
     "execution_count": 3,
     "metadata": {},
     "output_type": "execute_result"
    }
   ],
   "source": [
    "(regression_df['logBB'] <= -1.01).sum() #These are BBB+"
   ],
   "metadata": {
    "collapsed": false
   }
  },
  {
   "cell_type": "code",
   "execution_count": 4,
   "outputs": [
    {
     "data": {
      "text/plain": "930"
     },
     "execution_count": 4,
     "metadata": {},
     "output_type": "execute_result"
    }
   ],
   "source": [
    "(regression_df['logBB'] >= -1).sum() #These are BBB-"
   ],
   "metadata": {
    "collapsed": false
   }
  },
  {
   "cell_type": "markdown",
   "source": [
    "## Classification"
   ],
   "metadata": {
    "collapsed": false
   }
  },
  {
   "cell_type": "code",
   "execution_count": 5,
   "outputs": [
    {
     "data": {
      "text/plain": "                                                 SMILES BBB+/BBB-\n0      O=C(O)c1cc(N=Nc2ccc(S(=O)(=O)Nc3ccccn3)cc2)ccc1O      BBB-\n1     COC1(NC(=O)C(C(=O)O)c2ccc(O)cc2)C(=O)N2C(C(=O)...      BBB-\n2                                Oc1c(I)cc(Cl)c2cccnc12      BBB-\n3                            CCNC(=NCCSCc1ncccc1Br)NC#N      BBB-\n4     CN1CC[C@]23c4c5ccc(OC6O[C@H](C(=O)O)[C@@H](O)[...      BBB-\n...                                                 ...       ...\n7802                    c1ccc(CN(CC2=NCCN2)c2ccccc2)cc1      BBB-\n7803                   CCOCCn1c(N2CCCN(C)CC2)nc2ccccc21      BBB+\n7804               CN1CCC(=C2c3ccccc3CC(=O)c3sccc32)CC1      BBB+\n7805                     Cc1[nH]c(=O)c(C#N)cc1-c1ccncc1      BBB-\n7806                          Nc1cc(-c2ccncc2)c[nH]c1=O      BBB-\n\n[7807 rows x 2 columns]",
      "text/html": "<div>\n<style scoped>\n    .dataframe tbody tr th:only-of-type {\n        vertical-align: middle;\n    }\n\n    .dataframe tbody tr th {\n        vertical-align: top;\n    }\n\n    .dataframe thead th {\n        text-align: right;\n    }\n</style>\n<table border=\"1\" class=\"dataframe\">\n  <thead>\n    <tr style=\"text-align: right;\">\n      <th></th>\n      <th>SMILES</th>\n      <th>BBB+/BBB-</th>\n    </tr>\n  </thead>\n  <tbody>\n    <tr>\n      <th>0</th>\n      <td>O=C(O)c1cc(N=Nc2ccc(S(=O)(=O)Nc3ccccn3)cc2)ccc1O</td>\n      <td>BBB-</td>\n    </tr>\n    <tr>\n      <th>1</th>\n      <td>COC1(NC(=O)C(C(=O)O)c2ccc(O)cc2)C(=O)N2C(C(=O)...</td>\n      <td>BBB-</td>\n    </tr>\n    <tr>\n      <th>2</th>\n      <td>Oc1c(I)cc(Cl)c2cccnc12</td>\n      <td>BBB-</td>\n    </tr>\n    <tr>\n      <th>3</th>\n      <td>CCNC(=NCCSCc1ncccc1Br)NC#N</td>\n      <td>BBB-</td>\n    </tr>\n    <tr>\n      <th>4</th>\n      <td>CN1CC[C@]23c4c5ccc(OC6O[C@H](C(=O)O)[C@@H](O)[...</td>\n      <td>BBB-</td>\n    </tr>\n    <tr>\n      <th>...</th>\n      <td>...</td>\n      <td>...</td>\n    </tr>\n    <tr>\n      <th>7802</th>\n      <td>c1ccc(CN(CC2=NCCN2)c2ccccc2)cc1</td>\n      <td>BBB-</td>\n    </tr>\n    <tr>\n      <th>7803</th>\n      <td>CCOCCn1c(N2CCCN(C)CC2)nc2ccccc21</td>\n      <td>BBB+</td>\n    </tr>\n    <tr>\n      <th>7804</th>\n      <td>CN1CCC(=C2c3ccccc3CC(=O)c3sccc32)CC1</td>\n      <td>BBB+</td>\n    </tr>\n    <tr>\n      <th>7805</th>\n      <td>Cc1[nH]c(=O)c(C#N)cc1-c1ccncc1</td>\n      <td>BBB-</td>\n    </tr>\n    <tr>\n      <th>7806</th>\n      <td>Nc1cc(-c2ccncc2)c[nH]c1=O</td>\n      <td>BBB-</td>\n    </tr>\n  </tbody>\n</table>\n<p>7807 rows × 2 columns</p>\n</div>"
     },
     "execution_count": 5,
     "metadata": {},
     "output_type": "execute_result"
    }
   ],
   "source": [
    "classification_df = pd.read_csv('datasets\\cleaned_datasets\\BBB_classification.csv')\n",
    "classification_df"
   ],
   "metadata": {
    "collapsed": false
   }
  },
  {
   "cell_type": "code",
   "execution_count": 6,
   "outputs": [
    {
     "data": {
      "text/plain": "BBB+/BBB-\nBBB+    4956\nBBB-    2851\nName: count, dtype: int64"
     },
     "execution_count": 6,
     "metadata": {},
     "output_type": "execute_result"
    }
   ],
   "source": [
    "classification_df['BBB+/BBB-'].value_counts()"
   ],
   "metadata": {
    "collapsed": false
   }
  },
  {
   "cell_type": "code",
   "execution_count": null,
   "outputs": [],
   "source": [],
   "metadata": {
    "collapsed": false
   }
  }
 ],
 "metadata": {
  "kernelspec": {
   "display_name": "Python 3",
   "language": "python",
   "name": "python3"
  },
  "language_info": {
   "codemirror_mode": {
    "name": "ipython",
    "version": 2
   },
   "file_extension": ".py",
   "mimetype": "text/x-python",
   "name": "python",
   "nbconvert_exporter": "python",
   "pygments_lexer": "ipython2",
   "version": "2.7.6"
  }
 },
 "nbformat": 4,
 "nbformat_minor": 0
}
