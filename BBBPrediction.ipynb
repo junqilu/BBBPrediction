{
 "cells": [
  {
   "cell_type": "code",
   "outputs": [],
   "source": [],
   "metadata": {
    "collapsed": false
   }
  },
  {
   "cell_type": "markdown",
   "source": [
    "# Import packages"
   ],
   "metadata": {
    "collapsed": false
   }
  },
  {
   "cell_type": "code",
   "outputs": [],
   "source": [
    "import pickle  # Local Python (3.8) is fine with this. If you're suing Google\n",
    "# colab, which uses a Python version of 3.6, you need to do import pickel5\n",
    "# as pickle\n",
    "import cloudpickle as cp\n",
    "from urllib.request import urlopen\n",
    "\n",
    "import numpy as np\n",
    "import pandas as pd\n",
    "\n",
    "import matplotlib.pyplot as plt\n",
    "\n",
    "from sklearn.cluster import MiniBatchKMeans\n",
    "from imblearn.under_sampling import RandomUnderSampler, ClusterCentroids\n",
    "from imblearn.combine import SMOTEENN\n",
    "\n",
    "from datetime import datetime\n",
    "from sklearn.pipeline import Pipeline\n",
    "from sklearn.preprocessing import StandardScaler\n",
    "from collinearity import SelectNonCollinear\n",
    "\n",
    "from sklearn.decomposition import PCA\n",
    "from sklearn.svm import SVR, SVC\n",
    "\n",
    "from sklearn.ensemble import RandomForestRegressor\n",
    "from sklearn.model_selection import train_test_split, GridSearchCV, \\\n",
    "    StratifiedKFold, RepeatedStratifiedKFold\n",
    "from sklearn.neural_network import MLPClassifier\n",
    "\n",
    "from sklearn.metrics import mean_squared_error, mean_absolute_error, \\\n",
    "    r2_score, make_scorer, recall_score, accuracy_score, f1_score, \\\n",
    "    precision_score, balanced_accuracy_score, roc_curve, auc"
   ],
   "metadata": {
    "collapsed": false,
    "ExecuteTime": {
     "end_time": "2024-04-07T00:57:39.649964Z",
     "start_time": "2024-04-07T00:57:39.401523Z"
    }
   },
   "execution_count": 22
  },
  {
   "cell_type": "markdown",
   "source": [
    "# Custom functions"
   ],
   "metadata": {
    "collapsed": false
   }
  },
  {
   "cell_type": "code",
   "execution_count": 36,
   "outputs": [],
   "source": [
    "from dataset_expansion import dataset_feature_expansion, merge_multiple_dfs\n",
    "from dataset_cleanup import filter_low_variance\n",
    "from dataset_plot import simple_pie_plot\n",
    "from pickle_managment import save_pickle, load_pickle\n"
   ],
   "metadata": {
    "collapsed": false,
    "ExecuteTime": {
     "end_time": "2024-04-07T01:39:17.198638Z",
     "start_time": "2024-04-07T01:39:17.185410Z"
    }
   }
  },
  {
   "cell_type": "markdown",
   "source": [
    "# Read in data"
   ],
   "metadata": {
    "collapsed": false
   }
  },
  {
   "cell_type": "markdown",
   "source": [
    "## Regression"
   ],
   "metadata": {
    "collapsed": false
   }
  },
  {
   "cell_type": "code",
   "execution_count": null,
   "outputs": [],
   "source": [
    "regression_df = pd.read_csv('datasets\\cleaned_datasets\\BBB_regression.csv')\n",
    "regression_df"
   ],
   "metadata": {
    "collapsed": false
   }
  },
  {
   "cell_type": "code",
   "execution_count": null,
   "outputs": [],
   "source": [
    "(regression_df['logBB'] <= -1.01).sum()  #These are BBB-"
   ],
   "metadata": {
    "collapsed": false
   }
  },
  {
   "cell_type": "code",
   "execution_count": null,
   "outputs": [],
   "source": [
    "(regression_df['logBB'] >= -1).sum()  #These are BBB+"
   ],
   "metadata": {
    "collapsed": false
   }
  },
  {
   "cell_type": "markdown",
   "source": [
    "## Classification"
   ],
   "metadata": {
    "collapsed": false
   }
  },
  {
   "cell_type": "code",
   "execution_count": null,
   "outputs": [],
   "source": [
    "classification_df = pd.read_csv(\n",
    "    'datasets\\cleaned_datasets\\BBB_classification.csv'\n",
    ")\n",
    "classification_df"
   ],
   "metadata": {
    "collapsed": false
   }
  },
  {
   "cell_type": "code",
   "execution_count": null,
   "outputs": [],
   "source": [
    "classification_df['BBB+/BBB-'].value_counts()"
   ],
   "metadata": {
    "collapsed": false
   }
  },
  {
   "cell_type": "markdown",
   "source": [
    "# Dataset expansion & cleaning\n",
    "Major expansion steps:\n",
    "1. Add in RDKit descriptors\n",
    "2. Add in Morgan fingerprints\n",
    "3. Add in MACCS keys\n",
    "\n",
    "Major cleaning steps:\n",
    "1. Remove columns whose variance is 0--all values are hte same\n",
    "    * Done by a function so later the threshold for filtering\n",
    "    based on variance level is adjustable"
   ],
   "metadata": {
    "collapsed": false
   }
  },
  {
   "cell_type": "markdown",
   "source": [
    "## Regression"
   ],
   "metadata": {
    "collapsed": false
   }
  },
  {
   "cell_type": "code",
   "execution_count": null,
   "outputs": [],
   "source": [
    "regression_df_expanded, regression_expansion_errors = dataset_feature_expansion(\n",
    "    regression_df)\n",
    "regression_df_expanded  #Missing SMILES are the chemicals that have errors\n",
    "# when going through the calculations"
   ],
   "metadata": {
    "collapsed": false
   }
  },
  {
   "cell_type": "code",
   "execution_count": null,
   "outputs": [],
   "source": [
    "regression_df_expanded_cleaned = filter_low_variance(\n",
    "    regression_df_expanded,\n",
    "    exclude_col_list=['SMILES', 'logBB'],\n",
    "    threshold_level=0\n",
    ")\n",
    "regression_df_expanded_cleaned"
   ],
   "metadata": {
    "collapsed": false
   }
  },
  {
   "cell_type": "code",
   "execution_count": null,
   "outputs": [],
   "source": [
    "regression_df_expanded_cleaned.to_csv(\n",
    "    'datasets\\expanded_datasets\\BBB_regression_expanded.csv.zip',\n",
    "    index=False,\n",
    "    compression='zip'  # Have to use zip here since the classification\n",
    "    # dataset will become very large. Zipped .csv files can be directly read\n",
    "    # by pd.read_csv()\n",
    ")\n",
    "print('Done!')"
   ],
   "metadata": {
    "collapsed": false
   }
  },
  {
   "cell_type": "markdown",
   "source": [
    "## Classification"
   ],
   "metadata": {
    "collapsed": false
   }
  },
  {
   "cell_type": "code",
   "execution_count": null,
   "outputs": [],
   "source": [
    "classification_df_expanded, classification_expansion_errors = dataset_feature_expansion(\n",
    "    classification_df)\n",
    "classification_df_expanded"
   ],
   "metadata": {
    "collapsed": false
   }
  },
  {
   "cell_type": "code",
   "execution_count": null,
   "outputs": [],
   "source": [
    "classification_df_expanded_cleaned = filter_low_variance(\n",
    "    classification_df_expanded,\n",
    "    exclude_col_list=['SMILES', 'BBB+/BBB-'],\n",
    "    threshold_level=0\n",
    ")\n",
    "classification_df_expanded_cleaned"
   ],
   "metadata": {
    "collapsed": false
   }
  },
  {
   "cell_type": "code",
   "execution_count": null,
   "outputs": [],
   "source": [
    "classification_df_expanded_cleaned.to_csv(\n",
    "    'datasets\\expanded_datasets\\BBB_classification_expanded.csv.zip',\n",
    "    index=False,\n",
    "    compression='zip'\n",
    ")\n",
    "print('Done!')"
   ],
   "metadata": {
    "collapsed": false
   }
  },
  {
   "cell_type": "markdown",
   "source": [
    "# Dataset rebalance\n",
    "Before center and standardization"
   ],
   "metadata": {
    "collapsed": false
   }
  },
  {
   "cell_type": "markdown",
   "source": [
    "## Regression\n",
    "Regression dataset doesn't need rebalancing"
   ],
   "metadata": {
    "collapsed": false
   }
  },
  {
   "cell_type": "markdown",
   "source": [
    "## Classification"
   ],
   "metadata": {
    "collapsed": false
   }
  },
  {
   "cell_type": "code",
   "execution_count": null,
   "outputs": [],
   "source": [
    "classification_df_expanded_cleaned = pd.read_csv(\n",
    "    'datasets\\expanded_datasets\\BBB_classification_expanded.csv.zip')\n",
    "classification_df_expanded_cleaned"
   ],
   "metadata": {
    "collapsed": false
   }
  },
  {
   "cell_type": "code",
   "execution_count": null,
   "outputs": [],
   "source": [
    "classification_BBB_N = (classification_df_expanded_cleaned\n",
    "[classification_df_expanded_cleaned['BBB+/BBB-'] == 'BBB-']).shape[0]  #These\n",
    "# are BBB-\n",
    "classification_BBB_Y = (classification_df_expanded_cleaned\n",
    "[classification_df_expanded_cleaned['BBB+/BBB-'] == 'BBB+']).shape[0]  #These\n",
    "# are BBB+\n",
    "\n",
    "simple_pie_plot(\n",
    "    label_list=['BBB-', 'BBB+'],\n",
    "    num_list=[classification_BBB_N, classification_BBB_Y],\n",
    "    title_str='Composition of 2 categories in regression dataset before balancing'\n",
    ")\n",
    "plt.show()"
   ],
   "metadata": {
    "collapsed": false
   }
  },
  {
   "cell_type": "code",
   "execution_count": null,
   "outputs": [],
   "source": [
    "X = classification_df_expanded_cleaned.loc[\n",
    "    :,\n",
    "    ~classification_df_expanded_cleaned.columns.isin(['SMILES', 'BBB+/BBB-'])\n",
    "]\n",
    "y = classification_df_expanded_cleaned['BBB+/BBB-']"
   ],
   "metadata": {
    "collapsed": false
   }
  },
  {
   "cell_type": "markdown",
   "source": [
    "### Under-sampling by ClusterCentroids"
   ],
   "metadata": {
    "collapsed": false
   }
  },
  {
   "cell_type": "code",
   "execution_count": null,
   "outputs": [],
   "source": [
    "cluster_centroids = ClusterCentroids(\n",
    "    estimator=MiniBatchKMeans(n_init=1, random_state=1),\n",
    "    random_state=1\n",
    ")\n",
    "\n",
    "\n",
    "\n",
    "X_resample, y_resample = cluster_centroids.fit_resample(X, y)\n",
    "\n",
    "classification_df_after_centroid_balancing = merge_multiple_dfs\\\n",
    "    (df_list=[classification_df_expanded_cleaned['SMILES'], y_resample, X_resample])\n",
    "classification_df_after_centroid_balancing"
   ],
   "metadata": {
    "collapsed": false
   }
  },
  {
   "cell_type": "code",
   "execution_count": null,
   "outputs": [],
   "source": [
    "classification_BBB_N = (classification_df_after_centroid_balancing\n",
    "[classification_df_after_centroid_balancing['BBB+/BBB-'] == 'BBB-']).shape[0]  #These\n",
    "# are BBB-\n",
    "classification_BBB_Y = (classification_df_after_centroid_balancing\n",
    "[classification_df_after_centroid_balancing['BBB+/BBB-'] == 'BBB+']).shape[0]  #These\n",
    "# are BBB+\n",
    "\n",
    "simple_pie_plot(\n",
    "    label_list=['BBB-', 'BBB+'],\n",
    "    num_list=[classification_BBB_N, classification_BBB_Y],\n",
    "    title_str='Composition of 2 categories in regression dataset after '\n",
    "              'balancing by centroids method'\n",
    ")\n",
    "plt.show()"
   ],
   "metadata": {
    "collapsed": false
   }
  },
  {
   "cell_type": "code",
   "execution_count": null,
   "outputs": [],
   "source": [
    "classification_df_after_centroid_balancing.to_csv(\n",
    "    r'datasets\\balanced_datasets\\BBB_classification_balanced_centroid.csv.zip',\n",
    "    index=False,\n",
    "    compression='zip'\n",
    ")\n",
    "print('Done!')"
   ],
   "metadata": {
    "collapsed": false
   }
  },
  {
   "cell_type": "markdown",
   "source": [
    "### Over-sample by SMOTE then cleaning using ENN\n",
    "Not using SMOTE only to create lots of hypothetical chemicals that might\n",
    "not exist"
   ],
   "metadata": {
    "collapsed": false
   }
  },
  {
   "cell_type": "code",
   "execution_count": null,
   "outputs": [],
   "source": [
    "smoteenn = SMOTEENN(random_state=1)\n",
    "\n",
    "X_resample, y_resample = smoteenn.fit_resample(X, y)\n",
    "\n",
    "classification_df_after_smoteenn_balancing = merge_multiple_dfs\\\n",
    "    (df_list=[classification_df_expanded_cleaned['SMILES'], y_resample, X_resample])\n",
    "classification_df_after_smoteenn_balancing"
   ],
   "metadata": {
    "collapsed": false
   }
  },
  {
   "cell_type": "code",
   "execution_count": null,
   "outputs": [],
   "source": [
    "classification_BBB_N = (classification_df_after_smoteenn_balancing\n",
    "[classification_df_after_smoteenn_balancing['BBB+/BBB-'] == 'BBB-']).shape[0]  #These\n",
    "# are BBB-\n",
    "classification_BBB_Y = (classification_df_after_smoteenn_balancing\n",
    "[classification_df_after_smoteenn_balancing['BBB+/BBB-'] == 'BBB+']).shape[0]  #These\n",
    "# are BBB+\n",
    "\n",
    "simple_pie_plot(\n",
    "    label_list=['BBB-', 'BBB+'],\n",
    "    num_list=[classification_BBB_N, classification_BBB_Y],\n",
    "    title_str='Composition of 2 categories in regression dataset after '\n",
    "              'balancing by SMOTE-ENN method'\n",
    ")\n",
    "plt.show()"
   ],
   "metadata": {
    "collapsed": false
   }
  },
  {
   "cell_type": "code",
   "execution_count": null,
   "outputs": [],
   "source": [
    "classification_df_after_smoteenn_balancing.to_csv(\n",
    "    r'datasets\\balanced_datasets\\BBB_classification_balanced_smoteenn.csv.zip',\n",
    "    index=False,\n",
    "    compression='zip'\n",
    ")\n",
    "print('Done!')"
   ],
   "metadata": {
    "collapsed": false
   }
  },
  {
   "cell_type": "markdown",
   "source": [
    "# Model training\n",
    "Datasets transformation will be done along the way"
   ],
   "metadata": {
    "collapsed": false
   }
  },
  {
   "cell_type": "markdown",
   "source": [
    "## Regression"
   ],
   "metadata": {
    "collapsed": false
   }
  },
  {
   "cell_type": "code",
   "outputs": [
    {
     "data": {
      "text/plain": "                                                 SMILES  logBB  \\\n0     CN1C(=NN=N1)SCC2=C(N3C(C(C3=O)(NC(=O)C(C4=CC=C...  -2.52   \n1     CN1CC[C@]23[C@@H]4[C@H]1CC5=C2C(=C(C=C5)OC6[C@...  -2.15   \n2     CN1CC[C@]23[C@@H]4[C@H]1CC5=C2C(=C(C=C5)O)O[C@...  -2.09   \n3      CC1=NC=C(C=C1)CC2CNC(NC2=O)NCCCCC3=NC=C(C=C3C)Br  -1.88   \n4     c1(c2c3n(c4c(C(N(C)C3)=O)c(Cl)ccc4)cn2)noc(C(O...  -1.82   \n...                                                 ...    ...   \n1046              C[NH2+]CCCN1C2=CC=CC=C2CCC3=CC=CC=C31   1.20   \n1047                 CN(C)CCCN1C2=CC=CC=C2SC3=CC=CC=C31   1.23   \n1048                  CN(C)CCOC(C1=CC=CC=C1)C2=CC=CC=C2   1.30   \n1049                CNCCCN1C2=CC=CC=C2SC3=C1C=C(C=C3)Cl   1.40   \n1050   CN[C@H]1CC[C@H](C2=CC=CC=C12)C3=CC(=C(C=C3)Cl)Cl   1.60   \n\n      MaxAbsEStateIndex  MaxEStateIndex  MinAbsEStateIndex  MinEStateIndex  \\\n0             13.190522       13.190522           0.042537       -2.144257   \n1             11.445328       11.445328           0.165306       -1.798901   \n2             11.479044       11.479044           0.060963       -1.790095   \n3             12.391214       12.391214           0.061101       -0.159783   \n4             12.699094       12.699094           0.092039       -2.255140   \n...                 ...             ...                ...             ...   \n1046           2.515046        2.515046           1.095602        1.095602   \n1047           2.462963        2.462963           1.062269        1.062269   \n1048           6.083380        6.083380           0.016065        0.016065   \n1049           6.182100        6.182100           0.793840        0.793840   \n1050           6.171803        6.171803           0.407932        0.407932   \n\n           qed        SPS    MolWt  HeavyAtomMolWt  ...  157_y  158_y  159_y  \\\n0     0.133795  22.000000  520.480         500.320  ...    1.0    1.0    1.0   \n1     0.346256  45.303030  461.467         434.251  ...    1.0    1.0    1.0   \n2     0.359144  45.393939  461.467         434.251  ...    1.0    1.0    1.0   \n3     0.543803  19.464286  446.393         418.169  ...    0.0    1.0    0.0   \n4     0.648321  14.192308  375.772         361.660  ...    1.0    1.0    1.0   \n...        ...        ...      ...             ...  ...    ...    ...    ...   \n1046  0.843816  13.550000  267.396         244.212  ...    0.0    1.0    0.0   \n1047  0.828858  13.250000  284.428         264.268  ...    0.0    1.0    0.0   \n1048  0.784550  11.157895  255.361         234.193  ...    1.0    1.0    0.0   \n1049  0.834133  13.000000  304.846         287.710  ...    0.0    1.0    0.0   \n1050  0.805861  21.550000  306.236         289.100  ...    0.0    1.0    0.0   \n\n      160_y  161_y  162_y  163_y  164_y  165_y  166_y  \n0       1.0    1.0    1.0    1.0    1.0    1.0    0.0  \n1       1.0    1.0    1.0    1.0    1.0    1.0    0.0  \n2       1.0    1.0    1.0    1.0    1.0    1.0    0.0  \n3       1.0    1.0    1.0    1.0    1.0    1.0    0.0  \n4       1.0    1.0    1.0    1.0    1.0    1.0    0.0  \n...     ...    ...    ...    ...    ...    ...    ...  \n1046    1.0    1.0    1.0    1.0    0.0    1.0    0.0  \n1047    1.0    1.0    1.0    1.0    0.0    1.0    0.0  \n1048    1.0    1.0    1.0    1.0    1.0    1.0    0.0  \n1049    1.0    1.0    1.0    1.0    0.0    1.0    0.0  \n1050    1.0    1.0    1.0    1.0    0.0    1.0    0.0  \n\n[1051 rows x 4103 columns]",
      "text/html": "<div>\n<style scoped>\n    .dataframe tbody tr th:only-of-type {\n        vertical-align: middle;\n    }\n\n    .dataframe tbody tr th {\n        vertical-align: top;\n    }\n\n    .dataframe thead th {\n        text-align: right;\n    }\n</style>\n<table border=\"1\" class=\"dataframe\">\n  <thead>\n    <tr style=\"text-align: right;\">\n      <th></th>\n      <th>SMILES</th>\n      <th>logBB</th>\n      <th>MaxAbsEStateIndex</th>\n      <th>MaxEStateIndex</th>\n      <th>MinAbsEStateIndex</th>\n      <th>MinEStateIndex</th>\n      <th>qed</th>\n      <th>SPS</th>\n      <th>MolWt</th>\n      <th>HeavyAtomMolWt</th>\n      <th>...</th>\n      <th>157_y</th>\n      <th>158_y</th>\n      <th>159_y</th>\n      <th>160_y</th>\n      <th>161_y</th>\n      <th>162_y</th>\n      <th>163_y</th>\n      <th>164_y</th>\n      <th>165_y</th>\n      <th>166_y</th>\n    </tr>\n  </thead>\n  <tbody>\n    <tr>\n      <th>0</th>\n      <td>CN1C(=NN=N1)SCC2=C(N3C(C(C3=O)(NC(=O)C(C4=CC=C...</td>\n      <td>-2.52</td>\n      <td>13.190522</td>\n      <td>13.190522</td>\n      <td>0.042537</td>\n      <td>-2.144257</td>\n      <td>0.133795</td>\n      <td>22.000000</td>\n      <td>520.480</td>\n      <td>500.320</td>\n      <td>...</td>\n      <td>1.0</td>\n      <td>1.0</td>\n      <td>1.0</td>\n      <td>1.0</td>\n      <td>1.0</td>\n      <td>1.0</td>\n      <td>1.0</td>\n      <td>1.0</td>\n      <td>1.0</td>\n      <td>0.0</td>\n    </tr>\n    <tr>\n      <th>1</th>\n      <td>CN1CC[C@]23[C@@H]4[C@H]1CC5=C2C(=C(C=C5)OC6[C@...</td>\n      <td>-2.15</td>\n      <td>11.445328</td>\n      <td>11.445328</td>\n      <td>0.165306</td>\n      <td>-1.798901</td>\n      <td>0.346256</td>\n      <td>45.303030</td>\n      <td>461.467</td>\n      <td>434.251</td>\n      <td>...</td>\n      <td>1.0</td>\n      <td>1.0</td>\n      <td>1.0</td>\n      <td>1.0</td>\n      <td>1.0</td>\n      <td>1.0</td>\n      <td>1.0</td>\n      <td>1.0</td>\n      <td>1.0</td>\n      <td>0.0</td>\n    </tr>\n    <tr>\n      <th>2</th>\n      <td>CN1CC[C@]23[C@@H]4[C@H]1CC5=C2C(=C(C=C5)O)O[C@...</td>\n      <td>-2.09</td>\n      <td>11.479044</td>\n      <td>11.479044</td>\n      <td>0.060963</td>\n      <td>-1.790095</td>\n      <td>0.359144</td>\n      <td>45.393939</td>\n      <td>461.467</td>\n      <td>434.251</td>\n      <td>...</td>\n      <td>1.0</td>\n      <td>1.0</td>\n      <td>1.0</td>\n      <td>1.0</td>\n      <td>1.0</td>\n      <td>1.0</td>\n      <td>1.0</td>\n      <td>1.0</td>\n      <td>1.0</td>\n      <td>0.0</td>\n    </tr>\n    <tr>\n      <th>3</th>\n      <td>CC1=NC=C(C=C1)CC2CNC(NC2=O)NCCCCC3=NC=C(C=C3C)Br</td>\n      <td>-1.88</td>\n      <td>12.391214</td>\n      <td>12.391214</td>\n      <td>0.061101</td>\n      <td>-0.159783</td>\n      <td>0.543803</td>\n      <td>19.464286</td>\n      <td>446.393</td>\n      <td>418.169</td>\n      <td>...</td>\n      <td>0.0</td>\n      <td>1.0</td>\n      <td>0.0</td>\n      <td>1.0</td>\n      <td>1.0</td>\n      <td>1.0</td>\n      <td>1.0</td>\n      <td>1.0</td>\n      <td>1.0</td>\n      <td>0.0</td>\n    </tr>\n    <tr>\n      <th>4</th>\n      <td>c1(c2c3n(c4c(C(N(C)C3)=O)c(Cl)ccc4)cn2)noc(C(O...</td>\n      <td>-1.82</td>\n      <td>12.699094</td>\n      <td>12.699094</td>\n      <td>0.092039</td>\n      <td>-2.255140</td>\n      <td>0.648321</td>\n      <td>14.192308</td>\n      <td>375.772</td>\n      <td>361.660</td>\n      <td>...</td>\n      <td>1.0</td>\n      <td>1.0</td>\n      <td>1.0</td>\n      <td>1.0</td>\n      <td>1.0</td>\n      <td>1.0</td>\n      <td>1.0</td>\n      <td>1.0</td>\n      <td>1.0</td>\n      <td>0.0</td>\n    </tr>\n    <tr>\n      <th>...</th>\n      <td>...</td>\n      <td>...</td>\n      <td>...</td>\n      <td>...</td>\n      <td>...</td>\n      <td>...</td>\n      <td>...</td>\n      <td>...</td>\n      <td>...</td>\n      <td>...</td>\n      <td>...</td>\n      <td>...</td>\n      <td>...</td>\n      <td>...</td>\n      <td>...</td>\n      <td>...</td>\n      <td>...</td>\n      <td>...</td>\n      <td>...</td>\n      <td>...</td>\n      <td>...</td>\n    </tr>\n    <tr>\n      <th>1046</th>\n      <td>C[NH2+]CCCN1C2=CC=CC=C2CCC3=CC=CC=C31</td>\n      <td>1.20</td>\n      <td>2.515046</td>\n      <td>2.515046</td>\n      <td>1.095602</td>\n      <td>1.095602</td>\n      <td>0.843816</td>\n      <td>13.550000</td>\n      <td>267.396</td>\n      <td>244.212</td>\n      <td>...</td>\n      <td>0.0</td>\n      <td>1.0</td>\n      <td>0.0</td>\n      <td>1.0</td>\n      <td>1.0</td>\n      <td>1.0</td>\n      <td>1.0</td>\n      <td>0.0</td>\n      <td>1.0</td>\n      <td>0.0</td>\n    </tr>\n    <tr>\n      <th>1047</th>\n      <td>CN(C)CCCN1C2=CC=CC=C2SC3=CC=CC=C31</td>\n      <td>1.23</td>\n      <td>2.462963</td>\n      <td>2.462963</td>\n      <td>1.062269</td>\n      <td>1.062269</td>\n      <td>0.828858</td>\n      <td>13.250000</td>\n      <td>284.428</td>\n      <td>264.268</td>\n      <td>...</td>\n      <td>0.0</td>\n      <td>1.0</td>\n      <td>0.0</td>\n      <td>1.0</td>\n      <td>1.0</td>\n      <td>1.0</td>\n      <td>1.0</td>\n      <td>0.0</td>\n      <td>1.0</td>\n      <td>0.0</td>\n    </tr>\n    <tr>\n      <th>1048</th>\n      <td>CN(C)CCOC(C1=CC=CC=C1)C2=CC=CC=C2</td>\n      <td>1.30</td>\n      <td>6.083380</td>\n      <td>6.083380</td>\n      <td>0.016065</td>\n      <td>0.016065</td>\n      <td>0.784550</td>\n      <td>11.157895</td>\n      <td>255.361</td>\n      <td>234.193</td>\n      <td>...</td>\n      <td>1.0</td>\n      <td>1.0</td>\n      <td>0.0</td>\n      <td>1.0</td>\n      <td>1.0</td>\n      <td>1.0</td>\n      <td>1.0</td>\n      <td>1.0</td>\n      <td>1.0</td>\n      <td>0.0</td>\n    </tr>\n    <tr>\n      <th>1049</th>\n      <td>CNCCCN1C2=CC=CC=C2SC3=C1C=C(C=C3)Cl</td>\n      <td>1.40</td>\n      <td>6.182100</td>\n      <td>6.182100</td>\n      <td>0.793840</td>\n      <td>0.793840</td>\n      <td>0.834133</td>\n      <td>13.000000</td>\n      <td>304.846</td>\n      <td>287.710</td>\n      <td>...</td>\n      <td>0.0</td>\n      <td>1.0</td>\n      <td>0.0</td>\n      <td>1.0</td>\n      <td>1.0</td>\n      <td>1.0</td>\n      <td>1.0</td>\n      <td>0.0</td>\n      <td>1.0</td>\n      <td>0.0</td>\n    </tr>\n    <tr>\n      <th>1050</th>\n      <td>CN[C@H]1CC[C@H](C2=CC=CC=C12)C3=CC(=C(C=C3)Cl)Cl</td>\n      <td>1.60</td>\n      <td>6.171803</td>\n      <td>6.171803</td>\n      <td>0.407932</td>\n      <td>0.407932</td>\n      <td>0.805861</td>\n      <td>21.550000</td>\n      <td>306.236</td>\n      <td>289.100</td>\n      <td>...</td>\n      <td>0.0</td>\n      <td>1.0</td>\n      <td>0.0</td>\n      <td>1.0</td>\n      <td>1.0</td>\n      <td>1.0</td>\n      <td>1.0</td>\n      <td>0.0</td>\n      <td>1.0</td>\n      <td>0.0</td>\n    </tr>\n  </tbody>\n</table>\n<p>1051 rows × 4103 columns</p>\n</div>"
     },
     "execution_count": 6,
     "metadata": {},
     "output_type": "execute_result"
    }
   ],
   "source": [
    "regression_df_expanded = pd.read_csv(r'datasets/expanded_datasets/BBB_regression_expanded.csv.zip')\n",
    "regression_df_expanded"
   ],
   "metadata": {
    "collapsed": false,
    "ExecuteTime": {
     "end_time": "2024-04-07T00:07:20.931589Z",
     "start_time": "2024-04-07T00:07:19.068479Z"
    }
   },
   "execution_count": 6
  },
  {
   "cell_type": "code",
   "outputs": [
    {
     "data": {
      "text/plain": "array([[ 14.78371761,   3.1919762 ,   3.58857037, ...,   0.35103119,\n         -0.14879143,   0.15825741],\n       [ 12.43488374,   8.49247331, -13.0038119 , ...,   0.0434666 ,\n         -0.4067051 ,   0.56873198],\n       [ 13.58017443,   9.86524109,  -9.14099145, ...,  -0.28354372,\n         -0.14371695,  -1.29357963],\n       ...,\n       [ -4.71408993,   0.4475601 ,  -1.87718704, ...,   4.05773864,\n         -1.76356108,  -4.33797849],\n       [ -3.54861458,  -5.6401522 ,  -0.73223939, ...,  -0.52063431,\n         -0.26357589,   0.12871897],\n       [ -5.17044143,  -0.28775045,  -0.47069693, ...,  -0.45914922,\n          0.01601137,   0.45803261]])"
     },
     "execution_count": 12,
     "metadata": {},
     "output_type": "execute_result"
    }
   ],
   "source": [
    "regression_X = regression_df_expanded.loc[\n",
    "                   :,\n",
    "                   ~regression_df_expanded.columns.isin(\n",
    "                       ['SMILES', 'logBB'])\n",
    "                   ]\n",
    "\n",
    "regression_y = regression_df_expanded['logBB']\n",
    "\n",
    "\n",
    "data_processing_pipeline = Pipeline([\n",
    "    ('scaler', StandardScaler()),\n",
    "    ('pca', PCA(\n",
    "        n_components=0.95, #When using the svd_solver='full', n_components\n",
    "        # can be between 0 and 1 to represent the percentage of variance\n",
    "        # that you want to explain\n",
    "        svd_solver='full'\n",
    "    ))\n",
    "])\n",
    "\n",
    "regression_X_processed=data_processing_pipeline.fit_transform(regression_X)\n",
    "regression_X_processed"
   ],
   "metadata": {
    "collapsed": false,
    "ExecuteTime": {
     "end_time": "2024-04-07T00:22:12.820319Z",
     "start_time": "2024-04-07T00:22:09.000515Z"
    }
   },
   "execution_count": 12
  },
  {
   "cell_type": "code",
   "outputs": [],
   "source": [
    "regression_X_train, regression_X_test, regression_y_train, regression_y_test = train_test_split(\n",
    "    regression_X_processed,\n",
    "    regression_y,\n",
    "    test_size=0.2,\n",
    "    random_state=1,\n",
    "    shuffle=True\n",
    ")\n"
   ],
   "metadata": {
    "collapsed": false,
    "ExecuteTime": {
     "end_time": "2024-04-07T00:22:56.145087Z",
     "start_time": "2024-04-07T00:22:56.126389Z"
    }
   },
   "execution_count": 14
  },
  {
   "cell_type": "code",
   "outputs": [
    {
     "name": "stdout",
     "output_type": "stream",
     "text": [
      "Fitting 2 folds for each of 2 candidates, totalling 4 fits\n",
      "[CV 1/2; 1/2] START gamma=0.1, kernel=rbf.......................................\n",
      "[CV 1/2; 1/2] END gamma=0.1, kernel=rbf; MAE: (test=-0.534) MSE: (test=-0.501) R2: (test=0.103) total time=   0.0s\n",
      "[CV 2/2; 1/2] START gamma=0.1, kernel=rbf.......................................\n",
      "[CV 2/2; 1/2] END gamma=0.1, kernel=rbf; MAE: (test=-0.527) MSE: (test=-0.472) R2: (test=0.130) total time=   0.0s\n",
      "[CV 1/2; 2/2] START gamma=0.5, kernel=rbf.......................................\n",
      "[CV 1/2; 2/2] END gamma=0.5, kernel=rbf; MAE: (test=-0.537) MSE: (test=-0.505) R2: (test=0.095) total time=   0.0s\n",
      "[CV 2/2; 2/2] START gamma=0.5, kernel=rbf.......................................\n",
      "[CV 2/2; 2/2] END gamma=0.5, kernel=rbf; MAE: (test=-0.530) MSE: (test=-0.477) R2: (test=0.122) total time=   0.0s\n",
      "GridSearchCV took {} 0:00:00.626605\n"
     ]
    }
   ],
   "source": [
    "start_time = datetime.now()\n",
    "\n",
    "svr_model = SVR()\n",
    "\n",
    "svr_regressor_grid_search = GridSearchCV(\n",
    "    estimator=svr_model,\n",
    "    param_grid={\n",
    "        'kernel': ['rbf'],  #Kernel to solve with model, should try rbf, poly, and sigmoid\n",
    "        'gamma': [0.1, 0.5],  #Solver value important for rbf kernel\n",
    "        #'degree': [2,3,4] #Used for polynomial kernel\n",
    "        #'C': [0.001, 0.01, 0.1, 1, 10, 100] #Regularization parameter\n",
    "    },\n",
    "    cv=2,  #Number of fold for cross validation. It should be 8 or 10\n",
    "    scoring={\n",
    "        # All these are only viable in the negative option\n",
    "        'MAE': 'neg_mean_absolute_error',\n",
    "        'MSE': 'neg_mean_squared_error',\n",
    "        'R2': 'r2'\n",
    "    },\n",
    "    refit='R2',\n",
    "\n",
    "    n_jobs=1,\n",
    "    # -1 means using all processors, but it won't give you any messages.\n",
    "    # Only using 1 for my computer print out the training messages\n",
    "\n",
    "    verbose=10  #Provide detailed messages\n",
    ")\n",
    "\n",
    "svr_regressor_grid_search.fit(regression_X_train, regression_y_train)\n",
    "\n",
    "end_time = datetime.now()\n",
    "print('GridSearchCV took {}', end_time - start_time)"
   ],
   "metadata": {
    "collapsed": false,
    "ExecuteTime": {
     "end_time": "2024-04-07T00:43:54.412129Z",
     "start_time": "2024-04-07T00:43:53.777818Z"
    }
   },
   "execution_count": 18
  },
  {
   "cell_type": "markdown",
   "source": [
    "## Classification: Centroid"
   ],
   "metadata": {
    "collapsed": false
   }
  },
  {
   "cell_type": "code",
   "outputs": [
    {
     "data": {
      "text/plain": "                                                 SMILES BBB+/BBB-  \\\n0      O=C(O)c1cc(N=Nc2ccc(S(=O)(=O)Nc3ccccn3)cc2)ccc1O      BBB+   \n1     COC1(NC(=O)C(C(=O)O)c2ccc(O)cc2)C(=O)N2C(C(=O)...      BBB+   \n2                                Oc1c(I)cc(Cl)c2cccnc12      BBB+   \n3                            CCNC(=NCCSCc1ncccc1Br)NC#N      BBB+   \n4     CN1CC[C@]23c4c5ccc(OC6O[C@H](C(=O)O)[C@@H](O)[...      BBB+   \n...                                                 ...       ...   \n5697                            CCCCCCCCCCCCCCCCCCCCCCO      BBB-   \n5698                                  CCCCCCCCCCCCCCCCO      BBB-   \n5699  CCCCCCCCCCCCCCCC[N+](C)(C)CCN(Cc1ccc(OC)cc1)c1...      BBB-   \n5700                          CCCCCCCCCCCCCCOS(=O)(=O)O      BBB-   \n5701  CCCCCCOC(=O)NC(=N)c1ccc(NCc2nc3cc(C(=O)N(CCC(=...      BBB-   \n\n      MaxAbsEStateIndex  MaxEStateIndex  MinAbsEStateIndex  MinEStateIndex  \\\n0              7.521176        7.521176           0.635885        0.411976   \n1             15.163364       15.163364           0.020535       -1.624425   \n2             15.022344       15.022344           0.036460       -1.947471   \n3             15.129540       15.129540           0.022871       -1.609940   \n4             14.995286       14.995286           0.035518       -1.944947   \n...                 ...             ...                ...             ...   \n5697          11.219721       11.219721           0.047430       -0.047430   \n5698          12.530603       12.530603           0.037140       -1.168657   \n5699           4.506501        4.506501           0.832250        0.832250   \n5700          11.364205       11.364205           0.122604       -0.349254   \n5701          11.009622       11.009622           0.221585       -0.261291   \n\n           qed        SPS     MolWt  HeavyAtomMolWt  ...  157_y     158_y  \\\n0     0.787615  16.129212   268.543         251.743  ...    1.0  0.777778   \n1     0.147925  26.905882  1202.635        1090.747  ...    1.0  1.000000   \n2     0.109538  42.500000  1085.156        1008.548  ...    1.0  0.000000   \n3     0.147925  26.905882  1202.635        1090.747  ...    1.0  1.000000   \n4     0.109538  42.500000  1085.156        1008.548  ...    1.0  0.000000   \n...        ...        ...       ...             ...  ...    ...       ...   \n5697  0.770309  17.750000   256.092         249.036  ...    0.0  1.000000   \n5698  0.614448  15.760000   332.311         320.215  ...    1.0  0.000000   \n5699  0.899820  13.700000   265.360         246.208  ...    0.0  1.000000   \n5700  0.778670   9.750000   211.224         202.152  ...    0.0  0.000000   \n5701  0.699644  10.000000   187.202         178.130  ...    0.0  1.000000   \n\n         159_y  160_y     161_y  162_y  163_y  164_y  165_y  166_y  \n0     0.333333    1.0  0.777778    1.0    1.0    1.0    1.0    0.0  \n1     1.000000    1.0  1.000000    0.0    0.0    1.0    1.0    0.0  \n2     1.000000    1.0  0.000000    1.0    1.0    1.0    1.0    0.0  \n3     1.000000    1.0  1.000000    0.0    0.0    1.0    1.0    0.0  \n4     1.000000    1.0  0.000000    1.0    1.0    1.0    1.0    0.0  \n...        ...    ...       ...    ...    ...    ...    ...    ...  \n5697  0.000000    0.0  1.000000    1.0    1.0    1.0    1.0    0.0  \n5698  1.000000    0.0  0.000000    1.0    1.0    1.0    1.0    0.0  \n5699  0.000000    0.0  1.000000    1.0    1.0    0.0    1.0    0.0  \n5700  0.000000    1.0  1.000000    1.0    1.0    1.0    1.0    0.0  \n5701  0.000000    0.0  1.000000    1.0    1.0    1.0    1.0    0.0  \n\n[5702 rows x 4456 columns]",
      "text/html": "<div>\n<style scoped>\n    .dataframe tbody tr th:only-of-type {\n        vertical-align: middle;\n    }\n\n    .dataframe tbody tr th {\n        vertical-align: top;\n    }\n\n    .dataframe thead th {\n        text-align: right;\n    }\n</style>\n<table border=\"1\" class=\"dataframe\">\n  <thead>\n    <tr style=\"text-align: right;\">\n      <th></th>\n      <th>SMILES</th>\n      <th>BBB+/BBB-</th>\n      <th>MaxAbsEStateIndex</th>\n      <th>MaxEStateIndex</th>\n      <th>MinAbsEStateIndex</th>\n      <th>MinEStateIndex</th>\n      <th>qed</th>\n      <th>SPS</th>\n      <th>MolWt</th>\n      <th>HeavyAtomMolWt</th>\n      <th>...</th>\n      <th>157_y</th>\n      <th>158_y</th>\n      <th>159_y</th>\n      <th>160_y</th>\n      <th>161_y</th>\n      <th>162_y</th>\n      <th>163_y</th>\n      <th>164_y</th>\n      <th>165_y</th>\n      <th>166_y</th>\n    </tr>\n  </thead>\n  <tbody>\n    <tr>\n      <th>0</th>\n      <td>O=C(O)c1cc(N=Nc2ccc(S(=O)(=O)Nc3ccccn3)cc2)ccc1O</td>\n      <td>BBB+</td>\n      <td>7.521176</td>\n      <td>7.521176</td>\n      <td>0.635885</td>\n      <td>0.411976</td>\n      <td>0.787615</td>\n      <td>16.129212</td>\n      <td>268.543</td>\n      <td>251.743</td>\n      <td>...</td>\n      <td>1.0</td>\n      <td>0.777778</td>\n      <td>0.333333</td>\n      <td>1.0</td>\n      <td>0.777778</td>\n      <td>1.0</td>\n      <td>1.0</td>\n      <td>1.0</td>\n      <td>1.0</td>\n      <td>0.0</td>\n    </tr>\n    <tr>\n      <th>1</th>\n      <td>COC1(NC(=O)C(C(=O)O)c2ccc(O)cc2)C(=O)N2C(C(=O)...</td>\n      <td>BBB+</td>\n      <td>15.163364</td>\n      <td>15.163364</td>\n      <td>0.020535</td>\n      <td>-1.624425</td>\n      <td>0.147925</td>\n      <td>26.905882</td>\n      <td>1202.635</td>\n      <td>1090.747</td>\n      <td>...</td>\n      <td>1.0</td>\n      <td>1.000000</td>\n      <td>1.000000</td>\n      <td>1.0</td>\n      <td>1.000000</td>\n      <td>0.0</td>\n      <td>0.0</td>\n      <td>1.0</td>\n      <td>1.0</td>\n      <td>0.0</td>\n    </tr>\n    <tr>\n      <th>2</th>\n      <td>Oc1c(I)cc(Cl)c2cccnc12</td>\n      <td>BBB+</td>\n      <td>15.022344</td>\n      <td>15.022344</td>\n      <td>0.036460</td>\n      <td>-1.947471</td>\n      <td>0.109538</td>\n      <td>42.500000</td>\n      <td>1085.156</td>\n      <td>1008.548</td>\n      <td>...</td>\n      <td>1.0</td>\n      <td>0.000000</td>\n      <td>1.000000</td>\n      <td>1.0</td>\n      <td>0.000000</td>\n      <td>1.0</td>\n      <td>1.0</td>\n      <td>1.0</td>\n      <td>1.0</td>\n      <td>0.0</td>\n    </tr>\n    <tr>\n      <th>3</th>\n      <td>CCNC(=NCCSCc1ncccc1Br)NC#N</td>\n      <td>BBB+</td>\n      <td>15.129540</td>\n      <td>15.129540</td>\n      <td>0.022871</td>\n      <td>-1.609940</td>\n      <td>0.147925</td>\n      <td>26.905882</td>\n      <td>1202.635</td>\n      <td>1090.747</td>\n      <td>...</td>\n      <td>1.0</td>\n      <td>1.000000</td>\n      <td>1.000000</td>\n      <td>1.0</td>\n      <td>1.000000</td>\n      <td>0.0</td>\n      <td>0.0</td>\n      <td>1.0</td>\n      <td>1.0</td>\n      <td>0.0</td>\n    </tr>\n    <tr>\n      <th>4</th>\n      <td>CN1CC[C@]23c4c5ccc(OC6O[C@H](C(=O)O)[C@@H](O)[...</td>\n      <td>BBB+</td>\n      <td>14.995286</td>\n      <td>14.995286</td>\n      <td>0.035518</td>\n      <td>-1.944947</td>\n      <td>0.109538</td>\n      <td>42.500000</td>\n      <td>1085.156</td>\n      <td>1008.548</td>\n      <td>...</td>\n      <td>1.0</td>\n      <td>0.000000</td>\n      <td>1.000000</td>\n      <td>1.0</td>\n      <td>0.000000</td>\n      <td>1.0</td>\n      <td>1.0</td>\n      <td>1.0</td>\n      <td>1.0</td>\n      <td>0.0</td>\n    </tr>\n    <tr>\n      <th>...</th>\n      <td>...</td>\n      <td>...</td>\n      <td>...</td>\n      <td>...</td>\n      <td>...</td>\n      <td>...</td>\n      <td>...</td>\n      <td>...</td>\n      <td>...</td>\n      <td>...</td>\n      <td>...</td>\n      <td>...</td>\n      <td>...</td>\n      <td>...</td>\n      <td>...</td>\n      <td>...</td>\n      <td>...</td>\n      <td>...</td>\n      <td>...</td>\n      <td>...</td>\n      <td>...</td>\n    </tr>\n    <tr>\n      <th>5697</th>\n      <td>CCCCCCCCCCCCCCCCCCCCCCO</td>\n      <td>BBB-</td>\n      <td>11.219721</td>\n      <td>11.219721</td>\n      <td>0.047430</td>\n      <td>-0.047430</td>\n      <td>0.770309</td>\n      <td>17.750000</td>\n      <td>256.092</td>\n      <td>249.036</td>\n      <td>...</td>\n      <td>0.0</td>\n      <td>1.000000</td>\n      <td>0.000000</td>\n      <td>0.0</td>\n      <td>1.000000</td>\n      <td>1.0</td>\n      <td>1.0</td>\n      <td>1.0</td>\n      <td>1.0</td>\n      <td>0.0</td>\n    </tr>\n    <tr>\n      <th>5698</th>\n      <td>CCCCCCCCCCCCCCCCO</td>\n      <td>BBB-</td>\n      <td>12.530603</td>\n      <td>12.530603</td>\n      <td>0.037140</td>\n      <td>-1.168657</td>\n      <td>0.614448</td>\n      <td>15.760000</td>\n      <td>332.311</td>\n      <td>320.215</td>\n      <td>...</td>\n      <td>1.0</td>\n      <td>0.000000</td>\n      <td>1.000000</td>\n      <td>0.0</td>\n      <td>0.000000</td>\n      <td>1.0</td>\n      <td>1.0</td>\n      <td>1.0</td>\n      <td>1.0</td>\n      <td>0.0</td>\n    </tr>\n    <tr>\n      <th>5699</th>\n      <td>CCCCCCCCCCCCCCCC[N+](C)(C)CCN(Cc1ccc(OC)cc1)c1...</td>\n      <td>BBB-</td>\n      <td>4.506501</td>\n      <td>4.506501</td>\n      <td>0.832250</td>\n      <td>0.832250</td>\n      <td>0.899820</td>\n      <td>13.700000</td>\n      <td>265.360</td>\n      <td>246.208</td>\n      <td>...</td>\n      <td>0.0</td>\n      <td>1.000000</td>\n      <td>0.000000</td>\n      <td>0.0</td>\n      <td>1.000000</td>\n      <td>1.0</td>\n      <td>1.0</td>\n      <td>0.0</td>\n      <td>1.0</td>\n      <td>0.0</td>\n    </tr>\n    <tr>\n      <th>5700</th>\n      <td>CCCCCCCCCCCCCCOS(=O)(=O)O</td>\n      <td>BBB-</td>\n      <td>11.364205</td>\n      <td>11.364205</td>\n      <td>0.122604</td>\n      <td>-0.349254</td>\n      <td>0.778670</td>\n      <td>9.750000</td>\n      <td>211.224</td>\n      <td>202.152</td>\n      <td>...</td>\n      <td>0.0</td>\n      <td>0.000000</td>\n      <td>0.000000</td>\n      <td>1.0</td>\n      <td>1.000000</td>\n      <td>1.0</td>\n      <td>1.0</td>\n      <td>1.0</td>\n      <td>1.0</td>\n      <td>0.0</td>\n    </tr>\n    <tr>\n      <th>5701</th>\n      <td>CCCCCCOC(=O)NC(=N)c1ccc(NCc2nc3cc(C(=O)N(CCC(=...</td>\n      <td>BBB-</td>\n      <td>11.009622</td>\n      <td>11.009622</td>\n      <td>0.221585</td>\n      <td>-0.261291</td>\n      <td>0.699644</td>\n      <td>10.000000</td>\n      <td>187.202</td>\n      <td>178.130</td>\n      <td>...</td>\n      <td>0.0</td>\n      <td>1.000000</td>\n      <td>0.000000</td>\n      <td>0.0</td>\n      <td>1.000000</td>\n      <td>1.0</td>\n      <td>1.0</td>\n      <td>1.0</td>\n      <td>1.0</td>\n      <td>0.0</td>\n    </tr>\n  </tbody>\n</table>\n<p>5702 rows × 4456 columns</p>\n</div>"
     },
     "execution_count": 19,
     "metadata": {},
     "output_type": "execute_result"
    }
   ],
   "source": [
    "classification_centroid_df = pd.read_csv(\n",
    "    r\"datasets/balanced_datasets/BBB_classification_balanced_centroid.csv.zip\"\n",
    ")\n",
    "\n",
    "classification_centroid_df"
   ],
   "metadata": {
    "collapsed": false,
    "ExecuteTime": {
     "end_time": "2024-04-07T00:45:41.945584Z",
     "start_time": "2024-04-07T00:45:37.169028Z"
    }
   },
   "execution_count": 19
  },
  {
   "cell_type": "code",
   "outputs": [
    {
     "data": {
      "text/plain": "array([[-6.42601324,  0.29530609,  4.04143496, ..., -1.0648704 ,\n        -1.02364449, -1.04507957],\n       [25.45366241,  1.86331758,  7.29782431, ..., -0.39649147,\n         1.26883027,  2.24679253],\n       [29.01725269, -6.53697365, 10.57512951, ..., -0.04419358,\n         0.27012644, -0.12043378],\n       ...,\n       [-9.81614895, -0.34114706,  5.17398358, ...,  0.20136597,\n         0.41088972, -2.19329225],\n       [-9.08588563,  1.3507683 ,  2.55011334, ..., -0.28250091,\n        -3.40581269, -0.13956248],\n       [-9.65904595,  2.82594513,  2.2292678 , ...,  0.1880736 ,\n        -0.07262933,  0.85691918]])"
     },
     "execution_count": 20,
     "metadata": {},
     "output_type": "execute_result"
    }
   ],
   "source": [
    "# Data pre-processing\n",
    "\n",
    "classification_X = classification_centroid_df.loc[\n",
    "                   :,\n",
    "                   ~classification_centroid_df.columns.isin(\n",
    "                       ['SMILES', 'BBB+/BBB-'])\n",
    "                   ]\n",
    "\n",
    "classification_y = classification_centroid_df['BBB+/BBB-']\n",
    "\n",
    "\n",
    "data_processing_pipeline = Pipeline([\n",
    "    ('scaler', StandardScaler()),\n",
    "    ('pca', PCA(\n",
    "        n_components=0.95, #When using the svd_solver='full', n_components\n",
    "        # can be between 0 and 1 to represent the percentage of variance\n",
    "        # that you want to explain\n",
    "        svd_solver='full'\n",
    "    ))\n",
    "])\n",
    "\n",
    "classification_X_processed=data_processing_pipeline.fit_transform(classification_X)\n",
    "classification_X_processed"
   ],
   "metadata": {
    "collapsed": false,
    "ExecuteTime": {
     "end_time": "2024-04-07T00:47:58.246294Z",
     "start_time": "2024-04-07T00:47:07.268387Z"
    }
   },
   "execution_count": 20
  },
  {
   "cell_type": "code",
   "outputs": [],
   "source": [
    "classification_X_train, classification_X_test, classification_y_train, classification_y_test = train_test_split(\n",
    "    classification_X_processed,\n",
    "    classification_y,\n",
    "    test_size=0.2,\n",
    "    random_state=1,\n",
    "    shuffle=True,\n",
    "    stratify=classification_y #Ensure train set and test set have the same\n",
    "    # ratio for the 2 categories\n",
    ")"
   ],
   "metadata": {
    "collapsed": false,
    "ExecuteTime": {
     "end_time": "2024-04-07T00:50:21.959047Z",
     "start_time": "2024-04-07T00:50:21.801691Z"
    }
   },
   "execution_count": 21
  },
  {
   "cell_type": "code",
   "outputs": [
    {
     "name": "stdout",
     "output_type": "stream",
     "text": [
      "Fitting 6 folds for each of 2 candidates, totalling 12 fits\n",
      "[CV 1/6; 1/2] START gamma=0.1, kernel=rbf.......................................\n",
      "[CV 1/6; 1/2] END gamma=0.1, kernel=rbf; AUROC: (test=0.812) Accuracy: (test=0.738) Balanced accuracy: (test=0.738) F1: (test=0.791) Precision: (test=0.659) Recall: (test=0.987) total time=  18.6s\n",
      "[CV 2/6; 1/2] START gamma=0.1, kernel=rbf.......................................\n",
      "[CV 2/6; 1/2] END gamma=0.1, kernel=rbf; AUROC: (test=0.824) Accuracy: (test=0.749) Balanced accuracy: (test=0.749) F1: (test=0.797) Precision: (test=0.670) Recall: (test=0.984) total time=  16.5s\n",
      "[CV 3/6; 1/2] START gamma=0.1, kernel=rbf.......................................\n",
      "[CV 3/6; 1/2] END gamma=0.1, kernel=rbf; AUROC: (test=0.837) Accuracy: (test=0.768) Balanced accuracy: (test=0.768) F1: (test=0.810) Precision: (test=0.685) Recall: (test=0.991) total time=  16.4s\n",
      "[CV 4/6; 1/2] START gamma=0.1, kernel=rbf.......................................\n",
      "[CV 4/6; 1/2] END gamma=0.1, kernel=rbf; AUROC: (test=0.819) Accuracy: (test=0.750) Balanced accuracy: (test=0.749) F1: (test=0.798) Precision: (test=0.669) Recall: (test=0.988) total time=  16.3s\n",
      "[CV 5/6; 1/2] START gamma=0.1, kernel=rbf.......................................\n",
      "[CV 5/6; 1/2] END gamma=0.1, kernel=rbf; AUROC: (test=0.826) Accuracy: (test=0.759) Balanced accuracy: (test=0.759) F1: (test=0.802) Precision: (test=0.681) Recall: (test=0.976) total time=  17.4s\n",
      "[CV 6/6; 1/2] START gamma=0.1, kernel=rbf.......................................\n",
      "[CV 6/6; 1/2] END gamma=0.1, kernel=rbf; AUROC: (test=0.833) Accuracy: (test=0.764) Balanced accuracy: (test=0.764) F1: (test=0.808) Precision: (test=0.681) Recall: (test=0.993) total time=  16.1s\n",
      "[CV 1/6; 2/2] START gamma=0.5, kernel=rbf.......................................\n",
      "[CV 1/6; 2/2] END gamma=0.5, kernel=rbf; AUROC: (test=0.797) Accuracy: (test=0.738) Balanced accuracy: (test=0.738) F1: (test=0.791) Precision: (test=0.659) Recall: (test=0.987) total time=  16.4s\n",
      "[CV 2/6; 2/2] START gamma=0.5, kernel=rbf.......................................\n",
      "[CV 2/6; 2/2] END gamma=0.5, kernel=rbf; AUROC: (test=0.807) Accuracy: (test=0.749) Balanced accuracy: (test=0.749) F1: (test=0.797) Precision: (test=0.669) Recall: (test=0.984) total time=  16.3s\n",
      "[CV 3/6; 2/2] START gamma=0.5, kernel=rbf.......................................\n",
      "[CV 3/6; 2/2] END gamma=0.5, kernel=rbf; AUROC: (test=0.821) Accuracy: (test=0.767) Balanced accuracy: (test=0.767) F1: (test=0.810) Precision: (test=0.685) Recall: (test=0.991) total time=  16.6s\n",
      "[CV 4/6; 2/2] START gamma=0.5, kernel=rbf.......................................\n",
      "[CV 4/6; 2/2] END gamma=0.5, kernel=rbf; AUROC: (test=0.804) Accuracy: (test=0.750) Balanced accuracy: (test=0.749) F1: (test=0.798) Precision: (test=0.669) Recall: (test=0.988) total time=  16.7s\n",
      "[CV 5/6; 2/2] START gamma=0.5, kernel=rbf.......................................\n",
      "[CV 5/6; 2/2] END gamma=0.5, kernel=rbf; AUROC: (test=0.813) Accuracy: (test=0.759) Balanced accuracy: (test=0.759) F1: (test=0.802) Precision: (test=0.680) Recall: (test=0.976) total time=  16.1s\n",
      "[CV 6/6; 2/2] START gamma=0.5, kernel=rbf.......................................\n",
      "[CV 6/6; 2/2] END gamma=0.5, kernel=rbf; AUROC: (test=0.817) Accuracy: (test=0.764) Balanced accuracy: (test=0.764) F1: (test=0.808) Precision: (test=0.681) Recall: (test=0.993) total time=  15.5s\n",
      "GridSearchCV took 0:03:34.217363\n"
     ]
    }
   ],
   "source": [
    "start_time = datetime.now()\n",
    "\n",
    "svc_centroid = SVC(\n",
    "    random_state=1\n",
    ")\n",
    "\n",
    "svc_centroid_grid_search = GridSearchCV(\n",
    "    estimator=svc_centroid,\n",
    "    param_grid={\n",
    "        # 'C': [0.001, 0.01, 0.1, 1, 10, 100], #Regularization parameter\n",
    "        'kernel': ['rbf'], #Algorithm kernel. Should add poly and sigmoid\n",
    "        #'degree': [2,3,4], #Polynomial degree\n",
    "        'gamma': [0.1, 0.5] #Coefficient for algorithms\n",
    "    },\n",
    "    cv=RepeatedStratifiedKFold(\n",
    "        n_splits=3,\n",
    "        n_repeats=2, #Each time the split will be different\n",
    "        random_state=1\n",
    "    ),\n",
    "    scoring={\n",
    "        'Recall': make_scorer(\n",
    "            recall_score, #Need pos_label\n",
    "            pos_label='BBB+', #Without this, pos_label is default to be 1\n",
    "            # and will through an error since 1 isn't \"BBB+\" or \"BBB-\"\n",
    "            average='binary'\n",
    "        ),\n",
    "        'Precision': make_scorer(\n",
    "            precision_score, #Need pos_label\n",
    "            pos_label='BBB+',\n",
    "            average='binary'\n",
    "        ),\n",
    "        'F1': make_scorer(\n",
    "            f1_score, #Need pos_label\n",
    "            pos_label='BBB+',\n",
    "            average='binary'\n",
    "        ),\n",
    "        'Accuracy': 'accuracy', #accuracy_score doesn't need pos_label\n",
    "        'Balanced accuracy': 'balanced_accuracy',\n",
    "        'AUROC': 'roc_auc'\n",
    "    },\n",
    "    refit='AUROC',\n",
    "\n",
    "    n_jobs=1,\n",
    "    verbose=10\n",
    ")\n",
    "\n",
    "svc_centroid_grid_search.fit(classification_X_train, classification_y_train)\n",
    "\n",
    "end_time = datetime.now()\n",
    "print('GridSearchCV took {}'.format(end_time - start_time))"
   ],
   "metadata": {
    "collapsed": false,
    "ExecuteTime": {
     "end_time": "2024-04-07T01:03:09.743816Z",
     "start_time": "2024-04-07T00:59:35.510813Z"
    }
   },
   "execution_count": 24
  },
  {
   "cell_type": "markdown",
   "source": [
    "## Classification: SMOTEENN"
   ],
   "metadata": {
    "collapsed": false
   }
  },
  {
   "cell_type": "code",
   "outputs": [
    {
     "data": {
      "text/plain": "                                                 SMILES BBB+/BBB-  \\\n0      O=C(O)c1cc(N=Nc2ccc(S(=O)(=O)Nc3ccccn3)cc2)ccc1O      BBB+   \n1     COC1(NC(=O)C(C(=O)O)c2ccc(O)cc2)C(=O)N2C(C(=O)...      BBB+   \n2                                Oc1c(I)cc(Cl)c2cccnc12      BBB+   \n3                            CCNC(=NCCSCc1ncccc1Br)NC#N      BBB+   \n4     CN1CC[C@]23c4c5ccc(OC6O[C@H](C(=O)O)[C@@H](O)[...      BBB+   \n...                                                 ...       ...   \n7013  CC1(C)S[C@@H]2[C@H](NC(=O)C34C[C@H]5C[C@@H](CC...      BBB-   \n7014  CC1(C)S[C@@H]2[C@H](NC(=O)CCC[C@H](N)C(=O)O)C(...      BBB-   \n7015  CC1(C)S[C@@H]2[C@H](NC(=O)[C@@H](C(=O)O)c3cccc...      BBB-   \n7016  CC1(C)S[C@@H]2[C@H](NC(=O)[C@@H](C(=O)O)c3ccsc...      BBB-   \n7017  CC1(C)S[C@@H]2[C@H](NC(=O)[C@@H](C(=O)Oc3ccc4c...      BBB-   \n\n      MaxAbsEStateIndex  MaxEStateIndex  MinAbsEStateIndex  MinEStateIndex  \\\n0             12.955912       12.955912           0.038527       -0.090963   \n1             11.988073       11.988073           0.084512       -0.304363   \n2             12.226486       12.226486           0.111551       -0.322514   \n3             12.055386       12.055386           0.034054       -0.791056   \n4             12.055386       12.055386           0.034054       -0.791056   \n...                 ...             ...                ...             ...   \n7013          12.990847       12.990847           0.047104       -0.275467   \n7014          13.528728       13.528728           0.001028       -2.638422   \n7015          14.197646       14.197646           0.133072       -1.798815   \n7016          12.031231       12.031231           0.080972       -4.151088   \n7017          14.724188       14.724188           0.053807       -1.951189   \n\n           qed        SPS    MolWt  HeavyAtomMolWt  ...  157_y  158_y  159_y  \\\n0     0.541356  17.514286  477.649         438.337  ...    1.0    1.0    1.0   \n1     0.493562  25.181818  314.426         284.186  ...    1.0    1.0    1.0   \n2     0.550314  10.928571  373.416         354.264  ...    0.0    1.0    1.0   \n3     0.396405  21.000000  304.302         288.174  ...    1.0    1.0    1.0   \n4     0.396405  21.000000  304.302         288.174  ...    1.0    1.0    1.0   \n...        ...        ...      ...             ...  ...    ...    ...    ...   \n7013  0.727574  24.518519  416.349         389.133  ...    1.0    1.0    1.0   \n7014  0.205427  30.258065  429.429         406.245  ...    1.0    1.0    1.0   \n7015  0.238475  49.615385  748.996         676.420  ...    1.0    1.0    1.0   \n7016  0.656447  21.350000  380.662         372.598  ...    0.0    1.0    1.0   \n7017  0.208307  30.754098  847.019         784.523  ...    1.0    1.0    1.0   \n\n      160_y  161_y  162_y  163_y  164_y  165_y  166_y  \n0       1.0    1.0    1.0    1.0    1.0    1.0    0.0  \n1       1.0    1.0    0.0    1.0    1.0    1.0    0.0  \n2       1.0    1.0    1.0    1.0    1.0    1.0    0.0  \n3       1.0    1.0    1.0    1.0    1.0    1.0    0.0  \n4       1.0    1.0    1.0    1.0    1.0    1.0    0.0  \n...     ...    ...    ...    ...    ...    ...    ...  \n7013    0.0    1.0    1.0    1.0    1.0    1.0    0.0  \n7014    1.0    1.0    1.0    1.0    1.0    1.0    0.0  \n7015    1.0    1.0    0.0    1.0    1.0    1.0    0.0  \n7016    0.0    1.0    1.0    1.0    1.0    1.0    0.0  \n7017    1.0    1.0    1.0    1.0    1.0    1.0    0.0  \n\n[7018 rows x 4456 columns]",
      "text/html": "<div>\n<style scoped>\n    .dataframe tbody tr th:only-of-type {\n        vertical-align: middle;\n    }\n\n    .dataframe tbody tr th {\n        vertical-align: top;\n    }\n\n    .dataframe thead th {\n        text-align: right;\n    }\n</style>\n<table border=\"1\" class=\"dataframe\">\n  <thead>\n    <tr style=\"text-align: right;\">\n      <th></th>\n      <th>SMILES</th>\n      <th>BBB+/BBB-</th>\n      <th>MaxAbsEStateIndex</th>\n      <th>MaxEStateIndex</th>\n      <th>MinAbsEStateIndex</th>\n      <th>MinEStateIndex</th>\n      <th>qed</th>\n      <th>SPS</th>\n      <th>MolWt</th>\n      <th>HeavyAtomMolWt</th>\n      <th>...</th>\n      <th>157_y</th>\n      <th>158_y</th>\n      <th>159_y</th>\n      <th>160_y</th>\n      <th>161_y</th>\n      <th>162_y</th>\n      <th>163_y</th>\n      <th>164_y</th>\n      <th>165_y</th>\n      <th>166_y</th>\n    </tr>\n  </thead>\n  <tbody>\n    <tr>\n      <th>0</th>\n      <td>O=C(O)c1cc(N=Nc2ccc(S(=O)(=O)Nc3ccccn3)cc2)ccc1O</td>\n      <td>BBB+</td>\n      <td>12.955912</td>\n      <td>12.955912</td>\n      <td>0.038527</td>\n      <td>-0.090963</td>\n      <td>0.541356</td>\n      <td>17.514286</td>\n      <td>477.649</td>\n      <td>438.337</td>\n      <td>...</td>\n      <td>1.0</td>\n      <td>1.0</td>\n      <td>1.0</td>\n      <td>1.0</td>\n      <td>1.0</td>\n      <td>1.0</td>\n      <td>1.0</td>\n      <td>1.0</td>\n      <td>1.0</td>\n      <td>0.0</td>\n    </tr>\n    <tr>\n      <th>1</th>\n      <td>COC1(NC(=O)C(C(=O)O)c2ccc(O)cc2)C(=O)N2C(C(=O)...</td>\n      <td>BBB+</td>\n      <td>11.988073</td>\n      <td>11.988073</td>\n      <td>0.084512</td>\n      <td>-0.304363</td>\n      <td>0.493562</td>\n      <td>25.181818</td>\n      <td>314.426</td>\n      <td>284.186</td>\n      <td>...</td>\n      <td>1.0</td>\n      <td>1.0</td>\n      <td>1.0</td>\n      <td>1.0</td>\n      <td>1.0</td>\n      <td>0.0</td>\n      <td>1.0</td>\n      <td>1.0</td>\n      <td>1.0</td>\n      <td>0.0</td>\n    </tr>\n    <tr>\n      <th>2</th>\n      <td>Oc1c(I)cc(Cl)c2cccnc12</td>\n      <td>BBB+</td>\n      <td>12.226486</td>\n      <td>12.226486</td>\n      <td>0.111551</td>\n      <td>-0.322514</td>\n      <td>0.550314</td>\n      <td>10.928571</td>\n      <td>373.416</td>\n      <td>354.264</td>\n      <td>...</td>\n      <td>0.0</td>\n      <td>1.0</td>\n      <td>1.0</td>\n      <td>1.0</td>\n      <td>1.0</td>\n      <td>1.0</td>\n      <td>1.0</td>\n      <td>1.0</td>\n      <td>1.0</td>\n      <td>0.0</td>\n    </tr>\n    <tr>\n      <th>3</th>\n      <td>CCNC(=NCCSCc1ncccc1Br)NC#N</td>\n      <td>BBB+</td>\n      <td>12.055386</td>\n      <td>12.055386</td>\n      <td>0.034054</td>\n      <td>-0.791056</td>\n      <td>0.396405</td>\n      <td>21.000000</td>\n      <td>304.302</td>\n      <td>288.174</td>\n      <td>...</td>\n      <td>1.0</td>\n      <td>1.0</td>\n      <td>1.0</td>\n      <td>1.0</td>\n      <td>1.0</td>\n      <td>1.0</td>\n      <td>1.0</td>\n      <td>1.0</td>\n      <td>1.0</td>\n      <td>0.0</td>\n    </tr>\n    <tr>\n      <th>4</th>\n      <td>CN1CC[C@]23c4c5ccc(OC6O[C@H](C(=O)O)[C@@H](O)[...</td>\n      <td>BBB+</td>\n      <td>12.055386</td>\n      <td>12.055386</td>\n      <td>0.034054</td>\n      <td>-0.791056</td>\n      <td>0.396405</td>\n      <td>21.000000</td>\n      <td>304.302</td>\n      <td>288.174</td>\n      <td>...</td>\n      <td>1.0</td>\n      <td>1.0</td>\n      <td>1.0</td>\n      <td>1.0</td>\n      <td>1.0</td>\n      <td>1.0</td>\n      <td>1.0</td>\n      <td>1.0</td>\n      <td>1.0</td>\n      <td>0.0</td>\n    </tr>\n    <tr>\n      <th>...</th>\n      <td>...</td>\n      <td>...</td>\n      <td>...</td>\n      <td>...</td>\n      <td>...</td>\n      <td>...</td>\n      <td>...</td>\n      <td>...</td>\n      <td>...</td>\n      <td>...</td>\n      <td>...</td>\n      <td>...</td>\n      <td>...</td>\n      <td>...</td>\n      <td>...</td>\n      <td>...</td>\n      <td>...</td>\n      <td>...</td>\n      <td>...</td>\n      <td>...</td>\n      <td>...</td>\n    </tr>\n    <tr>\n      <th>7013</th>\n      <td>CC1(C)S[C@@H]2[C@H](NC(=O)C34C[C@H]5C[C@@H](CC...</td>\n      <td>BBB-</td>\n      <td>12.990847</td>\n      <td>12.990847</td>\n      <td>0.047104</td>\n      <td>-0.275467</td>\n      <td>0.727574</td>\n      <td>24.518519</td>\n      <td>416.349</td>\n      <td>389.133</td>\n      <td>...</td>\n      <td>1.0</td>\n      <td>1.0</td>\n      <td>1.0</td>\n      <td>0.0</td>\n      <td>1.0</td>\n      <td>1.0</td>\n      <td>1.0</td>\n      <td>1.0</td>\n      <td>1.0</td>\n      <td>0.0</td>\n    </tr>\n    <tr>\n      <th>7014</th>\n      <td>CC1(C)S[C@@H]2[C@H](NC(=O)CCC[C@H](N)C(=O)O)C(...</td>\n      <td>BBB-</td>\n      <td>13.528728</td>\n      <td>13.528728</td>\n      <td>0.001028</td>\n      <td>-2.638422</td>\n      <td>0.205427</td>\n      <td>30.258065</td>\n      <td>429.429</td>\n      <td>406.245</td>\n      <td>...</td>\n      <td>1.0</td>\n      <td>1.0</td>\n      <td>1.0</td>\n      <td>1.0</td>\n      <td>1.0</td>\n      <td>1.0</td>\n      <td>1.0</td>\n      <td>1.0</td>\n      <td>1.0</td>\n      <td>0.0</td>\n    </tr>\n    <tr>\n      <th>7015</th>\n      <td>CC1(C)S[C@@H]2[C@H](NC(=O)[C@@H](C(=O)O)c3cccc...</td>\n      <td>BBB-</td>\n      <td>14.197646</td>\n      <td>14.197646</td>\n      <td>0.133072</td>\n      <td>-1.798815</td>\n      <td>0.238475</td>\n      <td>49.615385</td>\n      <td>748.996</td>\n      <td>676.420</td>\n      <td>...</td>\n      <td>1.0</td>\n      <td>1.0</td>\n      <td>1.0</td>\n      <td>1.0</td>\n      <td>1.0</td>\n      <td>0.0</td>\n      <td>1.0</td>\n      <td>1.0</td>\n      <td>1.0</td>\n      <td>0.0</td>\n    </tr>\n    <tr>\n      <th>7016</th>\n      <td>CC1(C)S[C@@H]2[C@H](NC(=O)[C@@H](C(=O)O)c3ccsc...</td>\n      <td>BBB-</td>\n      <td>12.031231</td>\n      <td>12.031231</td>\n      <td>0.080972</td>\n      <td>-4.151088</td>\n      <td>0.656447</td>\n      <td>21.350000</td>\n      <td>380.662</td>\n      <td>372.598</td>\n      <td>...</td>\n      <td>0.0</td>\n      <td>1.0</td>\n      <td>1.0</td>\n      <td>0.0</td>\n      <td>1.0</td>\n      <td>1.0</td>\n      <td>1.0</td>\n      <td>1.0</td>\n      <td>1.0</td>\n      <td>0.0</td>\n    </tr>\n    <tr>\n      <th>7017</th>\n      <td>CC1(C)S[C@@H]2[C@H](NC(=O)[C@@H](C(=O)Oc3ccc4c...</td>\n      <td>BBB-</td>\n      <td>14.724188</td>\n      <td>14.724188</td>\n      <td>0.053807</td>\n      <td>-1.951189</td>\n      <td>0.208307</td>\n      <td>30.754098</td>\n      <td>847.019</td>\n      <td>784.523</td>\n      <td>...</td>\n      <td>1.0</td>\n      <td>1.0</td>\n      <td>1.0</td>\n      <td>1.0</td>\n      <td>1.0</td>\n      <td>1.0</td>\n      <td>1.0</td>\n      <td>1.0</td>\n      <td>1.0</td>\n      <td>0.0</td>\n    </tr>\n  </tbody>\n</table>\n<p>7018 rows × 4456 columns</p>\n</div>"
     },
     "execution_count": 25,
     "metadata": {},
     "output_type": "execute_result"
    }
   ],
   "source": [
    "classification_smoteenn_df = pd.read_csv(\n",
    "    r\"datasets/balanced_datasets/BBB_classification_balanced_smoteenn.csv.zip\"\n",
    ")\n",
    "\n",
    "classification_smoteenn_df"
   ],
   "metadata": {
    "collapsed": false,
    "ExecuteTime": {
     "end_time": "2024-04-07T01:07:09.393831Z",
     "start_time": "2024-04-07T01:07:02.800322Z"
    }
   },
   "execution_count": 25
  },
  {
   "cell_type": "code",
   "outputs": [
    {
     "data": {
      "text/plain": "array([[-1.81126047,  0.332442  ,  7.16579034, ..., -0.22047884,\n        -1.84892849,  4.02465876],\n       [-2.84095883, -1.83519149,  0.11927076, ...,  0.91383698,\n         0.97879081, -0.51055539],\n       [-5.21047776,  5.68744537,  4.1245998 , ...,  0.17337791,\n         0.55800201, -0.08844594],\n       ...,\n       [19.22222078, -5.57056762,  7.61060965, ..., -0.10561963,\n        -0.06470579,  0.22293541],\n       [-6.74793141,  4.58313598, -0.42378292, ..., -0.65296936,\n        -0.67723505,  0.45762744],\n       [24.59168134,  3.51108364, 18.20634069, ..., -0.20088314,\n         0.11885443,  0.04185005]])"
     },
     "execution_count": 26,
     "metadata": {},
     "output_type": "execute_result"
    }
   ],
   "source": [
    "# Data pre-processing\n",
    "\n",
    "classification_X = classification_smoteenn_df.loc[\n",
    "                   :,\n",
    "                   ~classification_smoteenn_df.columns.isin(\n",
    "                       ['SMILES', 'BBB+/BBB-'])\n",
    "                   ]\n",
    "\n",
    "classification_y = classification_smoteenn_df['BBB+/BBB-']\n",
    "\n",
    "\n",
    "data_processing_pipeline = Pipeline([\n",
    "    ('scaler', StandardScaler()),\n",
    "    ('pca', PCA(\n",
    "        n_components=0.95, #When using the svd_solver='full', n_components\n",
    "        # can be between 0 and 1 to represent the percentage of variance\n",
    "        # that you want to explain\n",
    "        svd_solver='full'\n",
    "    ))\n",
    "])\n",
    "\n",
    "classification_X_processed=data_processing_pipeline.fit_transform(classification_X)\n",
    "classification_X_processed"
   ],
   "metadata": {
    "collapsed": false,
    "ExecuteTime": {
     "end_time": "2024-04-07T01:09:07.010893Z",
     "start_time": "2024-04-07T01:08:06.538447Z"
    }
   },
   "execution_count": 26
  },
  {
   "cell_type": "code",
   "outputs": [],
   "source": [
    "classification_X_train, classification_X_test, classification_y_train, classification_y_test = train_test_split(\n",
    "    classification_X_processed,\n",
    "    classification_y,\n",
    "    test_size=0.2,\n",
    "    random_state=1,\n",
    "    shuffle=True,\n",
    "    stratify=classification_y #Ensure train set and test set have the same\n",
    "    # ratio for the 2 categories\n",
    ")"
   ],
   "metadata": {
    "collapsed": false,
    "ExecuteTime": {
     "end_time": "2024-04-07T01:10:36.684578Z",
     "start_time": "2024-04-07T01:10:36.557922Z"
    }
   },
   "execution_count": 27
  },
  {
   "cell_type": "code",
   "outputs": [
    {
     "name": "stdout",
     "output_type": "stream",
     "text": [
      "Fitting 6 folds for each of 2 candidates, totalling 12 fits\n",
      "[CV 1/6; 1/2] START gamma=0.1, kernel=rbf.......................................\n",
      "[CV 1/6; 1/2] END gamma=0.1, kernel=rbf; AUROC: (test=0.971) Accuracy: (test=0.855) Balanced accuracy: (test=0.855) F1: (test=0.873) Precision: (test=0.774) Recall: (test=1.000) total time=  15.2s\n",
      "[CV 2/6; 1/2] START gamma=0.1, kernel=rbf.......................................\n",
      "[CV 2/6; 1/2] END gamma=0.1, kernel=rbf; AUROC: (test=0.970) Accuracy: (test=0.841) Balanced accuracy: (test=0.841) F1: (test=0.862) Precision: (test=0.758) Recall: (test=1.000) total time=  13.0s\n",
      "[CV 3/6; 1/2] START gamma=0.1, kernel=rbf.......................................\n",
      "[CV 3/6; 1/2] END gamma=0.1, kernel=rbf; AUROC: (test=0.963) Accuracy: (test=0.827) Balanced accuracy: (test=0.828) F1: (test=0.852) Precision: (test=0.742) Recall: (test=1.000) total time=  13.1s\n",
      "[CV 4/6; 1/2] START gamma=0.1, kernel=rbf.......................................\n",
      "[CV 4/6; 1/2] END gamma=0.1, kernel=rbf; AUROC: (test=0.966) Accuracy: (test=0.842) Balanced accuracy: (test=0.843) F1: (test=0.863) Precision: (test=0.759) Recall: (test=1.000) total time=  13.1s\n",
      "[CV 5/6; 1/2] START gamma=0.1, kernel=rbf.......................................\n",
      "[CV 5/6; 1/2] END gamma=0.1, kernel=rbf; AUROC: (test=0.965) Accuracy: (test=0.828) Balanced accuracy: (test=0.829) F1: (test=0.853) Precision: (test=0.743) Recall: (test=1.000) total time=  13.0s\n",
      "[CV 6/6; 1/2] START gamma=0.1, kernel=rbf.......................................\n",
      "[CV 6/6; 1/2] END gamma=0.1, kernel=rbf; AUROC: (test=0.966) Accuracy: (test=0.847) Balanced accuracy: (test=0.848) F1: (test=0.867) Precision: (test=0.765) Recall: (test=1.000) total time=  12.4s\n",
      "[CV 1/6; 2/2] START gamma=0.5, kernel=rbf.......................................\n",
      "[CV 1/6; 2/2] END gamma=0.5, kernel=rbf; AUROC: (test=0.959) Accuracy: (test=0.843) Balanced accuracy: (test=0.844) F1: (test=0.864) Precision: (test=0.761) Recall: (test=1.000) total time=  15.6s\n",
      "[CV 2/6; 2/2] START gamma=0.5, kernel=rbf.......................................\n",
      "[CV 2/6; 2/2] END gamma=0.5, kernel=rbf; AUROC: (test=0.960) Accuracy: (test=0.826) Balanced accuracy: (test=0.827) F1: (test=0.851) Precision: (test=0.741) Recall: (test=1.000) total time=  15.2s\n",
      "[CV 3/6; 2/2] START gamma=0.5, kernel=rbf.......................................\n",
      "[CV 3/6; 2/2] END gamma=0.5, kernel=rbf; AUROC: (test=0.952) Accuracy: (test=0.813) Balanced accuracy: (test=0.814) F1: (test=0.842) Precision: (test=0.727) Recall: (test=1.000) total time=  13.6s\n",
      "[CV 4/6; 2/2] START gamma=0.5, kernel=rbf.......................................\n",
      "[CV 4/6; 2/2] END gamma=0.5, kernel=rbf; AUROC: (test=0.956) Accuracy: (test=0.826) Balanced accuracy: (test=0.827) F1: (test=0.851) Precision: (test=0.741) Recall: (test=1.000) total time=  13.7s\n",
      "[CV 5/6; 2/2] START gamma=0.5, kernel=rbf.......................................\n",
      "[CV 5/6; 2/2] END gamma=0.5, kernel=rbf; AUROC: (test=0.953) Accuracy: (test=0.814) Balanced accuracy: (test=0.815) F1: (test=0.843) Precision: (test=0.728) Recall: (test=1.000) total time=  14.6s\n",
      "[CV 6/6; 2/2] START gamma=0.5, kernel=rbf.......................................\n",
      "[CV 6/6; 2/2] END gamma=0.5, kernel=rbf; AUROC: (test=0.956) Accuracy: (test=0.834) Balanced accuracy: (test=0.835) F1: (test=0.857) Precision: (test=0.750) Recall: (test=1.000) total time=  13.7s\n",
      "GridSearchCV took 0:02:58.776327\n"
     ]
    }
   ],
   "source": [
    "start_time = datetime.now()\n",
    "\n",
    "svc_smoteenn = SVC(\n",
    "    random_state=1\n",
    ")\n",
    "\n",
    "svc_smoteenn_grid_search = GridSearchCV(\n",
    "    estimator=svc_smoteenn,\n",
    "    param_grid={\n",
    "        # 'C': [0.001, 0.01, 0.1, 1, 10, 100], #Regularization parameter\n",
    "        'kernel': ['rbf'], #Algorithm kernel. Should add poly and sigmoid\n",
    "        #'degree': [2,3,4], #Polynomial degree\n",
    "        'gamma': [0.1, 0.5] #Coefficient for algorithms\n",
    "    },\n",
    "    cv=RepeatedStratifiedKFold(\n",
    "        n_splits=3,\n",
    "        n_repeats=2, #Each time the split will be different\n",
    "        random_state=1\n",
    "    ),\n",
    "    scoring={\n",
    "        'Recall': make_scorer(\n",
    "            recall_score, #Need pos_label\n",
    "            pos_label='BBB+', #Without this, pos_label is default to be 1\n",
    "            # and will through an error since 1 isn't \"BBB+\" or \"BBB-\"\n",
    "            average='binary'\n",
    "        ),\n",
    "        'Precision': make_scorer(\n",
    "            precision_score, #Need pos_label\n",
    "            pos_label='BBB+',\n",
    "            average='binary'\n",
    "        ),\n",
    "        'F1': make_scorer(\n",
    "            f1_score, #Need pos_label\n",
    "            pos_label='BBB+',\n",
    "            average='binary'\n",
    "        ),\n",
    "        'Accuracy': 'accuracy', #accuracy_score doesn't need pos_label\n",
    "        'Balanced accuracy': 'balanced_accuracy',\n",
    "        'AUROC': 'roc_auc'\n",
    "    },\n",
    "    refit='AUROC',\n",
    "\n",
    "    n_jobs=1,\n",
    "    verbose=10\n",
    ")\n",
    "\n",
    "svc_smoteenn_grid_search.fit(classification_X_train, classification_y_train)\n",
    "\n",
    "end_time = datetime.now()\n",
    "print('GridSearchCV took {}'.format(end_time - start_time))"
   ],
   "metadata": {
    "collapsed": false,
    "ExecuteTime": {
     "end_time": "2024-04-07T01:14:31.850111Z",
     "start_time": "2024-04-07T01:11:33.058347Z"
    }
   },
   "execution_count": 28
  },
  {
   "cell_type": "markdown",
   "source": [
    "# Save Data"
   ],
   "metadata": {
    "collapsed": false
   }
  },
  {
   "cell_type": "code",
   "outputs": [
    {
     "data": {
      "text/plain": "  param_gamma param_kernel                           params  mean_test_MAE  \\\n0         0.1          rbf  {'gamma': 0.1, 'kernel': 'rbf'}      -0.530265   \n1         0.5          rbf  {'gamma': 0.5, 'kernel': 'rbf'}      -0.533852   \n\n   rank_test_MAE  mean_test_MSE  rank_test_MSE  mean_test_R2  rank_test_R2  \n0              1      -0.486448              1      0.116536             1  \n1              2      -0.490969              2      0.108317             2  ",
      "text/html": "<div>\n<style scoped>\n    .dataframe tbody tr th:only-of-type {\n        vertical-align: middle;\n    }\n\n    .dataframe tbody tr th {\n        vertical-align: top;\n    }\n\n    .dataframe thead th {\n        text-align: right;\n    }\n</style>\n<table border=\"1\" class=\"dataframe\">\n  <thead>\n    <tr style=\"text-align: right;\">\n      <th></th>\n      <th>param_gamma</th>\n      <th>param_kernel</th>\n      <th>params</th>\n      <th>mean_test_MAE</th>\n      <th>rank_test_MAE</th>\n      <th>mean_test_MSE</th>\n      <th>rank_test_MSE</th>\n      <th>mean_test_R2</th>\n      <th>rank_test_R2</th>\n    </tr>\n  </thead>\n  <tbody>\n    <tr>\n      <th>0</th>\n      <td>0.1</td>\n      <td>rbf</td>\n      <td>{'gamma': 0.1, 'kernel': 'rbf'}</td>\n      <td>-0.530265</td>\n      <td>1</td>\n      <td>-0.486448</td>\n      <td>1</td>\n      <td>0.116536</td>\n      <td>1</td>\n    </tr>\n    <tr>\n      <th>1</th>\n      <td>0.5</td>\n      <td>rbf</td>\n      <td>{'gamma': 0.5, 'kernel': 'rbf'}</td>\n      <td>-0.533852</td>\n      <td>2</td>\n      <td>-0.490969</td>\n      <td>2</td>\n      <td>0.108317</td>\n      <td>2</td>\n    </tr>\n  </tbody>\n</table>\n</div>"
     },
     "execution_count": 32,
     "metadata": {},
     "output_type": "execute_result"
    }
   ],
   "source": [
    "svr_regressor_results_df = pd.DataFrame(svr_regressor_grid_search.cv_results_)\n",
    "#Make the GridSearch results into a df\n",
    "svr_regressor_results_df.drop(\n",
    "    list(svr_regressor_results_df.filter(regex='time|split|std')),\n",
    "    axis=1,\n",
    "    inplace=True\n",
    ")  # Remove columns that aren't very interesting\n",
    "\n",
    "svr_regressor_results_df = svr_regressor_results_df.sort_values(\n",
    "    by='rank_test_R2')\n",
    "svr_regressor_results_df"
   ],
   "metadata": {
    "collapsed": false,
    "ExecuteTime": {
     "end_time": "2024-04-07T01:27:49.600654Z",
     "start_time": "2024-04-07T01:27:49.575263Z"
    }
   },
   "execution_count": 32
  },
  {
   "cell_type": "code",
   "outputs": [],
   "source": [
    "svr_regressor_results_df.to_csv(\n",
    "    r'model_grid_search\\svr_regressor\\results.csv',\n",
    "    index=False\n",
    ")"
   ],
   "metadata": {
    "collapsed": false,
    "ExecuteTime": {
     "end_time": "2024-04-07T01:28:30.796099Z",
     "start_time": "2024-04-07T01:28:30.787887Z"
    }
   },
   "execution_count": 33
  },
  {
   "cell_type": "code",
   "outputs": [
    {
     "data": {
      "text/plain": "0"
     },
     "execution_count": 37,
     "metadata": {},
     "output_type": "execute_result"
    }
   ],
   "source": [
    "best_svr_regressor = svr_regressor_grid_search.best_estimator_\n",
    "save_pickle(\n",
    "    best_svr_regressor,\n",
    "    r'model_pickles\\svr_regressor\\best_svr_regressor.pkl'\n",
    ")\n",
    "# To load this best model again, use load_pickle(r'model_pickles\\svr_regressor\\best_rf_regressor.pkl')"
   ],
   "metadata": {
    "collapsed": false,
    "ExecuteTime": {
     "end_time": "2024-04-07T01:40:56.916498Z",
     "start_time": "2024-04-07T01:40:56.870885Z"
    }
   },
   "execution_count": 37
  },
  {
   "cell_type": "code",
   "outputs": [
    {
     "data": {
      "text/plain": "  param_gamma param_kernel                           params  mean_test_Recall  \\\n0         0.1          rbf  {'gamma': 0.1, 'kernel': 'rbf'}          0.986628   \n1         0.5          rbf  {'gamma': 0.5, 'kernel': 'rbf'}          0.986628   \n\n   rank_test_Recall  mean_test_Precision  rank_test_Precision  mean_test_F1  \\\n0                 1             0.674225                    1      0.801008   \n1                 1             0.673815                    2      0.800720   \n\n   rank_test_F1  mean_test_Accuracy  rank_test_Accuracy  \\\n0             1            0.754771                   1   \n1             2            0.754332                   2   \n\n   mean_test_Balanced accuracy  rank_test_Balanced accuracy  mean_test_AUROC  \\\n0                     0.754718                            1         0.825064   \n1                     0.754279                            2         0.810061   \n\n   rank_test_AUROC  \n0                1  \n1                2  ",
      "text/html": "<div>\n<style scoped>\n    .dataframe tbody tr th:only-of-type {\n        vertical-align: middle;\n    }\n\n    .dataframe tbody tr th {\n        vertical-align: top;\n    }\n\n    .dataframe thead th {\n        text-align: right;\n    }\n</style>\n<table border=\"1\" class=\"dataframe\">\n  <thead>\n    <tr style=\"text-align: right;\">\n      <th></th>\n      <th>param_gamma</th>\n      <th>param_kernel</th>\n      <th>params</th>\n      <th>mean_test_Recall</th>\n      <th>rank_test_Recall</th>\n      <th>mean_test_Precision</th>\n      <th>rank_test_Precision</th>\n      <th>mean_test_F1</th>\n      <th>rank_test_F1</th>\n      <th>mean_test_Accuracy</th>\n      <th>rank_test_Accuracy</th>\n      <th>mean_test_Balanced accuracy</th>\n      <th>rank_test_Balanced accuracy</th>\n      <th>mean_test_AUROC</th>\n      <th>rank_test_AUROC</th>\n    </tr>\n  </thead>\n  <tbody>\n    <tr>\n      <th>0</th>\n      <td>0.1</td>\n      <td>rbf</td>\n      <td>{'gamma': 0.1, 'kernel': 'rbf'}</td>\n      <td>0.986628</td>\n      <td>1</td>\n      <td>0.674225</td>\n      <td>1</td>\n      <td>0.801008</td>\n      <td>1</td>\n      <td>0.754771</td>\n      <td>1</td>\n      <td>0.754718</td>\n      <td>1</td>\n      <td>0.825064</td>\n      <td>1</td>\n    </tr>\n    <tr>\n      <th>1</th>\n      <td>0.5</td>\n      <td>rbf</td>\n      <td>{'gamma': 0.5, 'kernel': 'rbf'}</td>\n      <td>0.986628</td>\n      <td>1</td>\n      <td>0.673815</td>\n      <td>2</td>\n      <td>0.800720</td>\n      <td>2</td>\n      <td>0.754332</td>\n      <td>2</td>\n      <td>0.754279</td>\n      <td>2</td>\n      <td>0.810061</td>\n      <td>2</td>\n    </tr>\n  </tbody>\n</table>\n</div>"
     },
     "execution_count": 29,
     "metadata": {},
     "output_type": "execute_result"
    }
   ],
   "source": [
    "svc_centroid_results_df = pd.DataFrame(svc_centroid_grid_search.cv_results_)\n",
    "#Make the GridSearch results into a df\n",
    "\n",
    "svc_centroid_results_df.drop(\n",
    "    list(svc_centroid_results_df.filter(regex='time|split|std')),\n",
    "    axis=1,\n",
    "    inplace=True\n",
    ")  # Remove columns that aren't very interesting\n",
    "svc_centroid_results_df = svc_centroid_results_df.sort_values(\n",
    "    by='rank_test_AUROC')\n",
    "\n",
    "svc_centroid_results_df"
   ],
   "metadata": {
    "collapsed": false,
    "ExecuteTime": {
     "end_time": "2024-04-07T01:20:22.514471Z",
     "start_time": "2024-04-07T01:20:22.426074Z"
    }
   },
   "execution_count": 29
  },
  {
   "cell_type": "code",
   "outputs": [],
   "source": [
    "svc_centroid_results_df.to_csv(\n",
    "    r'model_grid_search\\svc_centroid_classifier\\results.csv',\n",
    "    index=False\n",
    ")"
   ],
   "metadata": {
    "collapsed": false,
    "ExecuteTime": {
     "end_time": "2024-04-07T01:25:52.425616Z",
     "start_time": "2024-04-07T01:25:52.404605Z"
    }
   },
   "execution_count": 31
  },
  {
   "cell_type": "code",
   "outputs": [
    {
     "data": {
      "text/plain": "0"
     },
     "execution_count": 42,
     "metadata": {},
     "output_type": "execute_result"
    }
   ],
   "source": [
    "best_svc_centroid_classifier = svc_centroid_grid_search.best_estimator_\n",
    "save_pickle(\n",
    "    best_svc_centroid_classifier,\n",
    "    r'model_pickles\\svc_centroid_classifier\\best_svc_centroid_classifier.pkl'\n",
    ")\n",
    "# To load this best model again, use load_pickle(r'model_pickles\\svc_centroid_classifier\\best_svc_centroid_classifier.pkl')"
   ],
   "metadata": {
    "collapsed": false,
    "ExecuteTime": {
     "end_time": "2024-04-07T01:50:40.846192Z",
     "start_time": "2024-04-07T01:50:40.784080Z"
    }
   },
   "execution_count": 42
  },
  {
   "cell_type": "code",
   "outputs": [
    {
     "data": {
      "text/plain": "  param_gamma param_kernel                           params  mean_test_Recall  \\\n0         0.1          rbf  {'gamma': 0.1, 'kernel': 'rbf'}               1.0   \n1         0.5          rbf  {'gamma': 0.5, 'kernel': 'rbf'}               1.0   \n\n   rank_test_Recall  mean_test_Precision  rank_test_Precision  mean_test_F1  \\\n0                 1             0.756672                    1      0.861436   \n1                 1             0.741130                    2      0.851269   \n\n   rank_test_F1  mean_test_Accuracy  rank_test_Accuracy  \\\n0             1            0.839863                   1   \n1             2            0.826058                   2   \n\n   mean_test_Balanced accuracy  rank_test_Balanced accuracy  mean_test_AUROC  \\\n0                     0.840656                            1         0.966726   \n1                     0.826920                            2         0.956100   \n\n   rank_test_AUROC  \n0                1  \n1                2  ",
      "text/html": "<div>\n<style scoped>\n    .dataframe tbody tr th:only-of-type {\n        vertical-align: middle;\n    }\n\n    .dataframe tbody tr th {\n        vertical-align: top;\n    }\n\n    .dataframe thead th {\n        text-align: right;\n    }\n</style>\n<table border=\"1\" class=\"dataframe\">\n  <thead>\n    <tr style=\"text-align: right;\">\n      <th></th>\n      <th>param_gamma</th>\n      <th>param_kernel</th>\n      <th>params</th>\n      <th>mean_test_Recall</th>\n      <th>rank_test_Recall</th>\n      <th>mean_test_Precision</th>\n      <th>rank_test_Precision</th>\n      <th>mean_test_F1</th>\n      <th>rank_test_F1</th>\n      <th>mean_test_Accuracy</th>\n      <th>rank_test_Accuracy</th>\n      <th>mean_test_Balanced accuracy</th>\n      <th>rank_test_Balanced accuracy</th>\n      <th>mean_test_AUROC</th>\n      <th>rank_test_AUROC</th>\n    </tr>\n  </thead>\n  <tbody>\n    <tr>\n      <th>0</th>\n      <td>0.1</td>\n      <td>rbf</td>\n      <td>{'gamma': 0.1, 'kernel': 'rbf'}</td>\n      <td>1.0</td>\n      <td>1</td>\n      <td>0.756672</td>\n      <td>1</td>\n      <td>0.861436</td>\n      <td>1</td>\n      <td>0.839863</td>\n      <td>1</td>\n      <td>0.840656</td>\n      <td>1</td>\n      <td>0.966726</td>\n      <td>1</td>\n    </tr>\n    <tr>\n      <th>1</th>\n      <td>0.5</td>\n      <td>rbf</td>\n      <td>{'gamma': 0.5, 'kernel': 'rbf'}</td>\n      <td>1.0</td>\n      <td>1</td>\n      <td>0.741130</td>\n      <td>2</td>\n      <td>0.851269</td>\n      <td>2</td>\n      <td>0.826058</td>\n      <td>2</td>\n      <td>0.826920</td>\n      <td>2</td>\n      <td>0.956100</td>\n      <td>2</td>\n    </tr>\n  </tbody>\n</table>\n</div>"
     },
     "execution_count": 39,
     "metadata": {},
     "output_type": "execute_result"
    }
   ],
   "source": [
    "svc_smoteenn_results_df = pd.DataFrame(svc_smoteenn_grid_search.cv_results_)\n",
    "#Make the GridSearch results into a df\n",
    "\n",
    "svc_smoteenn_results_df.drop(\n",
    "    list(svc_smoteenn_results_df.filter(regex='time|split|std')),\n",
    "    axis=1,\n",
    "    inplace=True\n",
    ")  # Remove columns that aren't very interesting\n",
    "svc_smoteenn_results_df = svc_smoteenn_results_df.sort_values(\n",
    "    by='rank_test_AUROC')\n",
    "\n",
    "svc_smoteenn_results_df"
   ],
   "metadata": {
    "collapsed": false,
    "ExecuteTime": {
     "end_time": "2024-04-07T01:44:53.293232Z",
     "start_time": "2024-04-07T01:44:53.228430Z"
    }
   },
   "execution_count": 39
  },
  {
   "cell_type": "code",
   "outputs": [],
   "source": [
    "svc_smoteenn_results_df.to_csv(\n",
    "    r'model_grid_search\\svc_smoteenn_classifier\\results.csv',\n",
    "    index=False\n",
    ")"
   ],
   "metadata": {
    "collapsed": false,
    "ExecuteTime": {
     "end_time": "2024-04-07T01:48:27.494782Z",
     "start_time": "2024-04-07T01:48:27.471945Z"
    }
   },
   "execution_count": 40
  },
  {
   "cell_type": "code",
   "outputs": [
    {
     "data": {
      "text/plain": "0"
     },
     "execution_count": 41,
     "metadata": {},
     "output_type": "execute_result"
    }
   ],
   "source": [
    "best_svc_smoteenn_classifier = svc_smoteenn_grid_search.best_estimator_\n",
    "save_pickle(\n",
    "    best_svc_smoteenn_classifier,\n",
    "    r'model_pickles\\svc_smoteenn_classifier\\best_svc_smoteenn_classifier.pkl'\n",
    ")\n",
    "# To load this best model again, use load_pickle(r'model_pickles\\svc_smoteenn_classifier\\best_svc_smoteenn_classifier.pkl')"
   ],
   "metadata": {
    "collapsed": false,
    "ExecuteTime": {
     "end_time": "2024-04-07T01:50:29.357837Z",
     "start_time": "2024-04-07T01:50:29.212127Z"
    }
   },
   "execution_count": 41
  },
  {
   "cell_type": "code",
   "outputs": [],
   "source": [],
   "metadata": {
    "collapsed": false
   }
  }
 ],
 "metadata": {
  "kernelspec": {
   "display_name": "Python 3",
   "language": "python",
   "name": "python3"
  },
  "language_info": {
   "codemirror_mode": {
    "name": "ipython",
    "version": 2
   },
   "file_extension": ".py",
   "mimetype": "text/x-python",
   "name": "python",
   "nbconvert_exporter": "python",
   "pygments_lexer": "ipython2",
   "version": "2.7.6"
  }
 },
 "nbformat": 4,
 "nbformat_minor": 0
}
